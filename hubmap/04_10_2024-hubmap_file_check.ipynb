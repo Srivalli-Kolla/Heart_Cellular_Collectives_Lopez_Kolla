{
 "cells": [
  {
   "cell_type": "markdown",
   "metadata": {},
   "source": [
    "# Notebook to check Hubmap anndata file sizes\n",
    "\n",
    "**Developed by** : Srivalli Kolla\n",
    "\n",
    "**Created on** : 21 August, 2024\n",
    "\n",
    "**Last modified** : 23 October, 2024\n",
    "\n",
    "**Würzburg Institute for Systems Immunology & Julius-Maximilian-Universität Würzburg**"
   ]
  },
  {
   "cell_type": "markdown",
   "metadata": {},
   "source": [
    "Env : Scanpy(Python 3.12.4)"
   ]
  },
  {
   "cell_type": "markdown",
   "metadata": {},
   "source": [
    "# Import Packages"
   ]
  },
  {
   "cell_type": "code",
   "execution_count": 1,
   "metadata": {},
   "outputs": [],
   "source": [
    "import os\n",
    "import glob\n",
    "import scanpy as sc\n",
    "import time\n",
    "from datetime import datetime\n",
    "\n",
    "timestamp = time.strftime(\"%d_%m_%Y\")"
   ]
  },
  {
   "cell_type": "markdown",
   "metadata": {},
   "source": [
    "# Import Data"
   ]
  },
  {
   "cell_type": "code",
   "execution_count": 2,
   "metadata": {},
   "outputs": [
    {
     "data": {
      "text/plain": [
       "['../hubmap/data/HBM599_sc_rna_hubmap_filtered_sk_23_10_2024.h5ad',\n",
       " '../hubmap/data/HBM943_sc_rna_hubmap_filtered_sk_23_10_2024.h5ad',\n",
       " '../hubmap/data/HBM342_sc_rna_hubmap_filtered_sk_23_10_2024.h5ad',\n",
       " '../hubmap/data/HBM852_sc_rna_hubmap_filtered_sk_23_10_2024.h5ad',\n",
       " '../hubmap/data/HBM236_snn_snr_hubmap_filtered_sk_23_10_2024.h5ad',\n",
       " '../hubmap/data/HBM296_sc_rna_hubmap_filtered_sk_23_10_2024.h5ad',\n",
       " '../hubmap/data/HBM537_snn_snr_hubmap_filtered_sk_23_10_2024.h5ad',\n",
       " '../hubmap/data/HBM385_sc_rna_hubmap_filtered_sk_23_10_2024.h5ad',\n",
       " '../hubmap/data/HBM573_sc_rna_hubmap_filtered_sk_23_10_2024.h5ad',\n",
       " '../hubmap/data/HBM957_snn_snr_hubmap_filtered_sk_23_10_2024.h5ad',\n",
       " '../hubmap/data/HBM927_sc_rna_hubmap_filtered_sk_23_10_2024.h5ad',\n",
       " '../hubmap/data/HBM592_sc_rna_hubmap_filtered_sk_23_10_2024.h5ad',\n",
       " '../hubmap/data/HBM563_sc_rna_hubmap_filtered_sk_23_10_2024.h5ad',\n",
       " '../hubmap/data/HBM982_sc_rna_hubmap_filtered_sk_23_10_2024.h5ad',\n",
       " '../hubmap/data/HBM364_sc_rna_hubmap_filtered_sk_23_10_2024.h5ad']"
      ]
     },
     "execution_count": 2,
     "metadata": {},
     "output_type": "execute_result"
    }
   ],
   "source": [
    "directory_path = '../hubmap/data/'\n",
    "\n",
    "pattern = os.path.join(directory_path, '*_filtered*.h5ad') #Check only for filtered files\n",
    "\n",
    "filtered_files = glob.glob(pattern)\n",
    "filtered_files"
   ]
  },
  {
   "cell_type": "code",
   "execution_count": 3,
   "metadata": {},
   "outputs": [
    {
     "name": "stderr",
     "output_type": "stream",
     "text": [
      "/home/skolla/miniforge3/envs/scanpy/lib/python3.12/site-packages/anndata/_core/anndata.py:1820: UserWarning: Variable names are not unique. To make them unique, call `.var_names_make_unique`.\n",
      "  utils.warn_names_duplicates(\"var\")\n"
     ]
    },
    {
     "name": "stdout",
     "output_type": "stream",
     "text": [
      "../hubmap/data/HBM599_sc_rna_hubmap_filtered_sk_23_10_2024.h5ad AnnData object with n_obs × n_vars = 10570 × 60286\n",
      "    obs: 'cell_id', 'dataset', 'doublet_scores', 'predicted_doublets', 'n_genes_by_counts', 'log1p_n_genes_by_counts', 'total_counts', 'log1p_total_counts', 'pct_counts_in_top_50_genes', 'pct_counts_in_top_100_genes', 'pct_counts_in_top_200_genes', 'pct_counts_in_top_500_genes', 'total_counts_mt', 'log1p_total_counts_mt', 'pct_counts_mt', 'total_counts_ribo', 'log1p_total_counts_ribo', 'pct_counts_ribo', 'percent_chrY', 'XIST-counts', 'XIST-percentage', 'gender_check_cov', 'S_score', 'G2M_score', 'phase'\n",
      "    var: 'hugo_symbol', 'ensembl', 'mt', 'ribo', 'n_cells_by_counts', 'mean_counts', 'log1p_mean_counts', 'pct_dropout_by_counts', 'total_counts', 'log1p_total_counts', 'corrected_ensembl'\n",
      "    layers: 'raw_counts', 'spliced', 'spliced_unspliced_sum', 'sqrt_norm', 'unspliced'\n",
      "Read ../hubmap/data/HBM599_sc_rna_hubmap_filtered_sk_23_10_2024.h5ad\n"
     ]
    },
    {
     "name": "stderr",
     "output_type": "stream",
     "text": [
      "/home/skolla/miniforge3/envs/scanpy/lib/python3.12/site-packages/anndata/_core/anndata.py:1820: UserWarning: Variable names are not unique. To make them unique, call `.var_names_make_unique`.\n",
      "  utils.warn_names_duplicates(\"var\")\n",
      "/home/skolla/miniforge3/envs/scanpy/lib/python3.12/site-packages/anndata/_core/anndata.py:1820: UserWarning: Variable names are not unique. To make them unique, call `.var_names_make_unique`.\n",
      "  utils.warn_names_duplicates(\"var\")\n"
     ]
    },
    {
     "name": "stdout",
     "output_type": "stream",
     "text": [
      "../hubmap/data/HBM943_sc_rna_hubmap_filtered_sk_23_10_2024.h5ad AnnData object with n_obs × n_vars = 12845 × 60286\n",
      "    obs: 'cell_id', 'dataset', 'doublet_scores', 'predicted_doublets', 'n_genes_by_counts', 'log1p_n_genes_by_counts', 'total_counts', 'log1p_total_counts', 'pct_counts_in_top_50_genes', 'pct_counts_in_top_100_genes', 'pct_counts_in_top_200_genes', 'pct_counts_in_top_500_genes', 'total_counts_mt', 'log1p_total_counts_mt', 'pct_counts_mt', 'total_counts_ribo', 'log1p_total_counts_ribo', 'pct_counts_ribo', 'percent_chrY', 'XIST-counts', 'XIST-percentage', 'gender_check_cov', 'S_score', 'G2M_score', 'phase'\n",
      "    var: 'hugo_symbol', 'ensembl', 'mt', 'ribo', 'n_cells_by_counts', 'mean_counts', 'log1p_mean_counts', 'pct_dropout_by_counts', 'total_counts', 'log1p_total_counts', 'corrected_ensembl'\n",
      "    layers: 'raw_counts', 'spliced', 'spliced_unspliced_sum', 'sqrt_norm', 'unspliced'\n",
      "Read ../hubmap/data/HBM943_sc_rna_hubmap_filtered_sk_23_10_2024.h5ad\n",
      "../hubmap/data/HBM342_sc_rna_hubmap_filtered_sk_23_10_2024.h5ad AnnData object with n_obs × n_vars = 179 × 60286\n",
      "    obs: 'cell_id', 'dataset', 'doublet_scores', 'predicted_doublets', 'n_genes_by_counts', 'log1p_n_genes_by_counts', 'total_counts', 'log1p_total_counts', 'pct_counts_in_top_50_genes', 'pct_counts_in_top_100_genes', 'pct_counts_in_top_200_genes', 'pct_counts_in_top_500_genes', 'total_counts_mt', 'log1p_total_counts_mt', 'pct_counts_mt', 'total_counts_ribo', 'log1p_total_counts_ribo', 'pct_counts_ribo', 'percent_chrY', 'XIST-counts', 'XIST-percentage', 'gender_check_cov', 'S_score', 'G2M_score', 'phase'\n",
      "    var: 'hugo_symbol', 'ensembl', 'mt', 'ribo', 'n_cells_by_counts', 'mean_counts', 'log1p_mean_counts', 'pct_dropout_by_counts', 'total_counts', 'log1p_total_counts', 'corrected_ensembl'\n",
      "    layers: 'raw_counts', 'spliced', 'spliced_unspliced_sum', 'sqrt_norm', 'unspliced'\n",
      "Read ../hubmap/data/HBM342_sc_rna_hubmap_filtered_sk_23_10_2024.h5ad\n"
     ]
    },
    {
     "name": "stderr",
     "output_type": "stream",
     "text": [
      "/home/skolla/miniforge3/envs/scanpy/lib/python3.12/site-packages/anndata/_core/anndata.py:1820: UserWarning: Variable names are not unique. To make them unique, call `.var_names_make_unique`.\n",
      "  utils.warn_names_duplicates(\"var\")\n"
     ]
    },
    {
     "name": "stdout",
     "output_type": "stream",
     "text": [
      "../hubmap/data/HBM852_sc_rna_hubmap_filtered_sk_23_10_2024.h5ad AnnData object with n_obs × n_vars = 10404 × 60286\n",
      "    obs: 'cell_id', 'dataset', 'doublet_scores', 'predicted_doublets', 'n_genes_by_counts', 'log1p_n_genes_by_counts', 'total_counts', 'log1p_total_counts', 'pct_counts_in_top_50_genes', 'pct_counts_in_top_100_genes', 'pct_counts_in_top_200_genes', 'pct_counts_in_top_500_genes', 'total_counts_mt', 'log1p_total_counts_mt', 'pct_counts_mt', 'total_counts_ribo', 'log1p_total_counts_ribo', 'pct_counts_ribo', 'percent_chrY', 'XIST-counts', 'XIST-percentage', 'gender_check_cov', 'S_score', 'G2M_score', 'phase'\n",
      "    var: 'hugo_symbol', 'ensembl', 'mt', 'ribo', 'n_cells_by_counts', 'mean_counts', 'log1p_mean_counts', 'pct_dropout_by_counts', 'total_counts', 'log1p_total_counts', 'corrected_ensembl'\n",
      "    layers: 'raw_counts', 'spliced', 'spliced_unspliced_sum', 'sqrt_norm', 'unspliced'\n",
      "Read ../hubmap/data/HBM852_sc_rna_hubmap_filtered_sk_23_10_2024.h5ad\n"
     ]
    },
    {
     "name": "stderr",
     "output_type": "stream",
     "text": [
      "/home/skolla/miniforge3/envs/scanpy/lib/python3.12/site-packages/anndata/_core/anndata.py:1820: UserWarning: Variable names are not unique. To make them unique, call `.var_names_make_unique`.\n",
      "  utils.warn_names_duplicates(\"var\")\n",
      "/home/skolla/miniforge3/envs/scanpy/lib/python3.12/site-packages/anndata/_core/anndata.py:1820: UserWarning: Variable names are not unique. To make them unique, call `.var_names_make_unique`.\n",
      "  utils.warn_names_duplicates(\"var\")\n"
     ]
    },
    {
     "name": "stdout",
     "output_type": "stream",
     "text": [
      "../hubmap/data/HBM236_snn_snr_hubmap_filtered_sk_23_10_2024.h5ad AnnData object with n_obs × n_vars = 5907 × 60286\n",
      "    obs: 'dataset', 'doublet_scores', 'predicted_doublets', 'n_genes_by_counts', 'log1p_n_genes_by_counts', 'total_counts', 'log1p_total_counts', 'pct_counts_in_top_50_genes', 'pct_counts_in_top_100_genes', 'pct_counts_in_top_200_genes', 'pct_counts_in_top_500_genes', 'total_counts_mt', 'log1p_total_counts_mt', 'pct_counts_mt', 'total_counts_ribo', 'log1p_total_counts_ribo', 'pct_counts_ribo', 'percent_chrY', 'XIST-counts', 'XIST-percentage', 'gender_check_cov', 'S_score', 'G2M_score', 'phase'\n",
      "    var: 'hugo_symbol', 'ensembl', 'mt', 'ribo', 'n_cells_by_counts', 'mean_counts', 'log1p_mean_counts', 'pct_dropout_by_counts', 'total_counts', 'log1p_total_counts', 'corrected_ensembl'\n",
      "    layers: 'raw_counts', 'spliced', 'spliced_unspliced_sum', 'sqrt_norm', 'unspliced'\n",
      "Read ../hubmap/data/HBM236_snn_snr_hubmap_filtered_sk_23_10_2024.h5ad\n",
      "../hubmap/data/HBM296_sc_rna_hubmap_filtered_sk_23_10_2024.h5ad AnnData object with n_obs × n_vars = 6924 × 60286\n",
      "    obs: 'cell_id', 'dataset', 'doublet_scores', 'predicted_doublets', 'n_genes_by_counts', 'log1p_n_genes_by_counts', 'total_counts', 'log1p_total_counts', 'pct_counts_in_top_50_genes', 'pct_counts_in_top_100_genes', 'pct_counts_in_top_200_genes', 'pct_counts_in_top_500_genes', 'total_counts_mt', 'log1p_total_counts_mt', 'pct_counts_mt', 'total_counts_ribo', 'log1p_total_counts_ribo', 'pct_counts_ribo', 'percent_chrY', 'XIST-counts', 'XIST-percentage', 'gender_check_cov', 'S_score', 'G2M_score', 'phase'\n",
      "    var: 'hugo_symbol', 'ensembl', 'mt', 'ribo', 'n_cells_by_counts', 'mean_counts', 'log1p_mean_counts', 'pct_dropout_by_counts', 'total_counts', 'log1p_total_counts', 'corrected_ensembl'\n",
      "    layers: 'raw_counts', 'spliced', 'spliced_unspliced_sum', 'sqrt_norm', 'unspliced'\n",
      "Read ../hubmap/data/HBM296_sc_rna_hubmap_filtered_sk_23_10_2024.h5ad\n"
     ]
    },
    {
     "name": "stderr",
     "output_type": "stream",
     "text": [
      "/home/skolla/miniforge3/envs/scanpy/lib/python3.12/site-packages/anndata/_core/anndata.py:1820: UserWarning: Variable names are not unique. To make them unique, call `.var_names_make_unique`.\n",
      "  utils.warn_names_duplicates(\"var\")\n",
      "/home/skolla/miniforge3/envs/scanpy/lib/python3.12/site-packages/anndata/_core/anndata.py:1820: UserWarning: Variable names are not unique. To make them unique, call `.var_names_make_unique`.\n",
      "  utils.warn_names_duplicates(\"var\")\n"
     ]
    },
    {
     "name": "stdout",
     "output_type": "stream",
     "text": [
      "../hubmap/data/HBM537_snn_snr_hubmap_filtered_sk_23_10_2024.h5ad AnnData object with n_obs × n_vars = 2996 × 60286\n",
      "    obs: 'dataset', 'doublet_scores', 'predicted_doublets', 'n_genes_by_counts', 'log1p_n_genes_by_counts', 'total_counts', 'log1p_total_counts', 'pct_counts_in_top_50_genes', 'pct_counts_in_top_100_genes', 'pct_counts_in_top_200_genes', 'pct_counts_in_top_500_genes', 'total_counts_mt', 'log1p_total_counts_mt', 'pct_counts_mt', 'total_counts_ribo', 'log1p_total_counts_ribo', 'pct_counts_ribo', 'percent_chrY', 'XIST-counts', 'XIST-percentage', 'gender_check_cov', 'S_score', 'G2M_score', 'phase'\n",
      "    var: 'hugo_symbol', 'ensembl', 'mt', 'ribo', 'n_cells_by_counts', 'mean_counts', 'log1p_mean_counts', 'pct_dropout_by_counts', 'total_counts', 'log1p_total_counts', 'corrected_ensembl'\n",
      "    layers: 'raw_counts', 'spliced', 'spliced_unspliced_sum', 'sqrt_norm', 'unspliced'\n",
      "Read ../hubmap/data/HBM537_snn_snr_hubmap_filtered_sk_23_10_2024.h5ad\n",
      "../hubmap/data/HBM385_sc_rna_hubmap_filtered_sk_23_10_2024.h5ad AnnData object with n_obs × n_vars = 10720 × 60286\n",
      "    obs: 'cell_id', 'dataset', 'doublet_scores', 'predicted_doublets', 'n_genes_by_counts', 'log1p_n_genes_by_counts', 'total_counts', 'log1p_total_counts', 'pct_counts_in_top_50_genes', 'pct_counts_in_top_100_genes', 'pct_counts_in_top_200_genes', 'pct_counts_in_top_500_genes', 'total_counts_mt', 'log1p_total_counts_mt', 'pct_counts_mt', 'total_counts_ribo', 'log1p_total_counts_ribo', 'pct_counts_ribo', 'percent_chrY', 'XIST-counts', 'XIST-percentage', 'gender_check_cov', 'S_score', 'G2M_score', 'phase'\n",
      "    var: 'hugo_symbol', 'ensembl', 'mt', 'ribo', 'n_cells_by_counts', 'mean_counts', 'log1p_mean_counts', 'pct_dropout_by_counts', 'total_counts', 'log1p_total_counts', 'corrected_ensembl'\n",
      "    layers: 'raw_counts', 'spliced', 'spliced_unspliced_sum', 'sqrt_norm', 'unspliced'\n",
      "Read ../hubmap/data/HBM385_sc_rna_hubmap_filtered_sk_23_10_2024.h5ad\n"
     ]
    },
    {
     "name": "stderr",
     "output_type": "stream",
     "text": [
      "/home/skolla/miniforge3/envs/scanpy/lib/python3.12/site-packages/anndata/_core/anndata.py:1820: UserWarning: Variable names are not unique. To make them unique, call `.var_names_make_unique`.\n",
      "  utils.warn_names_duplicates(\"var\")\n",
      "/home/skolla/miniforge3/envs/scanpy/lib/python3.12/site-packages/anndata/_core/anndata.py:1820: UserWarning: Variable names are not unique. To make them unique, call `.var_names_make_unique`.\n",
      "  utils.warn_names_duplicates(\"var\")\n"
     ]
    },
    {
     "name": "stdout",
     "output_type": "stream",
     "text": [
      "../hubmap/data/HBM573_sc_rna_hubmap_filtered_sk_23_10_2024.h5ad AnnData object with n_obs × n_vars = 9176 × 60286\n",
      "    obs: 'cell_id', 'dataset', 'doublet_scores', 'predicted_doublets', 'n_genes_by_counts', 'log1p_n_genes_by_counts', 'total_counts', 'log1p_total_counts', 'pct_counts_in_top_50_genes', 'pct_counts_in_top_100_genes', 'pct_counts_in_top_200_genes', 'pct_counts_in_top_500_genes', 'total_counts_mt', 'log1p_total_counts_mt', 'pct_counts_mt', 'total_counts_ribo', 'log1p_total_counts_ribo', 'pct_counts_ribo', 'percent_chrY', 'XIST-counts', 'XIST-percentage', 'gender_check_cov', 'S_score', 'G2M_score', 'phase'\n",
      "    var: 'hugo_symbol', 'ensembl', 'mt', 'ribo', 'n_cells_by_counts', 'mean_counts', 'log1p_mean_counts', 'pct_dropout_by_counts', 'total_counts', 'log1p_total_counts', 'corrected_ensembl'\n",
      "    layers: 'raw_counts', 'spliced', 'spliced_unspliced_sum', 'sqrt_norm', 'unspliced'\n",
      "Read ../hubmap/data/HBM573_sc_rna_hubmap_filtered_sk_23_10_2024.h5ad\n",
      "../hubmap/data/HBM957_snn_snr_hubmap_filtered_sk_23_10_2024.h5ad AnnData object with n_obs × n_vars = 668 × 60286\n",
      "    obs: 'dataset', 'doublet_scores', 'predicted_doublets', 'n_genes_by_counts', 'log1p_n_genes_by_counts', 'total_counts', 'log1p_total_counts', 'pct_counts_in_top_50_genes', 'pct_counts_in_top_100_genes', 'pct_counts_in_top_200_genes', 'pct_counts_in_top_500_genes', 'total_counts_mt', 'log1p_total_counts_mt', 'pct_counts_mt', 'total_counts_ribo', 'log1p_total_counts_ribo', 'pct_counts_ribo', 'percent_chrY', 'XIST-counts', 'XIST-percentage', 'gender_check_cov', 'S_score', 'G2M_score', 'phase'\n",
      "    var: 'hugo_symbol', 'ensembl', 'mt', 'ribo', 'n_cells_by_counts', 'mean_counts', 'log1p_mean_counts', 'pct_dropout_by_counts', 'total_counts', 'log1p_total_counts', 'corrected_ensembl'\n",
      "    layers: 'raw_counts', 'spliced', 'spliced_unspliced_sum', 'sqrt_norm', 'unspliced'\n",
      "Read ../hubmap/data/HBM957_snn_snr_hubmap_filtered_sk_23_10_2024.h5ad\n"
     ]
    },
    {
     "name": "stderr",
     "output_type": "stream",
     "text": [
      "/home/skolla/miniforge3/envs/scanpy/lib/python3.12/site-packages/anndata/_core/anndata.py:1820: UserWarning: Variable names are not unique. To make them unique, call `.var_names_make_unique`.\n",
      "  utils.warn_names_duplicates(\"var\")\n"
     ]
    },
    {
     "name": "stdout",
     "output_type": "stream",
     "text": [
      "../hubmap/data/HBM927_sc_rna_hubmap_filtered_sk_23_10_2024.h5ad AnnData object with n_obs × n_vars = 7233 × 60286\n",
      "    obs: 'cell_id', 'dataset', 'doublet_scores', 'predicted_doublets', 'n_genes_by_counts', 'log1p_n_genes_by_counts', 'total_counts', 'log1p_total_counts', 'pct_counts_in_top_50_genes', 'pct_counts_in_top_100_genes', 'pct_counts_in_top_200_genes', 'pct_counts_in_top_500_genes', 'total_counts_mt', 'log1p_total_counts_mt', 'pct_counts_mt', 'total_counts_ribo', 'log1p_total_counts_ribo', 'pct_counts_ribo', 'percent_chrY', 'XIST-counts', 'XIST-percentage', 'gender_check_cov', 'S_score', 'G2M_score', 'phase'\n",
      "    var: 'hugo_symbol', 'ensembl', 'mt', 'ribo', 'n_cells_by_counts', 'mean_counts', 'log1p_mean_counts', 'pct_dropout_by_counts', 'total_counts', 'log1p_total_counts', 'corrected_ensembl'\n",
      "    layers: 'raw_counts', 'spliced', 'spliced_unspliced_sum', 'sqrt_norm', 'unspliced'\n",
      "Read ../hubmap/data/HBM927_sc_rna_hubmap_filtered_sk_23_10_2024.h5ad\n"
     ]
    },
    {
     "name": "stderr",
     "output_type": "stream",
     "text": [
      "/home/skolla/miniforge3/envs/scanpy/lib/python3.12/site-packages/anndata/_core/anndata.py:1820: UserWarning: Variable names are not unique. To make them unique, call `.var_names_make_unique`.\n",
      "  utils.warn_names_duplicates(\"var\")\n",
      "/home/skolla/miniforge3/envs/scanpy/lib/python3.12/site-packages/anndata/_core/anndata.py:1820: UserWarning: Variable names are not unique. To make them unique, call `.var_names_make_unique`.\n",
      "  utils.warn_names_duplicates(\"var\")\n"
     ]
    },
    {
     "name": "stdout",
     "output_type": "stream",
     "text": [
      "../hubmap/data/HBM592_sc_rna_hubmap_filtered_sk_23_10_2024.h5ad AnnData object with n_obs × n_vars = 14553 × 60286\n",
      "    obs: 'cell_id', 'dataset', 'doublet_scores', 'predicted_doublets', 'n_genes_by_counts', 'log1p_n_genes_by_counts', 'total_counts', 'log1p_total_counts', 'pct_counts_in_top_50_genes', 'pct_counts_in_top_100_genes', 'pct_counts_in_top_200_genes', 'pct_counts_in_top_500_genes', 'total_counts_mt', 'log1p_total_counts_mt', 'pct_counts_mt', 'total_counts_ribo', 'log1p_total_counts_ribo', 'pct_counts_ribo', 'percent_chrY', 'XIST-counts', 'XIST-percentage', 'gender_check_cov', 'S_score', 'G2M_score', 'phase'\n",
      "    var: 'hugo_symbol', 'ensembl', 'mt', 'ribo', 'n_cells_by_counts', 'mean_counts', 'log1p_mean_counts', 'pct_dropout_by_counts', 'total_counts', 'log1p_total_counts', 'corrected_ensembl'\n",
      "    layers: 'raw_counts', 'spliced', 'spliced_unspliced_sum', 'sqrt_norm', 'unspliced'\n",
      "Read ../hubmap/data/HBM592_sc_rna_hubmap_filtered_sk_23_10_2024.h5ad\n",
      "../hubmap/data/HBM563_sc_rna_hubmap_filtered_sk_23_10_2024.h5ad AnnData object with n_obs × n_vars = 9542 × 60286\n",
      "    obs: 'cell_id', 'dataset', 'doublet_scores', 'predicted_doublets', 'n_genes_by_counts', 'log1p_n_genes_by_counts', 'total_counts', 'log1p_total_counts', 'pct_counts_in_top_50_genes', 'pct_counts_in_top_100_genes', 'pct_counts_in_top_200_genes', 'pct_counts_in_top_500_genes', 'total_counts_mt', 'log1p_total_counts_mt', 'pct_counts_mt', 'total_counts_ribo', 'log1p_total_counts_ribo', 'pct_counts_ribo', 'percent_chrY', 'XIST-counts', 'XIST-percentage', 'gender_check_cov', 'S_score', 'G2M_score', 'phase'\n",
      "    var: 'hugo_symbol', 'ensembl', 'mt', 'ribo', 'n_cells_by_counts', 'mean_counts', 'log1p_mean_counts', 'pct_dropout_by_counts', 'total_counts', 'log1p_total_counts', 'corrected_ensembl'\n",
      "    layers: 'raw_counts', 'spliced', 'spliced_unspliced_sum', 'sqrt_norm', 'unspliced'\n",
      "Read ../hubmap/data/HBM563_sc_rna_hubmap_filtered_sk_23_10_2024.h5ad\n",
      "../hubmap/data/HBM982_sc_rna_hubmap_filtered_sk_23_10_2024.h5ad AnnData object with n_obs × n_vars = 10478 × 60286\n",
      "    obs: 'cell_id', 'dataset', 'doublet_scores', 'predicted_doublets', 'n_genes_by_counts', 'log1p_n_genes_by_counts', 'total_counts', 'log1p_total_counts', 'pct_counts_in_top_50_genes', 'pct_counts_in_top_100_genes', 'pct_counts_in_top_200_genes', 'pct_counts_in_top_500_genes', 'total_counts_mt', 'log1p_total_counts_mt', 'pct_counts_mt', 'total_counts_ribo', 'log1p_total_counts_ribo', 'pct_counts_ribo', 'percent_chrY', 'XIST-counts', 'XIST-percentage', 'gender_check_cov', 'S_score', 'G2M_score', 'phase'\n",
      "    var: 'hugo_symbol', 'ensembl', 'mt', 'ribo', 'n_cells_by_counts', 'mean_counts', 'log1p_mean_counts', 'pct_dropout_by_counts', 'total_counts', 'log1p_total_counts', 'corrected_ensembl'\n",
      "    layers: 'raw_counts', 'spliced', 'spliced_unspliced_sum', 'sqrt_norm', 'unspliced'\n",
      "Read ../hubmap/data/HBM982_sc_rna_hubmap_filtered_sk_23_10_2024.h5ad\n",
      "../hubmap/data/HBM364_sc_rna_hubmap_filtered_sk_23_10_2024.h5ad AnnData object with n_obs × n_vars = 14262 × 60286\n",
      "    obs: 'cell_id', 'dataset', 'doublet_scores', 'predicted_doublets', 'n_genes_by_counts', 'log1p_n_genes_by_counts', 'total_counts', 'log1p_total_counts', 'pct_counts_in_top_50_genes', 'pct_counts_in_top_100_genes', 'pct_counts_in_top_200_genes', 'pct_counts_in_top_500_genes', 'total_counts_mt', 'log1p_total_counts_mt', 'pct_counts_mt', 'total_counts_ribo', 'log1p_total_counts_ribo', 'pct_counts_ribo', 'percent_chrY', 'XIST-counts', 'XIST-percentage', 'gender_check_cov', 'S_score', 'G2M_score', 'phase'\n",
      "    var: 'hugo_symbol', 'ensembl', 'mt', 'ribo', 'n_cells_by_counts', 'mean_counts', 'log1p_mean_counts', 'pct_dropout_by_counts', 'total_counts', 'log1p_total_counts', 'corrected_ensembl'\n",
      "    layers: 'raw_counts', 'spliced', 'spliced_unspliced_sum', 'sqrt_norm', 'unspliced'\n",
      "Read ../hubmap/data/HBM364_sc_rna_hubmap_filtered_sk_23_10_2024.h5ad\n"
     ]
    },
    {
     "name": "stderr",
     "output_type": "stream",
     "text": [
      "/home/skolla/miniforge3/envs/scanpy/lib/python3.12/site-packages/anndata/_core/anndata.py:1820: UserWarning: Variable names are not unique. To make them unique, call `.var_names_make_unique`.\n",
      "  utils.warn_names_duplicates(\"var\")\n",
      "/home/skolla/miniforge3/envs/scanpy/lib/python3.12/site-packages/anndata/_core/anndata.py:1820: UserWarning: Variable names are not unique. To make them unique, call `.var_names_make_unique`.\n",
      "  utils.warn_names_duplicates(\"var\")\n"
     ]
    }
   ],
   "source": [
    "adata_list = []\n",
    "for file in filtered_files:\n",
    "    adata = sc.read_h5ad(file)\n",
    "    print(file, adata)\n",
    "    adata_list.append(adata)\n",
    "    print(f\"Read {file}\")\n"
   ]
  }
 ],
 "metadata": {
  "kernelspec": {
   "display_name": "scanpy",
   "language": "python",
   "name": "python3"
  },
  "language_info": {
   "codemirror_mode": {
    "name": "ipython",
    "version": 3
   },
   "file_extension": ".py",
   "mimetype": "text/x-python",
   "name": "python",
   "nbconvert_exporter": "python",
   "pygments_lexer": "ipython3",
   "version": "3.12.4"
  }
 },
 "nbformat": 4,
 "nbformat_minor": 2
}
