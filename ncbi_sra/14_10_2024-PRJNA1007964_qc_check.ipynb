{
 "cells": [
  {
   "cell_type": "markdown",
   "metadata": {},
   "source": [
    "# Notebook to run basic `scanpy` QC and doublet detection with `scrublet` for SRA Project - PRJNA1007964\n",
    "\n",
    "- **Developed by**: Srivalli Kolla\n",
    "\n",
    "- **Created date** : 14 October, 2024\n",
    "\n",
    "- **Modification date** : 23 October, 2024\n",
    "\n",
    "- **Würzburg Institute for Systems Immunology & Julius-Maximilian-Universität Würzburg**"
   ]
  },
  {
   "cell_type": "markdown",
   "metadata": {},
   "source": [
    "Env : Scanpy(Python 3.12.4)"
   ]
  },
  {
   "cell_type": "markdown",
   "metadata": {},
   "source": [
    "# Import sample_names"
   ]
  },
  {
   "cell_type": "code",
   "execution_count": 1,
   "metadata": {},
   "outputs": [],
   "source": [
    "import anndata\n",
    "import logging\n",
    "import anndata as ad\n",
    "import numpy as np\n",
    "import pandas as pd\n",
    "import scanpy as sc\n",
    "import seaborn as sb\n",
    "import scrublet as scr\n",
    "import os\n",
    "import time\n",
    "import matplotlib.pyplot as plt\n",
    "from statsmodels.robust.scale import mad as median_abs_deviation\n",
    "from matplotlib import colors\n",
    "from matplotlib import rcParams"
   ]
  },
  {
   "cell_type": "code",
   "execution_count": 2,
   "metadata": {},
   "outputs": [
    {
     "name": "stdout",
     "output_type": "stream",
     "text": [
      "-----\n",
      "anndata     0.10.8\n",
      "scanpy      1.10.2\n",
      "-----\n",
      "PIL                 10.3.0\n",
      "asttokens           NA\n",
      "attr                23.2.0\n",
      "cffi                1.16.0\n",
      "colorama            0.4.6\n",
      "comm                0.2.2\n",
      "cycler              0.12.1\n",
      "cython_runtime      NA\n",
      "dateutil            2.9.0.post0\n",
      "debugpy             1.8.2\n",
      "decorator           5.1.1\n",
      "defusedxml          0.7.1\n",
      "distutils           3.12.4\n",
      "django              5.0.6\n",
      "executing           2.0.1\n",
      "h5py                3.11.0\n",
      "igraph              0.11.5\n",
      "ipykernel           6.29.5\n",
      "ipython_genutils    0.2.0\n",
      "ipywidgets          8.1.3\n",
      "jedi                0.19.1\n",
      "joblib              1.4.2\n",
      "kiwisolver          1.4.5\n",
      "legacy_api_wrap     NA\n",
      "leidenalg           0.10.2\n",
      "llvmlite            0.43.0\n",
      "louvain             0.8.2\n",
      "matplotlib          3.8.4\n",
      "mpl_toolkits        NA\n",
      "natsort             8.4.0\n",
      "numba               0.60.0\n",
      "numexpr             2.10.1\n",
      "numpy               1.26.4\n",
      "packaging           24.1\n",
      "pandas              2.2.2\n",
      "parso               0.8.4\n",
      "patsy               0.5.6\n",
      "pkg_resources       NA\n",
      "platformdirs        4.2.2\n",
      "plotly              5.22.0\n",
      "prompt_toolkit      3.0.47\n",
      "psutil              6.0.0\n",
      "pure_eval           0.2.2\n",
      "pydev_ipython       NA\n",
      "pydevconsole        NA\n",
      "pydevd              2.9.5\n",
      "pydevd_file_utils   NA\n",
      "pydevd_plugins      NA\n",
      "pydevd_tracing      NA\n",
      "pydot               2.0.0\n",
      "pygments            2.18.0\n",
      "pyparsing           3.1.2\n",
      "pytz                2024.1\n",
      "rich                NA\n",
      "scipy               1.13.1\n",
      "scrublet            NA\n",
      "seaborn             0.13.2\n",
      "session_info        1.0.0\n",
      "setuptools          70.1.0\n",
      "setuptools_scm      NA\n",
      "six                 1.16.0\n",
      "sklearn             1.5.0\n",
      "stack_data          0.6.3\n",
      "statsmodels         0.14.2\n",
      "texttable           1.7.0\n",
      "threadpoolctl       3.5.0\n",
      "torch               2.4.0\n",
      "torchgen            NA\n",
      "tornado             6.4.1\n",
      "tqdm                4.66.4\n",
      "traitlets           5.14.3\n",
      "typing_extensions   NA\n",
      "vscode              NA\n",
      "wcwidth             0.2.13\n",
      "yaml                6.0.2\n",
      "zmq                 26.0.3\n",
      "-----\n",
      "IPython             8.26.0\n",
      "jupyter_client      8.6.2\n",
      "jupyter_core        5.7.2\n",
      "notebook            6.5.7\n",
      "-----\n",
      "Python 3.12.4 | packaged by conda-forge | (main, Jun 17 2024, 10:23:07) [GCC 12.3.0]\n",
      "Linux-6.11.3-100.fc39.x86_64-x86_64-with-glibc2.38\n",
      "-----\n",
      "Session information updated at 2024-10-23 16:44\n"
     ]
    }
   ],
   "source": [
    "sc.settings.verbosity = 3\n",
    "sc.logging.print_versions()\n",
    "sc.settings.set_figure_params(dpi = 160, color_map = 'RdPu', dpi_save = 180, vector_friendly = True, format = 'svg')\n",
    "timestamp = time.strftime(\"%d_%m_%Y\")"
   ]
  },
  {
   "cell_type": "markdown",
   "metadata": {},
   "source": [
    "# Import sample_names"
   ]
  },
  {
   "cell_type": "code",
   "execution_count": 3,
   "metadata": {},
   "outputs": [],
   "source": [
    "path = '../ncbi_sra/data'\n",
    "files = ['SRR25726227.h5ad',\n",
    "'SRR25726227.h5ad']"
   ]
  },
  {
   "cell_type": "code",
   "execution_count": 4,
   "metadata": {},
   "outputs": [
    {
     "name": "stdout",
     "output_type": "stream",
     "text": [
      "filtered out 6794585 cells that have less than 10 counts\n",
      "filtered out 62925 genes that are detected in less than 10 counts\n",
      "Successfully read and concatenated: SRR25726227.h5ad\n",
      "filtered out 6794585 cells that have less than 10 counts\n",
      "filtered out 62925 genes that are detected in less than 10 counts\n",
      "Successfully read and concatenated: SRR25726227.h5ad\n"
     ]
    },
    {
     "data": {
      "text/plain": [
       "AnnData object with n_obs × n_vars = 590 × 161\n",
       "    obs: 'sample_name', 'n_counts'"
      ]
     },
     "execution_count": 4,
     "metadata": {},
     "output_type": "execute_result"
    }
   ],
   "source": [
    "adata_combined = None\n",
    "vars_combined = []\n",
    "\n",
    "for file in files:\n",
    "    file_path = os.path.join(path, file)\n",
    "    \n",
    "    try:\n",
    "\n",
    "        adata = sc.read_h5ad(file_path)\n",
    "\n",
    "        sample_name = os.path.basename(file_path).split('.')[0]\n",
    "        adata.obs['sample_name'] = sample_name\n",
    "\n",
    "\n",
    "        sc.pp.filter_cells(adata, min_counts=10)\n",
    "        sc.pp.filter_genes(adata, min_counts=10)\n",
    "\n",
    "\n",
    "        adata.var_names = adata.var_names.str.split('.').str[0]\n",
    "        adata.var_names = [f\"{name}_{sample_name}\" for name in adata.var_names]\n",
    "\n",
    "        vars_combined.extend(adata.var_names)\n",
    "\n",
    "\n",
    "        if adata_combined is None:\n",
    "            adata_combined = adata\n",
    "        else:\n",
    "            adata_combined = sc.concat([adata_combined, adata], join='outer', index_unique='-')\n",
    "\n",
    "        print(f\"Successfully read and concatenated: {file}\")\n",
    "\n",
    "    except Exception as e:\n",
    "        print(f\"Error reading {file}: {e}\")\n",
    "\n",
    "unique_var_names = pd.Series(vars_combined).unique()\n",
    "adata_combined.var_names = unique_var_names[:adata_combined.n_vars] \n",
    "adata_combined"
   ]
  },
  {
   "cell_type": "code",
   "execution_count": 5,
   "metadata": {},
   "outputs": [
    {
     "data": {
      "text/plain": [
       "AnnData object with n_obs × n_vars = 590 × 161\n",
       "    obs: 'sample_name', 'n_counts'"
      ]
     },
     "execution_count": 5,
     "metadata": {},
     "output_type": "execute_result"
    }
   ],
   "source": [
    "adata_combined"
   ]
  },
  {
   "cell_type": "code",
   "execution_count": 6,
   "metadata": {},
   "outputs": [
    {
     "data": {
      "text/html": [
       "<div>\n",
       "<style scoped>\n",
       "    .dataframe tbody tr th:only-of-type {\n",
       "        vertical-align: middle;\n",
       "    }\n",
       "\n",
       "    .dataframe tbody tr th {\n",
       "        vertical-align: top;\n",
       "    }\n",
       "\n",
       "    .dataframe thead th {\n",
       "        text-align: right;\n",
       "    }\n",
       "</style>\n",
       "<table border=\"1\" class=\"dataframe\">\n",
       "  <thead>\n",
       "    <tr style=\"text-align: right;\">\n",
       "      <th></th>\n",
       "      <th>sample_name</th>\n",
       "      <th>n_counts</th>\n",
       "    </tr>\n",
       "  </thead>\n",
       "  <tbody>\n",
       "    <tr>\n",
       "      <th>AAACCCACAATGAGAT-0</th>\n",
       "      <td>SRR25726227</td>\n",
       "      <td>13</td>\n",
       "    </tr>\n",
       "    <tr>\n",
       "      <th>AAAGGATTCCCTATTA-0</th>\n",
       "      <td>SRR25726227</td>\n",
       "      <td>21</td>\n",
       "    </tr>\n",
       "    <tr>\n",
       "      <th>AAAGTGAAGAAATCCA-0</th>\n",
       "      <td>SRR25726227</td>\n",
       "      <td>48</td>\n",
       "    </tr>\n",
       "    <tr>\n",
       "      <th>AACAACCTCCTAGCCT-0</th>\n",
       "      <td>SRR25726227</td>\n",
       "      <td>10</td>\n",
       "    </tr>\n",
       "    <tr>\n",
       "      <th>AACGGGAAGGCGAAGA-0</th>\n",
       "      <td>SRR25726227</td>\n",
       "      <td>28</td>\n",
       "    </tr>\n",
       "    <tr>\n",
       "      <th>...</th>\n",
       "      <td>...</td>\n",
       "      <td>...</td>\n",
       "    </tr>\n",
       "    <tr>\n",
       "      <th>TTGTGGAAGACAGTGT-1</th>\n",
       "      <td>SRR25726227</td>\n",
       "      <td>13</td>\n",
       "    </tr>\n",
       "    <tr>\n",
       "      <th>TTGTTGTAGCCACAGG-1</th>\n",
       "      <td>SRR25726227</td>\n",
       "      <td>149</td>\n",
       "    </tr>\n",
       "    <tr>\n",
       "      <th>TTTGGTTCATATTCGG-1</th>\n",
       "      <td>SRR25726227</td>\n",
       "      <td>27</td>\n",
       "    </tr>\n",
       "    <tr>\n",
       "      <th>TTTGGTTGTCTGTTCC-1</th>\n",
       "      <td>SRR25726227</td>\n",
       "      <td>11</td>\n",
       "    </tr>\n",
       "    <tr>\n",
       "      <th>TTTGGTTTCAAAGAAC-1</th>\n",
       "      <td>SRR25726227</td>\n",
       "      <td>22</td>\n",
       "    </tr>\n",
       "  </tbody>\n",
       "</table>\n",
       "<p>590 rows × 2 columns</p>\n",
       "</div>"
      ],
      "text/plain": [
       "                    sample_name  n_counts\n",
       "AAACCCACAATGAGAT-0  SRR25726227        13\n",
       "AAAGGATTCCCTATTA-0  SRR25726227        21\n",
       "AAAGTGAAGAAATCCA-0  SRR25726227        48\n",
       "AACAACCTCCTAGCCT-0  SRR25726227        10\n",
       "AACGGGAAGGCGAAGA-0  SRR25726227        28\n",
       "...                         ...       ...\n",
       "TTGTGGAAGACAGTGT-1  SRR25726227        13\n",
       "TTGTTGTAGCCACAGG-1  SRR25726227       149\n",
       "TTTGGTTCATATTCGG-1  SRR25726227        27\n",
       "TTTGGTTGTCTGTTCC-1  SRR25726227        11\n",
       "TTTGGTTTCAAAGAAC-1  SRR25726227        22\n",
       "\n",
       "[590 rows x 2 columns]"
      ]
     },
     "execution_count": 6,
     "metadata": {},
     "output_type": "execute_result"
    }
   ],
   "source": [
    "adata_combined.obs"
   ]
  },
  {
   "cell_type": "code",
   "execution_count": 7,
   "metadata": {},
   "outputs": [
    {
     "data": {
      "text/html": [
       "<div>\n",
       "<style scoped>\n",
       "    .dataframe tbody tr th:only-of-type {\n",
       "        vertical-align: middle;\n",
       "    }\n",
       "\n",
       "    .dataframe tbody tr th {\n",
       "        vertical-align: top;\n",
       "    }\n",
       "\n",
       "    .dataframe thead th {\n",
       "        text-align: right;\n",
       "    }\n",
       "</style>\n",
       "<table border=\"1\" class=\"dataframe\">\n",
       "  <thead>\n",
       "    <tr style=\"text-align: right;\">\n",
       "      <th></th>\n",
       "    </tr>\n",
       "  </thead>\n",
       "  <tbody>\n",
       "    <tr>\n",
       "      <th>ENSG00000186094_SRR25726227</th>\n",
       "    </tr>\n",
       "    <tr>\n",
       "      <th>ENSG00000173406_SRR25726227</th>\n",
       "    </tr>\n",
       "    <tr>\n",
       "      <th>ENSG00000172260_SRR25726227</th>\n",
       "    </tr>\n",
       "    <tr>\n",
       "      <th>ENSG00000137968_SRR25726227</th>\n",
       "    </tr>\n",
       "    <tr>\n",
       "      <th>ENSG00000117114_SRR25726227</th>\n",
       "    </tr>\n",
       "    <tr>\n",
       "      <th>...</th>\n",
       "    </tr>\n",
       "    <tr>\n",
       "      <th>ENSG00000147202_SRR25726227</th>\n",
       "    </tr>\n",
       "    <tr>\n",
       "      <th>ENSG00000225689_SRR25726227</th>\n",
       "    </tr>\n",
       "    <tr>\n",
       "      <th>ENSG00000129682_SRR25726227</th>\n",
       "    </tr>\n",
       "    <tr>\n",
       "      <th>ENSG00000288098_SRR25726227</th>\n",
       "    </tr>\n",
       "    <tr>\n",
       "      <th>ENSG00000155966_SRR25726227</th>\n",
       "    </tr>\n",
       "  </tbody>\n",
       "</table>\n",
       "<p>161 rows × 0 columns</p>\n",
       "</div>"
      ],
      "text/plain": [
       "Empty DataFrame\n",
       "Columns: []\n",
       "Index: [ENSG00000186094_SRR25726227, ENSG00000173406_SRR25726227, ENSG00000172260_SRR25726227, ENSG00000137968_SRR25726227, ENSG00000117114_SRR25726227, ENSG00000237505_SRR25726227, ENSG00000152061_SRR25726227, ENSG00000230426_SRR25726227, ENSG00000042781_SRR25726227, ENSG00000196482_SRR25726227, ENSG00000285876_SRR25726227, ENSG00000228262_SRR25726227, ENSG00000171132_SRR25726227, ENSG00000179915_SRR25726227, ENSG00000231918_SRR25726227, ENSG00000143951_SRR25726227, ENSG00000204929_SRR25726227, ENSG00000066032_SRR25726227, ENSG00000175497_SRR25726227, ENSG00000155052_SRR25726227, ENSG00000168702_SRR25726227, ENSG00000121964_SRR25726227, ENSG00000116117_SRR25726227, ENSG00000178568_SRR25726227, ENSG00000144455_SRR25726227, ENSG00000196277_SRR25726227, ENSG00000131374_SRR25726227, ENSG00000077092_SRR25726227, ENSG00000144645_SRR25726227, ENSG00000168038_SRR25726227, ENSG00000157445_SRR25726227, ENSG00000189283_SRR25726227, ENSG00000185008_SRR25726227, ENSG00000169855_SRR25726227, ENSG00000175161_SRR25726227, ENSG00000177694_SRR25726227, ENSG00000114279_SRR25726227, ENSG00000185774_SRR25726227, ENSG00000138670_SRR25726227, ENSG00000184305_SRR25726227, ENSG00000152208_SRR25726227, ENSG00000153064_SRR25726227, ENSG00000109452_SRR25726227, ENSG00000174473_SRR25726227, ENSG00000169862_SRR25726227, ENSG00000113448_SRR25726227, ENSG00000130449_SRR25726227, ENSG00000248752_SRR25726227, ENSG00000053108_SRR25726227, ENSG00000152377_SRR25726227, ENSG00000120725_SRR25726227, ENSG00000170624_SRR25726227, ENSG00000241956_SRR25726227, ENSG00000145934_SRR25726227, ENSG00000184347_SRR25726227, ENSG00000174705_SRR25726227, ENSG00000112699_SRR25726227, ENSG00000188107_SRR25726227, ENSG00000230309_SRR25726227, ENSG00000271860_SRR25726227, ENSG00000164418_SRR25726227, ENSG00000164494_SRR25726227, ENSG00000188580_SRR25726227, ENSG00000293110_SRR25726227, ENSG00000185345_SRR25726227, ENSG00000071242_SRR25726227, ENSG00000146555_SRR25726227, ENSG00000229618_SRR25726227, ENSG00000048052_SRR25726227, ENSG00000158321_SRR25726227, ENSG00000187391_SRR25726227, ENSG00000184903_SRR25726227, ENSG00000179603_SRR25726227, ENSG00000131558_SRR25726227, ENSG00000174469_SRR25726227, ENSG00000183117_SRR25726227, ENSG00000164741_SRR25726227, ENSG00000157168_SRR25726227, ENSG00000147481_SRR25726227, ENSG00000184672_SRR25726227, ENSG00000253500_SRR25726227, ENSG00000253553_SRR25726227, ENSG00000104375_SRR25726227, ENSG00000169946_SRR25726227, ENSG00000164796_SRR25726227, ENSG00000254101_SRR25726227, ENSG00000153707_SRR25726227, ENSG00000174482_SRR25726227, ENSG00000083067_SRR25726227, ENSG00000136928_SRR25726227, ENSG00000228714_SRR25726227, ENSG00000148219_SRR25726227, ENSG00000284977_SRR25726227, ENSG00000119522_SRR25726227, ENSG00000151474_SRR25726227, ENSG00000120549_SRR25726227, ENSG00000151025_SRR25726227, ENSG00000185532_SRR25726227, ENSG00000150275_SRR25726227, ENSG00000151150_SRR25726227, ...]\n",
       "\n",
       "[161 rows x 0 columns]"
      ]
     },
     "execution_count": 7,
     "metadata": {},
     "output_type": "execute_result"
    }
   ],
   "source": [
    "adata_combined.var"
   ]
  },
  {
   "cell_type": "code",
   "execution_count": 8,
   "metadata": {},
   "outputs": [
    {
     "data": {
      "text/plain": [
       "sample_name\n",
       "SRR25726227    590\n",
       "Name: count, dtype: int64"
      ]
     },
     "execution_count": 8,
     "metadata": {},
     "output_type": "execute_result"
    }
   ],
   "source": [
    "adata_combined.obs['sample_name'].value_counts()"
   ]
  },
  {
   "cell_type": "markdown",
   "metadata": {},
   "source": [
    "## Doublet score prediction"
   ]
  },
  {
   "cell_type": "code",
   "execution_count": 9,
   "metadata": {},
   "outputs": [
    {
     "name": "stdout",
     "output_type": "stream",
     "text": [
      "filtered out 66 cells that have less than 1 counts\n"
     ]
    },
    {
     "data": {
      "text/plain": [
       "AnnData object with n_obs × n_vars = 524 × 161\n",
       "    obs: 'sample_name', 'n_counts'\n",
       "    var: 'n_counts'"
      ]
     },
     "execution_count": 9,
     "metadata": {},
     "output_type": "execute_result"
    }
   ],
   "source": [
    "sc.pp.filter_cells(adata_combined, min_counts=1)\n",
    "sc.pp.filter_genes(adata_combined, min_counts=1)\n",
    "adata_combined"
   ]
  },
  {
   "cell_type": "code",
   "execution_count": 10,
   "metadata": {},
   "outputs": [
    {
     "name": "stdout",
     "output_type": "stream",
     "text": [
      "Preprocessing...\n",
      "Simulating doublets...\n",
      "Embedding transcriptomes using PCA...\n",
      "Calculating doublet scores...\n",
      "Automatically set threshold at doublet score = 0.09\n",
      "Detected doublet rate = 19.5%\n",
      "Estimated detectable doublet fraction = 39.9%\n",
      "Overall doublet rate:\n",
      "\tExpected   = 10.0%\n",
      "\tEstimated  = 48.8%\n",
      "Elapsed time: 0.1 seconds\n"
     ]
    }
   ],
   "source": [
    "scrub = scr.Scrublet(adata_combined.X)\n",
    "\n",
    "doublet_scores, predicted_doublets = scrub.scrub_doublets(n_prin_comps= 1)\n",
    "            \n",
    "adata_combined.obs['doublet_scores'] = doublet_scores\n",
    "adata_combined.obs['predicted_doublets'] = predicted_doublets"
   ]
  },
  {
   "cell_type": "code",
   "execution_count": 11,
   "metadata": {},
   "outputs": [
    {
     "data": {
      "text/html": [
       "<div>\n",
       "<style scoped>\n",
       "    .dataframe tbody tr th:only-of-type {\n",
       "        vertical-align: middle;\n",
       "    }\n",
       "\n",
       "    .dataframe tbody tr th {\n",
       "        vertical-align: top;\n",
       "    }\n",
       "\n",
       "    .dataframe thead th {\n",
       "        text-align: right;\n",
       "    }\n",
       "</style>\n",
       "<table border=\"1\" class=\"dataframe\">\n",
       "  <thead>\n",
       "    <tr style=\"text-align: right;\">\n",
       "      <th></th>\n",
       "      <th>sample_name</th>\n",
       "      <th>n_counts</th>\n",
       "      <th>doublet_scores</th>\n",
       "      <th>predicted_doublets</th>\n",
       "    </tr>\n",
       "  </thead>\n",
       "  <tbody>\n",
       "    <tr>\n",
       "      <th>AAACCCACAATGAGAT-0</th>\n",
       "      <td>SRR25726227</td>\n",
       "      <td>1</td>\n",
       "      <td>0.001631</td>\n",
       "      <td>False</td>\n",
       "    </tr>\n",
       "    <tr>\n",
       "      <th>AAAGGATTCCCTATTA-0</th>\n",
       "      <td>SRR25726227</td>\n",
       "      <td>4</td>\n",
       "      <td>0.001631</td>\n",
       "      <td>False</td>\n",
       "    </tr>\n",
       "    <tr>\n",
       "      <th>AAAGTGAAGAAATCCA-0</th>\n",
       "      <td>SRR25726227</td>\n",
       "      <td>6</td>\n",
       "      <td>0.001631</td>\n",
       "      <td>False</td>\n",
       "    </tr>\n",
       "    <tr>\n",
       "      <th>AACAACCTCCTAGCCT-0</th>\n",
       "      <td>SRR25726227</td>\n",
       "      <td>5</td>\n",
       "      <td>0.121951</td>\n",
       "      <td>True</td>\n",
       "    </tr>\n",
       "    <tr>\n",
       "      <th>AACGGGAAGGCGAAGA-0</th>\n",
       "      <td>SRR25726227</td>\n",
       "      <td>7</td>\n",
       "      <td>0.001631</td>\n",
       "      <td>False</td>\n",
       "    </tr>\n",
       "    <tr>\n",
       "      <th>...</th>\n",
       "      <td>...</td>\n",
       "      <td>...</td>\n",
       "      <td>...</td>\n",
       "      <td>...</td>\n",
       "    </tr>\n",
       "    <tr>\n",
       "      <th>TTGTGGAAGACAGTGT-1</th>\n",
       "      <td>SRR25726227</td>\n",
       "      <td>2</td>\n",
       "      <td>0.001631</td>\n",
       "      <td>False</td>\n",
       "    </tr>\n",
       "    <tr>\n",
       "      <th>TTGTTGTAGCCACAGG-1</th>\n",
       "      <td>SRR25726227</td>\n",
       "      <td>13</td>\n",
       "      <td>0.001631</td>\n",
       "      <td>False</td>\n",
       "    </tr>\n",
       "    <tr>\n",
       "      <th>TTTGGTTCATATTCGG-1</th>\n",
       "      <td>SRR25726227</td>\n",
       "      <td>5</td>\n",
       "      <td>0.001631</td>\n",
       "      <td>False</td>\n",
       "    </tr>\n",
       "    <tr>\n",
       "      <th>TTTGGTTGTCTGTTCC-1</th>\n",
       "      <td>SRR25726227</td>\n",
       "      <td>1</td>\n",
       "      <td>0.157895</td>\n",
       "      <td>True</td>\n",
       "    </tr>\n",
       "    <tr>\n",
       "      <th>TTTGGTTTCAAAGAAC-1</th>\n",
       "      <td>SRR25726227</td>\n",
       "      <td>2</td>\n",
       "      <td>0.001631</td>\n",
       "      <td>False</td>\n",
       "    </tr>\n",
       "  </tbody>\n",
       "</table>\n",
       "<p>524 rows × 4 columns</p>\n",
       "</div>"
      ],
      "text/plain": [
       "                    sample_name  n_counts  doublet_scores  predicted_doublets\n",
       "AAACCCACAATGAGAT-0  SRR25726227         1        0.001631               False\n",
       "AAAGGATTCCCTATTA-0  SRR25726227         4        0.001631               False\n",
       "AAAGTGAAGAAATCCA-0  SRR25726227         6        0.001631               False\n",
       "AACAACCTCCTAGCCT-0  SRR25726227         5        0.121951                True\n",
       "AACGGGAAGGCGAAGA-0  SRR25726227         7        0.001631               False\n",
       "...                         ...       ...             ...                 ...\n",
       "TTGTGGAAGACAGTGT-1  SRR25726227         2        0.001631               False\n",
       "TTGTTGTAGCCACAGG-1  SRR25726227        13        0.001631               False\n",
       "TTTGGTTCATATTCGG-1  SRR25726227         5        0.001631               False\n",
       "TTTGGTTGTCTGTTCC-1  SRR25726227         1        0.157895                True\n",
       "TTTGGTTTCAAAGAAC-1  SRR25726227         2        0.001631               False\n",
       "\n",
       "[524 rows x 4 columns]"
      ]
     },
     "execution_count": 11,
     "metadata": {},
     "output_type": "execute_result"
    }
   ],
   "source": [
    "adata_combined.obs"
   ]
  },
  {
   "cell_type": "markdown",
   "metadata": {},
   "source": [
    "### Checking the count and percentage of Doublets - sample_name level"
   ]
  },
  {
   "cell_type": "code",
   "execution_count": 12,
   "metadata": {},
   "outputs": [
    {
     "data": {
      "text/plain": [
       "predicted_doublets\n",
       "False    422\n",
       "True     102\n",
       "dtype: int64"
      ]
     },
     "execution_count": 12,
     "metadata": {},
     "output_type": "execute_result"
    }
   ],
   "source": [
    "doub_tab = pd.crosstab(adata_combined.obs['sample_name'],adata_combined.obs['predicted_doublets'])\n",
    "doub_tab.sum()"
   ]
  },
  {
   "cell_type": "code",
   "execution_count": 13,
   "metadata": {},
   "outputs": [
    {
     "data": {
      "text/plain": [
       "(102, 19.46564885496183)"
      ]
     },
     "execution_count": 13,
     "metadata": {},
     "output_type": "execute_result"
    }
   ],
   "source": [
    "true_doublets = adata_combined.obs['predicted_doublets'] == True\n",
    "true_doublets_count = true_doublets.sum()\n",
    "\n",
    "true_doublets_percentage = (true_doublets_count / len(adata_combined.obs)) * 100\n",
    "\n",
    "true_doublets_count ,true_doublets_percentage"
   ]
  },
  {
   "cell_type": "markdown",
   "metadata": {},
   "source": [
    "### Saving raw data"
   ]
  },
  {
   "cell_type": "code",
   "execution_count": 14,
   "metadata": {},
   "outputs": [
    {
     "data": {
      "text/plain": [
       "AnnData object with n_obs × n_vars = 524 × 161\n",
       "    obs: 'sample_name', 'n_counts', 'doublet_scores', 'predicted_doublets'\n",
       "    var: 'n_counts'"
      ]
     },
     "execution_count": 14,
     "metadata": {},
     "output_type": "execute_result"
    }
   ],
   "source": [
    "sample_name_object = adata_combined.copy()\n",
    "sample_name_object"
   ]
  },
  {
   "cell_type": "markdown",
   "metadata": {},
   "source": [
    "## Compute QC stats"
   ]
  },
  {
   "cell_type": "code",
   "execution_count": 15,
   "metadata": {},
   "outputs": [
    {
     "data": {
      "text/plain": [
       "(524, 161)"
      ]
     },
     "execution_count": 15,
     "metadata": {},
     "output_type": "execute_result"
    }
   ],
   "source": [
    "sample_name_object.shape"
   ]
  },
  {
   "cell_type": "markdown",
   "metadata": {},
   "source": [
    "### Labelling Mt and Ribo genes"
   ]
  },
  {
   "cell_type": "code",
   "execution_count": 16,
   "metadata": {},
   "outputs": [
    {
     "data": {
      "text/html": [
       "<div>\n",
       "<style scoped>\n",
       "    .dataframe tbody tr th:only-of-type {\n",
       "        vertical-align: middle;\n",
       "    }\n",
       "\n",
       "    .dataframe tbody tr th {\n",
       "        vertical-align: top;\n",
       "    }\n",
       "\n",
       "    .dataframe thead th {\n",
       "        text-align: right;\n",
       "    }\n",
       "</style>\n",
       "<table border=\"1\" class=\"dataframe\">\n",
       "  <thead>\n",
       "    <tr style=\"text-align: right;\">\n",
       "      <th></th>\n",
       "      <th>n_counts</th>\n",
       "    </tr>\n",
       "  </thead>\n",
       "  <tbody>\n",
       "    <tr>\n",
       "      <th>ENSG00000186094_SRR25726227</th>\n",
       "      <td>28</td>\n",
       "    </tr>\n",
       "    <tr>\n",
       "      <th>ENSG00000173406_SRR25726227</th>\n",
       "      <td>32</td>\n",
       "    </tr>\n",
       "    <tr>\n",
       "      <th>ENSG00000172260_SRR25726227</th>\n",
       "      <td>22</td>\n",
       "    </tr>\n",
       "    <tr>\n",
       "      <th>ENSG00000137968_SRR25726227</th>\n",
       "      <td>22</td>\n",
       "    </tr>\n",
       "    <tr>\n",
       "      <th>ENSG00000117114_SRR25726227</th>\n",
       "      <td>32</td>\n",
       "    </tr>\n",
       "    <tr>\n",
       "      <th>...</th>\n",
       "      <td>...</td>\n",
       "    </tr>\n",
       "    <tr>\n",
       "      <th>ENSG00000147202_SRR25726227</th>\n",
       "      <td>24</td>\n",
       "    </tr>\n",
       "    <tr>\n",
       "      <th>ENSG00000225689_SRR25726227</th>\n",
       "      <td>20</td>\n",
       "    </tr>\n",
       "    <tr>\n",
       "      <th>ENSG00000129682_SRR25726227</th>\n",
       "      <td>28</td>\n",
       "    </tr>\n",
       "    <tr>\n",
       "      <th>ENSG00000288098_SRR25726227</th>\n",
       "      <td>20</td>\n",
       "    </tr>\n",
       "    <tr>\n",
       "      <th>ENSG00000155966_SRR25726227</th>\n",
       "      <td>20</td>\n",
       "    </tr>\n",
       "  </tbody>\n",
       "</table>\n",
       "<p>161 rows × 1 columns</p>\n",
       "</div>"
      ],
      "text/plain": [
       "                             n_counts\n",
       "ENSG00000186094_SRR25726227        28\n",
       "ENSG00000173406_SRR25726227        32\n",
       "ENSG00000172260_SRR25726227        22\n",
       "ENSG00000137968_SRR25726227        22\n",
       "ENSG00000117114_SRR25726227        32\n",
       "...                               ...\n",
       "ENSG00000147202_SRR25726227        24\n",
       "ENSG00000225689_SRR25726227        20\n",
       "ENSG00000129682_SRR25726227        28\n",
       "ENSG00000288098_SRR25726227        20\n",
       "ENSG00000155966_SRR25726227        20\n",
       "\n",
       "[161 rows x 1 columns]"
      ]
     },
     "execution_count": 16,
     "metadata": {},
     "output_type": "execute_result"
    }
   ],
   "source": [
    "sample_name_object.var"
   ]
  },
  {
   "cell_type": "code",
   "execution_count": 17,
   "metadata": {},
   "outputs": [
    {
     "data": {
      "text/html": [
       "<div>\n",
       "<style scoped>\n",
       "    .dataframe tbody tr th:only-of-type {\n",
       "        vertical-align: middle;\n",
       "    }\n",
       "\n",
       "    .dataframe tbody tr th {\n",
       "        vertical-align: top;\n",
       "    }\n",
       "\n",
       "    .dataframe thead th {\n",
       "        text-align: right;\n",
       "    }\n",
       "</style>\n",
       "<table border=\"1\" class=\"dataframe\">\n",
       "  <thead>\n",
       "    <tr style=\"text-align: right;\">\n",
       "      <th></th>\n",
       "      <th>n_counts</th>\n",
       "    </tr>\n",
       "  </thead>\n",
       "  <tbody>\n",
       "    <tr>\n",
       "      <th>ENSG00000186094</th>\n",
       "      <td>28</td>\n",
       "    </tr>\n",
       "    <tr>\n",
       "      <th>ENSG00000173406</th>\n",
       "      <td>32</td>\n",
       "    </tr>\n",
       "    <tr>\n",
       "      <th>ENSG00000172260</th>\n",
       "      <td>22</td>\n",
       "    </tr>\n",
       "    <tr>\n",
       "      <th>ENSG00000137968</th>\n",
       "      <td>22</td>\n",
       "    </tr>\n",
       "    <tr>\n",
       "      <th>ENSG00000117114</th>\n",
       "      <td>32</td>\n",
       "    </tr>\n",
       "    <tr>\n",
       "      <th>...</th>\n",
       "      <td>...</td>\n",
       "    </tr>\n",
       "    <tr>\n",
       "      <th>ENSG00000147202</th>\n",
       "      <td>24</td>\n",
       "    </tr>\n",
       "    <tr>\n",
       "      <th>ENSG00000225689</th>\n",
       "      <td>20</td>\n",
       "    </tr>\n",
       "    <tr>\n",
       "      <th>ENSG00000129682</th>\n",
       "      <td>28</td>\n",
       "    </tr>\n",
       "    <tr>\n",
       "      <th>ENSG00000288098</th>\n",
       "      <td>20</td>\n",
       "    </tr>\n",
       "    <tr>\n",
       "      <th>ENSG00000155966</th>\n",
       "      <td>20</td>\n",
       "    </tr>\n",
       "  </tbody>\n",
       "</table>\n",
       "<p>161 rows × 1 columns</p>\n",
       "</div>"
      ],
      "text/plain": [
       "                 n_counts\n",
       "ENSG00000186094        28\n",
       "ENSG00000173406        32\n",
       "ENSG00000172260        22\n",
       "ENSG00000137968        22\n",
       "ENSG00000117114        32\n",
       "...                   ...\n",
       "ENSG00000147202        24\n",
       "ENSG00000225689        20\n",
       "ENSG00000129682        28\n",
       "ENSG00000288098        20\n",
       "ENSG00000155966        20\n",
       "\n",
       "[161 rows x 1 columns]"
      ]
     },
     "execution_count": 17,
     "metadata": {},
     "output_type": "execute_result"
    }
   ],
   "source": [
    "sample_name_object.var.index = sample_name_object.var.index.str.split('_').str[0]\n",
    "sample_name_object.var"
   ]
  },
  {
   "cell_type": "code",
   "execution_count": 18,
   "metadata": {},
   "outputs": [
    {
     "data": {
      "text/html": [
       "<div>\n",
       "<style scoped>\n",
       "    .dataframe tbody tr th:only-of-type {\n",
       "        vertical-align: middle;\n",
       "    }\n",
       "\n",
       "    .dataframe tbody tr th {\n",
       "        vertical-align: top;\n",
       "    }\n",
       "\n",
       "    .dataframe thead th {\n",
       "        text-align: right;\n",
       "    }\n",
       "</style>\n",
       "<table border=\"1\" class=\"dataframe\">\n",
       "  <thead>\n",
       "    <tr style=\"text-align: right;\">\n",
       "      <th></th>\n",
       "      <th>n_counts</th>\n",
       "      <th>ensembl</th>\n",
       "    </tr>\n",
       "  </thead>\n",
       "  <tbody>\n",
       "    <tr>\n",
       "      <th>ENSG00000186094</th>\n",
       "      <td>28</td>\n",
       "      <td>ENSG00000186094</td>\n",
       "    </tr>\n",
       "    <tr>\n",
       "      <th>ENSG00000173406</th>\n",
       "      <td>32</td>\n",
       "      <td>ENSG00000173406</td>\n",
       "    </tr>\n",
       "    <tr>\n",
       "      <th>ENSG00000172260</th>\n",
       "      <td>22</td>\n",
       "      <td>ENSG00000172260</td>\n",
       "    </tr>\n",
       "    <tr>\n",
       "      <th>ENSG00000137968</th>\n",
       "      <td>22</td>\n",
       "      <td>ENSG00000137968</td>\n",
       "    </tr>\n",
       "    <tr>\n",
       "      <th>ENSG00000117114</th>\n",
       "      <td>32</td>\n",
       "      <td>ENSG00000117114</td>\n",
       "    </tr>\n",
       "    <tr>\n",
       "      <th>...</th>\n",
       "      <td>...</td>\n",
       "      <td>...</td>\n",
       "    </tr>\n",
       "    <tr>\n",
       "      <th>ENSG00000147202</th>\n",
       "      <td>24</td>\n",
       "      <td>ENSG00000147202</td>\n",
       "    </tr>\n",
       "    <tr>\n",
       "      <th>ENSG00000225689</th>\n",
       "      <td>20</td>\n",
       "      <td>ENSG00000225689</td>\n",
       "    </tr>\n",
       "    <tr>\n",
       "      <th>ENSG00000129682</th>\n",
       "      <td>28</td>\n",
       "      <td>ENSG00000129682</td>\n",
       "    </tr>\n",
       "    <tr>\n",
       "      <th>ENSG00000288098</th>\n",
       "      <td>20</td>\n",
       "      <td>ENSG00000288098</td>\n",
       "    </tr>\n",
       "    <tr>\n",
       "      <th>ENSG00000155966</th>\n",
       "      <td>20</td>\n",
       "      <td>ENSG00000155966</td>\n",
       "    </tr>\n",
       "  </tbody>\n",
       "</table>\n",
       "<p>161 rows × 2 columns</p>\n",
       "</div>"
      ],
      "text/plain": [
       "                 n_counts          ensembl\n",
       "ENSG00000186094        28  ENSG00000186094\n",
       "ENSG00000173406        32  ENSG00000173406\n",
       "ENSG00000172260        22  ENSG00000172260\n",
       "ENSG00000137968        22  ENSG00000137968\n",
       "ENSG00000117114        32  ENSG00000117114\n",
       "...                   ...              ...\n",
       "ENSG00000147202        24  ENSG00000147202\n",
       "ENSG00000225689        20  ENSG00000225689\n",
       "ENSG00000129682        28  ENSG00000129682\n",
       "ENSG00000288098        20  ENSG00000288098\n",
       "ENSG00000155966        20  ENSG00000155966\n",
       "\n",
       "[161 rows x 2 columns]"
      ]
     },
     "execution_count": 18,
     "metadata": {},
     "output_type": "execute_result"
    }
   ],
   "source": [
    "sample_name_object.var['ensembl'] = sample_name_object.var.index\n",
    "sample_name_object.var "
   ]
  },
  {
   "cell_type": "markdown",
   "metadata": {},
   "source": [
    "### Ensembl annotations"
   ]
  },
  {
   "cell_type": "code",
   "execution_count": 19,
   "metadata": {},
   "outputs": [],
   "source": [
    "annot = sc.queries.biomart_annotations(\n",
    "        \"hsapiens\",\n",
    "        [\"ensembl_gene_id\", \"external_gene_name\", \"start_position\", \"end_position\", \"chromosome_name\"],\n",
    "    ).set_index(\"ensembl_gene_id\")"
   ]
  },
  {
   "cell_type": "code",
   "execution_count": 20,
   "metadata": {},
   "outputs": [
    {
     "data": {
      "text/html": [
       "<div>\n",
       "<style scoped>\n",
       "    .dataframe tbody tr th:only-of-type {\n",
       "        vertical-align: middle;\n",
       "    }\n",
       "\n",
       "    .dataframe tbody tr th {\n",
       "        vertical-align: top;\n",
       "    }\n",
       "\n",
       "    .dataframe thead th {\n",
       "        text-align: right;\n",
       "    }\n",
       "</style>\n",
       "<table border=\"1\" class=\"dataframe\">\n",
       "  <thead>\n",
       "    <tr style=\"text-align: right;\">\n",
       "      <th></th>\n",
       "      <th>external_gene_name</th>\n",
       "      <th>start_position</th>\n",
       "      <th>end_position</th>\n",
       "      <th>chromosome_name</th>\n",
       "    </tr>\n",
       "    <tr>\n",
       "      <th>ensembl_gene_id</th>\n",
       "      <th></th>\n",
       "      <th></th>\n",
       "      <th></th>\n",
       "      <th></th>\n",
       "    </tr>\n",
       "  </thead>\n",
       "  <tbody>\n",
       "    <tr>\n",
       "      <th>ENSG00000210049</th>\n",
       "      <td>MT-TF</td>\n",
       "      <td>577</td>\n",
       "      <td>647</td>\n",
       "      <td>MT</td>\n",
       "    </tr>\n",
       "    <tr>\n",
       "      <th>ENSG00000211459</th>\n",
       "      <td>MT-RNR1</td>\n",
       "      <td>648</td>\n",
       "      <td>1601</td>\n",
       "      <td>MT</td>\n",
       "    </tr>\n",
       "    <tr>\n",
       "      <th>ENSG00000210077</th>\n",
       "      <td>MT-TV</td>\n",
       "      <td>1602</td>\n",
       "      <td>1670</td>\n",
       "      <td>MT</td>\n",
       "    </tr>\n",
       "    <tr>\n",
       "      <th>ENSG00000210082</th>\n",
       "      <td>MT-RNR2</td>\n",
       "      <td>1671</td>\n",
       "      <td>3229</td>\n",
       "      <td>MT</td>\n",
       "    </tr>\n",
       "    <tr>\n",
       "      <th>ENSG00000209082</th>\n",
       "      <td>MT-TL1</td>\n",
       "      <td>3230</td>\n",
       "      <td>3304</td>\n",
       "      <td>MT</td>\n",
       "    </tr>\n",
       "  </tbody>\n",
       "</table>\n",
       "</div>"
      ],
      "text/plain": [
       "                external_gene_name  start_position  end_position  \\\n",
       "ensembl_gene_id                                                    \n",
       "ENSG00000210049              MT-TF             577           647   \n",
       "ENSG00000211459            MT-RNR1             648          1601   \n",
       "ENSG00000210077              MT-TV            1602          1670   \n",
       "ENSG00000210082            MT-RNR2            1671          3229   \n",
       "ENSG00000209082             MT-TL1            3230          3304   \n",
       "\n",
       "                chromosome_name  \n",
       "ensembl_gene_id                  \n",
       "ENSG00000210049              MT  \n",
       "ENSG00000211459              MT  \n",
       "ENSG00000210077              MT  \n",
       "ENSG00000210082              MT  \n",
       "ENSG00000209082              MT  "
      ]
     },
     "execution_count": 20,
     "metadata": {},
     "output_type": "execute_result"
    }
   ],
   "source": [
    "annot.head()"
   ]
  },
  {
   "cell_type": "code",
   "execution_count": 21,
   "metadata": {},
   "outputs": [
    {
     "data": {
      "text/html": [
       "<div>\n",
       "<style scoped>\n",
       "    .dataframe tbody tr th:only-of-type {\n",
       "        vertical-align: middle;\n",
       "    }\n",
       "\n",
       "    .dataframe tbody tr th {\n",
       "        vertical-align: top;\n",
       "    }\n",
       "\n",
       "    .dataframe thead th {\n",
       "        text-align: right;\n",
       "    }\n",
       "</style>\n",
       "<table border=\"1\" class=\"dataframe\">\n",
       "  <thead>\n",
       "    <tr style=\"text-align: right;\">\n",
       "      <th></th>\n",
       "      <th>n_counts</th>\n",
       "      <th>ensembl</th>\n",
       "    </tr>\n",
       "  </thead>\n",
       "  <tbody>\n",
       "    <tr>\n",
       "      <th>ENSG00000186094</th>\n",
       "      <td>28</td>\n",
       "      <td>ENSG00000186094</td>\n",
       "    </tr>\n",
       "    <tr>\n",
       "      <th>ENSG00000173406</th>\n",
       "      <td>32</td>\n",
       "      <td>ENSG00000173406</td>\n",
       "    </tr>\n",
       "    <tr>\n",
       "      <th>ENSG00000172260</th>\n",
       "      <td>22</td>\n",
       "      <td>ENSG00000172260</td>\n",
       "    </tr>\n",
       "    <tr>\n",
       "      <th>ENSG00000137968</th>\n",
       "      <td>22</td>\n",
       "      <td>ENSG00000137968</td>\n",
       "    </tr>\n",
       "    <tr>\n",
       "      <th>ENSG00000117114</th>\n",
       "      <td>32</td>\n",
       "      <td>ENSG00000117114</td>\n",
       "    </tr>\n",
       "    <tr>\n",
       "      <th>...</th>\n",
       "      <td>...</td>\n",
       "      <td>...</td>\n",
       "    </tr>\n",
       "    <tr>\n",
       "      <th>ENSG00000147202</th>\n",
       "      <td>24</td>\n",
       "      <td>ENSG00000147202</td>\n",
       "    </tr>\n",
       "    <tr>\n",
       "      <th>ENSG00000225689</th>\n",
       "      <td>20</td>\n",
       "      <td>ENSG00000225689</td>\n",
       "    </tr>\n",
       "    <tr>\n",
       "      <th>ENSG00000129682</th>\n",
       "      <td>28</td>\n",
       "      <td>ENSG00000129682</td>\n",
       "    </tr>\n",
       "    <tr>\n",
       "      <th>ENSG00000288098</th>\n",
       "      <td>20</td>\n",
       "      <td>ENSG00000288098</td>\n",
       "    </tr>\n",
       "    <tr>\n",
       "      <th>ENSG00000155966</th>\n",
       "      <td>20</td>\n",
       "      <td>ENSG00000155966</td>\n",
       "    </tr>\n",
       "  </tbody>\n",
       "</table>\n",
       "<p>161 rows × 2 columns</p>\n",
       "</div>"
      ],
      "text/plain": [
       "                 n_counts          ensembl\n",
       "ENSG00000186094        28  ENSG00000186094\n",
       "ENSG00000173406        32  ENSG00000173406\n",
       "ENSG00000172260        22  ENSG00000172260\n",
       "ENSG00000137968        22  ENSG00000137968\n",
       "ENSG00000117114        32  ENSG00000117114\n",
       "...                   ...              ...\n",
       "ENSG00000147202        24  ENSG00000147202\n",
       "ENSG00000225689        20  ENSG00000225689\n",
       "ENSG00000129682        28  ENSG00000129682\n",
       "ENSG00000288098        20  ENSG00000288098\n",
       "ENSG00000155966        20  ENSG00000155966\n",
       "\n",
       "[161 rows x 2 columns]"
      ]
     },
     "execution_count": 21,
     "metadata": {},
     "output_type": "execute_result"
    }
   ],
   "source": [
    "sample_name_object.var"
   ]
  },
  {
   "cell_type": "code",
   "execution_count": 22,
   "metadata": {},
   "outputs": [
    {
     "data": {
      "text/html": [
       "<div>\n",
       "<style scoped>\n",
       "    .dataframe tbody tr th:only-of-type {\n",
       "        vertical-align: middle;\n",
       "    }\n",
       "\n",
       "    .dataframe tbody tr th {\n",
       "        vertical-align: top;\n",
       "    }\n",
       "\n",
       "    .dataframe thead th {\n",
       "        text-align: right;\n",
       "    }\n",
       "</style>\n",
       "<table border=\"1\" class=\"dataframe\">\n",
       "  <thead>\n",
       "    <tr style=\"text-align: right;\">\n",
       "      <th></th>\n",
       "      <th>n_counts</th>\n",
       "      <th>ensembl</th>\n",
       "      <th>gene_name</th>\n",
       "    </tr>\n",
       "    <tr>\n",
       "      <th>gene_name</th>\n",
       "      <th></th>\n",
       "      <th></th>\n",
       "      <th></th>\n",
       "    </tr>\n",
       "  </thead>\n",
       "  <tbody>\n",
       "    <tr>\n",
       "      <th>AGBL4</th>\n",
       "      <td>28</td>\n",
       "      <td>ENSG00000186094</td>\n",
       "      <td>AGBL4</td>\n",
       "    </tr>\n",
       "    <tr>\n",
       "      <th>DAB1</th>\n",
       "      <td>32</td>\n",
       "      <td>ENSG00000173406</td>\n",
       "      <td>DAB1</td>\n",
       "    </tr>\n",
       "    <tr>\n",
       "      <th>NEGR1</th>\n",
       "      <td>22</td>\n",
       "      <td>ENSG00000172260</td>\n",
       "      <td>NEGR1</td>\n",
       "    </tr>\n",
       "    <tr>\n",
       "      <th>SLC44A5</th>\n",
       "      <td>22</td>\n",
       "      <td>ENSG00000137968</td>\n",
       "      <td>SLC44A5</td>\n",
       "    </tr>\n",
       "    <tr>\n",
       "      <th>ADGRL2</th>\n",
       "      <td>32</td>\n",
       "      <td>ENSG00000117114</td>\n",
       "      <td>ADGRL2</td>\n",
       "    </tr>\n",
       "    <tr>\n",
       "      <th>...</th>\n",
       "      <td>...</td>\n",
       "      <td>...</td>\n",
       "      <td>...</td>\n",
       "    </tr>\n",
       "    <tr>\n",
       "      <th>DIAPH2</th>\n",
       "      <td>24</td>\n",
       "      <td>ENSG00000147202</td>\n",
       "      <td>DIAPH2</td>\n",
       "    </tr>\n",
       "    <tr>\n",
       "      <th>NaN</th>\n",
       "      <td>20</td>\n",
       "      <td>ENSG00000225689</td>\n",
       "      <td>NaN</td>\n",
       "    </tr>\n",
       "    <tr>\n",
       "      <th>FGF13</th>\n",
       "      <td>28</td>\n",
       "      <td>ENSG00000129682</td>\n",
       "      <td>FGF13</td>\n",
       "    </tr>\n",
       "    <tr>\n",
       "      <th>NaN</th>\n",
       "      <td>20</td>\n",
       "      <td>ENSG00000288098</td>\n",
       "      <td>NaN</td>\n",
       "    </tr>\n",
       "    <tr>\n",
       "      <th>AFF2</th>\n",
       "      <td>20</td>\n",
       "      <td>ENSG00000155966</td>\n",
       "      <td>AFF2</td>\n",
       "    </tr>\n",
       "  </tbody>\n",
       "</table>\n",
       "<p>161 rows × 3 columns</p>\n",
       "</div>"
      ],
      "text/plain": [
       "           n_counts          ensembl gene_name\n",
       "gene_name                                     \n",
       "AGBL4            28  ENSG00000186094     AGBL4\n",
       "DAB1             32  ENSG00000173406      DAB1\n",
       "NEGR1            22  ENSG00000172260     NEGR1\n",
       "SLC44A5          22  ENSG00000137968   SLC44A5\n",
       "ADGRL2           32  ENSG00000117114    ADGRL2\n",
       "...             ...              ...       ...\n",
       "DIAPH2           24  ENSG00000147202    DIAPH2\n",
       "NaN              20  ENSG00000225689       NaN\n",
       "FGF13            28  ENSG00000129682     FGF13\n",
       "NaN              20  ENSG00000288098       NaN\n",
       "AFF2             20  ENSG00000155966      AFF2\n",
       "\n",
       "[161 rows x 3 columns]"
      ]
     },
     "execution_count": 22,
     "metadata": {},
     "output_type": "execute_result"
    }
   ],
   "source": [
    "sample_name_object.var['gene_name'] = sample_name_object.var.index.map(annot['external_gene_name'])\n",
    "sample_name_object.var.index =sample_name_object.var['gene_name'] \n",
    "sample_name_object.var"
   ]
  },
  {
   "cell_type": "code",
   "execution_count": 23,
   "metadata": {},
   "outputs": [
    {
     "data": {
      "text/html": [
       "<div>\n",
       "<style scoped>\n",
       "    .dataframe tbody tr th:only-of-type {\n",
       "        vertical-align: middle;\n",
       "    }\n",
       "\n",
       "    .dataframe tbody tr th {\n",
       "        vertical-align: top;\n",
       "    }\n",
       "\n",
       "    .dataframe thead th {\n",
       "        text-align: right;\n",
       "    }\n",
       "</style>\n",
       "<table border=\"1\" class=\"dataframe\">\n",
       "  <thead>\n",
       "    <tr style=\"text-align: right;\">\n",
       "      <th></th>\n",
       "      <th>n_counts</th>\n",
       "      <th>ensembl</th>\n",
       "      <th>gene_name</th>\n",
       "      <th>mt</th>\n",
       "      <th>ribo</th>\n",
       "    </tr>\n",
       "    <tr>\n",
       "      <th>gene_name</th>\n",
       "      <th></th>\n",
       "      <th></th>\n",
       "      <th></th>\n",
       "      <th></th>\n",
       "      <th></th>\n",
       "    </tr>\n",
       "  </thead>\n",
       "  <tbody>\n",
       "    <tr>\n",
       "      <th>AGBL4</th>\n",
       "      <td>28</td>\n",
       "      <td>ENSG00000186094</td>\n",
       "      <td>AGBL4</td>\n",
       "      <td>False</td>\n",
       "      <td>False</td>\n",
       "    </tr>\n",
       "    <tr>\n",
       "      <th>DAB1</th>\n",
       "      <td>32</td>\n",
       "      <td>ENSG00000173406</td>\n",
       "      <td>DAB1</td>\n",
       "      <td>False</td>\n",
       "      <td>False</td>\n",
       "    </tr>\n",
       "    <tr>\n",
       "      <th>NEGR1</th>\n",
       "      <td>22</td>\n",
       "      <td>ENSG00000172260</td>\n",
       "      <td>NEGR1</td>\n",
       "      <td>False</td>\n",
       "      <td>False</td>\n",
       "    </tr>\n",
       "    <tr>\n",
       "      <th>SLC44A5</th>\n",
       "      <td>22</td>\n",
       "      <td>ENSG00000137968</td>\n",
       "      <td>SLC44A5</td>\n",
       "      <td>False</td>\n",
       "      <td>False</td>\n",
       "    </tr>\n",
       "    <tr>\n",
       "      <th>ADGRL2</th>\n",
       "      <td>32</td>\n",
       "      <td>ENSG00000117114</td>\n",
       "      <td>ADGRL2</td>\n",
       "      <td>False</td>\n",
       "      <td>False</td>\n",
       "    </tr>\n",
       "    <tr>\n",
       "      <th>...</th>\n",
       "      <td>...</td>\n",
       "      <td>...</td>\n",
       "      <td>...</td>\n",
       "      <td>...</td>\n",
       "      <td>...</td>\n",
       "    </tr>\n",
       "    <tr>\n",
       "      <th>DIAPH2</th>\n",
       "      <td>24</td>\n",
       "      <td>ENSG00000147202</td>\n",
       "      <td>DIAPH2</td>\n",
       "      <td>False</td>\n",
       "      <td>False</td>\n",
       "    </tr>\n",
       "    <tr>\n",
       "      <th>NaN</th>\n",
       "      <td>20</td>\n",
       "      <td>ENSG00000225689</td>\n",
       "      <td>NaN</td>\n",
       "      <td>NaN</td>\n",
       "      <td>NaN</td>\n",
       "    </tr>\n",
       "    <tr>\n",
       "      <th>FGF13</th>\n",
       "      <td>28</td>\n",
       "      <td>ENSG00000129682</td>\n",
       "      <td>FGF13</td>\n",
       "      <td>False</td>\n",
       "      <td>False</td>\n",
       "    </tr>\n",
       "    <tr>\n",
       "      <th>NaN</th>\n",
       "      <td>20</td>\n",
       "      <td>ENSG00000288098</td>\n",
       "      <td>NaN</td>\n",
       "      <td>NaN</td>\n",
       "      <td>NaN</td>\n",
       "    </tr>\n",
       "    <tr>\n",
       "      <th>AFF2</th>\n",
       "      <td>20</td>\n",
       "      <td>ENSG00000155966</td>\n",
       "      <td>AFF2</td>\n",
       "      <td>False</td>\n",
       "      <td>False</td>\n",
       "    </tr>\n",
       "  </tbody>\n",
       "</table>\n",
       "<p>161 rows × 5 columns</p>\n",
       "</div>"
      ],
      "text/plain": [
       "           n_counts          ensembl gene_name     mt   ribo\n",
       "gene_name                                                   \n",
       "AGBL4            28  ENSG00000186094     AGBL4  False  False\n",
       "DAB1             32  ENSG00000173406      DAB1  False  False\n",
       "NEGR1            22  ENSG00000172260     NEGR1  False  False\n",
       "SLC44A5          22  ENSG00000137968   SLC44A5  False  False\n",
       "ADGRL2           32  ENSG00000117114    ADGRL2  False  False\n",
       "...             ...              ...       ...    ...    ...\n",
       "DIAPH2           24  ENSG00000147202    DIAPH2  False  False\n",
       "NaN              20  ENSG00000225689       NaN    NaN    NaN\n",
       "FGF13            28  ENSG00000129682     FGF13  False  False\n",
       "NaN              20  ENSG00000288098       NaN    NaN    NaN\n",
       "AFF2             20  ENSG00000155966      AFF2  False  False\n",
       "\n",
       "[161 rows x 5 columns]"
      ]
     },
     "execution_count": 23,
     "metadata": {},
     "output_type": "execute_result"
    }
   ],
   "source": [
    "sample_name_object.var['mt'] = sample_name_object.var_names.str.startswith('MT-') \n",
    "sample_name_object.var['ribo'] = sample_name_object.var_names.str.startswith((\"RPS\",\"RPL\"))\n",
    "sample_name_object.var"
   ]
  },
  {
   "cell_type": "code",
   "execution_count": 24,
   "metadata": {},
   "outputs": [
    {
     "name": "stdout",
     "output_type": "stream",
     "text": [
      "Counts of Ribosomal (ribo) Genes:\n",
      "False: 141\n",
      "True: 1\n",
      "\n",
      "Counts of Mitochondrial (mt) Genes:\n",
      "False: 142\n",
      "True: 0\n"
     ]
    }
   ],
   "source": [
    "ribo_counts = sample_name_object.var['ribo'].value_counts()\n",
    "\n",
    "mt_counts = sample_name_object.var['mt'].value_counts()\n",
    "\n",
    "print(\"Counts of Ribosomal (ribo) Genes:\")\n",
    "print(\"False:\", ribo_counts.get(False, 0))\n",
    "print(\"True:\", ribo_counts.get(True, 0))\n",
    "print(\"\\nCounts of Mitochondrial (mt) Genes:\")\n",
    "print(\"False:\", mt_counts.get(False, 0))\n",
    "print(\"True:\", mt_counts.get(True, 0))"
   ]
  },
  {
   "cell_type": "code",
   "execution_count": 25,
   "metadata": {},
   "outputs": [
    {
     "name": "stderr",
     "output_type": "stream",
     "text": [
      "/tmp/ipykernel_484575/2873467954.py:1: FutureWarning: Downcasting object dtype arrays on .fillna, .ffill, .bfill is deprecated and will change in a future version. Call result.infer_objects(copy=False) instead. To opt-in to the future behavior, set `pd.set_option('future.no_silent_downcasting', True)`\n",
      "  sample_name_object.var['mt'] = sample_name_object.var['mt'].fillna(False)\n",
      "/tmp/ipykernel_484575/2873467954.py:2: FutureWarning: Downcasting object dtype arrays on .fillna, .ffill, .bfill is deprecated and will change in a future version. Call result.infer_objects(copy=False) instead. To opt-in to the future behavior, set `pd.set_option('future.no_silent_downcasting', True)`\n",
      "  sample_name_object.var['ribo'] = sample_name_object.var['ribo'].fillna(False)\n"
     ]
    }
   ],
   "source": [
    "sample_name_object.var['mt'] = sample_name_object.var['mt'].fillna(False)\n",
    "sample_name_object.var['ribo'] = sample_name_object.var['ribo'].fillna(False)"
   ]
  },
  {
   "cell_type": "markdown",
   "metadata": {},
   "source": [
    "## Sex covariate analysis"
   ]
  },
  {
   "cell_type": "markdown",
   "metadata": {},
   "source": [
    "### Chr Y genes calculation"
   ]
  },
  {
   "cell_type": "code",
   "execution_count": 26,
   "metadata": {},
   "outputs": [],
   "source": [
    "sample_name_object.var['gene_name'] = sample_name_object.var['ensembl'].map(annot['external_gene_name'])\n",
    "sample_name_object.var['chromosome'] = sample_name_object.var['ensembl'].map(annot['chromosome_name'])"
   ]
  },
  {
   "cell_type": "code",
   "execution_count": 27,
   "metadata": {},
   "outputs": [
    {
     "data": {
      "text/html": [
       "<div>\n",
       "<style scoped>\n",
       "    .dataframe tbody tr th:only-of-type {\n",
       "        vertical-align: middle;\n",
       "    }\n",
       "\n",
       "    .dataframe tbody tr th {\n",
       "        vertical-align: top;\n",
       "    }\n",
       "\n",
       "    .dataframe thead th {\n",
       "        text-align: right;\n",
       "    }\n",
       "</style>\n",
       "<table border=\"1\" class=\"dataframe\">\n",
       "  <thead>\n",
       "    <tr style=\"text-align: right;\">\n",
       "      <th></th>\n",
       "      <th>n_counts</th>\n",
       "      <th>ensembl</th>\n",
       "      <th>gene_name</th>\n",
       "      <th>mt</th>\n",
       "      <th>ribo</th>\n",
       "      <th>chromosome</th>\n",
       "    </tr>\n",
       "    <tr>\n",
       "      <th>gene_name</th>\n",
       "      <th></th>\n",
       "      <th></th>\n",
       "      <th></th>\n",
       "      <th></th>\n",
       "      <th></th>\n",
       "      <th></th>\n",
       "    </tr>\n",
       "  </thead>\n",
       "  <tbody>\n",
       "    <tr>\n",
       "      <th>AGBL4</th>\n",
       "      <td>28</td>\n",
       "      <td>ENSG00000186094</td>\n",
       "      <td>AGBL4</td>\n",
       "      <td>False</td>\n",
       "      <td>False</td>\n",
       "      <td>1</td>\n",
       "    </tr>\n",
       "    <tr>\n",
       "      <th>DAB1</th>\n",
       "      <td>32</td>\n",
       "      <td>ENSG00000173406</td>\n",
       "      <td>DAB1</td>\n",
       "      <td>False</td>\n",
       "      <td>False</td>\n",
       "      <td>1</td>\n",
       "    </tr>\n",
       "    <tr>\n",
       "      <th>NEGR1</th>\n",
       "      <td>22</td>\n",
       "      <td>ENSG00000172260</td>\n",
       "      <td>NEGR1</td>\n",
       "      <td>False</td>\n",
       "      <td>False</td>\n",
       "      <td>1</td>\n",
       "    </tr>\n",
       "    <tr>\n",
       "      <th>SLC44A5</th>\n",
       "      <td>22</td>\n",
       "      <td>ENSG00000137968</td>\n",
       "      <td>SLC44A5</td>\n",
       "      <td>False</td>\n",
       "      <td>False</td>\n",
       "      <td>1</td>\n",
       "    </tr>\n",
       "    <tr>\n",
       "      <th>ADGRL2</th>\n",
       "      <td>32</td>\n",
       "      <td>ENSG00000117114</td>\n",
       "      <td>ADGRL2</td>\n",
       "      <td>False</td>\n",
       "      <td>False</td>\n",
       "      <td>1</td>\n",
       "    </tr>\n",
       "    <tr>\n",
       "      <th>...</th>\n",
       "      <td>...</td>\n",
       "      <td>...</td>\n",
       "      <td>...</td>\n",
       "      <td>...</td>\n",
       "      <td>...</td>\n",
       "      <td>...</td>\n",
       "    </tr>\n",
       "    <tr>\n",
       "      <th>DIAPH2</th>\n",
       "      <td>24</td>\n",
       "      <td>ENSG00000147202</td>\n",
       "      <td>DIAPH2</td>\n",
       "      <td>False</td>\n",
       "      <td>False</td>\n",
       "      <td>X</td>\n",
       "    </tr>\n",
       "    <tr>\n",
       "      <th>NaN</th>\n",
       "      <td>20</td>\n",
       "      <td>ENSG00000225689</td>\n",
       "      <td>NaN</td>\n",
       "      <td>False</td>\n",
       "      <td>False</td>\n",
       "      <td>X</td>\n",
       "    </tr>\n",
       "    <tr>\n",
       "      <th>FGF13</th>\n",
       "      <td>28</td>\n",
       "      <td>ENSG00000129682</td>\n",
       "      <td>FGF13</td>\n",
       "      <td>False</td>\n",
       "      <td>False</td>\n",
       "      <td>X</td>\n",
       "    </tr>\n",
       "    <tr>\n",
       "      <th>NaN</th>\n",
       "      <td>20</td>\n",
       "      <td>ENSG00000288098</td>\n",
       "      <td>NaN</td>\n",
       "      <td>False</td>\n",
       "      <td>False</td>\n",
       "      <td>X</td>\n",
       "    </tr>\n",
       "    <tr>\n",
       "      <th>AFF2</th>\n",
       "      <td>20</td>\n",
       "      <td>ENSG00000155966</td>\n",
       "      <td>AFF2</td>\n",
       "      <td>False</td>\n",
       "      <td>False</td>\n",
       "      <td>X</td>\n",
       "    </tr>\n",
       "  </tbody>\n",
       "</table>\n",
       "<p>161 rows × 6 columns</p>\n",
       "</div>"
      ],
      "text/plain": [
       "           n_counts          ensembl gene_name     mt   ribo chromosome\n",
       "gene_name                                                              \n",
       "AGBL4            28  ENSG00000186094     AGBL4  False  False          1\n",
       "DAB1             32  ENSG00000173406      DAB1  False  False          1\n",
       "NEGR1            22  ENSG00000172260     NEGR1  False  False          1\n",
       "SLC44A5          22  ENSG00000137968   SLC44A5  False  False          1\n",
       "ADGRL2           32  ENSG00000117114    ADGRL2  False  False          1\n",
       "...             ...              ...       ...    ...    ...        ...\n",
       "DIAPH2           24  ENSG00000147202    DIAPH2  False  False          X\n",
       "NaN              20  ENSG00000225689       NaN  False  False          X\n",
       "FGF13            28  ENSG00000129682     FGF13  False  False          X\n",
       "NaN              20  ENSG00000288098       NaN  False  False          X\n",
       "AFF2             20  ENSG00000155966      AFF2  False  False          X\n",
       "\n",
       "[161 rows x 6 columns]"
      ]
     },
     "execution_count": 27,
     "metadata": {},
     "output_type": "execute_result"
    }
   ],
   "source": [
    "sample_name_object.var"
   ]
  },
  {
   "cell_type": "code",
   "execution_count": 28,
   "metadata": {},
   "outputs": [
    {
     "data": {
      "text/plain": [
       "gene_name\n",
       "AGBL4      False\n",
       "DAB1       False\n",
       "NEGR1      False\n",
       "SLC44A5    False\n",
       "ADGRL2     False\n",
       "           ...  \n",
       "DIAPH2     False\n",
       "NaN        False\n",
       "FGF13      False\n",
       "NaN        False\n",
       "AFF2       False\n",
       "Name: chromosome, Length: 161, dtype: bool"
      ]
     },
     "execution_count": 28,
     "metadata": {},
     "output_type": "execute_result"
    }
   ],
   "source": [
    "chrY_genes = sample_name_object.var['chromosome'] == \"Y\"\n",
    "chrY_genes"
   ]
  },
  {
   "cell_type": "code",
   "execution_count": 29,
   "metadata": {},
   "outputs": [],
   "source": [
    "sample_name_object.obs['percent_chrY'] = np.sum(\n",
    "    sample_name_object[:, chrY_genes].X, axis = 1) / np.sum(sample_name_object.X, axis = 1) * 100"
   ]
  },
  {
   "cell_type": "code",
   "execution_count": 30,
   "metadata": {},
   "outputs": [
    {
     "data": {
      "text/plain": [
       "AnnData object with n_obs × n_vars = 524 × 161\n",
       "    obs: 'sample_name', 'n_counts', 'doublet_scores', 'predicted_doublets', 'percent_chrY'\n",
       "    var: 'n_counts', 'ensembl', 'gene_name', 'mt', 'ribo', 'chromosome'"
      ]
     },
     "execution_count": 30,
     "metadata": {},
     "output_type": "execute_result"
    }
   ],
   "source": [
    "sample_name_object"
   ]
  },
  {
   "cell_type": "markdown",
   "metadata": {},
   "source": [
    "### XIST counts"
   ]
  },
  {
   "cell_type": "code",
   "execution_count": 31,
   "metadata": {},
   "outputs": [
    {
     "data": {
      "text/plain": [
       "Index([    'AGBL4',      'DAB1',     'NEGR1',   'SLC44A5',    'ADGRL2',\n",
       "        'PKN2-AS1',  'RABGAP1L', 'LINC01036',     'USH2A',     'ESRRG',\n",
       "       ...\n",
       "          'FRMPD4',         nan,  'IL1RAPL1',       'DMD',     'OPHN1',\n",
       "          'DIAPH2',         nan,     'FGF13',         nan,      'AFF2'],\n",
       "      dtype='object', name='gene_name', length=161)"
      ]
     },
     "execution_count": 31,
     "metadata": {},
     "output_type": "execute_result"
    }
   ],
   "source": [
    "sample_name_object.var_names"
   ]
  },
  {
   "cell_type": "code",
   "execution_count": 32,
   "metadata": {},
   "outputs": [
    {
     "data": {
      "text/plain": [
       "Index([], dtype='object', name='gene_name')"
      ]
     },
     "execution_count": 32,
     "metadata": {},
     "output_type": "execute_result"
    }
   ],
   "source": [
    "valid_var_names = sample_name_object.var_names[~sample_name_object.var_names.isna()]\n",
    "\n",
    "xist_genes = valid_var_names[valid_var_names.str.match('XIST')]\n",
    "xist_genes"
   ]
  },
  {
   "cell_type": "markdown",
   "metadata": {},
   "source": [
    "## Calculate cell cycle scores"
   ]
  },
  {
   "cell_type": "markdown",
   "metadata": {},
   "source": [
    "### Downloading the list of cell cycle genes"
   ]
  },
  {
   "cell_type": "code",
   "execution_count": 33,
   "metadata": {},
   "outputs": [],
   "source": [
    "!if [ ! -f ../ncbi_sra/data/regev_lab_cell_cycle_genes.txt ]; then curl -o ../ncbi_sra/data/regev_lab_cell_cycle_genes.txt https://raw.githubusercontent.com/theislab/scanpy_usage/master/180209_cell_cycle/data/regev_lab_cell_cycle_genes.txt; fi"
   ]
  },
  {
   "cell_type": "markdown",
   "metadata": {},
   "source": [
    "### Marking cell cycle genes"
   ]
  },
  {
   "cell_type": "markdown",
   "metadata": {},
   "source": [
    "#### Steps followed\n",
    "\n",
    "1. Loading genes and captilizing \n",
    "2. Printing the length of cell cycle genes list\n",
    "3. Split genes into 2 lists (#First 43 genes,#Gene 43 to end)\n",
    "4. Filtering cell cycle genes only if present in processed_gene_names\n",
    "5. Print the list of cell cycle genes observed in our data"
   ]
  },
  {
   "cell_type": "code",
   "execution_count": 34,
   "metadata": {},
   "outputs": [
    {
     "name": "stdout",
     "output_type": "stream",
     "text": [
      "97\n",
      "0\n"
     ]
    }
   ],
   "source": [
    "cell_cycle_genes = [x.strip() for x in open('../ncbi_sra/data/regev_lab_cell_cycle_genes.txt')]\n",
    "#cell_cycle_genes = [gene.capitalize() for gene in cell_cycle_genes]\n",
    "print(len(cell_cycle_genes))\n",
    "\n",
    "s_genes = cell_cycle_genes[:43]\n",
    "g2m_genes = cell_cycle_genes[43:]\n",
    "\n",
    "cell_cycle_genes = [x for x in cell_cycle_genes if x in sample_name_object.var_names]\n",
    "print(len(cell_cycle_genes))"
   ]
  },
  {
   "cell_type": "code",
   "execution_count": 35,
   "metadata": {},
   "outputs": [
    {
     "data": {
      "text/plain": [
       "[]"
      ]
     },
     "execution_count": 35,
     "metadata": {},
     "output_type": "execute_result"
    }
   ],
   "source": [
    "cell_cycle_genes"
   ]
  },
  {
   "cell_type": "markdown",
   "metadata": {},
   "source": [
    "## Data Export"
   ]
  },
  {
   "cell_type": "code",
   "execution_count": 36,
   "metadata": {},
   "outputs": [],
   "source": [
    "filtered_object = sample_name_object"
   ]
  },
  {
   "cell_type": "code",
   "execution_count": 37,
   "metadata": {},
   "outputs": [
    {
     "name": "stdout",
     "output_type": "stream",
     "text": [
      "normalizing counts per cell\n",
      "    finished (0:00:00)\n"
     ]
    },
    {
     "name": "stderr",
     "output_type": "stream",
     "text": [
      "/home/skolla/miniforge3/envs/scanpy/lib/python3.12/site-packages/anndata/_core/aligned_df.py:67: ImplicitModificationWarning: Transforming to str index.\n",
      "  warnings.warn(\"Transforming to str index.\", ImplicitModificationWarning)\n",
      "/home/skolla/miniforge3/envs/scanpy/lib/python3.12/site-packages/anndata/_core/anndata.py:1820: UserWarning: Variable names are not unique. To make them unique, call `.var_names_make_unique`.\n",
      "  utils.warn_names_duplicates(\"var\")\n"
     ]
    },
    {
     "data": {
      "text/plain": [
       "AnnData object with n_obs × n_vars = 524 × 161\n",
       "    obs: 'sample_name', 'n_counts', 'doublet_scores', 'predicted_doublets', 'percent_chrY'\n",
       "    var: 'n_counts', 'ensembl', 'gene_name', 'mt', 'ribo', 'chromosome'\n",
       "    layers: 'raw_counts', 'sqrt_norm'"
      ]
     },
     "execution_count": 37,
     "metadata": {},
     "output_type": "execute_result"
    }
   ],
   "source": [
    "filtered_object.raw = filtered_object.copy()\n",
    "\n",
    "filtered_object.layers['raw_counts'] = filtered_object.X.copy()\n",
    "\n",
    "filtered_object.layers[\"sqrt_norm\"] = np.sqrt(\n",
    "    sc.pp.normalize_total(filtered_object, inplace = False)[\"X\"]\n",
    ")\n",
    "\n",
    "filtered_object"
   ]
  },
  {
   "cell_type": "code",
   "execution_count": 38,
   "metadata": {},
   "outputs": [
    {
     "data": {
      "text/plain": [
       "sample_name\n",
       "SRR25726227    524\n",
       "Name: count, dtype: int64"
      ]
     },
     "execution_count": 38,
     "metadata": {},
     "output_type": "execute_result"
    }
   ],
   "source": [
    "filtered_object.obs['sample_name'].value_counts()"
   ]
  },
  {
   "cell_type": "code",
   "execution_count": 39,
   "metadata": {},
   "outputs": [
    {
     "data": {
      "text/plain": [
       "n_counts       int64\n",
       "ensembl       object\n",
       "gene_name     object\n",
       "mt              bool\n",
       "ribo            bool\n",
       "chromosome    object\n",
       "dtype: object"
      ]
     },
     "execution_count": 39,
     "metadata": {},
     "output_type": "execute_result"
    }
   ],
   "source": [
    "filtered_object.var.dtypes"
   ]
  },
  {
   "cell_type": "code",
   "execution_count": 40,
   "metadata": {},
   "outputs": [
    {
     "data": {
      "text/plain": [
       "mt\n",
       "False    161\n",
       "Name: count, dtype: int64"
      ]
     },
     "execution_count": 40,
     "metadata": {},
     "output_type": "execute_result"
    }
   ],
   "source": [
    "filtered_object.var['mt'].value_counts()"
   ]
  },
  {
   "cell_type": "code",
   "execution_count": 41,
   "metadata": {},
   "outputs": [],
   "source": [
    "filtered_object.var['mt'] = filtered_object.var['mt'].astype(str)"
   ]
  },
  {
   "cell_type": "code",
   "execution_count": 42,
   "metadata": {},
   "outputs": [
    {
     "name": "stdout",
     "output_type": "stream",
     "text": [
      "n_counts       int64\n",
      "ensembl       object\n",
      "gene_name     object\n",
      "mt            object\n",
      "ribo            bool\n",
      "chromosome    object\n",
      "dtype: object\n"
     ]
    }
   ],
   "source": [
    "print(filtered_object.var.dtypes)"
   ]
  },
  {
   "cell_type": "code",
   "execution_count": 43,
   "metadata": {},
   "outputs": [
    {
     "data": {
      "text/html": [
       "<div>\n",
       "<style scoped>\n",
       "    .dataframe tbody tr th:only-of-type {\n",
       "        vertical-align: middle;\n",
       "    }\n",
       "\n",
       "    .dataframe tbody tr th {\n",
       "        vertical-align: top;\n",
       "    }\n",
       "\n",
       "    .dataframe thead th {\n",
       "        text-align: right;\n",
       "    }\n",
       "</style>\n",
       "<table border=\"1\" class=\"dataframe\">\n",
       "  <thead>\n",
       "    <tr style=\"text-align: right;\">\n",
       "      <th></th>\n",
       "      <th>gene_name</th>\n",
       "      <th>n_counts</th>\n",
       "      <th>ensembl</th>\n",
       "      <th>gene_symbol</th>\n",
       "      <th>mt</th>\n",
       "      <th>ribo</th>\n",
       "      <th>chromosome</th>\n",
       "    </tr>\n",
       "  </thead>\n",
       "  <tbody>\n",
       "    <tr>\n",
       "      <th>0</th>\n",
       "      <td>AGBL4</td>\n",
       "      <td>28</td>\n",
       "      <td>ENSG00000186094</td>\n",
       "      <td>AGBL4</td>\n",
       "      <td>False</td>\n",
       "      <td>False</td>\n",
       "      <td>1</td>\n",
       "    </tr>\n",
       "    <tr>\n",
       "      <th>1</th>\n",
       "      <td>DAB1</td>\n",
       "      <td>32</td>\n",
       "      <td>ENSG00000173406</td>\n",
       "      <td>DAB1</td>\n",
       "      <td>False</td>\n",
       "      <td>False</td>\n",
       "      <td>1</td>\n",
       "    </tr>\n",
       "    <tr>\n",
       "      <th>2</th>\n",
       "      <td>NEGR1</td>\n",
       "      <td>22</td>\n",
       "      <td>ENSG00000172260</td>\n",
       "      <td>NEGR1</td>\n",
       "      <td>False</td>\n",
       "      <td>False</td>\n",
       "      <td>1</td>\n",
       "    </tr>\n",
       "    <tr>\n",
       "      <th>3</th>\n",
       "      <td>SLC44A5</td>\n",
       "      <td>22</td>\n",
       "      <td>ENSG00000137968</td>\n",
       "      <td>SLC44A5</td>\n",
       "      <td>False</td>\n",
       "      <td>False</td>\n",
       "      <td>1</td>\n",
       "    </tr>\n",
       "    <tr>\n",
       "      <th>4</th>\n",
       "      <td>ADGRL2</td>\n",
       "      <td>32</td>\n",
       "      <td>ENSG00000117114</td>\n",
       "      <td>ADGRL2</td>\n",
       "      <td>False</td>\n",
       "      <td>False</td>\n",
       "      <td>1</td>\n",
       "    </tr>\n",
       "    <tr>\n",
       "      <th>...</th>\n",
       "      <td>...</td>\n",
       "      <td>...</td>\n",
       "      <td>...</td>\n",
       "      <td>...</td>\n",
       "      <td>...</td>\n",
       "      <td>...</td>\n",
       "      <td>...</td>\n",
       "    </tr>\n",
       "    <tr>\n",
       "      <th>156</th>\n",
       "      <td>DIAPH2</td>\n",
       "      <td>24</td>\n",
       "      <td>ENSG00000147202</td>\n",
       "      <td>DIAPH2</td>\n",
       "      <td>False</td>\n",
       "      <td>False</td>\n",
       "      <td>X</td>\n",
       "    </tr>\n",
       "    <tr>\n",
       "      <th>157</th>\n",
       "      <td>NaN</td>\n",
       "      <td>20</td>\n",
       "      <td>ENSG00000225689</td>\n",
       "      <td>NaN</td>\n",
       "      <td>False</td>\n",
       "      <td>False</td>\n",
       "      <td>X</td>\n",
       "    </tr>\n",
       "    <tr>\n",
       "      <th>158</th>\n",
       "      <td>FGF13</td>\n",
       "      <td>28</td>\n",
       "      <td>ENSG00000129682</td>\n",
       "      <td>FGF13</td>\n",
       "      <td>False</td>\n",
       "      <td>False</td>\n",
       "      <td>X</td>\n",
       "    </tr>\n",
       "    <tr>\n",
       "      <th>159</th>\n",
       "      <td>NaN</td>\n",
       "      <td>20</td>\n",
       "      <td>ENSG00000288098</td>\n",
       "      <td>NaN</td>\n",
       "      <td>False</td>\n",
       "      <td>False</td>\n",
       "      <td>X</td>\n",
       "    </tr>\n",
       "    <tr>\n",
       "      <th>160</th>\n",
       "      <td>AFF2</td>\n",
       "      <td>20</td>\n",
       "      <td>ENSG00000155966</td>\n",
       "      <td>AFF2</td>\n",
       "      <td>False</td>\n",
       "      <td>False</td>\n",
       "      <td>X</td>\n",
       "    </tr>\n",
       "  </tbody>\n",
       "</table>\n",
       "<p>161 rows × 7 columns</p>\n",
       "</div>"
      ],
      "text/plain": [
       "    gene_name  n_counts          ensembl gene_symbol     mt   ribo chromosome\n",
       "0       AGBL4        28  ENSG00000186094       AGBL4  False  False          1\n",
       "1        DAB1        32  ENSG00000173406        DAB1  False  False          1\n",
       "2       NEGR1        22  ENSG00000172260       NEGR1  False  False          1\n",
       "3     SLC44A5        22  ENSG00000137968     SLC44A5  False  False          1\n",
       "4      ADGRL2        32  ENSG00000117114      ADGRL2  False  False          1\n",
       "..        ...       ...              ...         ...    ...    ...        ...\n",
       "156    DIAPH2        24  ENSG00000147202      DIAPH2  False  False          X\n",
       "157       NaN        20  ENSG00000225689         NaN  False  False          X\n",
       "158     FGF13        28  ENSG00000129682       FGF13  False  False          X\n",
       "159       NaN        20  ENSG00000288098         NaN  False  False          X\n",
       "160      AFF2        20  ENSG00000155966        AFF2  False  False          X\n",
       "\n",
       "[161 rows x 7 columns]"
      ]
     },
     "execution_count": 43,
     "metadata": {},
     "output_type": "execute_result"
    }
   ],
   "source": [
    "filtered_object.var = filtered_object.var.rename(columns={'gene_name': 'gene_symbol'})\n",
    "filtered_object.var = filtered_object.var.reset_index()\n",
    "filtered_object.var"
   ]
  },
  {
   "cell_type": "code",
   "execution_count": 44,
   "metadata": {},
   "outputs": [],
   "source": [
    "filtered_object.raw.var.index.name = 'gene_id'  "
   ]
  },
  {
   "cell_type": "code",
   "execution_count": 45,
   "metadata": {},
   "outputs": [],
   "source": [
    "filtered_object.write_h5ad(f'../ncbi_sra/data/PRJNA1007964_sra_filtered_sk_{timestamp}.h5ad')"
   ]
  }
 ],
 "metadata": {
  "kernelspec": {
   "display_name": "scanpy",
   "language": "python",
   "name": "python3"
  },
  "language_info": {
   "codemirror_mode": {
    "name": "ipython",
    "version": 3
   },
   "file_extension": ".py",
   "mimetype": "text/x-python",
   "name": "python",
   "nbconvert_exporter": "python",
   "pygments_lexer": "ipython3",
   "version": "3.12.4"
  }
 },
 "nbformat": 4,
 "nbformat_minor": 2
}
