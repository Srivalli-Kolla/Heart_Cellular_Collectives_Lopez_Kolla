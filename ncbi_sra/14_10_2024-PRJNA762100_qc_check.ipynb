{
 "cells": [
  {
   "cell_type": "markdown",
   "metadata": {},
   "source": [
    "# Notebook to run basic `scanpy` QC and doublet detection with `scrublet` for SRA Project - PRJNA762100\n",
    "- **Developed by**: Srivalli Kolla\n",
    "\n",
    "- **Created date** : 14 October, 2024\n",
    "\n",
    "- **Modification date** : 23 October, 2024\n",
    "\n",
    "- **Würzburg Institute for Systems Immunology & Julius-Maximilian-Universität Würzburg**"
   ]
  },
  {
   "cell_type": "markdown",
   "metadata": {},
   "source": [
    "Env : Scanpy(Python 3.12.4)"
   ]
  },
  {
   "cell_type": "markdown",
   "metadata": {},
   "source": [
    "# Import sample_names"
   ]
  },
  {
   "cell_type": "code",
   "execution_count": 1,
   "metadata": {},
   "outputs": [],
   "source": [
    "import anndata\n",
    "import logging\n",
    "import anndata as ad\n",
    "import numpy as np\n",
    "import pandas as pd\n",
    "import scanpy as sc\n",
    "import seaborn as sb\n",
    "import scrublet as scr\n",
    "import os\n",
    "import time\n",
    "import matplotlib.pyplot as plt\n",
    "from statsmodels.robust.scale import mad as median_abs_deviation\n",
    "from matplotlib import colors\n",
    "from matplotlib import rcParams"
   ]
  },
  {
   "cell_type": "code",
   "execution_count": null,
   "metadata": {},
   "outputs": [],
   "source": [
    "sc.settings.verbosity = 3\n",
    "sc.logging.print_versions()\n",
    "sc.settings.set_figure_params(dpi = 160, color_map = 'RdPu', dpi_save = 180, vector_friendly = True, format = 'svg')\n",
    "timestamp = time.strftime(\"%d_%m_%Y\")"
   ]
  },
  {
   "cell_type": "markdown",
   "metadata": {},
   "source": [
    "# Import sample_names"
   ]
  },
  {
   "cell_type": "code",
   "execution_count": 3,
   "metadata": {},
   "outputs": [],
   "source": [
    "path = '../ncbi_sra/data'\n",
    "files = ['SRR15835820.h5ad',\n",
    "'SRR15835821.h5ad',\n",
    "'SRR15835824.h5ad',\n",
    "'SRR15835825.h5ad',\n",
    "'SRR15835830.h5ad',\n",
    "'SRR15835831.h5ad',\n",
    "'SRR15835875.h5ad',\n",
    "'SRR15835876.h5ad',\n",
    "'SRR15835877.h5ad',\n",
    "'SRR15835878.h5ad',\n",
    "'SRR15835879.h5ad',\n",
    "'SRR15835880.h5ad',\n",
    "'SRR15835881.h5ad',\n",
    "'SRR15835882.h5ad',\n",
    "'SRR15835883.h5ad',\n",
    "'SRR15835884.h5ad',\n",
    "'SRR15835885.h5ad',\n",
    "'SRR15835886.h5ad',\n",
    "'SRR15835887.h5ad',\n",
    "'SRR15835888.h5ad',\n",
    "'SRR15835889.h5ad',\n",
    "'SRR15835890.h5ad',\n",
    "'SRR15835891.h5ad',\n",
    "'SRR15835892.h5ad',\n",
    "'SRR15835893.h5ad',\n",
    "'SRR15835894.h5ad',\n",
    "'SRR15835895.h5ad',\n",
    "'SRR15835896.h5ad',\n",
    "'SRR15835897.h5ad',\n",
    "'SRR15835898.h5ad',\n",
    "'SRR15835899.h5ad',\n",
    "'SRR15835900.h5ad',\n",
    "'SRR15835901.h5ad',\n",
    "'SRR15835902.h5ad',\n",
    "'SRR15835903.h5ad',\n",
    "'SRR15835904.h5ad',\n",
    "'SRR15835905.h5ad',\n",
    "'SRR15835906.h5ad',\n",
    "'SRR15835907.h5ad',\n",
    "'SRR15835908.h5ad',\n",
    "'SRR15835909.h5ad',\n",
    "'SRR15835910.h5ad',\n",
    "'SRR15835911.h5ad',\n",
    "'SRR15835912.h5ad',\n",
    "'SRR15835913.h5ad',\n",
    "'SRR15835914.h5ad',\n",
    "'SRR15835915.h5ad',\n",
    "'SRR15835917.h5ad',\n",
    "'SRR15835919.h5ad',\n",
    "'SRR15835813.h5ad',\n",
    "'SRR15835816.h5ad',\n",
    "'SRR15835818.h5ad',\n",
    "'SRR15835819.h5ad',\n",
    "'SRR15835822.h5ad',\n",
    "'SRR15835823.h5ad',\n",
    "'SRR15835826.h5ad',\n",
    "'SRR15835827.h5ad',\n",
    "'SRR15835828.h5ad',\n",
    "'SRR15835829.h5ad',\n",
    "'SRR15835916.h5ad',\n",
    "'SRR15835918.h5ad',\n",
    "'SRR15835920.h5ad',\n",
    "'SRR15835921.h5ad',\n",
    "'SRR15835922.h5ad',\n",
    "'SRR15835923.h5ad',\n",
    "'SRR15835812.h5ad',\n",
    "'SRR15835814.h5ad',\n",
    "'SRR15835815.h5ad',\n",
    "'SRR15835817.h5ad',\n",
    "'SRR15835832.h5ad',\n",
    "'SRR15835833.h5ad',\n",
    "'SRR15835834.h5ad',\n",
    "'SRR15835835.h5ad',\n",
    "'SRR15835836.h5ad',\n",
    "'SRR15835837.h5ad',\n",
    "'SRR15835838.h5ad',\n",
    "'SRR15835839.h5ad',\n",
    "'SRR15835840.h5ad',\n",
    "'SRR15835841.h5ad',\n",
    "'SRR15835842.h5ad',\n",
    "'SRR15835843.h5ad',\n",
    "'SRR15835844.h5ad',\n",
    "'SRR15835845.h5ad',\n",
    "'SRR15835846.h5ad',\n",
    "'SRR15835847.h5ad',\n",
    "'SRR15835848.h5ad',\n",
    "'SRR15835849.h5ad',\n",
    "'SRR15835850.h5ad',\n",
    "'SRR15835851.h5ad',\n",
    "'SRR15835852.h5ad',\n",
    "'SRR15835853.h5ad',\n",
    "'SRR15835854.h5ad',\n",
    "'SRR15835855.h5ad',\n",
    "'SRR15835856.h5ad',\n",
    "'SRR15835857.h5ad',\n",
    "'SRR15835858.h5ad',\n",
    "'SRR15835859.h5ad',\n",
    "'SRR15835860.h5ad',\n",
    "'SRR15835861.h5ad',\n",
    "'SRR15835862.h5ad',\n",
    "'SRR15835863.h5ad',\n",
    "'SRR15835864.h5ad',\n",
    "'SRR15835865.h5ad',\n",
    "'SRR15835866.h5ad',\n",
    "'SRR15835867.h5ad',\n",
    "'SRR15835868.h5ad',\n",
    "'SRR15835869.h5ad',\n",
    "'SRR15835870.h5ad',\n",
    "'SRR15835871.h5ad',\n",
    "'SRR15835872.h5ad',\n",
    "'SRR15835873.h5ad',\n",
    "'SRR15835874.h5ad']"
   ]
  },
  {
   "cell_type": "code",
   "execution_count": null,
   "metadata": {},
   "outputs": [],
   "source": [
    "adata_combined = None\n",
    "vars_combined = []\n",
    "\n",
    "for file in files:\n",
    "    file_path = os.path.join(path, file)\n",
    "    \n",
    "    try:\n",
    "\n",
    "        adata = sc.read_h5ad(file_path)\n",
    "\n",
    "        sample_name = os.path.basename(file_path).split('.')[0]\n",
    "        adata.obs['sample_name'] = sample_name\n",
    "\n",
    "\n",
    "        sc.pp.filter_cells(adata, min_counts=10)\n",
    "        sc.pp.filter_genes(adata, min_counts=10)\n",
    "\n",
    "\n",
    "        adata.var_names = adata.var_names.str.split('.').str[0]\n",
    "        adata.var_names = [f\"{name}_{sample_name}\" for name in adata.var_names]\n",
    "\n",
    "        vars_combined.extend(adata.var_names)\n",
    "\n",
    "\n",
    "        if adata_combined is None:\n",
    "            adata_combined = adata\n",
    "        else:\n",
    "            adata_combined = sc.concat([adata_combined, adata], join='outer', index_unique='-')\n",
    "\n",
    "        print(f\"Successfully read and concatenated: {file}\")\n",
    "\n",
    "    except Exception as e:\n",
    "        print(f\"Error reading {file}: {e}\")\n",
    "\n",
    "unique_var_names = pd.Series(vars_combined).unique()\n",
    "adata_combined.var_names = unique_var_names[:adata_combined.n_vars] \n",
    "adata_combined"
   ]
  },
  {
   "cell_type": "code",
   "execution_count": null,
   "metadata": {},
   "outputs": [],
   "source": [
    "adata_combined"
   ]
  },
  {
   "cell_type": "code",
   "execution_count": null,
   "metadata": {},
   "outputs": [],
   "source": [
    "adata_combined.obs"
   ]
  },
  {
   "cell_type": "code",
   "execution_count": null,
   "metadata": {},
   "outputs": [],
   "source": [
    "adata_combined.var"
   ]
  },
  {
   "cell_type": "code",
   "execution_count": null,
   "metadata": {},
   "outputs": [],
   "source": [
    "adata_combined.obs['sample_name'].value_counts()"
   ]
  },
  {
   "cell_type": "markdown",
   "metadata": {},
   "source": [
    "## Doublet score prediction"
   ]
  },
  {
   "cell_type": "code",
   "execution_count": null,
   "metadata": {},
   "outputs": [],
   "source": [
    "scrub = scr.Scrublet(adata_combined.X)\n",
    "\n",
    "doublet_scores, predicted_doublets = scrub.scrub_doublets()\n",
    "            \n",
    "adata_combined.obs['doublet_scores'] = doublet_scores\n",
    "adata_combined.obs['predicted_doublets'] = predicted_doublets"
   ]
  },
  {
   "cell_type": "code",
   "execution_count": null,
   "metadata": {},
   "outputs": [],
   "source": [
    "adata_combined.obs"
   ]
  },
  {
   "cell_type": "markdown",
   "metadata": {},
   "source": [
    "### Checking the count and percentage of Doublets - sample_name level"
   ]
  },
  {
   "cell_type": "code",
   "execution_count": null,
   "metadata": {},
   "outputs": [],
   "source": [
    "doub_tab = pd.crosstab(adata_combined.obs['sample_name'],adata_combined.obs['predicted_doublets'])\n",
    "doub_tab.sum()"
   ]
  },
  {
   "cell_type": "code",
   "execution_count": null,
   "metadata": {},
   "outputs": [],
   "source": [
    "true_doublets = adata_combined.obs['predicted_doublets'] == True\n",
    "true_doublets_count = true_doublets.sum()\n",
    "\n",
    "true_doublets_percentage = (true_doublets_count / len(adata_combined.obs)) * 100\n",
    "\n",
    "true_doublets_count ,true_doublets_percentage"
   ]
  },
  {
   "cell_type": "markdown",
   "metadata": {},
   "source": [
    "### Saving raw data"
   ]
  },
  {
   "cell_type": "code",
   "execution_count": null,
   "metadata": {},
   "outputs": [],
   "source": [
    "sample_name_object = adata_combined.copy()\n",
    "sample_name_object"
   ]
  },
  {
   "cell_type": "markdown",
   "metadata": {},
   "source": [
    "## Compute QC stats"
   ]
  },
  {
   "cell_type": "code",
   "execution_count": null,
   "metadata": {},
   "outputs": [],
   "source": [
    "sample_name_object.shape"
   ]
  },
  {
   "cell_type": "markdown",
   "metadata": {},
   "source": [
    "### Labelling Mt and Ribo genes"
   ]
  },
  {
   "cell_type": "code",
   "execution_count": null,
   "metadata": {},
   "outputs": [],
   "source": [
    "sample_name_object.var"
   ]
  },
  {
   "cell_type": "code",
   "execution_count": null,
   "metadata": {},
   "outputs": [],
   "source": [
    "sample_name_object.var.index = sample_name_object.var.index.str.split('_').str[0]\n",
    "sample_name_object.var"
   ]
  },
  {
   "cell_type": "code",
   "execution_count": null,
   "metadata": {},
   "outputs": [],
   "source": [
    "sample_name_object.var['ensembl'] = sample_name_object.var.index\n",
    "sample_name_object.var "
   ]
  },
  {
   "cell_type": "markdown",
   "metadata": {},
   "source": [
    "### Ensembl annotations"
   ]
  },
  {
   "cell_type": "code",
   "execution_count": 18,
   "metadata": {},
   "outputs": [],
   "source": [
    "annot = sc.queries.biomart_annotations(\n",
    "        \"hsapiens\",\n",
    "        [\"ensembl_gene_id\", \"external_gene_name\", \"start_position\", \"end_position\", \"chromosome_name\"],\n",
    "    ).set_index(\"ensembl_gene_id\")"
   ]
  },
  {
   "cell_type": "code",
   "execution_count": null,
   "metadata": {},
   "outputs": [],
   "source": [
    "annot.head()"
   ]
  },
  {
   "cell_type": "code",
   "execution_count": null,
   "metadata": {},
   "outputs": [],
   "source": [
    "sample_name_object.var"
   ]
  },
  {
   "cell_type": "code",
   "execution_count": null,
   "metadata": {},
   "outputs": [],
   "source": [
    "sample_name_object.var['gene_name'] = sample_name_object.var.index.map(annot['external_gene_name'])\n",
    "sample_name_object.var.index =sample_name_object.var['gene_name'] \n",
    "sample_name_object.var"
   ]
  },
  {
   "cell_type": "code",
   "execution_count": null,
   "metadata": {},
   "outputs": [],
   "source": [
    "sample_name_object.var['mt'] = sample_name_object.var_names.str.startswith('MT-') \n",
    "sample_name_object.var['ribo'] = sample_name_object.var_names.str.startswith((\"RPS\",\"RPL\"))\n",
    "sample_name_object.var"
   ]
  },
  {
   "cell_type": "code",
   "execution_count": null,
   "metadata": {},
   "outputs": [],
   "source": [
    "ribo_counts = sample_name_object.var['ribo'].value_counts()\n",
    "\n",
    "mt_counts = sample_name_object.var['mt'].value_counts()\n",
    "\n",
    "print(\"Counts of Ribosomal (ribo) Genes:\")\n",
    "print(\"False:\", ribo_counts.get(False, 0))\n",
    "print(\"True:\", ribo_counts.get(True, 0))\n",
    "print(\"\\nCounts of Mitochondrial (mt) Genes:\")\n",
    "print(\"False:\", mt_counts.get(False, 0))\n",
    "print(\"True:\", mt_counts.get(True, 0))"
   ]
  },
  {
   "cell_type": "code",
   "execution_count": null,
   "metadata": {},
   "outputs": [],
   "source": [
    "sample_name_object.var['mt'] = sample_name_object.var['mt'].fillna(False)\n",
    "sample_name_object.var['ribo'] = sample_name_object.var['ribo'].fillna(False)"
   ]
  },
  {
   "cell_type": "markdown",
   "metadata": {},
   "source": [
    "### Calculating QC metrics per cell"
   ]
  },
  {
   "cell_type": "code",
   "execution_count": 25,
   "metadata": {},
   "outputs": [],
   "source": [
    "sc.pp.calculate_qc_metrics(sample_name_object,qc_vars = ['mt','ribo'],inplace = True)"
   ]
  },
  {
   "cell_type": "code",
   "execution_count": null,
   "metadata": {},
   "outputs": [],
   "source": [
    "sample_name_object"
   ]
  },
  {
   "cell_type": "markdown",
   "metadata": {},
   "source": [
    "## Sex covariate analysis"
   ]
  },
  {
   "cell_type": "markdown",
   "metadata": {},
   "source": [
    "### Chr Y genes calculation"
   ]
  },
  {
   "cell_type": "code",
   "execution_count": 27,
   "metadata": {},
   "outputs": [],
   "source": [
    "sample_name_object.var['gene_name'] = sample_name_object.var['ensembl'].map(annot['external_gene_name'])\n",
    "sample_name_object.var['chromosome'] = sample_name_object.var['ensembl'].map(annot['chromosome_name'])"
   ]
  },
  {
   "cell_type": "code",
   "execution_count": null,
   "metadata": {},
   "outputs": [],
   "source": [
    "sample_name_object.var"
   ]
  },
  {
   "cell_type": "code",
   "execution_count": null,
   "metadata": {},
   "outputs": [],
   "source": [
    "chrY_genes = sample_name_object.var['chromosome'] == \"Y\"\n",
    "chrY_genes"
   ]
  },
  {
   "cell_type": "code",
   "execution_count": null,
   "metadata": {},
   "outputs": [],
   "source": [
    "sample_name_object.obs['percent_chrY'] = np.sum(\n",
    "    sample_name_object[:, chrY_genes].X, axis = 1) / np.sum(sample_name_object.X, axis = 1) * 100"
   ]
  },
  {
   "cell_type": "code",
   "execution_count": null,
   "metadata": {},
   "outputs": [],
   "source": [
    "sample_name_object"
   ]
  },
  {
   "cell_type": "markdown",
   "metadata": {},
   "source": [
    "### XIST counts"
   ]
  },
  {
   "cell_type": "code",
   "execution_count": null,
   "metadata": {},
   "outputs": [],
   "source": [
    "sample_name_object.var_names"
   ]
  },
  {
   "cell_type": "code",
   "execution_count": null,
   "metadata": {},
   "outputs": [],
   "source": [
    "valid_var_names = sample_name_object.var_names[~sample_name_object.var_names.isna()]\n",
    "\n",
    "xist_genes = valid_var_names[valid_var_names.str.match('XIST')]\n",
    "\n",
    "xist_genes"
   ]
  },
  {
   "cell_type": "markdown",
   "metadata": {},
   "source": [
    "## Calculate cell cycle scores"
   ]
  },
  {
   "cell_type": "markdown",
   "metadata": {},
   "source": [
    "### Downloading the list of cell cycle genes"
   ]
  },
  {
   "cell_type": "code",
   "execution_count": 34,
   "metadata": {},
   "outputs": [],
   "source": [
    "!if [ ! -f ../ncbi_sra/data/regev_lab_cell_cycle_genes.txt ]; then curl -o ../ncbi_sra/data/regev_lab_cell_cycle_genes.txt https://raw.githubusercontent.com/theislab/scanpy_usage/master/180209_cell_cycle/data/regev_lab_cell_cycle_genes.txt; fi"
   ]
  },
  {
   "cell_type": "markdown",
   "metadata": {},
   "source": [
    "### Marking cell cycle genes"
   ]
  },
  {
   "cell_type": "markdown",
   "metadata": {},
   "source": [
    "#### Steps followed\n",
    "\n",
    "1. Loading genes and captilizing \n",
    "2. Printing the length of cell cycle genes list\n",
    "3. Split genes into 2 lists (#First 43 genes,#Gene 43 to end)\n",
    "4. Filtering cell cycle genes only if present in processed_gene_names\n",
    "5. Print the list of cell cycle genes observed in our data"
   ]
  },
  {
   "cell_type": "code",
   "execution_count": null,
   "metadata": {},
   "outputs": [],
   "source": [
    "cell_cycle_genes = [x.strip() for x in open('../ncbi_sra/data/regev_lab_cell_cycle_genes.txt')]\n",
    "#cell_cycle_genes = [gene.capitalize() for gene in cell_cycle_genes]\n",
    "print(len(cell_cycle_genes))\n",
    "\n",
    "s_genes = cell_cycle_genes[:43]\n",
    "g2m_genes = cell_cycle_genes[43:]\n",
    "\n",
    "cell_cycle_genes = [x for x in cell_cycle_genes if x in sample_name_object.var_names]\n",
    "print(len(cell_cycle_genes))"
   ]
  },
  {
   "cell_type": "code",
   "execution_count": null,
   "metadata": {},
   "outputs": [],
   "source": [
    "cell_cycle_genes"
   ]
  },
  {
   "cell_type": "markdown",
   "metadata": {},
   "source": [
    "### Creating basic anndata and normalization for cell cycle score calculation"
   ]
  },
  {
   "cell_type": "code",
   "execution_count": null,
   "metadata": {},
   "outputs": [],
   "source": [
    "adata_combined_log = anndata.AnnData(X = sample_name_object.X,  var = sample_name_object.var, obs = sample_name_object.obs)\n",
    "sc.pp.normalize_total(adata_combined_log, target_sum = 1e6, exclude_highly_expressed = True)\n",
    "sc.pp.log1p(adata_combined_log)"
   ]
  },
  {
   "cell_type": "markdown",
   "metadata": {},
   "source": [
    "### Cell cycle score calculation"
   ]
  },
  {
   "cell_type": "code",
   "execution_count": 38,
   "metadata": {},
   "outputs": [],
   "source": [
    "adata_combined_log.var_names = adata_combined_log.var_names.astype(str)\n",
    "adata_combined_log.var_names_make_unique()"
   ]
  },
  {
   "cell_type": "code",
   "execution_count": null,
   "metadata": {},
   "outputs": [],
   "source": [
    "sc.tl.score_genes_cell_cycle(adata_combined_log, s_genes = s_genes, g2m_genes = g2m_genes)\n",
    "\n",
    "sample_name_object.obs['S_score'] = adata_combined_log.obs['S_score']\n",
    "sample_name_object.obs['G2M_score'] = adata_combined_log.obs['G2M_score']\n",
    "sample_name_object.obs['phase'] = adata_combined_log.obs['phase']\n",
    "\n",
    "sample_name_object"
   ]
  },
  {
   "cell_type": "code",
   "execution_count": null,
   "metadata": {},
   "outputs": [],
   "source": [
    "cell_cycle_counts = sample_name_object.obs['phase'].value_counts()\n",
    "\n",
    "cell_cycle_counts"
   ]
  },
  {
   "cell_type": "code",
   "execution_count": null,
   "metadata": {},
   "outputs": [],
   "source": [
    "sb.countplot(data=sample_name_object.obs, x='phase')"
   ]
  },
  {
   "cell_type": "markdown",
   "metadata": {},
   "source": [
    "## Data visualization"
   ]
  },
  {
   "cell_type": "code",
   "execution_count": null,
   "metadata": {},
   "outputs": [],
   "source": [
    "variables = 'n_genes_by_counts', 'total_counts', 'doublet_scores', 'G2M_score', 'S_score'\n",
    "\n",
    "for var in variables:\n",
    "\n",
    "    fig, ax = plt.subplots(figsize=(12, 6), ncols=2, gridspec_kw={'width_ratios': [4, 1]})\n",
    "\n",
    "    sb.violinplot(data=sample_name_object.obs,x = 'sample_name' , y=var, ax=ax[0])\n",
    "   \n",
    "    medians = sample_name_object.obs.groupby('sample_name')[var].median()\n",
    "\n",
    "    for sample_name, median in medians.items():\n",
    "        ax[0].text(sample_name, median, f'{median:.2f}', ha='center', va='bottom', color='black', fontsize=10)\n",
    "    \n",
    "    ax[0].set_title(f'Violin Plot of {var} by sample_name - Before filtering')\n",
    "    ax[0].set_xlabel('sample_name')\n",
    "    ax[0].set_ylabel(var)\n",
    "    ax[0].tick_params(axis='x', rotation=45)\n",
    "\n",
    "    median_df = pd.DataFrame({'sample_name': medians.index, 'Median': medians.values})\n",
    "\n",
    "    ax[1].axis('off')\n",
    "    ax[1].table(cellText=median_df.values, colLabels=median_df.columns, loc='center')\n",
    "    ax[1].set_title('Median Values')\n",
    "    \n",
    "    plt.tight_layout()\n",
    "    plt.show()\n"
   ]
  },
  {
   "cell_type": "markdown",
   "metadata": {},
   "source": [
    "### Visualization of qc metrics"
   ]
  },
  {
   "cell_type": "code",
   "execution_count": null,
   "metadata": {},
   "outputs": [],
   "source": [
    "variables = ['pct_counts_mt', 'pct_counts_ribo']\n",
    "\n",
    "sb.violinplot(data=sample_name_object.obs[variables])\n",
    "plt.xticks(rotation=45)\n",
    "plt.title(f'Mt and Ribo percentages - Before filtering')"
   ]
  },
  {
   "cell_type": "code",
   "execution_count": null,
   "metadata": {},
   "outputs": [],
   "source": [
    "plt.figure(figsize=(10, 6))\n",
    "sb.scatterplot(data=sample_name_object.obs, x='total_counts', y='n_genes_by_counts' , alpha = 0.4, s=4)\n",
    "#plt.xticks(range(0, int(max(sample_name_object.obs['total_counts'])) + 1, 3000),rotation=45, fontsize = 10)\n",
    "#plt.yticks(range(0, int(max(sample_name_object.obs['n_genes_by_counts'])) + 1, 1000),fontsize = 10)\n",
    "plt.title(f'Counts vs Genes - Before filtering')\n",
    "plt.show()"
   ]
  },
  {
   "cell_type": "markdown",
   "metadata": {},
   "source": [
    "### Filtering based on QC metrics"
   ]
  },
  {
   "cell_type": "code",
   "execution_count": null,
   "metadata": {},
   "outputs": [],
   "source": [
    "filtered_object = sample_name_object[sample_name_object.obs['n_genes_by_counts'] > 10]\n",
    "filtered_object = filtered_object[filtered_object.obs['n_genes_by_counts'] < 1500]\n",
    "\n",
    "filtered_object = filtered_object[filtered_object.obs['total_counts'] > 10]\n",
    "filtered_object = filtered_object[filtered_object.obs['total_counts'] < 2000]\n",
    "\n",
    "filtered_object = filtered_object[filtered_object.obs['pct_counts_mt'] < 60]\n",
    "filtered_object = filtered_object[filtered_object.obs['pct_counts_ribo'] < 20]\n",
    "\n",
    "filtered_object = filtered_object[filtered_object.obs['doublet_scores'] < 0.35]\n",
    "\n",
    "filtered_object"
   ]
  },
  {
   "cell_type": "code",
   "execution_count": null,
   "metadata": {},
   "outputs": [],
   "source": [
    "filtered_object.obs['sample_name'].value_counts()"
   ]
  },
  {
   "cell_type": "code",
   "execution_count": null,
   "metadata": {},
   "outputs": [],
   "source": [
    "variables = ['pct_counts_mt', 'pct_counts_ribo']\n",
    "\n",
    "sb.violinplot(data=filtered_object.obs[variables])\n",
    "plt.xticks(rotation=45)\n",
    "plt.title(f'Mt and Ribo percentages - After filtering')"
   ]
  },
  {
   "cell_type": "code",
   "execution_count": null,
   "metadata": {},
   "outputs": [],
   "source": [
    "sb.set(style = \"whitegrid\")\n",
    "covariate_to_visualize = 'total_counts'\n",
    "\n",
    "plt.figure(figsize = (10, 6))\n",
    "sb.histplot(data = filtered_object.obs, x = covariate_to_visualize, stat = 'count', common_norm = False)\n",
    "plt.xlabel(covariate_to_visualize)\n",
    "plt.ylabel('Abundance')\n",
    "plt.title(f'Abundance Plot of {covariate_to_visualize} by sample_name - After filtering')\n",
    "plt.show()"
   ]
  },
  {
   "cell_type": "code",
   "execution_count": null,
   "metadata": {},
   "outputs": [],
   "source": [
    "sb.set(style = \"whitegrid\")\n",
    "covariate_to_visualize = 'n_genes_by_counts'\n",
    "\n",
    "plt.figure(figsize = (10, 6))\n",
    "sb.histplot(data = filtered_object.obs, x = covariate_to_visualize, stat = 'count', common_norm = False)\n",
    "plt.xlabel(covariate_to_visualize)\n",
    "plt.ylabel('Abundance')\n",
    "plt.title(f'Abundance Plot of {covariate_to_visualize} by sample_name - After filtering')\n",
    "plt.show()"
   ]
  },
  {
   "cell_type": "code",
   "execution_count": null,
   "metadata": {},
   "outputs": [],
   "source": [
    "variables = 'n_genes_by_counts', 'total_counts', 'pct_counts_mt', 'pct_counts_ribo', 'doublet_scores', 'G2M_score', 'S_score' \n",
    "\n",
    "for var in variables:\n",
    "\n",
    "    fig, ax = plt.subplots(figsize=(12, 6), ncols=2, gridspec_kw={'width_ratios': [4, 1]})\n",
    "\n",
    "    sb.violinplot(data=filtered_object.obs, x='sample_name', y=var, ax=ax[0])\n",
    "   \n",
    "    medians = filtered_object.obs.groupby('sample_name')[var].median()\n",
    "\n",
    "    for sample_name, median in medians.items():\n",
    "        ax[0].text(sample_name, median, f'{median:.2f}', ha='center', va='bottom', color='black', fontsize=10)\n",
    "    \n",
    "    ax[0].set_title(f'Violin Plot of {var} by sample_name - After filtering')\n",
    "    ax[0].set_xlabel('sample_name')\n",
    "    ax[0].set_ylabel(var)\n",
    "    ax[0].tick_params(axis='x', rotation=45)\n",
    "\n",
    "    median_df = pd.DataFrame({'sample_name': medians.index, 'Median': medians.values})\n",
    "\n",
    "    ax[1].axis('off')\n",
    "    ax[1].table(cellText=median_df.values, colLabels=median_df.columns, loc='center')\n",
    "    ax[1].set_title('Median Values')\n",
    "    \n",
    "    plt.tight_layout()\n",
    "    plt.show()"
   ]
  },
  {
   "cell_type": "markdown",
   "metadata": {},
   "source": [
    "## Data Export"
   ]
  },
  {
   "cell_type": "code",
   "execution_count": null,
   "metadata": {},
   "outputs": [],
   "source": [
    "filtered_object.raw = filtered_object.copy()\n",
    "\n",
    "filtered_object.layers['raw_counts'] = filtered_object.X.copy()\n",
    "\n",
    "filtered_object.layers[\"sqrt_norm\"] = np.sqrt(\n",
    "    sc.pp.normalize_total(filtered_object, inplace = False)[\"X\"]\n",
    ")\n",
    "\n",
    "filtered_object"
   ]
  },
  {
   "cell_type": "code",
   "execution_count": 52,
   "metadata": {},
   "outputs": [],
   "source": [
    "pd.set_option('display.max_rows', None)\n"
   ]
  },
  {
   "cell_type": "code",
   "execution_count": null,
   "metadata": {},
   "outputs": [],
   "source": [
    "filtered_object.obs['sample_name'].value_counts()"
   ]
  },
  {
   "cell_type": "code",
   "execution_count": null,
   "metadata": {},
   "outputs": [],
   "source": [
    "filtered_object.var.dtypes"
   ]
  },
  {
   "cell_type": "code",
   "execution_count": null,
   "metadata": {},
   "outputs": [],
   "source": [
    "filtered_object.var['mt'].value_counts()"
   ]
  },
  {
   "cell_type": "code",
   "execution_count": 56,
   "metadata": {},
   "outputs": [],
   "source": [
    "filtered_object.var['mt'] = filtered_object.var['mt'].astype(str)"
   ]
  },
  {
   "cell_type": "code",
   "execution_count": null,
   "metadata": {},
   "outputs": [],
   "source": [
    "print(filtered_object.var.dtypes)"
   ]
  },
  {
   "cell_type": "code",
   "execution_count": null,
   "metadata": {},
   "outputs": [],
   "source": [
    "filtered_object.var"
   ]
  },
  {
   "cell_type": "code",
   "execution_count": null,
   "metadata": {},
   "outputs": [],
   "source": [
    "filtered_object.var = filtered_object.var.rename(columns={'gene_name': 'gene_symbol'})\n",
    "filtered_object.var = filtered_object.var.reset_index()\n",
    "filtered_object.var"
   ]
  },
  {
   "cell_type": "code",
   "execution_count": null,
   "metadata": {},
   "outputs": [],
   "source": [
    "filtered_object.raw.var.index.name = 'gene_id'  \n",
    "filtered_object.var"
   ]
  },
  {
   "cell_type": "code",
   "execution_count": 61,
   "metadata": {},
   "outputs": [],
   "source": [
    "filtered_object.write_h5ad(f'../ncbi_sra/data/PRJNA762100_sra_filtered_sk_{timestamp}.h5ad')"
   ]
  }
 ],
 "metadata": {
  "kernelspec": {
   "display_name": "scanpy",
   "language": "python",
   "name": "python3"
  },
  "language_info": {
   "codemirror_mode": {
    "name": "ipython",
    "version": 3
   },
   "file_extension": ".py",
   "mimetype": "text/x-python",
   "name": "python",
   "nbconvert_exporter": "python",
   "pygments_lexer": "ipython3",
   "version": "3.12.4"
  }
 },
 "nbformat": 4,
 "nbformat_minor": 2
}
