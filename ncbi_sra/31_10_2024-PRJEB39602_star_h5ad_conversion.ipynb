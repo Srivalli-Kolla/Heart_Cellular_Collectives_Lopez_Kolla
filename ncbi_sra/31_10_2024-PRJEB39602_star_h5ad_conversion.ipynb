{
 "cells": [
  {
   "cell_type": "markdown",
   "metadata": {},
   "source": [
    "# Notebook to convert STAR output files to h5ad files for SRA Project - PRJEB39602\n",
    "\n",
    "- **Developed by**: Srivalli Kolla\n",
    "\n",
    "- **Created date** : 31 October, 2024\n",
    "\n",
    "- **Modification date** : 31 October, 2024\n",
    "\n",
    "- **Würzburg Institute for Systems Immunology & Julius-Maximilian-Universität Würzburg**"
   ]
  },
  {
   "cell_type": "markdown",
   "metadata": {},
   "source": [
    "Env : Scanpy(Python 3.12.4)"
   ]
  },
  {
   "cell_type": "markdown",
   "metadata": {},
   "source": [
    "# Import Packages"
   ]
  },
  {
   "cell_type": "code",
   "execution_count": 1,
   "metadata": {},
   "outputs": [],
   "source": [
    "import os\n",
    "import pandas as pd\n",
    "import scipy.io\n",
    "import anndata\n",
    "import scanpy as sc\n",
    "import os\n",
    "import time\n"
   ]
  },
  {
   "cell_type": "code",
   "execution_count": 2,
   "metadata": {},
   "outputs": [
    {
     "name": "stdout",
     "output_type": "stream",
     "text": [
      "-----\n",
      "anndata     0.10.8\n",
      "scanpy      1.10.2\n",
      "-----\n",
      "PIL                 10.3.0\n",
      "asttokens           NA\n",
      "attr                23.2.0\n",
      "cffi                1.16.0\n",
      "colorama            0.4.6\n",
      "comm                0.2.2\n",
      "cycler              0.12.1\n",
      "cython_runtime      NA\n",
      "dateutil            2.9.0.post0\n",
      "debugpy             1.8.2\n",
      "decorator           5.1.1\n",
      "defusedxml          0.7.1\n",
      "distutils           3.12.4\n",
      "django              5.0.6\n",
      "executing           2.0.1\n",
      "h5py                3.11.0\n",
      "igraph              0.11.5\n",
      "ipykernel           6.29.5\n",
      "ipython_genutils    0.2.0\n",
      "ipywidgets          8.1.3\n",
      "jedi                0.19.1\n",
      "joblib              1.4.2\n",
      "kiwisolver          1.4.5\n",
      "legacy_api_wrap     NA\n",
      "leidenalg           0.10.2\n",
      "llvmlite            0.43.0\n",
      "louvain             0.8.2\n",
      "matplotlib          3.8.4\n",
      "mpl_toolkits        NA\n",
      "natsort             8.4.0\n",
      "numba               0.60.0\n",
      "numexpr             2.10.1\n",
      "numpy               1.26.4\n",
      "packaging           24.1\n",
      "pandas              2.2.2\n",
      "parso               0.8.4\n",
      "pkg_resources       NA\n",
      "platformdirs        4.2.2\n",
      "plotly              5.22.0\n",
      "prompt_toolkit      3.0.47\n",
      "psutil              6.0.0\n",
      "pure_eval           0.2.2\n",
      "pydev_ipython       NA\n",
      "pydevconsole        NA\n",
      "pydevd              2.9.5\n",
      "pydevd_file_utils   NA\n",
      "pydevd_plugins      NA\n",
      "pydevd_tracing      NA\n",
      "pydot               2.0.0\n",
      "pygments            2.18.0\n",
      "pyparsing           3.1.2\n",
      "pytz                2024.1\n",
      "rich                NA\n",
      "scipy               1.13.1\n",
      "session_info        1.0.0\n",
      "setuptools          70.1.0\n",
      "setuptools_scm      NA\n",
      "six                 1.16.0\n",
      "sklearn             1.5.0\n",
      "stack_data          0.6.3\n",
      "texttable           1.7.0\n",
      "threadpoolctl       3.5.0\n",
      "torch               2.4.0\n",
      "torchgen            NA\n",
      "tornado             6.4.1\n",
      "tqdm                4.66.4\n",
      "traitlets           5.14.3\n",
      "typing_extensions   NA\n",
      "vscode              NA\n",
      "wcwidth             0.2.13\n",
      "yaml                6.0.2\n",
      "zmq                 26.0.3\n",
      "-----\n",
      "IPython             8.26.0\n",
      "jupyter_client      8.6.2\n",
      "jupyter_core        5.7.2\n",
      "notebook            6.5.7\n",
      "-----\n",
      "Python 3.12.4 | packaged by conda-forge | (main, Jun 17 2024, 10:23:07) [GCC 12.3.0]\n",
      "Linux-6.11.4-101.fc39.x86_64-x86_64-with-glibc2.38\n",
      "-----\n",
      "Session information updated at 2024-10-31 19:21\n"
     ]
    }
   ],
   "source": [
    "sc.settings.verbosity = 3\n",
    "sc.logging.print_versions()\n",
    "sc.settings.set_figure_params(dpi = 160, color_map = 'RdPu', dpi_save = 180, vector_friendly = True, format = 'svg')\n",
    "timestamp = time.strftime(\"%d_%m_%Y,%H:%M\")"
   ]
  },
  {
   "cell_type": "markdown",
   "metadata": {},
   "source": [
    "# Import sample_names"
   ]
  },
  {
   "cell_type": "code",
   "execution_count": 12,
   "metadata": {},
   "outputs": [],
   "source": [
    "parent_folder = '/mnt/LaCIE/skolla/sc-heart-consortium/ncbi-sra/mapped_files/'\n",
    "folders = ['ERR6449801',\n",
    "'ERR6449803',\n",
    "'ERR6449820',\n",
    "'ERR6449847',\n",
    "'ERR6449908',\n",
    "'ERR6449913',\n",
    "'ERR6449914',\n",
    "'ERR6449915',\n",
    "'ERR6449920',\n",
    "'ERR6449932',\n",
    "'ERR6449933',\n",
    "'ERR6449960',\n",
    "'ERR6449969',\n",
    "'ERR6449986',\n",
    "'ERR6449990',\n",
    "'ERR7423245',\n",
    "'ERR7423246',\n",
    "'ERR7423252',\n",
    "'ERR7423268',\n",
    "'ERR7423284',\n",
    "'ERR7423293',\n",
    "'ERR7423294',\n",
    "'ERR7423297',\n",
    "'ERR7423304',\n",
    "'ERR7423313',\n",
    "'ERR7423322',\n",
    "'ERR7423335',\n",
    "'ERR7423342',\n",
    "'ERR7423350',\n",
    "'ERR7423357',\n",
    "'ERR7423362',\n",
    "'ERR7423372',\n",
    "'ERR7423384',\n",
    "'ERR7423386',\n",
    "'ERR7423420',\n",
    "'ERR7423423',\n",
    "'ERR7423466',\n",
    "'ERR7423467',\n",
    "'ERR7423472',\n",
    "'ERR7423485',\n",
    "'ERR6449746',\n",
    "'ERR6449747',\n",
    "'ERR6449750',\n",
    "'ERR6449751',\n",
    "'ERR6449756',\n",
    "'ERR6449758',\n",
    "'ERR6449761',\n",
    "'ERR6449763',\n",
    "'ERR6449765',\n",
    "'ERR6449767',\n",
    "'ERR6449775',\n",
    "'ERR6449783',\n",
    "'ERR6449789',\n",
    "'ERR6449790',\n",
    "'ERR6449792',\n",
    "'ERR6449793',\n",
    "'ERR6449799',\n",
    "'ERR6449808',\n",
    "'ERR6449810',\n",
    "'ERR6449815',\n",
    "'ERR6449818',\n",
    "'ERR6449822',\n",
    "'ERR6449824',\n",
    "'ERR6449826',\n",
    "'ERR6449828',\n",
    "'ERR6449829',\n",
    "'ERR6449831',\n",
    "'ERR6449835',\n",
    "'ERR6449837',\n",
    "'ERR6449840',\n",
    "'ERR6449845',\n",
    "'ERR6449846',\n",
    "'ERR6449849',\n",
    "'ERR6449852',\n",
    "'ERR6449853',\n",
    "'ERR6449862',\n",
    "'ERR6449866',\n",
    "'ERR6449871',\n",
    "'ERR6449872',\n",
    "'ERR6449874',\n",
    "'ERR6449878',\n",
    "'ERR6449879',\n",
    "'ERR6449884',\n",
    "'ERR6449888',\n",
    "'ERR6449892',\n",
    "'ERR6449894',\n",
    "'ERR6449902',\n",
    "'ERR6449905',\n",
    "'ERR6449912',\n",
    "'ERR6449918',\n",
    "'ERR6449924',\n",
    "'ERR6449926',\n",
    "'ERR6449934',\n",
    "'ERR6449936',\n",
    "'ERR6449938',\n",
    "'ERR6449942',\n",
    "'ERR6449944',\n",
    "'ERR6449945',\n",
    "'ERR6449950',\n",
    "'ERR6449953',\n",
    "'ERR6449954',\n",
    "'ERR6449955',\n",
    "'ERR6449959',\n",
    "'ERR6449961',\n",
    "'ERR6449962',\n",
    "'ERR6449964',\n",
    "'ERR6449965',\n",
    "'ERR6449970',\n",
    "'ERR6449971',\n",
    "'ERR6449976',\n",
    "'ERR6449982',\n",
    "'ERR6449985',\n",
    "'ERR6449989',\n",
    "'ERR6449992',\n",
    "'ERR6449996',\n",
    "'ERR6449997',\n",
    "'ERR6449998',\n",
    "'ERR6449999',\n",
    "'ERR7423235',\n",
    "'ERR7423236',\n",
    "'ERR7423237',\n",
    "'ERR7423241',\n",
    "'ERR7423243',\n",
    "'ERR7423254',\n",
    "'ERR7423258',\n",
    "'ERR7423260',\n",
    "'ERR7423262',\n",
    "'ERR7423265',\n",
    "'ERR7423270',\n",
    "'ERR7423277',\n",
    "'ERR7423279',\n",
    "'ERR7423281',\n",
    "'ERR7423288',\n",
    "'ERR7423289',\n",
    "'ERR7423292',\n",
    "'ERR7423295',\n",
    "'ERR7423296',\n",
    "'ERR7423300',\n",
    "'ERR7423302',\n",
    "'ERR7423303',\n",
    "'ERR7423307',\n",
    "'ERR7423311',\n",
    "'ERR7423312',\n",
    "'ERR7423316',\n",
    "'ERR7423318',\n",
    "'ERR7423319',\n",
    "'ERR7423320',\n",
    "'ERR7423325',\n",
    "'ERR7423326',\n",
    "'ERR7423327',\n",
    "'ERR7423330',\n",
    "'ERR7423332',\n",
    "'ERR7423336',\n",
    "'ERR7423345',\n",
    "'ERR7423347',\n",
    "'ERR7423348',\n",
    "'ERR7423351',\n",
    "'ERR7423355',\n",
    "'ERR7423356',\n",
    "'ERR7423361',\n",
    "'ERR7423370',\n",
    "'ERR7423371',\n",
    "'ERR7423377',\n",
    "'ERR7423381',\n",
    "'ERR7423383',\n",
    "'ERR7423388',\n",
    "'ERR7423389',\n",
    "'ERR7423391',\n",
    "'ERR7423393',\n",
    "'ERR7423394',\n",
    "'ERR7423397',\n",
    "'ERR7423399',\n",
    "'ERR7423401',\n",
    "'ERR7423403',\n",
    "'ERR7423405',\n",
    "'ERR7423408',\n",
    "'ERR7423409',\n",
    "'ERR7423410',\n",
    "'ERR7423411',\n",
    "'ERR7423412',\n",
    "'ERR7423415',\n",
    "'ERR7423418',\n",
    "'ERR7423430',\n",
    "'ERR7423431',\n",
    "'ERR7423432',\n",
    "'ERR7423437',\n",
    "'ERR7423439',\n",
    "'ERR7423440',\n",
    "'ERR7423445',\n",
    "'ERR7423446',\n",
    "'ERR7423447',\n",
    "'ERR7423470',\n",
    "'ERR7423473',\n",
    "'ERR7423477',\n",
    "'ERR7423478',\n",
    "'ERR7423482',\n",
    "'ERR7423483',\n",
    "'ERR6449745',\n",
    "'ERR6449748',\n",
    "'ERR6449749',\n",
    "'ERR6449752',\n",
    "'ERR6449753',\n",
    "'ERR6449754',\n",
    "'ERR6449755',\n",
    "'ERR6449757',\n",
    "'ERR6449759',\n",
    "'ERR6449760',\n",
    "'ERR6449762',\n",
    "'ERR6449764',\n",
    "'ERR6449766',\n",
    "'ERR6449768',\n",
    "'ERR6449769',\n",
    "'ERR6449770',\n",
    "'ERR6449771',\n",
    "'ERR6449772',\n",
    "'ERR6449773',\n",
    "'ERR6449774',\n",
    "'ERR6449776',\n",
    "'ERR6449777',\n",
    "'ERR6449778',\n",
    "'ERR6449779',\n",
    "'ERR6449780',\n",
    "'ERR6449781',\n",
    "'ERR6449782',\n",
    "'ERR6449784',\n",
    "'ERR6449785',\n",
    "'ERR6449786',\n",
    "'ERR6449787',\n",
    "'ERR6449788',\n",
    "'ERR6449791',\n",
    "'ERR6449794',\n",
    "'ERR6449795',\n",
    "'ERR6449796',\n",
    "'ERR6449797',\n",
    "'ERR6449798',\n",
    "'ERR6449800',\n",
    "'ERR6449802',\n",
    "'ERR6449804',\n",
    "'ERR6449805',\n",
    "'ERR6449806',\n",
    "'ERR6449807',\n",
    "'ERR6449809',\n",
    "'ERR6449811',\n",
    "'ERR6449812',\n",
    "'ERR6449813',\n",
    "'ERR6449814',\n",
    "'ERR6449816',\n",
    "'ERR6449817',\n",
    "'ERR6449819',\n",
    "'ERR6449821',\n",
    "'ERR6449823',\n",
    "'ERR6449825',\n",
    "'ERR6449827',\n",
    "'ERR6449830',\n",
    "'ERR6449832',\n",
    "'ERR6449833',\n",
    "'ERR6449834',\n",
    "'ERR6449836',\n",
    "'ERR6449838',\n",
    "'ERR6449839',\n",
    "'ERR6449841',\n",
    "'ERR6449842',\n",
    "'ERR6449843',\n",
    "'ERR6449844',\n",
    "'ERR6449848',\n",
    "'ERR6449850',\n",
    "'ERR6449851',\n",
    "'ERR6449854',\n",
    "'ERR6449855',\n",
    "'ERR6449856',\n",
    "'ERR6449857',\n",
    "'ERR6449858',\n",
    "'ERR6449859',\n",
    "'ERR6449860',\n",
    "'ERR6449861',\n",
    "'ERR6449863',\n",
    "'ERR6449864',\n",
    "'ERR6449865',\n",
    "'ERR6449867',\n",
    "'ERR6449868',\n",
    "'ERR6449869',\n",
    "'ERR6449870',\n",
    "'ERR6449873',\n",
    "'ERR6449875',\n",
    "'ERR6449876',\n",
    "'ERR6449877',\n",
    "'ERR6449880',\n",
    "'ERR6449881',\n",
    "'ERR6449882',\n",
    "'ERR6449883',\n",
    "'ERR6449885',\n",
    "'ERR6449886',\n",
    "'ERR6449887',\n",
    "'ERR6449889',\n",
    "'ERR6449890',\n",
    "'ERR6449891',\n",
    "'ERR6449893',\n",
    "'ERR6449895',\n",
    "'ERR6449896',\n",
    "'ERR6449897',\n",
    "'ERR6449898',\n",
    "'ERR6449899',\n",
    "'ERR6449900',\n",
    "'ERR6449901',\n",
    "'ERR6449903',\n",
    "'ERR6449904',\n",
    "'ERR6449906',\n",
    "'ERR6449907',\n",
    "'ERR6449909',\n",
    "'ERR6449910',\n",
    "'ERR6449911',\n",
    "'ERR6449916',\n",
    "'ERR6449917',\n",
    "'ERR6449919',\n",
    "'ERR6449921',\n",
    "'ERR6449922',\n",
    "'ERR6449923',\n",
    "'ERR6449925',\n",
    "'ERR6449927',\n",
    "'ERR6449928',\n",
    "'ERR6449929',\n",
    "'ERR6449930',\n",
    "'ERR6449931',\n",
    "'ERR6449935',\n",
    "'ERR6449937',\n",
    "'ERR6449939',\n",
    "'ERR6449940',\n",
    "'ERR6449941',\n",
    "'ERR6449943',\n",
    "'ERR6449946',\n",
    "'ERR6449947',\n",
    "'ERR6449948',\n",
    "'ERR6449949',\n",
    "'ERR6449951',\n",
    "'ERR6449952',\n",
    "'ERR6449956',\n",
    "'ERR6449957',\n",
    "'ERR6449958',\n",
    "'ERR6449963',\n",
    "'ERR6449966',\n",
    "'ERR6449967',\n",
    "'ERR6449968',\n",
    "'ERR6449972',\n",
    "'ERR6449973',\n",
    "'ERR6449974',\n",
    "'ERR6449975',\n",
    "'ERR6449977',\n",
    "'ERR6449978',\n",
    "'ERR6449979',\n",
    "'ERR6449980',\n",
    "'ERR6449981',\n",
    "'ERR6449983',\n",
    "'ERR6449984',\n",
    "'ERR6449987',\n",
    "'ERR6449988',\n",
    "'ERR6449991',\n",
    "'ERR6449993',\n",
    "'ERR6449994',\n",
    "'ERR6449995',\n",
    "'ERR6450000',\n",
    "'ERR7423232',\n",
    "'ERR7423233',\n",
    "'ERR7423234',\n",
    "'ERR7423251',\n",
    "'ERR7423285',\n",
    "'ERR7423286',\n",
    "'ERR7423287',\n",
    "'ERR7423290',\n",
    "'ERR7423291',\n",
    "'ERR7423298',\n",
    "'ERR7423299',\n",
    "'ERR7423301',\n",
    "'ERR7423305',\n",
    "'ERR7423306',\n",
    "'ERR7423308',\n",
    "'ERR7423324',\n",
    "'ERR7423328',\n",
    "'ERR7423329',\n",
    "'ERR7423331',\n",
    "'ERR7423333',\n",
    "'ERR7423334',\n",
    "'ERR7423337',\n",
    "'ERR7423338',\n",
    "'ERR7423339',\n",
    "'ERR7423340',\n",
    "'ERR7423341',\n",
    "'ERR7423343',\n",
    "'ERR7423344',\n",
    "'ERR7423346',\n",
    "'ERR7423349',\n",
    "'ERR7423366',\n",
    "'ERR7423367',\n",
    "'ERR7423368',\n",
    "'ERR7423369',\n",
    "'ERR7423373',\n",
    "'ERR7423374',\n",
    "'ERR7423375',\n",
    "'ERR7423376',\n",
    "'ERR7423378',\n",
    "'ERR7423398',\n",
    "'ERR7423400',\n",
    "'ERR7423402',\n",
    "'ERR7423404',\n",
    "'ERR7423413',\n",
    "'ERR7423414',\n",
    "'ERR7423419',\n",
    "'ERR7423421',\n",
    "'ERR7423427',\n",
    "'ERR7423428',\n",
    "'ERR7423429',\n",
    "'ERR7423433',\n",
    "'ERR7423434',\n",
    "'ERR7423435',\n",
    "'ERR7423436',\n",
    "'ERR7423438',\n",
    "'ERR7423441',\n",
    "'ERR7423442',\n",
    "'ERR7423453',\n",
    "'ERR7423454',\n",
    "'ERR7423455',\n",
    "'ERR7423456',\n",
    "'ERR7423457',\n",
    "'ERR7423465',\n",
    "'ERR7423468',\n",
    "'ERR7423469',\n",
    "'ERR7423471',\n",
    "'ERR7423487',\n",
    "'ERR7423238',\n",
    "'ERR7423239',\n",
    "'ERR7423240',\n",
    "'ERR7423242',\n",
    "'ERR7423244',\n",
    "'ERR7423247',\n",
    "'ERR7423248',\n",
    "'ERR7423249',\n",
    "'ERR7423250',\n",
    "'ERR7423253',\n",
    "'ERR7423255',\n",
    "'ERR7423256',\n",
    "'ERR7423257',\n",
    "'ERR7423259',\n",
    "'ERR7423261',\n",
    "'ERR7423263',\n",
    "'ERR7423264',\n",
    "'ERR7423266',\n",
    "'ERR7423267',\n",
    "'ERR7423269',\n",
    "'ERR7423271',\n",
    "'ERR7423272',\n",
    "'ERR7423273',\n",
    "'ERR7423274',\n",
    "'ERR7423275',\n",
    "'ERR7423276',\n",
    "'ERR7423278',\n",
    "'ERR7423280',\n",
    "'ERR7423282',\n",
    "'ERR7423283',\n",
    "'ERR7423309',\n",
    "'ERR7423310',\n",
    "'ERR7423314',\n",
    "'ERR7423315',\n",
    "'ERR7423317',\n",
    "'ERR7423321',\n",
    "'ERR7423323',\n",
    "'ERR7423352',\n",
    "'ERR7423353',\n",
    "'ERR7423354',\n",
    "'ERR7423358',\n",
    "'ERR7423359',\n",
    "'ERR7423360',\n",
    "'ERR7423363',\n",
    "'ERR7423364',\n",
    "'ERR7423365',\n",
    "'ERR7423379',\n",
    "'ERR7423380',\n",
    "'ERR7423382',\n",
    "'ERR7423385',\n",
    "'ERR7423387',\n",
    "'ERR7423390',\n",
    "'ERR7423392',\n",
    "'ERR7423395',\n",
    "'ERR7423396',\n",
    "'ERR7423406',\n",
    "'ERR7423407',\n",
    "'ERR7423416',\n",
    "'ERR7423417',\n",
    "'ERR7423422',\n",
    "'ERR7423424',\n",
    "'ERR7423425',\n",
    "'ERR7423426',\n",
    "'ERR7423443',\n",
    "'ERR7423444',\n",
    "'ERR7423448',\n",
    "'ERR7423449',\n",
    "'ERR7423450',\n",
    "'ERR7423451',\n",
    "'ERR7423452',\n",
    "'ERR7423458',\n",
    "'ERR7423459',\n",
    "'ERR7423460',\n",
    "'ERR7423461',\n",
    "'ERR7423462',\n",
    "'ERR7423463',\n",
    "'ERR7423464',\n",
    "'ERR7423474',\n",
    "'ERR7423475',\n",
    "'ERR7423476',\n",
    "'ERR7423479',\n",
    "'ERR7423480',\n",
    "'ERR7423481',\n",
    "'ERR7423484',\n",
    "'ERR7423486',]"
   ]
  },
  {
   "cell_type": "code",
   "execution_count": 13,
   "metadata": {},
   "outputs": [
    {
     "name": "stderr",
     "output_type": "stream",
     "text": [
      "/home/skolla/miniforge3/envs/scanpy/lib/python3.12/site-packages/anndata/_core/anndata.py:1820: UserWarning: Variable names are not unique. To make them unique, call `.var_names_make_unique`.\n",
      "  utils.warn_names_duplicates(\"var\")\n",
      "/home/skolla/miniforge3/envs/scanpy/lib/python3.12/site-packages/anndata/utils.py:260: UserWarning: Suffix used (-[0-9]+) to deduplicate index values may make index values difficult to interpret. There values with a similar suffixes in the index. Consider using a different delimiter by passing `join={delimiter}`Example key collisions generated by the make_index_unique algorithm: ['SNORD116-1', 'SNORD116-2', 'SNORD116-3', 'SNORD116-4', 'SNORD116-5']\n",
      "  warnings.warn(\n"
     ]
    },
    {
     "name": "stdout",
     "output_type": "stream",
     "text": [
      "Converted ERR6449801 to /mnt/LaCIE/skolla/sc-heart-consortium/ncbi-sra/h5ad_files/ERR6449801_GeneFull_raw.h5ad\n"
     ]
    },
    {
     "name": "stderr",
     "output_type": "stream",
     "text": [
      "/home/skolla/miniforge3/envs/scanpy/lib/python3.12/site-packages/anndata/_core/anndata.py:1820: UserWarning: Variable names are not unique. To make them unique, call `.var_names_make_unique`.\n",
      "  utils.warn_names_duplicates(\"var\")\n",
      "/home/skolla/miniforge3/envs/scanpy/lib/python3.12/site-packages/anndata/utils.py:260: UserWarning: Suffix used (-[0-9]+) to deduplicate index values may make index values difficult to interpret. There values with a similar suffixes in the index. Consider using a different delimiter by passing `join={delimiter}`Example key collisions generated by the make_index_unique algorithm: ['SNORD116-1', 'SNORD116-2', 'SNORD116-3', 'SNORD116-4', 'SNORD116-5']\n",
      "  warnings.warn(\n"
     ]
    },
    {
     "name": "stdout",
     "output_type": "stream",
     "text": [
      "Converted ERR6449803 to /mnt/LaCIE/skolla/sc-heart-consortium/ncbi-sra/h5ad_files/ERR6449803_GeneFull_raw.h5ad\n",
      "Required files missing in /mnt/LaCIE/skolla/sc-heart-consortium/ncbi-sra/mapped_files/ERR6449820/outputSolo.out/GeneFull/raw for ERR6449820. Skipping.\n"
     ]
    },
    {
     "name": "stderr",
     "output_type": "stream",
     "text": [
      "/home/skolla/miniforge3/envs/scanpy/lib/python3.12/site-packages/anndata/_core/anndata.py:1820: UserWarning: Variable names are not unique. To make them unique, call `.var_names_make_unique`.\n",
      "  utils.warn_names_duplicates(\"var\")\n",
      "/home/skolla/miniforge3/envs/scanpy/lib/python3.12/site-packages/anndata/utils.py:260: UserWarning: Suffix used (-[0-9]+) to deduplicate index values may make index values difficult to interpret. There values with a similar suffixes in the index. Consider using a different delimiter by passing `join={delimiter}`Example key collisions generated by the make_index_unique algorithm: ['SNORD116-1', 'SNORD116-2', 'SNORD116-3', 'SNORD116-4', 'SNORD116-5']\n",
      "  warnings.warn(\n"
     ]
    },
    {
     "name": "stdout",
     "output_type": "stream",
     "text": [
      "Converted ERR6449847 to /mnt/LaCIE/skolla/sc-heart-consortium/ncbi-sra/h5ad_files/ERR6449847_GeneFull_raw.h5ad\n"
     ]
    },
    {
     "name": "stderr",
     "output_type": "stream",
     "text": [
      "/home/skolla/miniforge3/envs/scanpy/lib/python3.12/site-packages/anndata/_core/anndata.py:1820: UserWarning: Variable names are not unique. To make them unique, call `.var_names_make_unique`.\n",
      "  utils.warn_names_duplicates(\"var\")\n",
      "/home/skolla/miniforge3/envs/scanpy/lib/python3.12/site-packages/anndata/utils.py:260: UserWarning: Suffix used (-[0-9]+) to deduplicate index values may make index values difficult to interpret. There values with a similar suffixes in the index. Consider using a different delimiter by passing `join={delimiter}`Example key collisions generated by the make_index_unique algorithm: ['SNORD116-1', 'SNORD116-2', 'SNORD116-3', 'SNORD116-4', 'SNORD116-5']\n",
      "  warnings.warn(\n"
     ]
    },
    {
     "name": "stdout",
     "output_type": "stream",
     "text": [
      "Converted ERR6449908 to /mnt/LaCIE/skolla/sc-heart-consortium/ncbi-sra/h5ad_files/ERR6449908_GeneFull_raw.h5ad\n"
     ]
    },
    {
     "name": "stderr",
     "output_type": "stream",
     "text": [
      "/home/skolla/miniforge3/envs/scanpy/lib/python3.12/site-packages/anndata/_core/anndata.py:1820: UserWarning: Variable names are not unique. To make them unique, call `.var_names_make_unique`.\n",
      "  utils.warn_names_duplicates(\"var\")\n",
      "/home/skolla/miniforge3/envs/scanpy/lib/python3.12/site-packages/anndata/utils.py:260: UserWarning: Suffix used (-[0-9]+) to deduplicate index values may make index values difficult to interpret. There values with a similar suffixes in the index. Consider using a different delimiter by passing `join={delimiter}`Example key collisions generated by the make_index_unique algorithm: ['SNORD116-1', 'SNORD116-2', 'SNORD116-3', 'SNORD116-4', 'SNORD116-5']\n",
      "  warnings.warn(\n"
     ]
    },
    {
     "name": "stdout",
     "output_type": "stream",
     "text": [
      "Converted ERR6449913 to /mnt/LaCIE/skolla/sc-heart-consortium/ncbi-sra/h5ad_files/ERR6449913_GeneFull_raw.h5ad\n"
     ]
    },
    {
     "name": "stderr",
     "output_type": "stream",
     "text": [
      "/home/skolla/miniforge3/envs/scanpy/lib/python3.12/site-packages/anndata/_core/anndata.py:1820: UserWarning: Variable names are not unique. To make them unique, call `.var_names_make_unique`.\n",
      "  utils.warn_names_duplicates(\"var\")\n",
      "/home/skolla/miniforge3/envs/scanpy/lib/python3.12/site-packages/anndata/utils.py:260: UserWarning: Suffix used (-[0-9]+) to deduplicate index values may make index values difficult to interpret. There values with a similar suffixes in the index. Consider using a different delimiter by passing `join={delimiter}`Example key collisions generated by the make_index_unique algorithm: ['SNORD116-1', 'SNORD116-2', 'SNORD116-3', 'SNORD116-4', 'SNORD116-5']\n",
      "  warnings.warn(\n"
     ]
    },
    {
     "name": "stdout",
     "output_type": "stream",
     "text": [
      "Converted ERR6449914 to /mnt/LaCIE/skolla/sc-heart-consortium/ncbi-sra/h5ad_files/ERR6449914_GeneFull_raw.h5ad\n"
     ]
    },
    {
     "name": "stderr",
     "output_type": "stream",
     "text": [
      "/home/skolla/miniforge3/envs/scanpy/lib/python3.12/site-packages/anndata/_core/anndata.py:1820: UserWarning: Variable names are not unique. To make them unique, call `.var_names_make_unique`.\n",
      "  utils.warn_names_duplicates(\"var\")\n",
      "/home/skolla/miniforge3/envs/scanpy/lib/python3.12/site-packages/anndata/utils.py:260: UserWarning: Suffix used (-[0-9]+) to deduplicate index values may make index values difficult to interpret. There values with a similar suffixes in the index. Consider using a different delimiter by passing `join={delimiter}`Example key collisions generated by the make_index_unique algorithm: ['SNORD116-1', 'SNORD116-2', 'SNORD116-3', 'SNORD116-4', 'SNORD116-5']\n",
      "  warnings.warn(\n"
     ]
    },
    {
     "name": "stdout",
     "output_type": "stream",
     "text": [
      "Converted ERR6449915 to /mnt/LaCIE/skolla/sc-heart-consortium/ncbi-sra/h5ad_files/ERR6449915_GeneFull_raw.h5ad\n"
     ]
    },
    {
     "name": "stderr",
     "output_type": "stream",
     "text": [
      "/home/skolla/miniforge3/envs/scanpy/lib/python3.12/site-packages/anndata/_core/anndata.py:1820: UserWarning: Variable names are not unique. To make them unique, call `.var_names_make_unique`.\n",
      "  utils.warn_names_duplicates(\"var\")\n",
      "/home/skolla/miniforge3/envs/scanpy/lib/python3.12/site-packages/anndata/utils.py:260: UserWarning: Suffix used (-[0-9]+) to deduplicate index values may make index values difficult to interpret. There values with a similar suffixes in the index. Consider using a different delimiter by passing `join={delimiter}`Example key collisions generated by the make_index_unique algorithm: ['SNORD116-1', 'SNORD116-2', 'SNORD116-3', 'SNORD116-4', 'SNORD116-5']\n",
      "  warnings.warn(\n"
     ]
    },
    {
     "name": "stdout",
     "output_type": "stream",
     "text": [
      "Converted ERR6449920 to /mnt/LaCIE/skolla/sc-heart-consortium/ncbi-sra/h5ad_files/ERR6449920_GeneFull_raw.h5ad\n"
     ]
    },
    {
     "name": "stderr",
     "output_type": "stream",
     "text": [
      "/home/skolla/miniforge3/envs/scanpy/lib/python3.12/site-packages/anndata/_core/anndata.py:1820: UserWarning: Variable names are not unique. To make them unique, call `.var_names_make_unique`.\n",
      "  utils.warn_names_duplicates(\"var\")\n",
      "/home/skolla/miniforge3/envs/scanpy/lib/python3.12/site-packages/anndata/utils.py:260: UserWarning: Suffix used (-[0-9]+) to deduplicate index values may make index values difficult to interpret. There values with a similar suffixes in the index. Consider using a different delimiter by passing `join={delimiter}`Example key collisions generated by the make_index_unique algorithm: ['SNORD116-1', 'SNORD116-2', 'SNORD116-3', 'SNORD116-4', 'SNORD116-5']\n",
      "  warnings.warn(\n"
     ]
    },
    {
     "name": "stdout",
     "output_type": "stream",
     "text": [
      "Converted ERR6449932 to /mnt/LaCIE/skolla/sc-heart-consortium/ncbi-sra/h5ad_files/ERR6449932_GeneFull_raw.h5ad\n",
      "Required files missing in /mnt/LaCIE/skolla/sc-heart-consortium/ncbi-sra/mapped_files/ERR6449933/outputSolo.out/GeneFull/raw for ERR6449933. Skipping.\n",
      "Required files missing in /mnt/LaCIE/skolla/sc-heart-consortium/ncbi-sra/mapped_files/ERR6449960/outputSolo.out/GeneFull/raw for ERR6449960. Skipping.\n"
     ]
    },
    {
     "name": "stderr",
     "output_type": "stream",
     "text": [
      "/home/skolla/miniforge3/envs/scanpy/lib/python3.12/site-packages/anndata/_core/anndata.py:1820: UserWarning: Variable names are not unique. To make them unique, call `.var_names_make_unique`.\n",
      "  utils.warn_names_duplicates(\"var\")\n",
      "/home/skolla/miniforge3/envs/scanpy/lib/python3.12/site-packages/anndata/utils.py:260: UserWarning: Suffix used (-[0-9]+) to deduplicate index values may make index values difficult to interpret. There values with a similar suffixes in the index. Consider using a different delimiter by passing `join={delimiter}`Example key collisions generated by the make_index_unique algorithm: ['SNORD116-1', 'SNORD116-2', 'SNORD116-3', 'SNORD116-4', 'SNORD116-5']\n",
      "  warnings.warn(\n"
     ]
    },
    {
     "name": "stdout",
     "output_type": "stream",
     "text": [
      "Converted ERR6449969 to /mnt/LaCIE/skolla/sc-heart-consortium/ncbi-sra/h5ad_files/ERR6449969_GeneFull_raw.h5ad\n"
     ]
    },
    {
     "name": "stderr",
     "output_type": "stream",
     "text": [
      "/home/skolla/miniforge3/envs/scanpy/lib/python3.12/site-packages/anndata/_core/anndata.py:1820: UserWarning: Variable names are not unique. To make them unique, call `.var_names_make_unique`.\n",
      "  utils.warn_names_duplicates(\"var\")\n",
      "/home/skolla/miniforge3/envs/scanpy/lib/python3.12/site-packages/anndata/utils.py:260: UserWarning: Suffix used (-[0-9]+) to deduplicate index values may make index values difficult to interpret. There values with a similar suffixes in the index. Consider using a different delimiter by passing `join={delimiter}`Example key collisions generated by the make_index_unique algorithm: ['SNORD116-1', 'SNORD116-2', 'SNORD116-3', 'SNORD116-4', 'SNORD116-5']\n",
      "  warnings.warn(\n"
     ]
    },
    {
     "name": "stdout",
     "output_type": "stream",
     "text": [
      "Converted ERR6449986 to /mnt/LaCIE/skolla/sc-heart-consortium/ncbi-sra/h5ad_files/ERR6449986_GeneFull_raw.h5ad\n",
      "Required files missing in /mnt/LaCIE/skolla/sc-heart-consortium/ncbi-sra/mapped_files/ERR6449990/outputSolo.out/GeneFull/raw for ERR6449990. Skipping.\n"
     ]
    },
    {
     "name": "stderr",
     "output_type": "stream",
     "text": [
      "/home/skolla/miniforge3/envs/scanpy/lib/python3.12/site-packages/anndata/_core/anndata.py:1820: UserWarning: Variable names are not unique. To make them unique, call `.var_names_make_unique`.\n",
      "  utils.warn_names_duplicates(\"var\")\n",
      "/home/skolla/miniforge3/envs/scanpy/lib/python3.12/site-packages/anndata/utils.py:260: UserWarning: Suffix used (-[0-9]+) to deduplicate index values may make index values difficult to interpret. There values with a similar suffixes in the index. Consider using a different delimiter by passing `join={delimiter}`Example key collisions generated by the make_index_unique algorithm: ['SNORD116-1', 'SNORD116-2', 'SNORD116-3', 'SNORD116-4', 'SNORD116-5']\n",
      "  warnings.warn(\n"
     ]
    },
    {
     "name": "stdout",
     "output_type": "stream",
     "text": [
      "Converted ERR7423245 to /mnt/LaCIE/skolla/sc-heart-consortium/ncbi-sra/h5ad_files/ERR7423245_GeneFull_raw.h5ad\n"
     ]
    },
    {
     "name": "stderr",
     "output_type": "stream",
     "text": [
      "/home/skolla/miniforge3/envs/scanpy/lib/python3.12/site-packages/anndata/_core/anndata.py:1820: UserWarning: Variable names are not unique. To make them unique, call `.var_names_make_unique`.\n",
      "  utils.warn_names_duplicates(\"var\")\n",
      "/home/skolla/miniforge3/envs/scanpy/lib/python3.12/site-packages/anndata/utils.py:260: UserWarning: Suffix used (-[0-9]+) to deduplicate index values may make index values difficult to interpret. There values with a similar suffixes in the index. Consider using a different delimiter by passing `join={delimiter}`Example key collisions generated by the make_index_unique algorithm: ['SNORD116-1', 'SNORD116-2', 'SNORD116-3', 'SNORD116-4', 'SNORD116-5']\n",
      "  warnings.warn(\n"
     ]
    },
    {
     "name": "stdout",
     "output_type": "stream",
     "text": [
      "Converted ERR7423246 to /mnt/LaCIE/skolla/sc-heart-consortium/ncbi-sra/h5ad_files/ERR7423246_GeneFull_raw.h5ad\n"
     ]
    },
    {
     "name": "stderr",
     "output_type": "stream",
     "text": [
      "/home/skolla/miniforge3/envs/scanpy/lib/python3.12/site-packages/anndata/_core/anndata.py:1820: UserWarning: Variable names are not unique. To make them unique, call `.var_names_make_unique`.\n",
      "  utils.warn_names_duplicates(\"var\")\n",
      "/home/skolla/miniforge3/envs/scanpy/lib/python3.12/site-packages/anndata/utils.py:260: UserWarning: Suffix used (-[0-9]+) to deduplicate index values may make index values difficult to interpret. There values with a similar suffixes in the index. Consider using a different delimiter by passing `join={delimiter}`Example key collisions generated by the make_index_unique algorithm: ['SNORD116-1', 'SNORD116-2', 'SNORD116-3', 'SNORD116-4', 'SNORD116-5']\n",
      "  warnings.warn(\n"
     ]
    },
    {
     "name": "stdout",
     "output_type": "stream",
     "text": [
      "Converted ERR7423252 to /mnt/LaCIE/skolla/sc-heart-consortium/ncbi-sra/h5ad_files/ERR7423252_GeneFull_raw.h5ad\n",
      "Required files missing in /mnt/LaCIE/skolla/sc-heart-consortium/ncbi-sra/mapped_files/ERR7423268/outputSolo.out/GeneFull/raw for ERR7423268. Skipping.\n"
     ]
    },
    {
     "name": "stderr",
     "output_type": "stream",
     "text": [
      "/home/skolla/miniforge3/envs/scanpy/lib/python3.12/site-packages/anndata/_core/anndata.py:1820: UserWarning: Variable names are not unique. To make them unique, call `.var_names_make_unique`.\n",
      "  utils.warn_names_duplicates(\"var\")\n",
      "/home/skolla/miniforge3/envs/scanpy/lib/python3.12/site-packages/anndata/utils.py:260: UserWarning: Suffix used (-[0-9]+) to deduplicate index values may make index values difficult to interpret. There values with a similar suffixes in the index. Consider using a different delimiter by passing `join={delimiter}`Example key collisions generated by the make_index_unique algorithm: ['SNORD116-1', 'SNORD116-2', 'SNORD116-3', 'SNORD116-4', 'SNORD116-5']\n",
      "  warnings.warn(\n"
     ]
    },
    {
     "name": "stdout",
     "output_type": "stream",
     "text": [
      "Converted ERR7423284 to /mnt/LaCIE/skolla/sc-heart-consortium/ncbi-sra/h5ad_files/ERR7423284_GeneFull_raw.h5ad\n",
      "Required files missing in /mnt/LaCIE/skolla/sc-heart-consortium/ncbi-sra/mapped_files/ERR7423293/outputSolo.out/GeneFull/raw for ERR7423293. Skipping.\n"
     ]
    },
    {
     "name": "stderr",
     "output_type": "stream",
     "text": [
      "/home/skolla/miniforge3/envs/scanpy/lib/python3.12/site-packages/anndata/_core/anndata.py:1820: UserWarning: Variable names are not unique. To make them unique, call `.var_names_make_unique`.\n",
      "  utils.warn_names_duplicates(\"var\")\n",
      "/home/skolla/miniforge3/envs/scanpy/lib/python3.12/site-packages/anndata/utils.py:260: UserWarning: Suffix used (-[0-9]+) to deduplicate index values may make index values difficult to interpret. There values with a similar suffixes in the index. Consider using a different delimiter by passing `join={delimiter}`Example key collisions generated by the make_index_unique algorithm: ['SNORD116-1', 'SNORD116-2', 'SNORD116-3', 'SNORD116-4', 'SNORD116-5']\n",
      "  warnings.warn(\n"
     ]
    },
    {
     "name": "stdout",
     "output_type": "stream",
     "text": [
      "Converted ERR7423294 to /mnt/LaCIE/skolla/sc-heart-consortium/ncbi-sra/h5ad_files/ERR7423294_GeneFull_raw.h5ad\n",
      "Required files missing in /mnt/LaCIE/skolla/sc-heart-consortium/ncbi-sra/mapped_files/ERR7423297/outputSolo.out/GeneFull/raw for ERR7423297. Skipping.\n"
     ]
    },
    {
     "name": "stderr",
     "output_type": "stream",
     "text": [
      "/home/skolla/miniforge3/envs/scanpy/lib/python3.12/site-packages/anndata/_core/anndata.py:1820: UserWarning: Variable names are not unique. To make them unique, call `.var_names_make_unique`.\n",
      "  utils.warn_names_duplicates(\"var\")\n",
      "/home/skolla/miniforge3/envs/scanpy/lib/python3.12/site-packages/anndata/utils.py:260: UserWarning: Suffix used (-[0-9]+) to deduplicate index values may make index values difficult to interpret. There values with a similar suffixes in the index. Consider using a different delimiter by passing `join={delimiter}`Example key collisions generated by the make_index_unique algorithm: ['SNORD116-1', 'SNORD116-2', 'SNORD116-3', 'SNORD116-4', 'SNORD116-5']\n",
      "  warnings.warn(\n"
     ]
    },
    {
     "name": "stdout",
     "output_type": "stream",
     "text": [
      "Converted ERR7423304 to /mnt/LaCIE/skolla/sc-heart-consortium/ncbi-sra/h5ad_files/ERR7423304_GeneFull_raw.h5ad\n",
      "Required files missing in /mnt/LaCIE/skolla/sc-heart-consortium/ncbi-sra/mapped_files/ERR7423313/outputSolo.out/GeneFull/raw for ERR7423313. Skipping.\n"
     ]
    },
    {
     "name": "stderr",
     "output_type": "stream",
     "text": [
      "/home/skolla/miniforge3/envs/scanpy/lib/python3.12/site-packages/anndata/_core/anndata.py:1820: UserWarning: Variable names are not unique. To make them unique, call `.var_names_make_unique`.\n",
      "  utils.warn_names_duplicates(\"var\")\n",
      "/home/skolla/miniforge3/envs/scanpy/lib/python3.12/site-packages/anndata/utils.py:260: UserWarning: Suffix used (-[0-9]+) to deduplicate index values may make index values difficult to interpret. There values with a similar suffixes in the index. Consider using a different delimiter by passing `join={delimiter}`Example key collisions generated by the make_index_unique algorithm: ['SNORD116-1', 'SNORD116-2', 'SNORD116-3', 'SNORD116-4', 'SNORD116-5']\n",
      "  warnings.warn(\n"
     ]
    },
    {
     "name": "stdout",
     "output_type": "stream",
     "text": [
      "Converted ERR7423322 to /mnt/LaCIE/skolla/sc-heart-consortium/ncbi-sra/h5ad_files/ERR7423322_GeneFull_raw.h5ad\n"
     ]
    },
    {
     "name": "stderr",
     "output_type": "stream",
     "text": [
      "/home/skolla/miniforge3/envs/scanpy/lib/python3.12/site-packages/anndata/_core/anndata.py:1820: UserWarning: Variable names are not unique. To make them unique, call `.var_names_make_unique`.\n",
      "  utils.warn_names_duplicates(\"var\")\n",
      "/home/skolla/miniforge3/envs/scanpy/lib/python3.12/site-packages/anndata/utils.py:260: UserWarning: Suffix used (-[0-9]+) to deduplicate index values may make index values difficult to interpret. There values with a similar suffixes in the index. Consider using a different delimiter by passing `join={delimiter}`Example key collisions generated by the make_index_unique algorithm: ['SNORD116-1', 'SNORD116-2', 'SNORD116-3', 'SNORD116-4', 'SNORD116-5']\n",
      "  warnings.warn(\n"
     ]
    },
    {
     "name": "stdout",
     "output_type": "stream",
     "text": [
      "Converted ERR7423335 to /mnt/LaCIE/skolla/sc-heart-consortium/ncbi-sra/h5ad_files/ERR7423335_GeneFull_raw.h5ad\n"
     ]
    },
    {
     "name": "stderr",
     "output_type": "stream",
     "text": [
      "/home/skolla/miniforge3/envs/scanpy/lib/python3.12/site-packages/anndata/_core/anndata.py:1820: UserWarning: Variable names are not unique. To make them unique, call `.var_names_make_unique`.\n",
      "  utils.warn_names_duplicates(\"var\")\n",
      "/home/skolla/miniforge3/envs/scanpy/lib/python3.12/site-packages/anndata/utils.py:260: UserWarning: Suffix used (-[0-9]+) to deduplicate index values may make index values difficult to interpret. There values with a similar suffixes in the index. Consider using a different delimiter by passing `join={delimiter}`Example key collisions generated by the make_index_unique algorithm: ['SNORD116-1', 'SNORD116-2', 'SNORD116-3', 'SNORD116-4', 'SNORD116-5']\n",
      "  warnings.warn(\n"
     ]
    },
    {
     "name": "stdout",
     "output_type": "stream",
     "text": [
      "Converted ERR7423342 to /mnt/LaCIE/skolla/sc-heart-consortium/ncbi-sra/h5ad_files/ERR7423342_GeneFull_raw.h5ad\n"
     ]
    },
    {
     "name": "stderr",
     "output_type": "stream",
     "text": [
      "/home/skolla/miniforge3/envs/scanpy/lib/python3.12/site-packages/anndata/_core/anndata.py:1820: UserWarning: Variable names are not unique. To make them unique, call `.var_names_make_unique`.\n",
      "  utils.warn_names_duplicates(\"var\")\n",
      "/home/skolla/miniforge3/envs/scanpy/lib/python3.12/site-packages/anndata/utils.py:260: UserWarning: Suffix used (-[0-9]+) to deduplicate index values may make index values difficult to interpret. There values with a similar suffixes in the index. Consider using a different delimiter by passing `join={delimiter}`Example key collisions generated by the make_index_unique algorithm: ['SNORD116-1', 'SNORD116-2', 'SNORD116-3', 'SNORD116-4', 'SNORD116-5']\n",
      "  warnings.warn(\n"
     ]
    },
    {
     "name": "stdout",
     "output_type": "stream",
     "text": [
      "Converted ERR7423350 to /mnt/LaCIE/skolla/sc-heart-consortium/ncbi-sra/h5ad_files/ERR7423350_GeneFull_raw.h5ad\n",
      "Required files missing in /mnt/LaCIE/skolla/sc-heart-consortium/ncbi-sra/mapped_files/ERR7423357/outputSolo.out/GeneFull/raw for ERR7423357. Skipping.\n"
     ]
    },
    {
     "name": "stderr",
     "output_type": "stream",
     "text": [
      "/home/skolla/miniforge3/envs/scanpy/lib/python3.12/site-packages/anndata/_core/anndata.py:1820: UserWarning: Variable names are not unique. To make them unique, call `.var_names_make_unique`.\n",
      "  utils.warn_names_duplicates(\"var\")\n",
      "/home/skolla/miniforge3/envs/scanpy/lib/python3.12/site-packages/anndata/utils.py:260: UserWarning: Suffix used (-[0-9]+) to deduplicate index values may make index values difficult to interpret. There values with a similar suffixes in the index. Consider using a different delimiter by passing `join={delimiter}`Example key collisions generated by the make_index_unique algorithm: ['SNORD116-1', 'SNORD116-2', 'SNORD116-3', 'SNORD116-4', 'SNORD116-5']\n",
      "  warnings.warn(\n"
     ]
    },
    {
     "name": "stdout",
     "output_type": "stream",
     "text": [
      "Converted ERR7423362 to /mnt/LaCIE/skolla/sc-heart-consortium/ncbi-sra/h5ad_files/ERR7423362_GeneFull_raw.h5ad\n"
     ]
    },
    {
     "name": "stderr",
     "output_type": "stream",
     "text": [
      "/home/skolla/miniforge3/envs/scanpy/lib/python3.12/site-packages/anndata/_core/anndata.py:1820: UserWarning: Variable names are not unique. To make them unique, call `.var_names_make_unique`.\n",
      "  utils.warn_names_duplicates(\"var\")\n",
      "/home/skolla/miniforge3/envs/scanpy/lib/python3.12/site-packages/anndata/utils.py:260: UserWarning: Suffix used (-[0-9]+) to deduplicate index values may make index values difficult to interpret. There values with a similar suffixes in the index. Consider using a different delimiter by passing `join={delimiter}`Example key collisions generated by the make_index_unique algorithm: ['SNORD116-1', 'SNORD116-2', 'SNORD116-3', 'SNORD116-4', 'SNORD116-5']\n",
      "  warnings.warn(\n"
     ]
    },
    {
     "name": "stdout",
     "output_type": "stream",
     "text": [
      "Converted ERR7423372 to /mnt/LaCIE/skolla/sc-heart-consortium/ncbi-sra/h5ad_files/ERR7423372_GeneFull_raw.h5ad\n"
     ]
    },
    {
     "name": "stderr",
     "output_type": "stream",
     "text": [
      "/home/skolla/miniforge3/envs/scanpy/lib/python3.12/site-packages/anndata/_core/anndata.py:1820: UserWarning: Variable names are not unique. To make them unique, call `.var_names_make_unique`.\n",
      "  utils.warn_names_duplicates(\"var\")\n",
      "/home/skolla/miniforge3/envs/scanpy/lib/python3.12/site-packages/anndata/utils.py:260: UserWarning: Suffix used (-[0-9]+) to deduplicate index values may make index values difficult to interpret. There values with a similar suffixes in the index. Consider using a different delimiter by passing `join={delimiter}`Example key collisions generated by the make_index_unique algorithm: ['SNORD116-1', 'SNORD116-2', 'SNORD116-3', 'SNORD116-4', 'SNORD116-5']\n",
      "  warnings.warn(\n"
     ]
    },
    {
     "name": "stdout",
     "output_type": "stream",
     "text": [
      "Converted ERR7423384 to /mnt/LaCIE/skolla/sc-heart-consortium/ncbi-sra/h5ad_files/ERR7423384_GeneFull_raw.h5ad\n",
      "Required files missing in /mnt/LaCIE/skolla/sc-heart-consortium/ncbi-sra/mapped_files/ERR7423386/outputSolo.out/GeneFull/raw for ERR7423386. Skipping.\n",
      "Required files missing in /mnt/LaCIE/skolla/sc-heart-consortium/ncbi-sra/mapped_files/ERR7423420/outputSolo.out/GeneFull/raw for ERR7423420. Skipping.\n",
      "Required files missing in /mnt/LaCIE/skolla/sc-heart-consortium/ncbi-sra/mapped_files/ERR7423423/outputSolo.out/GeneFull/raw for ERR7423423. Skipping.\n",
      "Required files missing in /mnt/LaCIE/skolla/sc-heart-consortium/ncbi-sra/mapped_files/ERR7423466/outputSolo.out/GeneFull/raw for ERR7423466. Skipping.\n",
      "Required files missing in /mnt/LaCIE/skolla/sc-heart-consortium/ncbi-sra/mapped_files/ERR7423467/outputSolo.out/GeneFull/raw for ERR7423467. Skipping.\n",
      "Required files missing in /mnt/LaCIE/skolla/sc-heart-consortium/ncbi-sra/mapped_files/ERR7423472/outputSolo.out/GeneFull/raw for ERR7423472. Skipping.\n",
      "Required files missing in /mnt/LaCIE/skolla/sc-heart-consortium/ncbi-sra/mapped_files/ERR7423485/outputSolo.out/GeneFull/raw for ERR7423485. Skipping.\n",
      "Required files missing in /mnt/LaCIE/skolla/sc-heart-consortium/ncbi-sra/mapped_files/ERR6449746/outputSolo.out/GeneFull/raw for ERR6449746. Skipping.\n",
      "Required files missing in /mnt/LaCIE/skolla/sc-heart-consortium/ncbi-sra/mapped_files/ERR6449747/outputSolo.out/GeneFull/raw for ERR6449747. Skipping.\n",
      "Required files missing in /mnt/LaCIE/skolla/sc-heart-consortium/ncbi-sra/mapped_files/ERR6449750/outputSolo.out/GeneFull/raw for ERR6449750. Skipping.\n",
      "Required files missing in /mnt/LaCIE/skolla/sc-heart-consortium/ncbi-sra/mapped_files/ERR6449751/outputSolo.out/GeneFull/raw for ERR6449751. Skipping.\n",
      "Required files missing in /mnt/LaCIE/skolla/sc-heart-consortium/ncbi-sra/mapped_files/ERR6449756/outputSolo.out/GeneFull/raw for ERR6449756. Skipping.\n",
      "Required files missing in /mnt/LaCIE/skolla/sc-heart-consortium/ncbi-sra/mapped_files/ERR6449758/outputSolo.out/GeneFull/raw for ERR6449758. Skipping.\n",
      "Required files missing in /mnt/LaCIE/skolla/sc-heart-consortium/ncbi-sra/mapped_files/ERR6449761/outputSolo.out/GeneFull/raw for ERR6449761. Skipping.\n",
      "Required files missing in /mnt/LaCIE/skolla/sc-heart-consortium/ncbi-sra/mapped_files/ERR6449763/outputSolo.out/GeneFull/raw for ERR6449763. Skipping.\n",
      "Required files missing in /mnt/LaCIE/skolla/sc-heart-consortium/ncbi-sra/mapped_files/ERR6449765/outputSolo.out/GeneFull/raw for ERR6449765. Skipping.\n",
      "Required files missing in /mnt/LaCIE/skolla/sc-heart-consortium/ncbi-sra/mapped_files/ERR6449767/outputSolo.out/GeneFull/raw for ERR6449767. Skipping.\n",
      "Required files missing in /mnt/LaCIE/skolla/sc-heart-consortium/ncbi-sra/mapped_files/ERR6449775/outputSolo.out/GeneFull/raw for ERR6449775. Skipping.\n",
      "Required files missing in /mnt/LaCIE/skolla/sc-heart-consortium/ncbi-sra/mapped_files/ERR6449783/outputSolo.out/GeneFull/raw for ERR6449783. Skipping.\n",
      "Required files missing in /mnt/LaCIE/skolla/sc-heart-consortium/ncbi-sra/mapped_files/ERR6449789/outputSolo.out/GeneFull/raw for ERR6449789. Skipping.\n",
      "Required files missing in /mnt/LaCIE/skolla/sc-heart-consortium/ncbi-sra/mapped_files/ERR6449790/outputSolo.out/GeneFull/raw for ERR6449790. Skipping.\n",
      "Required files missing in /mnt/LaCIE/skolla/sc-heart-consortium/ncbi-sra/mapped_files/ERR6449792/outputSolo.out/GeneFull/raw for ERR6449792. Skipping.\n",
      "Required files missing in /mnt/LaCIE/skolla/sc-heart-consortium/ncbi-sra/mapped_files/ERR6449793/outputSolo.out/GeneFull/raw for ERR6449793. Skipping.\n",
      "Required files missing in /mnt/LaCIE/skolla/sc-heart-consortium/ncbi-sra/mapped_files/ERR6449799/outputSolo.out/GeneFull/raw for ERR6449799. Skipping.\n",
      "Required files missing in /mnt/LaCIE/skolla/sc-heart-consortium/ncbi-sra/mapped_files/ERR6449808/outputSolo.out/GeneFull/raw for ERR6449808. Skipping.\n",
      "Required files missing in /mnt/LaCIE/skolla/sc-heart-consortium/ncbi-sra/mapped_files/ERR6449810/outputSolo.out/GeneFull/raw for ERR6449810. Skipping.\n",
      "Required files missing in /mnt/LaCIE/skolla/sc-heart-consortium/ncbi-sra/mapped_files/ERR6449815/outputSolo.out/GeneFull/raw for ERR6449815. Skipping.\n",
      "Required files missing in /mnt/LaCIE/skolla/sc-heart-consortium/ncbi-sra/mapped_files/ERR6449818/outputSolo.out/GeneFull/raw for ERR6449818. Skipping.\n",
      "Required files missing in /mnt/LaCIE/skolla/sc-heart-consortium/ncbi-sra/mapped_files/ERR6449822/outputSolo.out/GeneFull/raw for ERR6449822. Skipping.\n",
      "Required files missing in /mnt/LaCIE/skolla/sc-heart-consortium/ncbi-sra/mapped_files/ERR6449824/outputSolo.out/GeneFull/raw for ERR6449824. Skipping.\n",
      "Required files missing in /mnt/LaCIE/skolla/sc-heart-consortium/ncbi-sra/mapped_files/ERR6449826/outputSolo.out/GeneFull/raw for ERR6449826. Skipping.\n",
      "Required files missing in /mnt/LaCIE/skolla/sc-heart-consortium/ncbi-sra/mapped_files/ERR6449828/outputSolo.out/GeneFull/raw for ERR6449828. Skipping.\n",
      "Required files missing in /mnt/LaCIE/skolla/sc-heart-consortium/ncbi-sra/mapped_files/ERR6449829/outputSolo.out/GeneFull/raw for ERR6449829. Skipping.\n",
      "Required files missing in /mnt/LaCIE/skolla/sc-heart-consortium/ncbi-sra/mapped_files/ERR6449831/outputSolo.out/GeneFull/raw for ERR6449831. Skipping.\n",
      "Required files missing in /mnt/LaCIE/skolla/sc-heart-consortium/ncbi-sra/mapped_files/ERR6449835/outputSolo.out/GeneFull/raw for ERR6449835. Skipping.\n",
      "Required files missing in /mnt/LaCIE/skolla/sc-heart-consortium/ncbi-sra/mapped_files/ERR6449837/outputSolo.out/GeneFull/raw for ERR6449837. Skipping.\n",
      "Required files missing in /mnt/LaCIE/skolla/sc-heart-consortium/ncbi-sra/mapped_files/ERR6449840/outputSolo.out/GeneFull/raw for ERR6449840. Skipping.\n",
      "Required files missing in /mnt/LaCIE/skolla/sc-heart-consortium/ncbi-sra/mapped_files/ERR6449845/outputSolo.out/GeneFull/raw for ERR6449845. Skipping.\n",
      "Required files missing in /mnt/LaCIE/skolla/sc-heart-consortium/ncbi-sra/mapped_files/ERR6449846/outputSolo.out/GeneFull/raw for ERR6449846. Skipping.\n",
      "Required files missing in /mnt/LaCIE/skolla/sc-heart-consortium/ncbi-sra/mapped_files/ERR6449849/outputSolo.out/GeneFull/raw for ERR6449849. Skipping.\n",
      "Required files missing in /mnt/LaCIE/skolla/sc-heart-consortium/ncbi-sra/mapped_files/ERR6449852/outputSolo.out/GeneFull/raw for ERR6449852. Skipping.\n",
      "Required files missing in /mnt/LaCIE/skolla/sc-heart-consortium/ncbi-sra/mapped_files/ERR6449853/outputSolo.out/GeneFull/raw for ERR6449853. Skipping.\n",
      "Required files missing in /mnt/LaCIE/skolla/sc-heart-consortium/ncbi-sra/mapped_files/ERR6449862/outputSolo.out/GeneFull/raw for ERR6449862. Skipping.\n",
      "Required files missing in /mnt/LaCIE/skolla/sc-heart-consortium/ncbi-sra/mapped_files/ERR6449866/outputSolo.out/GeneFull/raw for ERR6449866. Skipping.\n",
      "Required files missing in /mnt/LaCIE/skolla/sc-heart-consortium/ncbi-sra/mapped_files/ERR6449871/outputSolo.out/GeneFull/raw for ERR6449871. Skipping.\n"
     ]
    },
    {
     "name": "stderr",
     "output_type": "stream",
     "text": [
      "/home/skolla/miniforge3/envs/scanpy/lib/python3.12/site-packages/anndata/_core/anndata.py:1820: UserWarning: Variable names are not unique. To make them unique, call `.var_names_make_unique`.\n",
      "  utils.warn_names_duplicates(\"var\")\n",
      "/home/skolla/miniforge3/envs/scanpy/lib/python3.12/site-packages/anndata/utils.py:260: UserWarning: Suffix used (-[0-9]+) to deduplicate index values may make index values difficult to interpret. There values with a similar suffixes in the index. Consider using a different delimiter by passing `join={delimiter}`Example key collisions generated by the make_index_unique algorithm: ['SNORD116-1', 'SNORD116-2', 'SNORD116-3', 'SNORD116-4', 'SNORD116-5']\n",
      "  warnings.warn(\n"
     ]
    },
    {
     "name": "stdout",
     "output_type": "stream",
     "text": [
      "Converted ERR6449872 to /mnt/LaCIE/skolla/sc-heart-consortium/ncbi-sra/h5ad_files/ERR6449872_GeneFull_raw.h5ad\n",
      "Required files missing in /mnt/LaCIE/skolla/sc-heart-consortium/ncbi-sra/mapped_files/ERR6449874/outputSolo.out/GeneFull/raw for ERR6449874. Skipping.\n"
     ]
    },
    {
     "name": "stderr",
     "output_type": "stream",
     "text": [
      "/home/skolla/miniforge3/envs/scanpy/lib/python3.12/site-packages/anndata/_core/anndata.py:1820: UserWarning: Variable names are not unique. To make them unique, call `.var_names_make_unique`.\n",
      "  utils.warn_names_duplicates(\"var\")\n",
      "/home/skolla/miniforge3/envs/scanpy/lib/python3.12/site-packages/anndata/utils.py:260: UserWarning: Suffix used (-[0-9]+) to deduplicate index values may make index values difficult to interpret. There values with a similar suffixes in the index. Consider using a different delimiter by passing `join={delimiter}`Example key collisions generated by the make_index_unique algorithm: ['SNORD116-1', 'SNORD116-2', 'SNORD116-3', 'SNORD116-4', 'SNORD116-5']\n",
      "  warnings.warn(\n"
     ]
    },
    {
     "name": "stdout",
     "output_type": "stream",
     "text": [
      "Converted ERR6449878 to /mnt/LaCIE/skolla/sc-heart-consortium/ncbi-sra/h5ad_files/ERR6449878_GeneFull_raw.h5ad\n",
      "Required files missing in /mnt/LaCIE/skolla/sc-heart-consortium/ncbi-sra/mapped_files/ERR6449879/outputSolo.out/GeneFull/raw for ERR6449879. Skipping.\n"
     ]
    },
    {
     "name": "stderr",
     "output_type": "stream",
     "text": [
      "/home/skolla/miniforge3/envs/scanpy/lib/python3.12/site-packages/anndata/_core/anndata.py:1820: UserWarning: Variable names are not unique. To make them unique, call `.var_names_make_unique`.\n",
      "  utils.warn_names_duplicates(\"var\")\n",
      "/home/skolla/miniforge3/envs/scanpy/lib/python3.12/site-packages/anndata/utils.py:260: UserWarning: Suffix used (-[0-9]+) to deduplicate index values may make index values difficult to interpret. There values with a similar suffixes in the index. Consider using a different delimiter by passing `join={delimiter}`Example key collisions generated by the make_index_unique algorithm: ['SNORD116-1', 'SNORD116-2', 'SNORD116-3', 'SNORD116-4', 'SNORD116-5']\n",
      "  warnings.warn(\n"
     ]
    },
    {
     "name": "stdout",
     "output_type": "stream",
     "text": [
      "Converted ERR6449884 to /mnt/LaCIE/skolla/sc-heart-consortium/ncbi-sra/h5ad_files/ERR6449884_GeneFull_raw.h5ad\n"
     ]
    },
    {
     "name": "stderr",
     "output_type": "stream",
     "text": [
      "/home/skolla/miniforge3/envs/scanpy/lib/python3.12/site-packages/anndata/_core/anndata.py:1820: UserWarning: Variable names are not unique. To make them unique, call `.var_names_make_unique`.\n",
      "  utils.warn_names_duplicates(\"var\")\n",
      "/home/skolla/miniforge3/envs/scanpy/lib/python3.12/site-packages/anndata/utils.py:260: UserWarning: Suffix used (-[0-9]+) to deduplicate index values may make index values difficult to interpret. There values with a similar suffixes in the index. Consider using a different delimiter by passing `join={delimiter}`Example key collisions generated by the make_index_unique algorithm: ['SNORD116-1', 'SNORD116-2', 'SNORD116-3', 'SNORD116-4', 'SNORD116-5']\n",
      "  warnings.warn(\n"
     ]
    },
    {
     "name": "stdout",
     "output_type": "stream",
     "text": [
      "Converted ERR6449888 to /mnt/LaCIE/skolla/sc-heart-consortium/ncbi-sra/h5ad_files/ERR6449888_GeneFull_raw.h5ad\n"
     ]
    },
    {
     "name": "stderr",
     "output_type": "stream",
     "text": [
      "/home/skolla/miniforge3/envs/scanpy/lib/python3.12/site-packages/anndata/_core/anndata.py:1820: UserWarning: Variable names are not unique. To make them unique, call `.var_names_make_unique`.\n",
      "  utils.warn_names_duplicates(\"var\")\n",
      "/home/skolla/miniforge3/envs/scanpy/lib/python3.12/site-packages/anndata/utils.py:260: UserWarning: Suffix used (-[0-9]+) to deduplicate index values may make index values difficult to interpret. There values with a similar suffixes in the index. Consider using a different delimiter by passing `join={delimiter}`Example key collisions generated by the make_index_unique algorithm: ['SNORD116-1', 'SNORD116-2', 'SNORD116-3', 'SNORD116-4', 'SNORD116-5']\n",
      "  warnings.warn(\n"
     ]
    },
    {
     "name": "stdout",
     "output_type": "stream",
     "text": [
      "Converted ERR6449892 to /mnt/LaCIE/skolla/sc-heart-consortium/ncbi-sra/h5ad_files/ERR6449892_GeneFull_raw.h5ad\n"
     ]
    },
    {
     "name": "stderr",
     "output_type": "stream",
     "text": [
      "/home/skolla/miniforge3/envs/scanpy/lib/python3.12/site-packages/anndata/_core/anndata.py:1820: UserWarning: Variable names are not unique. To make them unique, call `.var_names_make_unique`.\n",
      "  utils.warn_names_duplicates(\"var\")\n",
      "/home/skolla/miniforge3/envs/scanpy/lib/python3.12/site-packages/anndata/utils.py:260: UserWarning: Suffix used (-[0-9]+) to deduplicate index values may make index values difficult to interpret. There values with a similar suffixes in the index. Consider using a different delimiter by passing `join={delimiter}`Example key collisions generated by the make_index_unique algorithm: ['SNORD116-1', 'SNORD116-2', 'SNORD116-3', 'SNORD116-4', 'SNORD116-5']\n",
      "  warnings.warn(\n"
     ]
    },
    {
     "name": "stdout",
     "output_type": "stream",
     "text": [
      "Converted ERR6449894 to /mnt/LaCIE/skolla/sc-heart-consortium/ncbi-sra/h5ad_files/ERR6449894_GeneFull_raw.h5ad\n",
      "Required files missing in /mnt/LaCIE/skolla/sc-heart-consortium/ncbi-sra/mapped_files/ERR6449902/outputSolo.out/GeneFull/raw for ERR6449902. Skipping.\n"
     ]
    },
    {
     "name": "stderr",
     "output_type": "stream",
     "text": [
      "/home/skolla/miniforge3/envs/scanpy/lib/python3.12/site-packages/anndata/_core/anndata.py:1820: UserWarning: Variable names are not unique. To make them unique, call `.var_names_make_unique`.\n",
      "  utils.warn_names_duplicates(\"var\")\n",
      "/home/skolla/miniforge3/envs/scanpy/lib/python3.12/site-packages/anndata/utils.py:260: UserWarning: Suffix used (-[0-9]+) to deduplicate index values may make index values difficult to interpret. There values with a similar suffixes in the index. Consider using a different delimiter by passing `join={delimiter}`Example key collisions generated by the make_index_unique algorithm: ['SNORD116-1', 'SNORD116-2', 'SNORD116-3', 'SNORD116-4', 'SNORD116-5']\n",
      "  warnings.warn(\n"
     ]
    },
    {
     "name": "stdout",
     "output_type": "stream",
     "text": [
      "Converted ERR6449905 to /mnt/LaCIE/skolla/sc-heart-consortium/ncbi-sra/h5ad_files/ERR6449905_GeneFull_raw.h5ad\n"
     ]
    },
    {
     "name": "stderr",
     "output_type": "stream",
     "text": [
      "/home/skolla/miniforge3/envs/scanpy/lib/python3.12/site-packages/anndata/_core/anndata.py:1820: UserWarning: Variable names are not unique. To make them unique, call `.var_names_make_unique`.\n",
      "  utils.warn_names_duplicates(\"var\")\n",
      "/home/skolla/miniforge3/envs/scanpy/lib/python3.12/site-packages/anndata/utils.py:260: UserWarning: Suffix used (-[0-9]+) to deduplicate index values may make index values difficult to interpret. There values with a similar suffixes in the index. Consider using a different delimiter by passing `join={delimiter}`Example key collisions generated by the make_index_unique algorithm: ['SNORD116-1', 'SNORD116-2', 'SNORD116-3', 'SNORD116-4', 'SNORD116-5']\n",
      "  warnings.warn(\n"
     ]
    },
    {
     "name": "stdout",
     "output_type": "stream",
     "text": [
      "Converted ERR6449912 to /mnt/LaCIE/skolla/sc-heart-consortium/ncbi-sra/h5ad_files/ERR6449912_GeneFull_raw.h5ad\n",
      "Required files missing in /mnt/LaCIE/skolla/sc-heart-consortium/ncbi-sra/mapped_files/ERR6449918/outputSolo.out/GeneFull/raw for ERR6449918. Skipping.\n"
     ]
    },
    {
     "name": "stderr",
     "output_type": "stream",
     "text": [
      "/home/skolla/miniforge3/envs/scanpy/lib/python3.12/site-packages/anndata/_core/anndata.py:1820: UserWarning: Variable names are not unique. To make them unique, call `.var_names_make_unique`.\n",
      "  utils.warn_names_duplicates(\"var\")\n",
      "/home/skolla/miniforge3/envs/scanpy/lib/python3.12/site-packages/anndata/utils.py:260: UserWarning: Suffix used (-[0-9]+) to deduplicate index values may make index values difficult to interpret. There values with a similar suffixes in the index. Consider using a different delimiter by passing `join={delimiter}`Example key collisions generated by the make_index_unique algorithm: ['SNORD116-1', 'SNORD116-2', 'SNORD116-3', 'SNORD116-4', 'SNORD116-5']\n",
      "  warnings.warn(\n"
     ]
    },
    {
     "name": "stdout",
     "output_type": "stream",
     "text": [
      "Converted ERR6449924 to /mnt/LaCIE/skolla/sc-heart-consortium/ncbi-sra/h5ad_files/ERR6449924_GeneFull_raw.h5ad\n"
     ]
    },
    {
     "name": "stderr",
     "output_type": "stream",
     "text": [
      "/home/skolla/miniforge3/envs/scanpy/lib/python3.12/site-packages/anndata/_core/anndata.py:1820: UserWarning: Variable names are not unique. To make them unique, call `.var_names_make_unique`.\n",
      "  utils.warn_names_duplicates(\"var\")\n",
      "/home/skolla/miniforge3/envs/scanpy/lib/python3.12/site-packages/anndata/utils.py:260: UserWarning: Suffix used (-[0-9]+) to deduplicate index values may make index values difficult to interpret. There values with a similar suffixes in the index. Consider using a different delimiter by passing `join={delimiter}`Example key collisions generated by the make_index_unique algorithm: ['SNORD116-1', 'SNORD116-2', 'SNORD116-3', 'SNORD116-4', 'SNORD116-5']\n",
      "  warnings.warn(\n"
     ]
    },
    {
     "name": "stdout",
     "output_type": "stream",
     "text": [
      "Converted ERR6449926 to /mnt/LaCIE/skolla/sc-heart-consortium/ncbi-sra/h5ad_files/ERR6449926_GeneFull_raw.h5ad\n"
     ]
    },
    {
     "name": "stderr",
     "output_type": "stream",
     "text": [
      "/home/skolla/miniforge3/envs/scanpy/lib/python3.12/site-packages/anndata/_core/anndata.py:1820: UserWarning: Variable names are not unique. To make them unique, call `.var_names_make_unique`.\n",
      "  utils.warn_names_duplicates(\"var\")\n",
      "/home/skolla/miniforge3/envs/scanpy/lib/python3.12/site-packages/anndata/utils.py:260: UserWarning: Suffix used (-[0-9]+) to deduplicate index values may make index values difficult to interpret. There values with a similar suffixes in the index. Consider using a different delimiter by passing `join={delimiter}`Example key collisions generated by the make_index_unique algorithm: ['SNORD116-1', 'SNORD116-2', 'SNORD116-3', 'SNORD116-4', 'SNORD116-5']\n",
      "  warnings.warn(\n"
     ]
    },
    {
     "name": "stdout",
     "output_type": "stream",
     "text": [
      "Converted ERR6449934 to /mnt/LaCIE/skolla/sc-heart-consortium/ncbi-sra/h5ad_files/ERR6449934_GeneFull_raw.h5ad\n"
     ]
    },
    {
     "name": "stderr",
     "output_type": "stream",
     "text": [
      "/home/skolla/miniforge3/envs/scanpy/lib/python3.12/site-packages/anndata/_core/anndata.py:1820: UserWarning: Variable names are not unique. To make them unique, call `.var_names_make_unique`.\n",
      "  utils.warn_names_duplicates(\"var\")\n",
      "/home/skolla/miniforge3/envs/scanpy/lib/python3.12/site-packages/anndata/utils.py:260: UserWarning: Suffix used (-[0-9]+) to deduplicate index values may make index values difficult to interpret. There values with a similar suffixes in the index. Consider using a different delimiter by passing `join={delimiter}`Example key collisions generated by the make_index_unique algorithm: ['SNORD116-1', 'SNORD116-2', 'SNORD116-3', 'SNORD116-4', 'SNORD116-5']\n",
      "  warnings.warn(\n"
     ]
    },
    {
     "name": "stdout",
     "output_type": "stream",
     "text": [
      "Converted ERR6449936 to /mnt/LaCIE/skolla/sc-heart-consortium/ncbi-sra/h5ad_files/ERR6449936_GeneFull_raw.h5ad\n"
     ]
    },
    {
     "name": "stderr",
     "output_type": "stream",
     "text": [
      "/home/skolla/miniforge3/envs/scanpy/lib/python3.12/site-packages/anndata/_core/anndata.py:1820: UserWarning: Variable names are not unique. To make them unique, call `.var_names_make_unique`.\n",
      "  utils.warn_names_duplicates(\"var\")\n",
      "/home/skolla/miniforge3/envs/scanpy/lib/python3.12/site-packages/anndata/utils.py:260: UserWarning: Suffix used (-[0-9]+) to deduplicate index values may make index values difficult to interpret. There values with a similar suffixes in the index. Consider using a different delimiter by passing `join={delimiter}`Example key collisions generated by the make_index_unique algorithm: ['SNORD116-1', 'SNORD116-2', 'SNORD116-3', 'SNORD116-4', 'SNORD116-5']\n",
      "  warnings.warn(\n"
     ]
    },
    {
     "name": "stdout",
     "output_type": "stream",
     "text": [
      "Converted ERR6449938 to /mnt/LaCIE/skolla/sc-heart-consortium/ncbi-sra/h5ad_files/ERR6449938_GeneFull_raw.h5ad\n"
     ]
    },
    {
     "name": "stderr",
     "output_type": "stream",
     "text": [
      "/home/skolla/miniforge3/envs/scanpy/lib/python3.12/site-packages/anndata/_core/anndata.py:1820: UserWarning: Variable names are not unique. To make them unique, call `.var_names_make_unique`.\n",
      "  utils.warn_names_duplicates(\"var\")\n",
      "/home/skolla/miniforge3/envs/scanpy/lib/python3.12/site-packages/anndata/utils.py:260: UserWarning: Suffix used (-[0-9]+) to deduplicate index values may make index values difficult to interpret. There values with a similar suffixes in the index. Consider using a different delimiter by passing `join={delimiter}`Example key collisions generated by the make_index_unique algorithm: ['SNORD116-1', 'SNORD116-2', 'SNORD116-3', 'SNORD116-4', 'SNORD116-5']\n",
      "  warnings.warn(\n"
     ]
    },
    {
     "name": "stdout",
     "output_type": "stream",
     "text": [
      "Converted ERR6449942 to /mnt/LaCIE/skolla/sc-heart-consortium/ncbi-sra/h5ad_files/ERR6449942_GeneFull_raw.h5ad\n",
      "Required files missing in /mnt/LaCIE/skolla/sc-heart-consortium/ncbi-sra/mapped_files/ERR6449944/outputSolo.out/GeneFull/raw for ERR6449944. Skipping.\n"
     ]
    },
    {
     "name": "stderr",
     "output_type": "stream",
     "text": [
      "/home/skolla/miniforge3/envs/scanpy/lib/python3.12/site-packages/anndata/_core/anndata.py:1820: UserWarning: Variable names are not unique. To make them unique, call `.var_names_make_unique`.\n",
      "  utils.warn_names_duplicates(\"var\")\n",
      "/home/skolla/miniforge3/envs/scanpy/lib/python3.12/site-packages/anndata/utils.py:260: UserWarning: Suffix used (-[0-9]+) to deduplicate index values may make index values difficult to interpret. There values with a similar suffixes in the index. Consider using a different delimiter by passing `join={delimiter}`Example key collisions generated by the make_index_unique algorithm: ['SNORD116-1', 'SNORD116-2', 'SNORD116-3', 'SNORD116-4', 'SNORD116-5']\n",
      "  warnings.warn(\n"
     ]
    },
    {
     "name": "stdout",
     "output_type": "stream",
     "text": [
      "Converted ERR6449945 to /mnt/LaCIE/skolla/sc-heart-consortium/ncbi-sra/h5ad_files/ERR6449945_GeneFull_raw.h5ad\n"
     ]
    },
    {
     "name": "stderr",
     "output_type": "stream",
     "text": [
      "/home/skolla/miniforge3/envs/scanpy/lib/python3.12/site-packages/anndata/_core/anndata.py:1820: UserWarning: Variable names are not unique. To make them unique, call `.var_names_make_unique`.\n",
      "  utils.warn_names_duplicates(\"var\")\n",
      "/home/skolla/miniforge3/envs/scanpy/lib/python3.12/site-packages/anndata/utils.py:260: UserWarning: Suffix used (-[0-9]+) to deduplicate index values may make index values difficult to interpret. There values with a similar suffixes in the index. Consider using a different delimiter by passing `join={delimiter}`Example key collisions generated by the make_index_unique algorithm: ['SNORD116-1', 'SNORD116-2', 'SNORD116-3', 'SNORD116-4', 'SNORD116-5']\n",
      "  warnings.warn(\n"
     ]
    },
    {
     "name": "stdout",
     "output_type": "stream",
     "text": [
      "Converted ERR6449950 to /mnt/LaCIE/skolla/sc-heart-consortium/ncbi-sra/h5ad_files/ERR6449950_GeneFull_raw.h5ad\n"
     ]
    },
    {
     "name": "stderr",
     "output_type": "stream",
     "text": [
      "/home/skolla/miniforge3/envs/scanpy/lib/python3.12/site-packages/anndata/_core/anndata.py:1820: UserWarning: Variable names are not unique. To make them unique, call `.var_names_make_unique`.\n",
      "  utils.warn_names_duplicates(\"var\")\n",
      "/home/skolla/miniforge3/envs/scanpy/lib/python3.12/site-packages/anndata/utils.py:260: UserWarning: Suffix used (-[0-9]+) to deduplicate index values may make index values difficult to interpret. There values with a similar suffixes in the index. Consider using a different delimiter by passing `join={delimiter}`Example key collisions generated by the make_index_unique algorithm: ['SNORD116-1', 'SNORD116-2', 'SNORD116-3', 'SNORD116-4', 'SNORD116-5']\n",
      "  warnings.warn(\n"
     ]
    },
    {
     "name": "stdout",
     "output_type": "stream",
     "text": [
      "Converted ERR6449953 to /mnt/LaCIE/skolla/sc-heart-consortium/ncbi-sra/h5ad_files/ERR6449953_GeneFull_raw.h5ad\n"
     ]
    },
    {
     "name": "stderr",
     "output_type": "stream",
     "text": [
      "/home/skolla/miniforge3/envs/scanpy/lib/python3.12/site-packages/anndata/_core/anndata.py:1820: UserWarning: Variable names are not unique. To make them unique, call `.var_names_make_unique`.\n",
      "  utils.warn_names_duplicates(\"var\")\n",
      "/home/skolla/miniforge3/envs/scanpy/lib/python3.12/site-packages/anndata/utils.py:260: UserWarning: Suffix used (-[0-9]+) to deduplicate index values may make index values difficult to interpret. There values with a similar suffixes in the index. Consider using a different delimiter by passing `join={delimiter}`Example key collisions generated by the make_index_unique algorithm: ['SNORD116-1', 'SNORD116-2', 'SNORD116-3', 'SNORD116-4', 'SNORD116-5']\n",
      "  warnings.warn(\n"
     ]
    },
    {
     "name": "stdout",
     "output_type": "stream",
     "text": [
      "Converted ERR6449954 to /mnt/LaCIE/skolla/sc-heart-consortium/ncbi-sra/h5ad_files/ERR6449954_GeneFull_raw.h5ad\n",
      "Required files missing in /mnt/LaCIE/skolla/sc-heart-consortium/ncbi-sra/mapped_files/ERR6449955/outputSolo.out/GeneFull/raw for ERR6449955. Skipping.\n"
     ]
    },
    {
     "name": "stderr",
     "output_type": "stream",
     "text": [
      "/home/skolla/miniforge3/envs/scanpy/lib/python3.12/site-packages/anndata/_core/anndata.py:1820: UserWarning: Variable names are not unique. To make them unique, call `.var_names_make_unique`.\n",
      "  utils.warn_names_duplicates(\"var\")\n",
      "/home/skolla/miniforge3/envs/scanpy/lib/python3.12/site-packages/anndata/utils.py:260: UserWarning: Suffix used (-[0-9]+) to deduplicate index values may make index values difficult to interpret. There values with a similar suffixes in the index. Consider using a different delimiter by passing `join={delimiter}`Example key collisions generated by the make_index_unique algorithm: ['SNORD116-1', 'SNORD116-2', 'SNORD116-3', 'SNORD116-4', 'SNORD116-5']\n",
      "  warnings.warn(\n"
     ]
    },
    {
     "name": "stdout",
     "output_type": "stream",
     "text": [
      "Converted ERR6449959 to /mnt/LaCIE/skolla/sc-heart-consortium/ncbi-sra/h5ad_files/ERR6449959_GeneFull_raw.h5ad\n"
     ]
    },
    {
     "name": "stderr",
     "output_type": "stream",
     "text": [
      "/home/skolla/miniforge3/envs/scanpy/lib/python3.12/site-packages/anndata/_core/anndata.py:1820: UserWarning: Variable names are not unique. To make them unique, call `.var_names_make_unique`.\n",
      "  utils.warn_names_duplicates(\"var\")\n",
      "/home/skolla/miniforge3/envs/scanpy/lib/python3.12/site-packages/anndata/utils.py:260: UserWarning: Suffix used (-[0-9]+) to deduplicate index values may make index values difficult to interpret. There values with a similar suffixes in the index. Consider using a different delimiter by passing `join={delimiter}`Example key collisions generated by the make_index_unique algorithm: ['SNORD116-1', 'SNORD116-2', 'SNORD116-3', 'SNORD116-4', 'SNORD116-5']\n",
      "  warnings.warn(\n"
     ]
    },
    {
     "name": "stdout",
     "output_type": "stream",
     "text": [
      "Converted ERR6449961 to /mnt/LaCIE/skolla/sc-heart-consortium/ncbi-sra/h5ad_files/ERR6449961_GeneFull_raw.h5ad\n",
      "Required files missing in /mnt/LaCIE/skolla/sc-heart-consortium/ncbi-sra/mapped_files/ERR6449962/outputSolo.out/GeneFull/raw for ERR6449962. Skipping.\n",
      "Required files missing in /mnt/LaCIE/skolla/sc-heart-consortium/ncbi-sra/mapped_files/ERR6449964/outputSolo.out/GeneFull/raw for ERR6449964. Skipping.\n",
      "Required files missing in /mnt/LaCIE/skolla/sc-heart-consortium/ncbi-sra/mapped_files/ERR6449965/outputSolo.out/GeneFull/raw for ERR6449965. Skipping.\n",
      "Required files missing in /mnt/LaCIE/skolla/sc-heart-consortium/ncbi-sra/mapped_files/ERR6449970/outputSolo.out/GeneFull/raw for ERR6449970. Skipping.\n",
      "Required files missing in /mnt/LaCIE/skolla/sc-heart-consortium/ncbi-sra/mapped_files/ERR6449971/outputSolo.out/GeneFull/raw for ERR6449971. Skipping.\n",
      "Required files missing in /mnt/LaCIE/skolla/sc-heart-consortium/ncbi-sra/mapped_files/ERR6449976/outputSolo.out/GeneFull/raw for ERR6449976. Skipping.\n",
      "Required files missing in /mnt/LaCIE/skolla/sc-heart-consortium/ncbi-sra/mapped_files/ERR6449982/outputSolo.out/GeneFull/raw for ERR6449982. Skipping.\n",
      "Required files missing in /mnt/LaCIE/skolla/sc-heart-consortium/ncbi-sra/mapped_files/ERR6449985/outputSolo.out/GeneFull/raw for ERR6449985. Skipping.\n",
      "Required files missing in /mnt/LaCIE/skolla/sc-heart-consortium/ncbi-sra/mapped_files/ERR6449989/outputSolo.out/GeneFull/raw for ERR6449989. Skipping.\n",
      "Required files missing in /mnt/LaCIE/skolla/sc-heart-consortium/ncbi-sra/mapped_files/ERR6449992/outputSolo.out/GeneFull/raw for ERR6449992. Skipping.\n",
      "Required files missing in /mnt/LaCIE/skolla/sc-heart-consortium/ncbi-sra/mapped_files/ERR6449996/outputSolo.out/GeneFull/raw for ERR6449996. Skipping.\n",
      "Required files missing in /mnt/LaCIE/skolla/sc-heart-consortium/ncbi-sra/mapped_files/ERR6449997/outputSolo.out/GeneFull/raw for ERR6449997. Skipping.\n",
      "Required files missing in /mnt/LaCIE/skolla/sc-heart-consortium/ncbi-sra/mapped_files/ERR6449998/outputSolo.out/GeneFull/raw for ERR6449998. Skipping.\n",
      "Required files missing in /mnt/LaCIE/skolla/sc-heart-consortium/ncbi-sra/mapped_files/ERR6449999/outputSolo.out/GeneFull/raw for ERR6449999. Skipping.\n",
      "Required files missing in /mnt/LaCIE/skolla/sc-heart-consortium/ncbi-sra/mapped_files/ERR7423235/outputSolo.out/GeneFull/raw for ERR7423235. Skipping.\n",
      "Required files missing in /mnt/LaCIE/skolla/sc-heart-consortium/ncbi-sra/mapped_files/ERR7423236/outputSolo.out/GeneFull/raw for ERR7423236. Skipping.\n",
      "Required files missing in /mnt/LaCIE/skolla/sc-heart-consortium/ncbi-sra/mapped_files/ERR7423237/outputSolo.out/GeneFull/raw for ERR7423237. Skipping.\n",
      "Required files missing in /mnt/LaCIE/skolla/sc-heart-consortium/ncbi-sra/mapped_files/ERR7423241/outputSolo.out/GeneFull/raw for ERR7423241. Skipping.\n",
      "Required files missing in /mnt/LaCIE/skolla/sc-heart-consortium/ncbi-sra/mapped_files/ERR7423243/outputSolo.out/GeneFull/raw for ERR7423243. Skipping.\n",
      "Required files missing in /mnt/LaCIE/skolla/sc-heart-consortium/ncbi-sra/mapped_files/ERR7423254/outputSolo.out/GeneFull/raw for ERR7423254. Skipping.\n",
      "Required files missing in /mnt/LaCIE/skolla/sc-heart-consortium/ncbi-sra/mapped_files/ERR7423258/outputSolo.out/GeneFull/raw for ERR7423258. Skipping.\n",
      "Required files missing in /mnt/LaCIE/skolla/sc-heart-consortium/ncbi-sra/mapped_files/ERR7423260/outputSolo.out/GeneFull/raw for ERR7423260. Skipping.\n",
      "Required files missing in /mnt/LaCIE/skolla/sc-heart-consortium/ncbi-sra/mapped_files/ERR7423262/outputSolo.out/GeneFull/raw for ERR7423262. Skipping.\n",
      "Required files missing in /mnt/LaCIE/skolla/sc-heart-consortium/ncbi-sra/mapped_files/ERR7423265/outputSolo.out/GeneFull/raw for ERR7423265. Skipping.\n",
      "Required files missing in /mnt/LaCIE/skolla/sc-heart-consortium/ncbi-sra/mapped_files/ERR7423270/outputSolo.out/GeneFull/raw for ERR7423270. Skipping.\n",
      "Required files missing in /mnt/LaCIE/skolla/sc-heart-consortium/ncbi-sra/mapped_files/ERR7423277/outputSolo.out/GeneFull/raw for ERR7423277. Skipping.\n",
      "Required files missing in /mnt/LaCIE/skolla/sc-heart-consortium/ncbi-sra/mapped_files/ERR7423279/outputSolo.out/GeneFull/raw for ERR7423279. Skipping.\n",
      "Required files missing in /mnt/LaCIE/skolla/sc-heart-consortium/ncbi-sra/mapped_files/ERR7423281/outputSolo.out/GeneFull/raw for ERR7423281. Skipping.\n",
      "Required files missing in /mnt/LaCIE/skolla/sc-heart-consortium/ncbi-sra/mapped_files/ERR7423288/outputSolo.out/GeneFull/raw for ERR7423288. Skipping.\n",
      "Required files missing in /mnt/LaCIE/skolla/sc-heart-consortium/ncbi-sra/mapped_files/ERR7423289/outputSolo.out/GeneFull/raw for ERR7423289. Skipping.\n",
      "Required files missing in /mnt/LaCIE/skolla/sc-heart-consortium/ncbi-sra/mapped_files/ERR7423292/outputSolo.out/GeneFull/raw for ERR7423292. Skipping.\n",
      "Required files missing in /mnt/LaCIE/skolla/sc-heart-consortium/ncbi-sra/mapped_files/ERR7423295/outputSolo.out/GeneFull/raw for ERR7423295. Skipping.\n",
      "Required files missing in /mnt/LaCIE/skolla/sc-heart-consortium/ncbi-sra/mapped_files/ERR7423296/outputSolo.out/GeneFull/raw for ERR7423296. Skipping.\n",
      "Required files missing in /mnt/LaCIE/skolla/sc-heart-consortium/ncbi-sra/mapped_files/ERR7423300/outputSolo.out/GeneFull/raw for ERR7423300. Skipping.\n",
      "Required files missing in /mnt/LaCIE/skolla/sc-heart-consortium/ncbi-sra/mapped_files/ERR7423302/outputSolo.out/GeneFull/raw for ERR7423302. Skipping.\n",
      "Required files missing in /mnt/LaCIE/skolla/sc-heart-consortium/ncbi-sra/mapped_files/ERR7423303/outputSolo.out/GeneFull/raw for ERR7423303. Skipping.\n",
      "Required files missing in /mnt/LaCIE/skolla/sc-heart-consortium/ncbi-sra/mapped_files/ERR7423307/outputSolo.out/GeneFull/raw for ERR7423307. Skipping.\n",
      "Required files missing in /mnt/LaCIE/skolla/sc-heart-consortium/ncbi-sra/mapped_files/ERR7423311/outputSolo.out/GeneFull/raw for ERR7423311. Skipping.\n",
      "Required files missing in /mnt/LaCIE/skolla/sc-heart-consortium/ncbi-sra/mapped_files/ERR7423312/outputSolo.out/GeneFull/raw for ERR7423312. Skipping.\n",
      "Required files missing in /mnt/LaCIE/skolla/sc-heart-consortium/ncbi-sra/mapped_files/ERR7423316/outputSolo.out/GeneFull/raw for ERR7423316. Skipping.\n",
      "Required files missing in /mnt/LaCIE/skolla/sc-heart-consortium/ncbi-sra/mapped_files/ERR7423318/outputSolo.out/GeneFull/raw for ERR7423318. Skipping.\n",
      "Required files missing in /mnt/LaCIE/skolla/sc-heart-consortium/ncbi-sra/mapped_files/ERR7423319/outputSolo.out/GeneFull/raw for ERR7423319. Skipping.\n",
      "Required files missing in /mnt/LaCIE/skolla/sc-heart-consortium/ncbi-sra/mapped_files/ERR7423320/outputSolo.out/GeneFull/raw for ERR7423320. Skipping.\n",
      "Required files missing in /mnt/LaCIE/skolla/sc-heart-consortium/ncbi-sra/mapped_files/ERR7423325/outputSolo.out/GeneFull/raw for ERR7423325. Skipping.\n",
      "Required files missing in /mnt/LaCIE/skolla/sc-heart-consortium/ncbi-sra/mapped_files/ERR7423326/outputSolo.out/GeneFull/raw for ERR7423326. Skipping.\n",
      "Required files missing in /mnt/LaCIE/skolla/sc-heart-consortium/ncbi-sra/mapped_files/ERR7423327/outputSolo.out/GeneFull/raw for ERR7423327. Skipping.\n",
      "Required files missing in /mnt/LaCIE/skolla/sc-heart-consortium/ncbi-sra/mapped_files/ERR7423330/outputSolo.out/GeneFull/raw for ERR7423330. Skipping.\n",
      "Required files missing in /mnt/LaCIE/skolla/sc-heart-consortium/ncbi-sra/mapped_files/ERR7423332/outputSolo.out/GeneFull/raw for ERR7423332. Skipping.\n",
      "Required files missing in /mnt/LaCIE/skolla/sc-heart-consortium/ncbi-sra/mapped_files/ERR7423336/outputSolo.out/GeneFull/raw for ERR7423336. Skipping.\n",
      "Required files missing in /mnt/LaCIE/skolla/sc-heart-consortium/ncbi-sra/mapped_files/ERR7423345/outputSolo.out/GeneFull/raw for ERR7423345. Skipping.\n",
      "Required files missing in /mnt/LaCIE/skolla/sc-heart-consortium/ncbi-sra/mapped_files/ERR7423347/outputSolo.out/GeneFull/raw for ERR7423347. Skipping.\n",
      "Required files missing in /mnt/LaCIE/skolla/sc-heart-consortium/ncbi-sra/mapped_files/ERR7423348/outputSolo.out/GeneFull/raw for ERR7423348. Skipping.\n",
      "Required files missing in /mnt/LaCIE/skolla/sc-heart-consortium/ncbi-sra/mapped_files/ERR7423351/outputSolo.out/GeneFull/raw for ERR7423351. Skipping.\n",
      "Required files missing in /mnt/LaCIE/skolla/sc-heart-consortium/ncbi-sra/mapped_files/ERR7423355/outputSolo.out/GeneFull/raw for ERR7423355. Skipping.\n",
      "Required files missing in /mnt/LaCIE/skolla/sc-heart-consortium/ncbi-sra/mapped_files/ERR7423356/outputSolo.out/GeneFull/raw for ERR7423356. Skipping.\n",
      "Required files missing in /mnt/LaCIE/skolla/sc-heart-consortium/ncbi-sra/mapped_files/ERR7423361/outputSolo.out/GeneFull/raw for ERR7423361. Skipping.\n",
      "Required files missing in /mnt/LaCIE/skolla/sc-heart-consortium/ncbi-sra/mapped_files/ERR7423370/outputSolo.out/GeneFull/raw for ERR7423370. Skipping.\n",
      "Required files missing in /mnt/LaCIE/skolla/sc-heart-consortium/ncbi-sra/mapped_files/ERR7423371/outputSolo.out/GeneFull/raw for ERR7423371. Skipping.\n",
      "Required files missing in /mnt/LaCIE/skolla/sc-heart-consortium/ncbi-sra/mapped_files/ERR7423377/outputSolo.out/GeneFull/raw for ERR7423377. Skipping.\n",
      "Required files missing in /mnt/LaCIE/skolla/sc-heart-consortium/ncbi-sra/mapped_files/ERR7423381/outputSolo.out/GeneFull/raw for ERR7423381. Skipping.\n",
      "Required files missing in /mnt/LaCIE/skolla/sc-heart-consortium/ncbi-sra/mapped_files/ERR7423383/outputSolo.out/GeneFull/raw for ERR7423383. Skipping.\n",
      "Required files missing in /mnt/LaCIE/skolla/sc-heart-consortium/ncbi-sra/mapped_files/ERR7423388/outputSolo.out/GeneFull/raw for ERR7423388. Skipping.\n",
      "Required files missing in /mnt/LaCIE/skolla/sc-heart-consortium/ncbi-sra/mapped_files/ERR7423389/outputSolo.out/GeneFull/raw for ERR7423389. Skipping.\n",
      "Required files missing in /mnt/LaCIE/skolla/sc-heart-consortium/ncbi-sra/mapped_files/ERR7423391/outputSolo.out/GeneFull/raw for ERR7423391. Skipping.\n",
      "Required files missing in /mnt/LaCIE/skolla/sc-heart-consortium/ncbi-sra/mapped_files/ERR7423393/outputSolo.out/GeneFull/raw for ERR7423393. Skipping.\n",
      "Required files missing in /mnt/LaCIE/skolla/sc-heart-consortium/ncbi-sra/mapped_files/ERR7423394/outputSolo.out/GeneFull/raw for ERR7423394. Skipping.\n",
      "Required files missing in /mnt/LaCIE/skolla/sc-heart-consortium/ncbi-sra/mapped_files/ERR7423397/outputSolo.out/GeneFull/raw for ERR7423397. Skipping.\n",
      "Required files missing in /mnt/LaCIE/skolla/sc-heart-consortium/ncbi-sra/mapped_files/ERR7423399/outputSolo.out/GeneFull/raw for ERR7423399. Skipping.\n",
      "Required files missing in /mnt/LaCIE/skolla/sc-heart-consortium/ncbi-sra/mapped_files/ERR7423401/outputSolo.out/GeneFull/raw for ERR7423401. Skipping.\n",
      "Required files missing in /mnt/LaCIE/skolla/sc-heart-consortium/ncbi-sra/mapped_files/ERR7423403/outputSolo.out/GeneFull/raw for ERR7423403. Skipping.\n",
      "Required files missing in /mnt/LaCIE/skolla/sc-heart-consortium/ncbi-sra/mapped_files/ERR7423405/outputSolo.out/GeneFull/raw for ERR7423405. Skipping.\n",
      "Required files missing in /mnt/LaCIE/skolla/sc-heart-consortium/ncbi-sra/mapped_files/ERR7423408/outputSolo.out/GeneFull/raw for ERR7423408. Skipping.\n",
      "Required files missing in /mnt/LaCIE/skolla/sc-heart-consortium/ncbi-sra/mapped_files/ERR7423409/outputSolo.out/GeneFull/raw for ERR7423409. Skipping.\n",
      "Required files missing in /mnt/LaCIE/skolla/sc-heart-consortium/ncbi-sra/mapped_files/ERR7423410/outputSolo.out/GeneFull/raw for ERR7423410. Skipping.\n",
      "Required files missing in /mnt/LaCIE/skolla/sc-heart-consortium/ncbi-sra/mapped_files/ERR7423411/outputSolo.out/GeneFull/raw for ERR7423411. Skipping.\n",
      "Required files missing in /mnt/LaCIE/skolla/sc-heart-consortium/ncbi-sra/mapped_files/ERR7423412/outputSolo.out/GeneFull/raw for ERR7423412. Skipping.\n",
      "Required files missing in /mnt/LaCIE/skolla/sc-heart-consortium/ncbi-sra/mapped_files/ERR7423415/outputSolo.out/GeneFull/raw for ERR7423415. Skipping.\n",
      "Required files missing in /mnt/LaCIE/skolla/sc-heart-consortium/ncbi-sra/mapped_files/ERR7423418/outputSolo.out/GeneFull/raw for ERR7423418. Skipping.\n",
      "Required files missing in /mnt/LaCIE/skolla/sc-heart-consortium/ncbi-sra/mapped_files/ERR7423430/outputSolo.out/GeneFull/raw for ERR7423430. Skipping.\n",
      "Required files missing in /mnt/LaCIE/skolla/sc-heart-consortium/ncbi-sra/mapped_files/ERR7423431/outputSolo.out/GeneFull/raw for ERR7423431. Skipping.\n",
      "Required files missing in /mnt/LaCIE/skolla/sc-heart-consortium/ncbi-sra/mapped_files/ERR7423432/outputSolo.out/GeneFull/raw for ERR7423432. Skipping.\n",
      "Required files missing in /mnt/LaCIE/skolla/sc-heart-consortium/ncbi-sra/mapped_files/ERR7423437/outputSolo.out/GeneFull/raw for ERR7423437. Skipping.\n",
      "Required files missing in /mnt/LaCIE/skolla/sc-heart-consortium/ncbi-sra/mapped_files/ERR7423439/outputSolo.out/GeneFull/raw for ERR7423439. Skipping.\n",
      "Required files missing in /mnt/LaCIE/skolla/sc-heart-consortium/ncbi-sra/mapped_files/ERR7423440/outputSolo.out/GeneFull/raw for ERR7423440. Skipping.\n",
      "Required files missing in /mnt/LaCIE/skolla/sc-heart-consortium/ncbi-sra/mapped_files/ERR7423445/outputSolo.out/GeneFull/raw for ERR7423445. Skipping.\n",
      "Required files missing in /mnt/LaCIE/skolla/sc-heart-consortium/ncbi-sra/mapped_files/ERR7423446/outputSolo.out/GeneFull/raw for ERR7423446. Skipping.\n",
      "Required files missing in /mnt/LaCIE/skolla/sc-heart-consortium/ncbi-sra/mapped_files/ERR7423447/outputSolo.out/GeneFull/raw for ERR7423447. Skipping.\n",
      "Required files missing in /mnt/LaCIE/skolla/sc-heart-consortium/ncbi-sra/mapped_files/ERR7423470/outputSolo.out/GeneFull/raw for ERR7423470. Skipping.\n",
      "Required files missing in /mnt/LaCIE/skolla/sc-heart-consortium/ncbi-sra/mapped_files/ERR7423473/outputSolo.out/GeneFull/raw for ERR7423473. Skipping.\n",
      "Required files missing in /mnt/LaCIE/skolla/sc-heart-consortium/ncbi-sra/mapped_files/ERR7423477/outputSolo.out/GeneFull/raw for ERR7423477. Skipping.\n",
      "Required files missing in /mnt/LaCIE/skolla/sc-heart-consortium/ncbi-sra/mapped_files/ERR7423478/outputSolo.out/GeneFull/raw for ERR7423478. Skipping.\n",
      "Required files missing in /mnt/LaCIE/skolla/sc-heart-consortium/ncbi-sra/mapped_files/ERR7423482/outputSolo.out/GeneFull/raw for ERR7423482. Skipping.\n",
      "Required files missing in /mnt/LaCIE/skolla/sc-heart-consortium/ncbi-sra/mapped_files/ERR7423483/outputSolo.out/GeneFull/raw for ERR7423483. Skipping.\n",
      "Required files missing in /mnt/LaCIE/skolla/sc-heart-consortium/ncbi-sra/mapped_files/ERR6449745/outputSolo.out/GeneFull/raw for ERR6449745. Skipping.\n",
      "Required files missing in /mnt/LaCIE/skolla/sc-heart-consortium/ncbi-sra/mapped_files/ERR6449748/outputSolo.out/GeneFull/raw for ERR6449748. Skipping.\n",
      "Required files missing in /mnt/LaCIE/skolla/sc-heart-consortium/ncbi-sra/mapped_files/ERR6449749/outputSolo.out/GeneFull/raw for ERR6449749. Skipping.\n",
      "Required files missing in /mnt/LaCIE/skolla/sc-heart-consortium/ncbi-sra/mapped_files/ERR6449752/outputSolo.out/GeneFull/raw for ERR6449752. Skipping.\n",
      "Required files missing in /mnt/LaCIE/skolla/sc-heart-consortium/ncbi-sra/mapped_files/ERR6449753/outputSolo.out/GeneFull/raw for ERR6449753. Skipping.\n",
      "Required files missing in /mnt/LaCIE/skolla/sc-heart-consortium/ncbi-sra/mapped_files/ERR6449754/outputSolo.out/GeneFull/raw for ERR6449754. Skipping.\n",
      "Required files missing in /mnt/LaCIE/skolla/sc-heart-consortium/ncbi-sra/mapped_files/ERR6449755/outputSolo.out/GeneFull/raw for ERR6449755. Skipping.\n",
      "Required files missing in /mnt/LaCIE/skolla/sc-heart-consortium/ncbi-sra/mapped_files/ERR6449757/outputSolo.out/GeneFull/raw for ERR6449757. Skipping.\n",
      "Required files missing in /mnt/LaCIE/skolla/sc-heart-consortium/ncbi-sra/mapped_files/ERR6449759/outputSolo.out/GeneFull/raw for ERR6449759. Skipping.\n",
      "Required files missing in /mnt/LaCIE/skolla/sc-heart-consortium/ncbi-sra/mapped_files/ERR6449760/outputSolo.out/GeneFull/raw for ERR6449760. Skipping.\n",
      "Required files missing in /mnt/LaCIE/skolla/sc-heart-consortium/ncbi-sra/mapped_files/ERR6449762/outputSolo.out/GeneFull/raw for ERR6449762. Skipping.\n",
      "Required files missing in /mnt/LaCIE/skolla/sc-heart-consortium/ncbi-sra/mapped_files/ERR6449764/outputSolo.out/GeneFull/raw for ERR6449764. Skipping.\n",
      "Required files missing in /mnt/LaCIE/skolla/sc-heart-consortium/ncbi-sra/mapped_files/ERR6449766/outputSolo.out/GeneFull/raw for ERR6449766. Skipping.\n",
      "Required files missing in /mnt/LaCIE/skolla/sc-heart-consortium/ncbi-sra/mapped_files/ERR6449768/outputSolo.out/GeneFull/raw for ERR6449768. Skipping.\n",
      "Required files missing in /mnt/LaCIE/skolla/sc-heart-consortium/ncbi-sra/mapped_files/ERR6449769/outputSolo.out/GeneFull/raw for ERR6449769. Skipping.\n",
      "Required files missing in /mnt/LaCIE/skolla/sc-heart-consortium/ncbi-sra/mapped_files/ERR6449770/outputSolo.out/GeneFull/raw for ERR6449770. Skipping.\n",
      "Required files missing in /mnt/LaCIE/skolla/sc-heart-consortium/ncbi-sra/mapped_files/ERR6449771/outputSolo.out/GeneFull/raw for ERR6449771. Skipping.\n",
      "Required files missing in /mnt/LaCIE/skolla/sc-heart-consortium/ncbi-sra/mapped_files/ERR6449772/outputSolo.out/GeneFull/raw for ERR6449772. Skipping.\n",
      "Required files missing in /mnt/LaCIE/skolla/sc-heart-consortium/ncbi-sra/mapped_files/ERR6449773/outputSolo.out/GeneFull/raw for ERR6449773. Skipping.\n",
      "Required files missing in /mnt/LaCIE/skolla/sc-heart-consortium/ncbi-sra/mapped_files/ERR6449774/outputSolo.out/GeneFull/raw for ERR6449774. Skipping.\n",
      "Required files missing in /mnt/LaCIE/skolla/sc-heart-consortium/ncbi-sra/mapped_files/ERR6449776/outputSolo.out/GeneFull/raw for ERR6449776. Skipping.\n",
      "Required files missing in /mnt/LaCIE/skolla/sc-heart-consortium/ncbi-sra/mapped_files/ERR6449777/outputSolo.out/GeneFull/raw for ERR6449777. Skipping.\n",
      "Required files missing in /mnt/LaCIE/skolla/sc-heart-consortium/ncbi-sra/mapped_files/ERR6449778/outputSolo.out/GeneFull/raw for ERR6449778. Skipping.\n",
      "Required files missing in /mnt/LaCIE/skolla/sc-heart-consortium/ncbi-sra/mapped_files/ERR6449779/outputSolo.out/GeneFull/raw for ERR6449779. Skipping.\n",
      "Required files missing in /mnt/LaCIE/skolla/sc-heart-consortium/ncbi-sra/mapped_files/ERR6449780/outputSolo.out/GeneFull/raw for ERR6449780. Skipping.\n",
      "Required files missing in /mnt/LaCIE/skolla/sc-heart-consortium/ncbi-sra/mapped_files/ERR6449781/outputSolo.out/GeneFull/raw for ERR6449781. Skipping.\n",
      "Required files missing in /mnt/LaCIE/skolla/sc-heart-consortium/ncbi-sra/mapped_files/ERR6449782/outputSolo.out/GeneFull/raw for ERR6449782. Skipping.\n",
      "Required files missing in /mnt/LaCIE/skolla/sc-heart-consortium/ncbi-sra/mapped_files/ERR6449784/outputSolo.out/GeneFull/raw for ERR6449784. Skipping.\n",
      "Required files missing in /mnt/LaCIE/skolla/sc-heart-consortium/ncbi-sra/mapped_files/ERR6449785/outputSolo.out/GeneFull/raw for ERR6449785. Skipping.\n",
      "Required files missing in /mnt/LaCIE/skolla/sc-heart-consortium/ncbi-sra/mapped_files/ERR6449786/outputSolo.out/GeneFull/raw for ERR6449786. Skipping.\n",
      "Required files missing in /mnt/LaCIE/skolla/sc-heart-consortium/ncbi-sra/mapped_files/ERR6449787/outputSolo.out/GeneFull/raw for ERR6449787. Skipping.\n",
      "Required files missing in /mnt/LaCIE/skolla/sc-heart-consortium/ncbi-sra/mapped_files/ERR6449788/outputSolo.out/GeneFull/raw for ERR6449788. Skipping.\n",
      "Required files missing in /mnt/LaCIE/skolla/sc-heart-consortium/ncbi-sra/mapped_files/ERR6449791/outputSolo.out/GeneFull/raw for ERR6449791. Skipping.\n",
      "Required files missing in /mnt/LaCIE/skolla/sc-heart-consortium/ncbi-sra/mapped_files/ERR6449794/outputSolo.out/GeneFull/raw for ERR6449794. Skipping.\n",
      "Required files missing in /mnt/LaCIE/skolla/sc-heart-consortium/ncbi-sra/mapped_files/ERR6449795/outputSolo.out/GeneFull/raw for ERR6449795. Skipping.\n",
      "Required files missing in /mnt/LaCIE/skolla/sc-heart-consortium/ncbi-sra/mapped_files/ERR6449796/outputSolo.out/GeneFull/raw for ERR6449796. Skipping.\n",
      "Required files missing in /mnt/LaCIE/skolla/sc-heart-consortium/ncbi-sra/mapped_files/ERR6449797/outputSolo.out/GeneFull/raw for ERR6449797. Skipping.\n",
      "Required files missing in /mnt/LaCIE/skolla/sc-heart-consortium/ncbi-sra/mapped_files/ERR6449798/outputSolo.out/GeneFull/raw for ERR6449798. Skipping.\n",
      "Required files missing in /mnt/LaCIE/skolla/sc-heart-consortium/ncbi-sra/mapped_files/ERR6449800/outputSolo.out/GeneFull/raw for ERR6449800. Skipping.\n",
      "Required files missing in /mnt/LaCIE/skolla/sc-heart-consortium/ncbi-sra/mapped_files/ERR6449802/outputSolo.out/GeneFull/raw for ERR6449802. Skipping.\n",
      "Required files missing in /mnt/LaCIE/skolla/sc-heart-consortium/ncbi-sra/mapped_files/ERR6449804/outputSolo.out/GeneFull/raw for ERR6449804. Skipping.\n",
      "Required files missing in /mnt/LaCIE/skolla/sc-heart-consortium/ncbi-sra/mapped_files/ERR6449805/outputSolo.out/GeneFull/raw for ERR6449805. Skipping.\n",
      "Required files missing in /mnt/LaCIE/skolla/sc-heart-consortium/ncbi-sra/mapped_files/ERR6449806/outputSolo.out/GeneFull/raw for ERR6449806. Skipping.\n",
      "Required files missing in /mnt/LaCIE/skolla/sc-heart-consortium/ncbi-sra/mapped_files/ERR6449807/outputSolo.out/GeneFull/raw for ERR6449807. Skipping.\n",
      "Required files missing in /mnt/LaCIE/skolla/sc-heart-consortium/ncbi-sra/mapped_files/ERR6449809/outputSolo.out/GeneFull/raw for ERR6449809. Skipping.\n",
      "Required files missing in /mnt/LaCIE/skolla/sc-heart-consortium/ncbi-sra/mapped_files/ERR6449811/outputSolo.out/GeneFull/raw for ERR6449811. Skipping.\n",
      "Required files missing in /mnt/LaCIE/skolla/sc-heart-consortium/ncbi-sra/mapped_files/ERR6449812/outputSolo.out/GeneFull/raw for ERR6449812. Skipping.\n",
      "Required files missing in /mnt/LaCIE/skolla/sc-heart-consortium/ncbi-sra/mapped_files/ERR6449813/outputSolo.out/GeneFull/raw for ERR6449813. Skipping.\n",
      "Required files missing in /mnt/LaCIE/skolla/sc-heart-consortium/ncbi-sra/mapped_files/ERR6449814/outputSolo.out/GeneFull/raw for ERR6449814. Skipping.\n",
      "Required files missing in /mnt/LaCIE/skolla/sc-heart-consortium/ncbi-sra/mapped_files/ERR6449816/outputSolo.out/GeneFull/raw for ERR6449816. Skipping.\n",
      "Required files missing in /mnt/LaCIE/skolla/sc-heart-consortium/ncbi-sra/mapped_files/ERR6449817/outputSolo.out/GeneFull/raw for ERR6449817. Skipping.\n",
      "Required files missing in /mnt/LaCIE/skolla/sc-heart-consortium/ncbi-sra/mapped_files/ERR6449819/outputSolo.out/GeneFull/raw for ERR6449819. Skipping.\n",
      "Required files missing in /mnt/LaCIE/skolla/sc-heart-consortium/ncbi-sra/mapped_files/ERR6449821/outputSolo.out/GeneFull/raw for ERR6449821. Skipping.\n",
      "Required files missing in /mnt/LaCIE/skolla/sc-heart-consortium/ncbi-sra/mapped_files/ERR6449823/outputSolo.out/GeneFull/raw for ERR6449823. Skipping.\n",
      "Required files missing in /mnt/LaCIE/skolla/sc-heart-consortium/ncbi-sra/mapped_files/ERR6449825/outputSolo.out/GeneFull/raw for ERR6449825. Skipping.\n",
      "Required files missing in /mnt/LaCIE/skolla/sc-heart-consortium/ncbi-sra/mapped_files/ERR6449827/outputSolo.out/GeneFull/raw for ERR6449827. Skipping.\n",
      "Required files missing in /mnt/LaCIE/skolla/sc-heart-consortium/ncbi-sra/mapped_files/ERR6449830/outputSolo.out/GeneFull/raw for ERR6449830. Skipping.\n",
      "Required files missing in /mnt/LaCIE/skolla/sc-heart-consortium/ncbi-sra/mapped_files/ERR6449832/outputSolo.out/GeneFull/raw for ERR6449832. Skipping.\n",
      "Required files missing in /mnt/LaCIE/skolla/sc-heart-consortium/ncbi-sra/mapped_files/ERR6449833/outputSolo.out/GeneFull/raw for ERR6449833. Skipping.\n",
      "Required files missing in /mnt/LaCIE/skolla/sc-heart-consortium/ncbi-sra/mapped_files/ERR6449834/outputSolo.out/GeneFull/raw for ERR6449834. Skipping.\n",
      "Required files missing in /mnt/LaCIE/skolla/sc-heart-consortium/ncbi-sra/mapped_files/ERR6449836/outputSolo.out/GeneFull/raw for ERR6449836. Skipping.\n",
      "Required files missing in /mnt/LaCIE/skolla/sc-heart-consortium/ncbi-sra/mapped_files/ERR6449838/outputSolo.out/GeneFull/raw for ERR6449838. Skipping.\n",
      "Required files missing in /mnt/LaCIE/skolla/sc-heart-consortium/ncbi-sra/mapped_files/ERR6449839/outputSolo.out/GeneFull/raw for ERR6449839. Skipping.\n",
      "Required files missing in /mnt/LaCIE/skolla/sc-heart-consortium/ncbi-sra/mapped_files/ERR6449841/outputSolo.out/GeneFull/raw for ERR6449841. Skipping.\n",
      "Required files missing in /mnt/LaCIE/skolla/sc-heart-consortium/ncbi-sra/mapped_files/ERR6449842/outputSolo.out/GeneFull/raw for ERR6449842. Skipping.\n",
      "Required files missing in /mnt/LaCIE/skolla/sc-heart-consortium/ncbi-sra/mapped_files/ERR6449843/outputSolo.out/GeneFull/raw for ERR6449843. Skipping.\n",
      "Required files missing in /mnt/LaCIE/skolla/sc-heart-consortium/ncbi-sra/mapped_files/ERR6449844/outputSolo.out/GeneFull/raw for ERR6449844. Skipping.\n",
      "Required files missing in /mnt/LaCIE/skolla/sc-heart-consortium/ncbi-sra/mapped_files/ERR6449848/outputSolo.out/GeneFull/raw for ERR6449848. Skipping.\n",
      "Required files missing in /mnt/LaCIE/skolla/sc-heart-consortium/ncbi-sra/mapped_files/ERR6449850/outputSolo.out/GeneFull/raw for ERR6449850. Skipping.\n",
      "Required files missing in /mnt/LaCIE/skolla/sc-heart-consortium/ncbi-sra/mapped_files/ERR6449851/outputSolo.out/GeneFull/raw for ERR6449851. Skipping.\n",
      "Required files missing in /mnt/LaCIE/skolla/sc-heart-consortium/ncbi-sra/mapped_files/ERR6449854/outputSolo.out/GeneFull/raw for ERR6449854. Skipping.\n",
      "Required files missing in /mnt/LaCIE/skolla/sc-heart-consortium/ncbi-sra/mapped_files/ERR6449855/outputSolo.out/GeneFull/raw for ERR6449855. Skipping.\n",
      "Required files missing in /mnt/LaCIE/skolla/sc-heart-consortium/ncbi-sra/mapped_files/ERR6449856/outputSolo.out/GeneFull/raw for ERR6449856. Skipping.\n",
      "Required files missing in /mnt/LaCIE/skolla/sc-heart-consortium/ncbi-sra/mapped_files/ERR6449857/outputSolo.out/GeneFull/raw for ERR6449857. Skipping.\n",
      "Required files missing in /mnt/LaCIE/skolla/sc-heart-consortium/ncbi-sra/mapped_files/ERR6449858/outputSolo.out/GeneFull/raw for ERR6449858. Skipping.\n",
      "Required files missing in /mnt/LaCIE/skolla/sc-heart-consortium/ncbi-sra/mapped_files/ERR6449859/outputSolo.out/GeneFull/raw for ERR6449859. Skipping.\n",
      "Required files missing in /mnt/LaCIE/skolla/sc-heart-consortium/ncbi-sra/mapped_files/ERR6449860/outputSolo.out/GeneFull/raw for ERR6449860. Skipping.\n",
      "Required files missing in /mnt/LaCIE/skolla/sc-heart-consortium/ncbi-sra/mapped_files/ERR6449861/outputSolo.out/GeneFull/raw for ERR6449861. Skipping.\n",
      "Required files missing in /mnt/LaCIE/skolla/sc-heart-consortium/ncbi-sra/mapped_files/ERR6449863/outputSolo.out/GeneFull/raw for ERR6449863. Skipping.\n",
      "Required files missing in /mnt/LaCIE/skolla/sc-heart-consortium/ncbi-sra/mapped_files/ERR6449864/outputSolo.out/GeneFull/raw for ERR6449864. Skipping.\n",
      "Required files missing in /mnt/LaCIE/skolla/sc-heart-consortium/ncbi-sra/mapped_files/ERR6449865/outputSolo.out/GeneFull/raw for ERR6449865. Skipping.\n",
      "Required files missing in /mnt/LaCIE/skolla/sc-heart-consortium/ncbi-sra/mapped_files/ERR6449867/outputSolo.out/GeneFull/raw for ERR6449867. Skipping.\n",
      "Required files missing in /mnt/LaCIE/skolla/sc-heart-consortium/ncbi-sra/mapped_files/ERR6449868/outputSolo.out/GeneFull/raw for ERR6449868. Skipping.\n",
      "Required files missing in /mnt/LaCIE/skolla/sc-heart-consortium/ncbi-sra/mapped_files/ERR6449869/outputSolo.out/GeneFull/raw for ERR6449869. Skipping.\n",
      "Required files missing in /mnt/LaCIE/skolla/sc-heart-consortium/ncbi-sra/mapped_files/ERR6449870/outputSolo.out/GeneFull/raw for ERR6449870. Skipping.\n",
      "Required files missing in /mnt/LaCIE/skolla/sc-heart-consortium/ncbi-sra/mapped_files/ERR6449873/outputSolo.out/GeneFull/raw for ERR6449873. Skipping.\n",
      "Required files missing in /mnt/LaCIE/skolla/sc-heart-consortium/ncbi-sra/mapped_files/ERR6449875/outputSolo.out/GeneFull/raw for ERR6449875. Skipping.\n",
      "Required files missing in /mnt/LaCIE/skolla/sc-heart-consortium/ncbi-sra/mapped_files/ERR6449876/outputSolo.out/GeneFull/raw for ERR6449876. Skipping.\n",
      "Required files missing in /mnt/LaCIE/skolla/sc-heart-consortium/ncbi-sra/mapped_files/ERR6449877/outputSolo.out/GeneFull/raw for ERR6449877. Skipping.\n",
      "Required files missing in /mnt/LaCIE/skolla/sc-heart-consortium/ncbi-sra/mapped_files/ERR6449880/outputSolo.out/GeneFull/raw for ERR6449880. Skipping.\n",
      "Required files missing in /mnt/LaCIE/skolla/sc-heart-consortium/ncbi-sra/mapped_files/ERR6449881/outputSolo.out/GeneFull/raw for ERR6449881. Skipping.\n",
      "Required files missing in /mnt/LaCIE/skolla/sc-heart-consortium/ncbi-sra/mapped_files/ERR6449882/outputSolo.out/GeneFull/raw for ERR6449882. Skipping.\n",
      "Required files missing in /mnt/LaCIE/skolla/sc-heart-consortium/ncbi-sra/mapped_files/ERR6449883/outputSolo.out/GeneFull/raw for ERR6449883. Skipping.\n",
      "Required files missing in /mnt/LaCIE/skolla/sc-heart-consortium/ncbi-sra/mapped_files/ERR6449885/outputSolo.out/GeneFull/raw for ERR6449885. Skipping.\n",
      "Required files missing in /mnt/LaCIE/skolla/sc-heart-consortium/ncbi-sra/mapped_files/ERR6449886/outputSolo.out/GeneFull/raw for ERR6449886. Skipping.\n",
      "Required files missing in /mnt/LaCIE/skolla/sc-heart-consortium/ncbi-sra/mapped_files/ERR6449887/outputSolo.out/GeneFull/raw for ERR6449887. Skipping.\n",
      "Required files missing in /mnt/LaCIE/skolla/sc-heart-consortium/ncbi-sra/mapped_files/ERR6449889/outputSolo.out/GeneFull/raw for ERR6449889. Skipping.\n",
      "Required files missing in /mnt/LaCIE/skolla/sc-heart-consortium/ncbi-sra/mapped_files/ERR6449890/outputSolo.out/GeneFull/raw for ERR6449890. Skipping.\n",
      "Required files missing in /mnt/LaCIE/skolla/sc-heart-consortium/ncbi-sra/mapped_files/ERR6449891/outputSolo.out/GeneFull/raw for ERR6449891. Skipping.\n",
      "Required files missing in /mnt/LaCIE/skolla/sc-heart-consortium/ncbi-sra/mapped_files/ERR6449893/outputSolo.out/GeneFull/raw for ERR6449893. Skipping.\n",
      "Required files missing in /mnt/LaCIE/skolla/sc-heart-consortium/ncbi-sra/mapped_files/ERR6449895/outputSolo.out/GeneFull/raw for ERR6449895. Skipping.\n",
      "Required files missing in /mnt/LaCIE/skolla/sc-heart-consortium/ncbi-sra/mapped_files/ERR6449896/outputSolo.out/GeneFull/raw for ERR6449896. Skipping.\n",
      "Required files missing in /mnt/LaCIE/skolla/sc-heart-consortium/ncbi-sra/mapped_files/ERR6449897/outputSolo.out/GeneFull/raw for ERR6449897. Skipping.\n",
      "Required files missing in /mnt/LaCIE/skolla/sc-heart-consortium/ncbi-sra/mapped_files/ERR6449898/outputSolo.out/GeneFull/raw for ERR6449898. Skipping.\n",
      "Required files missing in /mnt/LaCIE/skolla/sc-heart-consortium/ncbi-sra/mapped_files/ERR6449899/outputSolo.out/GeneFull/raw for ERR6449899. Skipping.\n",
      "Required files missing in /mnt/LaCIE/skolla/sc-heart-consortium/ncbi-sra/mapped_files/ERR6449900/outputSolo.out/GeneFull/raw for ERR6449900. Skipping.\n",
      "Required files missing in /mnt/LaCIE/skolla/sc-heart-consortium/ncbi-sra/mapped_files/ERR6449901/outputSolo.out/GeneFull/raw for ERR6449901. Skipping.\n",
      "Required files missing in /mnt/LaCIE/skolla/sc-heart-consortium/ncbi-sra/mapped_files/ERR6449903/outputSolo.out/GeneFull/raw for ERR6449903. Skipping.\n",
      "Required files missing in /mnt/LaCIE/skolla/sc-heart-consortium/ncbi-sra/mapped_files/ERR6449904/outputSolo.out/GeneFull/raw for ERR6449904. Skipping.\n",
      "Required files missing in /mnt/LaCIE/skolla/sc-heart-consortium/ncbi-sra/mapped_files/ERR6449906/outputSolo.out/GeneFull/raw for ERR6449906. Skipping.\n",
      "Required files missing in /mnt/LaCIE/skolla/sc-heart-consortium/ncbi-sra/mapped_files/ERR6449907/outputSolo.out/GeneFull/raw for ERR6449907. Skipping.\n",
      "Required files missing in /mnt/LaCIE/skolla/sc-heart-consortium/ncbi-sra/mapped_files/ERR6449909/outputSolo.out/GeneFull/raw for ERR6449909. Skipping.\n",
      "Required files missing in /mnt/LaCIE/skolla/sc-heart-consortium/ncbi-sra/mapped_files/ERR6449910/outputSolo.out/GeneFull/raw for ERR6449910. Skipping.\n",
      "Required files missing in /mnt/LaCIE/skolla/sc-heart-consortium/ncbi-sra/mapped_files/ERR6449911/outputSolo.out/GeneFull/raw for ERR6449911. Skipping.\n",
      "Required files missing in /mnt/LaCIE/skolla/sc-heart-consortium/ncbi-sra/mapped_files/ERR6449916/outputSolo.out/GeneFull/raw for ERR6449916. Skipping.\n",
      "Required files missing in /mnt/LaCIE/skolla/sc-heart-consortium/ncbi-sra/mapped_files/ERR6449917/outputSolo.out/GeneFull/raw for ERR6449917. Skipping.\n",
      "Required files missing in /mnt/LaCIE/skolla/sc-heart-consortium/ncbi-sra/mapped_files/ERR6449919/outputSolo.out/GeneFull/raw for ERR6449919. Skipping.\n",
      "Required files missing in /mnt/LaCIE/skolla/sc-heart-consortium/ncbi-sra/mapped_files/ERR6449921/outputSolo.out/GeneFull/raw for ERR6449921. Skipping.\n",
      "Required files missing in /mnt/LaCIE/skolla/sc-heart-consortium/ncbi-sra/mapped_files/ERR6449922/outputSolo.out/GeneFull/raw for ERR6449922. Skipping.\n",
      "Required files missing in /mnt/LaCIE/skolla/sc-heart-consortium/ncbi-sra/mapped_files/ERR6449923/outputSolo.out/GeneFull/raw for ERR6449923. Skipping.\n",
      "Required files missing in /mnt/LaCIE/skolla/sc-heart-consortium/ncbi-sra/mapped_files/ERR6449925/outputSolo.out/GeneFull/raw for ERR6449925. Skipping.\n",
      "Required files missing in /mnt/LaCIE/skolla/sc-heart-consortium/ncbi-sra/mapped_files/ERR6449927/outputSolo.out/GeneFull/raw for ERR6449927. Skipping.\n",
      "Required files missing in /mnt/LaCIE/skolla/sc-heart-consortium/ncbi-sra/mapped_files/ERR6449928/outputSolo.out/GeneFull/raw for ERR6449928. Skipping.\n",
      "Required files missing in /mnt/LaCIE/skolla/sc-heart-consortium/ncbi-sra/mapped_files/ERR6449929/outputSolo.out/GeneFull/raw for ERR6449929. Skipping.\n",
      "Required files missing in /mnt/LaCIE/skolla/sc-heart-consortium/ncbi-sra/mapped_files/ERR6449930/outputSolo.out/GeneFull/raw for ERR6449930. Skipping.\n",
      "Required files missing in /mnt/LaCIE/skolla/sc-heart-consortium/ncbi-sra/mapped_files/ERR6449931/outputSolo.out/GeneFull/raw for ERR6449931. Skipping.\n",
      "Required files missing in /mnt/LaCIE/skolla/sc-heart-consortium/ncbi-sra/mapped_files/ERR6449935/outputSolo.out/GeneFull/raw for ERR6449935. Skipping.\n",
      "Required files missing in /mnt/LaCIE/skolla/sc-heart-consortium/ncbi-sra/mapped_files/ERR6449937/outputSolo.out/GeneFull/raw for ERR6449937. Skipping.\n",
      "Required files missing in /mnt/LaCIE/skolla/sc-heart-consortium/ncbi-sra/mapped_files/ERR6449939/outputSolo.out/GeneFull/raw for ERR6449939. Skipping.\n",
      "Required files missing in /mnt/LaCIE/skolla/sc-heart-consortium/ncbi-sra/mapped_files/ERR6449940/outputSolo.out/GeneFull/raw for ERR6449940. Skipping.\n",
      "Required files missing in /mnt/LaCIE/skolla/sc-heart-consortium/ncbi-sra/mapped_files/ERR6449941/outputSolo.out/GeneFull/raw for ERR6449941. Skipping.\n",
      "Required files missing in /mnt/LaCIE/skolla/sc-heart-consortium/ncbi-sra/mapped_files/ERR6449943/outputSolo.out/GeneFull/raw for ERR6449943. Skipping.\n",
      "Required files missing in /mnt/LaCIE/skolla/sc-heart-consortium/ncbi-sra/mapped_files/ERR6449946/outputSolo.out/GeneFull/raw for ERR6449946. Skipping.\n",
      "Required files missing in /mnt/LaCIE/skolla/sc-heart-consortium/ncbi-sra/mapped_files/ERR6449947/outputSolo.out/GeneFull/raw for ERR6449947. Skipping.\n",
      "Required files missing in /mnt/LaCIE/skolla/sc-heart-consortium/ncbi-sra/mapped_files/ERR6449948/outputSolo.out/GeneFull/raw for ERR6449948. Skipping.\n",
      "Required files missing in /mnt/LaCIE/skolla/sc-heart-consortium/ncbi-sra/mapped_files/ERR6449949/outputSolo.out/GeneFull/raw for ERR6449949. Skipping.\n",
      "Required files missing in /mnt/LaCIE/skolla/sc-heart-consortium/ncbi-sra/mapped_files/ERR6449951/outputSolo.out/GeneFull/raw for ERR6449951. Skipping.\n",
      "Required files missing in /mnt/LaCIE/skolla/sc-heart-consortium/ncbi-sra/mapped_files/ERR6449952/outputSolo.out/GeneFull/raw for ERR6449952. Skipping.\n",
      "Required files missing in /mnt/LaCIE/skolla/sc-heart-consortium/ncbi-sra/mapped_files/ERR6449956/outputSolo.out/GeneFull/raw for ERR6449956. Skipping.\n",
      "Required files missing in /mnt/LaCIE/skolla/sc-heart-consortium/ncbi-sra/mapped_files/ERR6449957/outputSolo.out/GeneFull/raw for ERR6449957. Skipping.\n"
     ]
    },
    {
     "name": "stderr",
     "output_type": "stream",
     "text": [
      "/home/skolla/miniforge3/envs/scanpy/lib/python3.12/site-packages/anndata/_core/anndata.py:1820: UserWarning: Variable names are not unique. To make them unique, call `.var_names_make_unique`.\n",
      "  utils.warn_names_duplicates(\"var\")\n",
      "/home/skolla/miniforge3/envs/scanpy/lib/python3.12/site-packages/anndata/utils.py:260: UserWarning: Suffix used (-[0-9]+) to deduplicate index values may make index values difficult to interpret. There values with a similar suffixes in the index. Consider using a different delimiter by passing `join={delimiter}`Example key collisions generated by the make_index_unique algorithm: ['SNORD116-1', 'SNORD116-2', 'SNORD116-3', 'SNORD116-4', 'SNORD116-5']\n",
      "  warnings.warn(\n"
     ]
    },
    {
     "name": "stdout",
     "output_type": "stream",
     "text": [
      "Converted ERR6449958 to /mnt/LaCIE/skolla/sc-heart-consortium/ncbi-sra/h5ad_files/ERR6449958_GeneFull_raw.h5ad\n"
     ]
    },
    {
     "name": "stderr",
     "output_type": "stream",
     "text": [
      "/home/skolla/miniforge3/envs/scanpy/lib/python3.12/site-packages/anndata/_core/anndata.py:1820: UserWarning: Variable names are not unique. To make them unique, call `.var_names_make_unique`.\n",
      "  utils.warn_names_duplicates(\"var\")\n",
      "/home/skolla/miniforge3/envs/scanpy/lib/python3.12/site-packages/anndata/utils.py:260: UserWarning: Suffix used (-[0-9]+) to deduplicate index values may make index values difficult to interpret. There values with a similar suffixes in the index. Consider using a different delimiter by passing `join={delimiter}`Example key collisions generated by the make_index_unique algorithm: ['SNORD116-1', 'SNORD116-2', 'SNORD116-3', 'SNORD116-4', 'SNORD116-5']\n",
      "  warnings.warn(\n"
     ]
    },
    {
     "name": "stdout",
     "output_type": "stream",
     "text": [
      "Converted ERR6449963 to /mnt/LaCIE/skolla/sc-heart-consortium/ncbi-sra/h5ad_files/ERR6449963_GeneFull_raw.h5ad\n"
     ]
    },
    {
     "name": "stderr",
     "output_type": "stream",
     "text": [
      "/home/skolla/miniforge3/envs/scanpy/lib/python3.12/site-packages/anndata/_core/anndata.py:1820: UserWarning: Variable names are not unique. To make them unique, call `.var_names_make_unique`.\n",
      "  utils.warn_names_duplicates(\"var\")\n",
      "/home/skolla/miniforge3/envs/scanpy/lib/python3.12/site-packages/anndata/utils.py:260: UserWarning: Suffix used (-[0-9]+) to deduplicate index values may make index values difficult to interpret. There values with a similar suffixes in the index. Consider using a different delimiter by passing `join={delimiter}`Example key collisions generated by the make_index_unique algorithm: ['SNORD116-1', 'SNORD116-2', 'SNORD116-3', 'SNORD116-4', 'SNORD116-5']\n",
      "  warnings.warn(\n"
     ]
    },
    {
     "name": "stdout",
     "output_type": "stream",
     "text": [
      "Converted ERR6449966 to /mnt/LaCIE/skolla/sc-heart-consortium/ncbi-sra/h5ad_files/ERR6449966_GeneFull_raw.h5ad\n"
     ]
    },
    {
     "name": "stderr",
     "output_type": "stream",
     "text": [
      "/home/skolla/miniforge3/envs/scanpy/lib/python3.12/site-packages/anndata/_core/anndata.py:1820: UserWarning: Variable names are not unique. To make them unique, call `.var_names_make_unique`.\n",
      "  utils.warn_names_duplicates(\"var\")\n",
      "/home/skolla/miniforge3/envs/scanpy/lib/python3.12/site-packages/anndata/utils.py:260: UserWarning: Suffix used (-[0-9]+) to deduplicate index values may make index values difficult to interpret. There values with a similar suffixes in the index. Consider using a different delimiter by passing `join={delimiter}`Example key collisions generated by the make_index_unique algorithm: ['SNORD116-1', 'SNORD116-2', 'SNORD116-3', 'SNORD116-4', 'SNORD116-5']\n",
      "  warnings.warn(\n"
     ]
    },
    {
     "name": "stdout",
     "output_type": "stream",
     "text": [
      "Converted ERR6449967 to /mnt/LaCIE/skolla/sc-heart-consortium/ncbi-sra/h5ad_files/ERR6449967_GeneFull_raw.h5ad\n"
     ]
    },
    {
     "name": "stderr",
     "output_type": "stream",
     "text": [
      "/home/skolla/miniforge3/envs/scanpy/lib/python3.12/site-packages/anndata/_core/anndata.py:1820: UserWarning: Variable names are not unique. To make them unique, call `.var_names_make_unique`.\n",
      "  utils.warn_names_duplicates(\"var\")\n",
      "/home/skolla/miniforge3/envs/scanpy/lib/python3.12/site-packages/anndata/utils.py:260: UserWarning: Suffix used (-[0-9]+) to deduplicate index values may make index values difficult to interpret. There values with a similar suffixes in the index. Consider using a different delimiter by passing `join={delimiter}`Example key collisions generated by the make_index_unique algorithm: ['SNORD116-1', 'SNORD116-2', 'SNORD116-3', 'SNORD116-4', 'SNORD116-5']\n",
      "  warnings.warn(\n"
     ]
    },
    {
     "name": "stdout",
     "output_type": "stream",
     "text": [
      "Converted ERR6449968 to /mnt/LaCIE/skolla/sc-heart-consortium/ncbi-sra/h5ad_files/ERR6449968_GeneFull_raw.h5ad\n"
     ]
    },
    {
     "name": "stderr",
     "output_type": "stream",
     "text": [
      "/home/skolla/miniforge3/envs/scanpy/lib/python3.12/site-packages/anndata/_core/anndata.py:1820: UserWarning: Variable names are not unique. To make them unique, call `.var_names_make_unique`.\n",
      "  utils.warn_names_duplicates(\"var\")\n",
      "/home/skolla/miniforge3/envs/scanpy/lib/python3.12/site-packages/anndata/utils.py:260: UserWarning: Suffix used (-[0-9]+) to deduplicate index values may make index values difficult to interpret. There values with a similar suffixes in the index. Consider using a different delimiter by passing `join={delimiter}`Example key collisions generated by the make_index_unique algorithm: ['SNORD116-1', 'SNORD116-2', 'SNORD116-3', 'SNORD116-4', 'SNORD116-5']\n",
      "  warnings.warn(\n"
     ]
    },
    {
     "name": "stdout",
     "output_type": "stream",
     "text": [
      "Converted ERR6449972 to /mnt/LaCIE/skolla/sc-heart-consortium/ncbi-sra/h5ad_files/ERR6449972_GeneFull_raw.h5ad\n"
     ]
    },
    {
     "name": "stderr",
     "output_type": "stream",
     "text": [
      "/home/skolla/miniforge3/envs/scanpy/lib/python3.12/site-packages/anndata/_core/anndata.py:1820: UserWarning: Variable names are not unique. To make them unique, call `.var_names_make_unique`.\n",
      "  utils.warn_names_duplicates(\"var\")\n",
      "/home/skolla/miniforge3/envs/scanpy/lib/python3.12/site-packages/anndata/utils.py:260: UserWarning: Suffix used (-[0-9]+) to deduplicate index values may make index values difficult to interpret. There values with a similar suffixes in the index. Consider using a different delimiter by passing `join={delimiter}`Example key collisions generated by the make_index_unique algorithm: ['SNORD116-1', 'SNORD116-2', 'SNORD116-3', 'SNORD116-4', 'SNORD116-5']\n",
      "  warnings.warn(\n"
     ]
    },
    {
     "name": "stdout",
     "output_type": "stream",
     "text": [
      "Converted ERR6449973 to /mnt/LaCIE/skolla/sc-heart-consortium/ncbi-sra/h5ad_files/ERR6449973_GeneFull_raw.h5ad\n"
     ]
    },
    {
     "name": "stderr",
     "output_type": "stream",
     "text": [
      "/home/skolla/miniforge3/envs/scanpy/lib/python3.12/site-packages/anndata/_core/anndata.py:1820: UserWarning: Variable names are not unique. To make them unique, call `.var_names_make_unique`.\n",
      "  utils.warn_names_duplicates(\"var\")\n",
      "/home/skolla/miniforge3/envs/scanpy/lib/python3.12/site-packages/anndata/utils.py:260: UserWarning: Suffix used (-[0-9]+) to deduplicate index values may make index values difficult to interpret. There values with a similar suffixes in the index. Consider using a different delimiter by passing `join={delimiter}`Example key collisions generated by the make_index_unique algorithm: ['SNORD116-1', 'SNORD116-2', 'SNORD116-3', 'SNORD116-4', 'SNORD116-5']\n",
      "  warnings.warn(\n"
     ]
    },
    {
     "name": "stdout",
     "output_type": "stream",
     "text": [
      "Converted ERR6449974 to /mnt/LaCIE/skolla/sc-heart-consortium/ncbi-sra/h5ad_files/ERR6449974_GeneFull_raw.h5ad\n",
      "Required files missing in /mnt/LaCIE/skolla/sc-heart-consortium/ncbi-sra/mapped_files/ERR6449975/outputSolo.out/GeneFull/raw for ERR6449975. Skipping.\n"
     ]
    },
    {
     "name": "stderr",
     "output_type": "stream",
     "text": [
      "/home/skolla/miniforge3/envs/scanpy/lib/python3.12/site-packages/anndata/_core/anndata.py:1820: UserWarning: Variable names are not unique. To make them unique, call `.var_names_make_unique`.\n",
      "  utils.warn_names_duplicates(\"var\")\n",
      "/home/skolla/miniforge3/envs/scanpy/lib/python3.12/site-packages/anndata/utils.py:260: UserWarning: Suffix used (-[0-9]+) to deduplicate index values may make index values difficult to interpret. There values with a similar suffixes in the index. Consider using a different delimiter by passing `join={delimiter}`Example key collisions generated by the make_index_unique algorithm: ['SNORD116-1', 'SNORD116-2', 'SNORD116-3', 'SNORD116-4', 'SNORD116-5']\n",
      "  warnings.warn(\n"
     ]
    },
    {
     "name": "stdout",
     "output_type": "stream",
     "text": [
      "Converted ERR6449977 to /mnt/LaCIE/skolla/sc-heart-consortium/ncbi-sra/h5ad_files/ERR6449977_GeneFull_raw.h5ad\n"
     ]
    },
    {
     "name": "stderr",
     "output_type": "stream",
     "text": [
      "/home/skolla/miniforge3/envs/scanpy/lib/python3.12/site-packages/anndata/_core/anndata.py:1820: UserWarning: Variable names are not unique. To make them unique, call `.var_names_make_unique`.\n",
      "  utils.warn_names_duplicates(\"var\")\n",
      "/home/skolla/miniforge3/envs/scanpy/lib/python3.12/site-packages/anndata/utils.py:260: UserWarning: Suffix used (-[0-9]+) to deduplicate index values may make index values difficult to interpret. There values with a similar suffixes in the index. Consider using a different delimiter by passing `join={delimiter}`Example key collisions generated by the make_index_unique algorithm: ['SNORD116-1', 'SNORD116-2', 'SNORD116-3', 'SNORD116-4', 'SNORD116-5']\n",
      "  warnings.warn(\n"
     ]
    },
    {
     "name": "stdout",
     "output_type": "stream",
     "text": [
      "Converted ERR6449978 to /mnt/LaCIE/skolla/sc-heart-consortium/ncbi-sra/h5ad_files/ERR6449978_GeneFull_raw.h5ad\n"
     ]
    },
    {
     "name": "stderr",
     "output_type": "stream",
     "text": [
      "/home/skolla/miniforge3/envs/scanpy/lib/python3.12/site-packages/anndata/_core/anndata.py:1820: UserWarning: Variable names are not unique. To make them unique, call `.var_names_make_unique`.\n",
      "  utils.warn_names_duplicates(\"var\")\n",
      "/home/skolla/miniforge3/envs/scanpy/lib/python3.12/site-packages/anndata/utils.py:260: UserWarning: Suffix used (-[0-9]+) to deduplicate index values may make index values difficult to interpret. There values with a similar suffixes in the index. Consider using a different delimiter by passing `join={delimiter}`Example key collisions generated by the make_index_unique algorithm: ['SNORD116-1', 'SNORD116-2', 'SNORD116-3', 'SNORD116-4', 'SNORD116-5']\n",
      "  warnings.warn(\n"
     ]
    },
    {
     "name": "stdout",
     "output_type": "stream",
     "text": [
      "Converted ERR6449979 to /mnt/LaCIE/skolla/sc-heart-consortium/ncbi-sra/h5ad_files/ERR6449979_GeneFull_raw.h5ad\n"
     ]
    },
    {
     "name": "stderr",
     "output_type": "stream",
     "text": [
      "/home/skolla/miniforge3/envs/scanpy/lib/python3.12/site-packages/anndata/_core/anndata.py:1820: UserWarning: Variable names are not unique. To make them unique, call `.var_names_make_unique`.\n",
      "  utils.warn_names_duplicates(\"var\")\n",
      "/home/skolla/miniforge3/envs/scanpy/lib/python3.12/site-packages/anndata/utils.py:260: UserWarning: Suffix used (-[0-9]+) to deduplicate index values may make index values difficult to interpret. There values with a similar suffixes in the index. Consider using a different delimiter by passing `join={delimiter}`Example key collisions generated by the make_index_unique algorithm: ['SNORD116-1', 'SNORD116-2', 'SNORD116-3', 'SNORD116-4', 'SNORD116-5']\n",
      "  warnings.warn(\n"
     ]
    },
    {
     "name": "stdout",
     "output_type": "stream",
     "text": [
      "Converted ERR6449980 to /mnt/LaCIE/skolla/sc-heart-consortium/ncbi-sra/h5ad_files/ERR6449980_GeneFull_raw.h5ad\n"
     ]
    },
    {
     "name": "stderr",
     "output_type": "stream",
     "text": [
      "/home/skolla/miniforge3/envs/scanpy/lib/python3.12/site-packages/anndata/_core/anndata.py:1820: UserWarning: Variable names are not unique. To make them unique, call `.var_names_make_unique`.\n",
      "  utils.warn_names_duplicates(\"var\")\n",
      "/home/skolla/miniforge3/envs/scanpy/lib/python3.12/site-packages/anndata/utils.py:260: UserWarning: Suffix used (-[0-9]+) to deduplicate index values may make index values difficult to interpret. There values with a similar suffixes in the index. Consider using a different delimiter by passing `join={delimiter}`Example key collisions generated by the make_index_unique algorithm: ['SNORD116-1', 'SNORD116-2', 'SNORD116-3', 'SNORD116-4', 'SNORD116-5']\n",
      "  warnings.warn(\n"
     ]
    },
    {
     "name": "stdout",
     "output_type": "stream",
     "text": [
      "Converted ERR6449981 to /mnt/LaCIE/skolla/sc-heart-consortium/ncbi-sra/h5ad_files/ERR6449981_GeneFull_raw.h5ad\n",
      "Required files missing in /mnt/LaCIE/skolla/sc-heart-consortium/ncbi-sra/mapped_files/ERR6449983/outputSolo.out/GeneFull/raw for ERR6449983. Skipping.\n"
     ]
    },
    {
     "name": "stderr",
     "output_type": "stream",
     "text": [
      "/home/skolla/miniforge3/envs/scanpy/lib/python3.12/site-packages/anndata/_core/anndata.py:1820: UserWarning: Variable names are not unique. To make them unique, call `.var_names_make_unique`.\n",
      "  utils.warn_names_duplicates(\"var\")\n",
      "/home/skolla/miniforge3/envs/scanpy/lib/python3.12/site-packages/anndata/utils.py:260: UserWarning: Suffix used (-[0-9]+) to deduplicate index values may make index values difficult to interpret. There values with a similar suffixes in the index. Consider using a different delimiter by passing `join={delimiter}`Example key collisions generated by the make_index_unique algorithm: ['SNORD116-1', 'SNORD116-2', 'SNORD116-3', 'SNORD116-4', 'SNORD116-5']\n",
      "  warnings.warn(\n"
     ]
    },
    {
     "name": "stdout",
     "output_type": "stream",
     "text": [
      "Converted ERR6449984 to /mnt/LaCIE/skolla/sc-heart-consortium/ncbi-sra/h5ad_files/ERR6449984_GeneFull_raw.h5ad\n"
     ]
    },
    {
     "name": "stderr",
     "output_type": "stream",
     "text": [
      "/home/skolla/miniforge3/envs/scanpy/lib/python3.12/site-packages/anndata/_core/anndata.py:1820: UserWarning: Variable names are not unique. To make them unique, call `.var_names_make_unique`.\n",
      "  utils.warn_names_duplicates(\"var\")\n",
      "/home/skolla/miniforge3/envs/scanpy/lib/python3.12/site-packages/anndata/utils.py:260: UserWarning: Suffix used (-[0-9]+) to deduplicate index values may make index values difficult to interpret. There values with a similar suffixes in the index. Consider using a different delimiter by passing `join={delimiter}`Example key collisions generated by the make_index_unique algorithm: ['SNORD116-1', 'SNORD116-2', 'SNORD116-3', 'SNORD116-4', 'SNORD116-5']\n",
      "  warnings.warn(\n"
     ]
    },
    {
     "name": "stdout",
     "output_type": "stream",
     "text": [
      "Converted ERR6449987 to /mnt/LaCIE/skolla/sc-heart-consortium/ncbi-sra/h5ad_files/ERR6449987_GeneFull_raw.h5ad\n"
     ]
    },
    {
     "name": "stderr",
     "output_type": "stream",
     "text": [
      "/home/skolla/miniforge3/envs/scanpy/lib/python3.12/site-packages/anndata/_core/anndata.py:1820: UserWarning: Variable names are not unique. To make them unique, call `.var_names_make_unique`.\n",
      "  utils.warn_names_duplicates(\"var\")\n",
      "/home/skolla/miniforge3/envs/scanpy/lib/python3.12/site-packages/anndata/utils.py:260: UserWarning: Suffix used (-[0-9]+) to deduplicate index values may make index values difficult to interpret. There values with a similar suffixes in the index. Consider using a different delimiter by passing `join={delimiter}`Example key collisions generated by the make_index_unique algorithm: ['SNORD116-1', 'SNORD116-2', 'SNORD116-3', 'SNORD116-4', 'SNORD116-5']\n",
      "  warnings.warn(\n"
     ]
    },
    {
     "name": "stdout",
     "output_type": "stream",
     "text": [
      "Converted ERR6449988 to /mnt/LaCIE/skolla/sc-heart-consortium/ncbi-sra/h5ad_files/ERR6449988_GeneFull_raw.h5ad\n"
     ]
    },
    {
     "name": "stderr",
     "output_type": "stream",
     "text": [
      "/home/skolla/miniforge3/envs/scanpy/lib/python3.12/site-packages/anndata/_core/anndata.py:1820: UserWarning: Variable names are not unique. To make them unique, call `.var_names_make_unique`.\n",
      "  utils.warn_names_duplicates(\"var\")\n",
      "/home/skolla/miniforge3/envs/scanpy/lib/python3.12/site-packages/anndata/utils.py:260: UserWarning: Suffix used (-[0-9]+) to deduplicate index values may make index values difficult to interpret. There values with a similar suffixes in the index. Consider using a different delimiter by passing `join={delimiter}`Example key collisions generated by the make_index_unique algorithm: ['SNORD116-1', 'SNORD116-2', 'SNORD116-3', 'SNORD116-4', 'SNORD116-5']\n",
      "  warnings.warn(\n"
     ]
    },
    {
     "name": "stdout",
     "output_type": "stream",
     "text": [
      "Converted ERR6449991 to /mnt/LaCIE/skolla/sc-heart-consortium/ncbi-sra/h5ad_files/ERR6449991_GeneFull_raw.h5ad\n"
     ]
    },
    {
     "name": "stderr",
     "output_type": "stream",
     "text": [
      "/home/skolla/miniforge3/envs/scanpy/lib/python3.12/site-packages/anndata/_core/anndata.py:1820: UserWarning: Variable names are not unique. To make them unique, call `.var_names_make_unique`.\n",
      "  utils.warn_names_duplicates(\"var\")\n",
      "/home/skolla/miniforge3/envs/scanpy/lib/python3.12/site-packages/anndata/utils.py:260: UserWarning: Suffix used (-[0-9]+) to deduplicate index values may make index values difficult to interpret. There values with a similar suffixes in the index. Consider using a different delimiter by passing `join={delimiter}`Example key collisions generated by the make_index_unique algorithm: ['SNORD116-1', 'SNORD116-2', 'SNORD116-3', 'SNORD116-4', 'SNORD116-5']\n",
      "  warnings.warn(\n"
     ]
    },
    {
     "name": "stdout",
     "output_type": "stream",
     "text": [
      "Converted ERR6449993 to /mnt/LaCIE/skolla/sc-heart-consortium/ncbi-sra/h5ad_files/ERR6449993_GeneFull_raw.h5ad\n"
     ]
    },
    {
     "name": "stderr",
     "output_type": "stream",
     "text": [
      "/home/skolla/miniforge3/envs/scanpy/lib/python3.12/site-packages/anndata/_core/anndata.py:1820: UserWarning: Variable names are not unique. To make them unique, call `.var_names_make_unique`.\n",
      "  utils.warn_names_duplicates(\"var\")\n",
      "/home/skolla/miniforge3/envs/scanpy/lib/python3.12/site-packages/anndata/utils.py:260: UserWarning: Suffix used (-[0-9]+) to deduplicate index values may make index values difficult to interpret. There values with a similar suffixes in the index. Consider using a different delimiter by passing `join={delimiter}`Example key collisions generated by the make_index_unique algorithm: ['SNORD116-1', 'SNORD116-2', 'SNORD116-3', 'SNORD116-4', 'SNORD116-5']\n",
      "  warnings.warn(\n"
     ]
    },
    {
     "name": "stdout",
     "output_type": "stream",
     "text": [
      "Converted ERR6449994 to /mnt/LaCIE/skolla/sc-heart-consortium/ncbi-sra/h5ad_files/ERR6449994_GeneFull_raw.h5ad\n"
     ]
    },
    {
     "name": "stderr",
     "output_type": "stream",
     "text": [
      "/home/skolla/miniforge3/envs/scanpy/lib/python3.12/site-packages/anndata/_core/anndata.py:1820: UserWarning: Variable names are not unique. To make them unique, call `.var_names_make_unique`.\n",
      "  utils.warn_names_duplicates(\"var\")\n",
      "/home/skolla/miniforge3/envs/scanpy/lib/python3.12/site-packages/anndata/utils.py:260: UserWarning: Suffix used (-[0-9]+) to deduplicate index values may make index values difficult to interpret. There values with a similar suffixes in the index. Consider using a different delimiter by passing `join={delimiter}`Example key collisions generated by the make_index_unique algorithm: ['SNORD116-1', 'SNORD116-2', 'SNORD116-3', 'SNORD116-4', 'SNORD116-5']\n",
      "  warnings.warn(\n"
     ]
    },
    {
     "name": "stdout",
     "output_type": "stream",
     "text": [
      "Converted ERR6449995 to /mnt/LaCIE/skolla/sc-heart-consortium/ncbi-sra/h5ad_files/ERR6449995_GeneFull_raw.h5ad\n"
     ]
    },
    {
     "name": "stderr",
     "output_type": "stream",
     "text": [
      "/home/skolla/miniforge3/envs/scanpy/lib/python3.12/site-packages/anndata/_core/anndata.py:1820: UserWarning: Variable names are not unique. To make them unique, call `.var_names_make_unique`.\n",
      "  utils.warn_names_duplicates(\"var\")\n",
      "/home/skolla/miniforge3/envs/scanpy/lib/python3.12/site-packages/anndata/utils.py:260: UserWarning: Suffix used (-[0-9]+) to deduplicate index values may make index values difficult to interpret. There values with a similar suffixes in the index. Consider using a different delimiter by passing `join={delimiter}`Example key collisions generated by the make_index_unique algorithm: ['SNORD116-1', 'SNORD116-2', 'SNORD116-3', 'SNORD116-4', 'SNORD116-5']\n",
      "  warnings.warn(\n"
     ]
    },
    {
     "name": "stdout",
     "output_type": "stream",
     "text": [
      "Converted ERR6450000 to /mnt/LaCIE/skolla/sc-heart-consortium/ncbi-sra/h5ad_files/ERR6450000_GeneFull_raw.h5ad\n"
     ]
    },
    {
     "name": "stderr",
     "output_type": "stream",
     "text": [
      "/home/skolla/miniforge3/envs/scanpy/lib/python3.12/site-packages/anndata/_core/anndata.py:1820: UserWarning: Variable names are not unique. To make them unique, call `.var_names_make_unique`.\n",
      "  utils.warn_names_duplicates(\"var\")\n",
      "/home/skolla/miniforge3/envs/scanpy/lib/python3.12/site-packages/anndata/utils.py:260: UserWarning: Suffix used (-[0-9]+) to deduplicate index values may make index values difficult to interpret. There values with a similar suffixes in the index. Consider using a different delimiter by passing `join={delimiter}`Example key collisions generated by the make_index_unique algorithm: ['SNORD116-1', 'SNORD116-2', 'SNORD116-3', 'SNORD116-4', 'SNORD116-5']\n",
      "  warnings.warn(\n"
     ]
    },
    {
     "name": "stdout",
     "output_type": "stream",
     "text": [
      "Converted ERR7423232 to /mnt/LaCIE/skolla/sc-heart-consortium/ncbi-sra/h5ad_files/ERR7423232_GeneFull_raw.h5ad\n"
     ]
    },
    {
     "name": "stderr",
     "output_type": "stream",
     "text": [
      "/home/skolla/miniforge3/envs/scanpy/lib/python3.12/site-packages/anndata/_core/anndata.py:1820: UserWarning: Variable names are not unique. To make them unique, call `.var_names_make_unique`.\n",
      "  utils.warn_names_duplicates(\"var\")\n",
      "/home/skolla/miniforge3/envs/scanpy/lib/python3.12/site-packages/anndata/utils.py:260: UserWarning: Suffix used (-[0-9]+) to deduplicate index values may make index values difficult to interpret. There values with a similar suffixes in the index. Consider using a different delimiter by passing `join={delimiter}`Example key collisions generated by the make_index_unique algorithm: ['SNORD116-1', 'SNORD116-2', 'SNORD116-3', 'SNORD116-4', 'SNORD116-5']\n",
      "  warnings.warn(\n"
     ]
    },
    {
     "name": "stdout",
     "output_type": "stream",
     "text": [
      "Converted ERR7423233 to /mnt/LaCIE/skolla/sc-heart-consortium/ncbi-sra/h5ad_files/ERR7423233_GeneFull_raw.h5ad\n"
     ]
    },
    {
     "name": "stderr",
     "output_type": "stream",
     "text": [
      "/home/skolla/miniforge3/envs/scanpy/lib/python3.12/site-packages/anndata/_core/anndata.py:1820: UserWarning: Variable names are not unique. To make them unique, call `.var_names_make_unique`.\n",
      "  utils.warn_names_duplicates(\"var\")\n",
      "/home/skolla/miniforge3/envs/scanpy/lib/python3.12/site-packages/anndata/utils.py:260: UserWarning: Suffix used (-[0-9]+) to deduplicate index values may make index values difficult to interpret. There values with a similar suffixes in the index. Consider using a different delimiter by passing `join={delimiter}`Example key collisions generated by the make_index_unique algorithm: ['SNORD116-1', 'SNORD116-2', 'SNORD116-3', 'SNORD116-4', 'SNORD116-5']\n",
      "  warnings.warn(\n"
     ]
    },
    {
     "name": "stdout",
     "output_type": "stream",
     "text": [
      "Converted ERR7423234 to /mnt/LaCIE/skolla/sc-heart-consortium/ncbi-sra/h5ad_files/ERR7423234_GeneFull_raw.h5ad\n"
     ]
    },
    {
     "name": "stderr",
     "output_type": "stream",
     "text": [
      "/home/skolla/miniforge3/envs/scanpy/lib/python3.12/site-packages/anndata/_core/anndata.py:1820: UserWarning: Variable names are not unique. To make them unique, call `.var_names_make_unique`.\n",
      "  utils.warn_names_duplicates(\"var\")\n",
      "/home/skolla/miniforge3/envs/scanpy/lib/python3.12/site-packages/anndata/utils.py:260: UserWarning: Suffix used (-[0-9]+) to deduplicate index values may make index values difficult to interpret. There values with a similar suffixes in the index. Consider using a different delimiter by passing `join={delimiter}`Example key collisions generated by the make_index_unique algorithm: ['SNORD116-1', 'SNORD116-2', 'SNORD116-3', 'SNORD116-4', 'SNORD116-5']\n",
      "  warnings.warn(\n"
     ]
    },
    {
     "name": "stdout",
     "output_type": "stream",
     "text": [
      "Converted ERR7423251 to /mnt/LaCIE/skolla/sc-heart-consortium/ncbi-sra/h5ad_files/ERR7423251_GeneFull_raw.h5ad\n"
     ]
    },
    {
     "name": "stderr",
     "output_type": "stream",
     "text": [
      "/home/skolla/miniforge3/envs/scanpy/lib/python3.12/site-packages/anndata/_core/anndata.py:1820: UserWarning: Variable names are not unique. To make them unique, call `.var_names_make_unique`.\n",
      "  utils.warn_names_duplicates(\"var\")\n",
      "/home/skolla/miniforge3/envs/scanpy/lib/python3.12/site-packages/anndata/utils.py:260: UserWarning: Suffix used (-[0-9]+) to deduplicate index values may make index values difficult to interpret. There values with a similar suffixes in the index. Consider using a different delimiter by passing `join={delimiter}`Example key collisions generated by the make_index_unique algorithm: ['SNORD116-1', 'SNORD116-2', 'SNORD116-3', 'SNORD116-4', 'SNORD116-5']\n",
      "  warnings.warn(\n"
     ]
    },
    {
     "name": "stdout",
     "output_type": "stream",
     "text": [
      "Converted ERR7423285 to /mnt/LaCIE/skolla/sc-heart-consortium/ncbi-sra/h5ad_files/ERR7423285_GeneFull_raw.h5ad\n"
     ]
    },
    {
     "name": "stderr",
     "output_type": "stream",
     "text": [
      "/home/skolla/miniforge3/envs/scanpy/lib/python3.12/site-packages/anndata/_core/anndata.py:1820: UserWarning: Variable names are not unique. To make them unique, call `.var_names_make_unique`.\n",
      "  utils.warn_names_duplicates(\"var\")\n",
      "/home/skolla/miniforge3/envs/scanpy/lib/python3.12/site-packages/anndata/utils.py:260: UserWarning: Suffix used (-[0-9]+) to deduplicate index values may make index values difficult to interpret. There values with a similar suffixes in the index. Consider using a different delimiter by passing `join={delimiter}`Example key collisions generated by the make_index_unique algorithm: ['SNORD116-1', 'SNORD116-2', 'SNORD116-3', 'SNORD116-4', 'SNORD116-5']\n",
      "  warnings.warn(\n"
     ]
    },
    {
     "name": "stdout",
     "output_type": "stream",
     "text": [
      "Converted ERR7423286 to /mnt/LaCIE/skolla/sc-heart-consortium/ncbi-sra/h5ad_files/ERR7423286_GeneFull_raw.h5ad\n"
     ]
    },
    {
     "name": "stderr",
     "output_type": "stream",
     "text": [
      "/home/skolla/miniforge3/envs/scanpy/lib/python3.12/site-packages/anndata/_core/anndata.py:1820: UserWarning: Variable names are not unique. To make them unique, call `.var_names_make_unique`.\n",
      "  utils.warn_names_duplicates(\"var\")\n",
      "/home/skolla/miniforge3/envs/scanpy/lib/python3.12/site-packages/anndata/utils.py:260: UserWarning: Suffix used (-[0-9]+) to deduplicate index values may make index values difficult to interpret. There values with a similar suffixes in the index. Consider using a different delimiter by passing `join={delimiter}`Example key collisions generated by the make_index_unique algorithm: ['SNORD116-1', 'SNORD116-2', 'SNORD116-3', 'SNORD116-4', 'SNORD116-5']\n",
      "  warnings.warn(\n"
     ]
    },
    {
     "name": "stdout",
     "output_type": "stream",
     "text": [
      "Converted ERR7423287 to /mnt/LaCIE/skolla/sc-heart-consortium/ncbi-sra/h5ad_files/ERR7423287_GeneFull_raw.h5ad\n",
      "Required files missing in /mnt/LaCIE/skolla/sc-heart-consortium/ncbi-sra/mapped_files/ERR7423290/outputSolo.out/GeneFull/raw for ERR7423290. Skipping.\n",
      "Required files missing in /mnt/LaCIE/skolla/sc-heart-consortium/ncbi-sra/mapped_files/ERR7423291/outputSolo.out/GeneFull/raw for ERR7423291. Skipping.\n",
      "Required files missing in /mnt/LaCIE/skolla/sc-heart-consortium/ncbi-sra/mapped_files/ERR7423298/outputSolo.out/GeneFull/raw for ERR7423298. Skipping.\n",
      "Required files missing in /mnt/LaCIE/skolla/sc-heart-consortium/ncbi-sra/mapped_files/ERR7423299/outputSolo.out/GeneFull/raw for ERR7423299. Skipping.\n",
      "Required files missing in /mnt/LaCIE/skolla/sc-heart-consortium/ncbi-sra/mapped_files/ERR7423301/outputSolo.out/GeneFull/raw for ERR7423301. Skipping.\n",
      "Required files missing in /mnt/LaCIE/skolla/sc-heart-consortium/ncbi-sra/mapped_files/ERR7423305/outputSolo.out/GeneFull/raw for ERR7423305. Skipping.\n",
      "Required files missing in /mnt/LaCIE/skolla/sc-heart-consortium/ncbi-sra/mapped_files/ERR7423306/outputSolo.out/GeneFull/raw for ERR7423306. Skipping.\n",
      "Required files missing in /mnt/LaCIE/skolla/sc-heart-consortium/ncbi-sra/mapped_files/ERR7423308/outputSolo.out/GeneFull/raw for ERR7423308. Skipping.\n",
      "Required files missing in /mnt/LaCIE/skolla/sc-heart-consortium/ncbi-sra/mapped_files/ERR7423324/outputSolo.out/GeneFull/raw for ERR7423324. Skipping.\n",
      "Required files missing in /mnt/LaCIE/skolla/sc-heart-consortium/ncbi-sra/mapped_files/ERR7423328/outputSolo.out/GeneFull/raw for ERR7423328. Skipping.\n",
      "Required files missing in /mnt/LaCIE/skolla/sc-heart-consortium/ncbi-sra/mapped_files/ERR7423329/outputSolo.out/GeneFull/raw for ERR7423329. Skipping.\n",
      "Required files missing in /mnt/LaCIE/skolla/sc-heart-consortium/ncbi-sra/mapped_files/ERR7423331/outputSolo.out/GeneFull/raw for ERR7423331. Skipping.\n",
      "Required files missing in /mnt/LaCIE/skolla/sc-heart-consortium/ncbi-sra/mapped_files/ERR7423333/outputSolo.out/GeneFull/raw for ERR7423333. Skipping.\n",
      "Required files missing in /mnt/LaCIE/skolla/sc-heart-consortium/ncbi-sra/mapped_files/ERR7423334/outputSolo.out/GeneFull/raw for ERR7423334. Skipping.\n",
      "Required files missing in /mnt/LaCIE/skolla/sc-heart-consortium/ncbi-sra/mapped_files/ERR7423337/outputSolo.out/GeneFull/raw for ERR7423337. Skipping.\n",
      "Required files missing in /mnt/LaCIE/skolla/sc-heart-consortium/ncbi-sra/mapped_files/ERR7423338/outputSolo.out/GeneFull/raw for ERR7423338. Skipping.\n",
      "Required files missing in /mnt/LaCIE/skolla/sc-heart-consortium/ncbi-sra/mapped_files/ERR7423339/outputSolo.out/GeneFull/raw for ERR7423339. Skipping.\n",
      "Required files missing in /mnt/LaCIE/skolla/sc-heart-consortium/ncbi-sra/mapped_files/ERR7423340/outputSolo.out/GeneFull/raw for ERR7423340. Skipping.\n",
      "Required files missing in /mnt/LaCIE/skolla/sc-heart-consortium/ncbi-sra/mapped_files/ERR7423341/outputSolo.out/GeneFull/raw for ERR7423341. Skipping.\n",
      "Required files missing in /mnt/LaCIE/skolla/sc-heart-consortium/ncbi-sra/mapped_files/ERR7423343/outputSolo.out/GeneFull/raw for ERR7423343. Skipping.\n",
      "Required files missing in /mnt/LaCIE/skolla/sc-heart-consortium/ncbi-sra/mapped_files/ERR7423344/outputSolo.out/GeneFull/raw for ERR7423344. Skipping.\n",
      "Required files missing in /mnt/LaCIE/skolla/sc-heart-consortium/ncbi-sra/mapped_files/ERR7423346/outputSolo.out/GeneFull/raw for ERR7423346. Skipping.\n",
      "Required files missing in /mnt/LaCIE/skolla/sc-heart-consortium/ncbi-sra/mapped_files/ERR7423349/outputSolo.out/GeneFull/raw for ERR7423349. Skipping.\n",
      "Required files missing in /mnt/LaCIE/skolla/sc-heart-consortium/ncbi-sra/mapped_files/ERR7423366/outputSolo.out/GeneFull/raw for ERR7423366. Skipping.\n",
      "Required files missing in /mnt/LaCIE/skolla/sc-heart-consortium/ncbi-sra/mapped_files/ERR7423367/outputSolo.out/GeneFull/raw for ERR7423367. Skipping.\n",
      "Required files missing in /mnt/LaCIE/skolla/sc-heart-consortium/ncbi-sra/mapped_files/ERR7423368/outputSolo.out/GeneFull/raw for ERR7423368. Skipping.\n",
      "Required files missing in /mnt/LaCIE/skolla/sc-heart-consortium/ncbi-sra/mapped_files/ERR7423369/outputSolo.out/GeneFull/raw for ERR7423369. Skipping.\n",
      "Required files missing in /mnt/LaCIE/skolla/sc-heart-consortium/ncbi-sra/mapped_files/ERR7423373/outputSolo.out/GeneFull/raw for ERR7423373. Skipping.\n",
      "Required files missing in /mnt/LaCIE/skolla/sc-heart-consortium/ncbi-sra/mapped_files/ERR7423374/outputSolo.out/GeneFull/raw for ERR7423374. Skipping.\n",
      "Required files missing in /mnt/LaCIE/skolla/sc-heart-consortium/ncbi-sra/mapped_files/ERR7423375/outputSolo.out/GeneFull/raw for ERR7423375. Skipping.\n",
      "Required files missing in /mnt/LaCIE/skolla/sc-heart-consortium/ncbi-sra/mapped_files/ERR7423376/outputSolo.out/GeneFull/raw for ERR7423376. Skipping.\n",
      "Required files missing in /mnt/LaCIE/skolla/sc-heart-consortium/ncbi-sra/mapped_files/ERR7423378/outputSolo.out/GeneFull/raw for ERR7423378. Skipping.\n",
      "Required files missing in /mnt/LaCIE/skolla/sc-heart-consortium/ncbi-sra/mapped_files/ERR7423398/outputSolo.out/GeneFull/raw for ERR7423398. Skipping.\n",
      "Required files missing in /mnt/LaCIE/skolla/sc-heart-consortium/ncbi-sra/mapped_files/ERR7423400/outputSolo.out/GeneFull/raw for ERR7423400. Skipping.\n",
      "Required files missing in /mnt/LaCIE/skolla/sc-heart-consortium/ncbi-sra/mapped_files/ERR7423402/outputSolo.out/GeneFull/raw for ERR7423402. Skipping.\n",
      "Required files missing in /mnt/LaCIE/skolla/sc-heart-consortium/ncbi-sra/mapped_files/ERR7423404/outputSolo.out/GeneFull/raw for ERR7423404. Skipping.\n",
      "Required files missing in /mnt/LaCIE/skolla/sc-heart-consortium/ncbi-sra/mapped_files/ERR7423413/outputSolo.out/GeneFull/raw for ERR7423413. Skipping.\n",
      "Required files missing in /mnt/LaCIE/skolla/sc-heart-consortium/ncbi-sra/mapped_files/ERR7423414/outputSolo.out/GeneFull/raw for ERR7423414. Skipping.\n",
      "Required files missing in /mnt/LaCIE/skolla/sc-heart-consortium/ncbi-sra/mapped_files/ERR7423419/outputSolo.out/GeneFull/raw for ERR7423419. Skipping.\n",
      "Required files missing in /mnt/LaCIE/skolla/sc-heart-consortium/ncbi-sra/mapped_files/ERR7423421/outputSolo.out/GeneFull/raw for ERR7423421. Skipping.\n",
      "Required files missing in /mnt/LaCIE/skolla/sc-heart-consortium/ncbi-sra/mapped_files/ERR7423427/outputSolo.out/GeneFull/raw for ERR7423427. Skipping.\n",
      "Required files missing in /mnt/LaCIE/skolla/sc-heart-consortium/ncbi-sra/mapped_files/ERR7423428/outputSolo.out/GeneFull/raw for ERR7423428. Skipping.\n",
      "Required files missing in /mnt/LaCIE/skolla/sc-heart-consortium/ncbi-sra/mapped_files/ERR7423429/outputSolo.out/GeneFull/raw for ERR7423429. Skipping.\n",
      "Required files missing in /mnt/LaCIE/skolla/sc-heart-consortium/ncbi-sra/mapped_files/ERR7423433/outputSolo.out/GeneFull/raw for ERR7423433. Skipping.\n",
      "Required files missing in /mnt/LaCIE/skolla/sc-heart-consortium/ncbi-sra/mapped_files/ERR7423434/outputSolo.out/GeneFull/raw for ERR7423434. Skipping.\n",
      "Required files missing in /mnt/LaCIE/skolla/sc-heart-consortium/ncbi-sra/mapped_files/ERR7423435/outputSolo.out/GeneFull/raw for ERR7423435. Skipping.\n",
      "Required files missing in /mnt/LaCIE/skolla/sc-heart-consortium/ncbi-sra/mapped_files/ERR7423436/outputSolo.out/GeneFull/raw for ERR7423436. Skipping.\n",
      "Required files missing in /mnt/LaCIE/skolla/sc-heart-consortium/ncbi-sra/mapped_files/ERR7423438/outputSolo.out/GeneFull/raw for ERR7423438. Skipping.\n",
      "Required files missing in /mnt/LaCIE/skolla/sc-heart-consortium/ncbi-sra/mapped_files/ERR7423441/outputSolo.out/GeneFull/raw for ERR7423441. Skipping.\n",
      "Required files missing in /mnt/LaCIE/skolla/sc-heart-consortium/ncbi-sra/mapped_files/ERR7423442/outputSolo.out/GeneFull/raw for ERR7423442. Skipping.\n",
      "Required files missing in /mnt/LaCIE/skolla/sc-heart-consortium/ncbi-sra/mapped_files/ERR7423453/outputSolo.out/GeneFull/raw for ERR7423453. Skipping.\n",
      "Required files missing in /mnt/LaCIE/skolla/sc-heart-consortium/ncbi-sra/mapped_files/ERR7423454/outputSolo.out/GeneFull/raw for ERR7423454. Skipping.\n",
      "Required files missing in /mnt/LaCIE/skolla/sc-heart-consortium/ncbi-sra/mapped_files/ERR7423455/outputSolo.out/GeneFull/raw for ERR7423455. Skipping.\n",
      "Required files missing in /mnt/LaCIE/skolla/sc-heart-consortium/ncbi-sra/mapped_files/ERR7423456/outputSolo.out/GeneFull/raw for ERR7423456. Skipping.\n",
      "Required files missing in /mnt/LaCIE/skolla/sc-heart-consortium/ncbi-sra/mapped_files/ERR7423457/outputSolo.out/GeneFull/raw for ERR7423457. Skipping.\n",
      "Required files missing in /mnt/LaCIE/skolla/sc-heart-consortium/ncbi-sra/mapped_files/ERR7423465/outputSolo.out/GeneFull/raw for ERR7423465. Skipping.\n",
      "Required files missing in /mnt/LaCIE/skolla/sc-heart-consortium/ncbi-sra/mapped_files/ERR7423468/outputSolo.out/GeneFull/raw for ERR7423468. Skipping.\n",
      "Required files missing in /mnt/LaCIE/skolla/sc-heart-consortium/ncbi-sra/mapped_files/ERR7423469/outputSolo.out/GeneFull/raw for ERR7423469. Skipping.\n",
      "Required files missing in /mnt/LaCIE/skolla/sc-heart-consortium/ncbi-sra/mapped_files/ERR7423471/outputSolo.out/GeneFull/raw for ERR7423471. Skipping.\n",
      "Required files missing in /mnt/LaCIE/skolla/sc-heart-consortium/ncbi-sra/mapped_files/ERR7423487/outputSolo.out/GeneFull/raw for ERR7423487. Skipping.\n",
      "Required files missing in /mnt/LaCIE/skolla/sc-heart-consortium/ncbi-sra/mapped_files/ERR7423238/outputSolo.out/GeneFull/raw for ERR7423238. Skipping.\n",
      "Required files missing in /mnt/LaCIE/skolla/sc-heart-consortium/ncbi-sra/mapped_files/ERR7423239/outputSolo.out/GeneFull/raw for ERR7423239. Skipping.\n",
      "Required files missing in /mnt/LaCIE/skolla/sc-heart-consortium/ncbi-sra/mapped_files/ERR7423240/outputSolo.out/GeneFull/raw for ERR7423240. Skipping.\n",
      "Required files missing in /mnt/LaCIE/skolla/sc-heart-consortium/ncbi-sra/mapped_files/ERR7423242/outputSolo.out/GeneFull/raw for ERR7423242. Skipping.\n",
      "Required files missing in /mnt/LaCIE/skolla/sc-heart-consortium/ncbi-sra/mapped_files/ERR7423244/outputSolo.out/GeneFull/raw for ERR7423244. Skipping.\n",
      "Required files missing in /mnt/LaCIE/skolla/sc-heart-consortium/ncbi-sra/mapped_files/ERR7423247/outputSolo.out/GeneFull/raw for ERR7423247. Skipping.\n",
      "Required files missing in /mnt/LaCIE/skolla/sc-heart-consortium/ncbi-sra/mapped_files/ERR7423248/outputSolo.out/GeneFull/raw for ERR7423248. Skipping.\n",
      "Required files missing in /mnt/LaCIE/skolla/sc-heart-consortium/ncbi-sra/mapped_files/ERR7423249/outputSolo.out/GeneFull/raw for ERR7423249. Skipping.\n",
      "Required files missing in /mnt/LaCIE/skolla/sc-heart-consortium/ncbi-sra/mapped_files/ERR7423250/outputSolo.out/GeneFull/raw for ERR7423250. Skipping.\n",
      "Required files missing in /mnt/LaCIE/skolla/sc-heart-consortium/ncbi-sra/mapped_files/ERR7423253/outputSolo.out/GeneFull/raw for ERR7423253. Skipping.\n",
      "Required files missing in /mnt/LaCIE/skolla/sc-heart-consortium/ncbi-sra/mapped_files/ERR7423255/outputSolo.out/GeneFull/raw for ERR7423255. Skipping.\n",
      "Required files missing in /mnt/LaCIE/skolla/sc-heart-consortium/ncbi-sra/mapped_files/ERR7423256/outputSolo.out/GeneFull/raw for ERR7423256. Skipping.\n",
      "Required files missing in /mnt/LaCIE/skolla/sc-heart-consortium/ncbi-sra/mapped_files/ERR7423257/outputSolo.out/GeneFull/raw for ERR7423257. Skipping.\n",
      "Required files missing in /mnt/LaCIE/skolla/sc-heart-consortium/ncbi-sra/mapped_files/ERR7423259/outputSolo.out/GeneFull/raw for ERR7423259. Skipping.\n",
      "Required files missing in /mnt/LaCIE/skolla/sc-heart-consortium/ncbi-sra/mapped_files/ERR7423261/outputSolo.out/GeneFull/raw for ERR7423261. Skipping.\n",
      "Required files missing in /mnt/LaCIE/skolla/sc-heart-consortium/ncbi-sra/mapped_files/ERR7423263/outputSolo.out/GeneFull/raw for ERR7423263. Skipping.\n",
      "Required files missing in /mnt/LaCIE/skolla/sc-heart-consortium/ncbi-sra/mapped_files/ERR7423264/outputSolo.out/GeneFull/raw for ERR7423264. Skipping.\n",
      "Required files missing in /mnt/LaCIE/skolla/sc-heart-consortium/ncbi-sra/mapped_files/ERR7423266/outputSolo.out/GeneFull/raw for ERR7423266. Skipping.\n",
      "Required files missing in /mnt/LaCIE/skolla/sc-heart-consortium/ncbi-sra/mapped_files/ERR7423267/outputSolo.out/GeneFull/raw for ERR7423267. Skipping.\n",
      "Required files missing in /mnt/LaCIE/skolla/sc-heart-consortium/ncbi-sra/mapped_files/ERR7423269/outputSolo.out/GeneFull/raw for ERR7423269. Skipping.\n",
      "Required files missing in /mnt/LaCIE/skolla/sc-heart-consortium/ncbi-sra/mapped_files/ERR7423271/outputSolo.out/GeneFull/raw for ERR7423271. Skipping.\n",
      "Required files missing in /mnt/LaCIE/skolla/sc-heart-consortium/ncbi-sra/mapped_files/ERR7423272/outputSolo.out/GeneFull/raw for ERR7423272. Skipping.\n",
      "Required files missing in /mnt/LaCIE/skolla/sc-heart-consortium/ncbi-sra/mapped_files/ERR7423273/outputSolo.out/GeneFull/raw for ERR7423273. Skipping.\n",
      "Required files missing in /mnt/LaCIE/skolla/sc-heart-consortium/ncbi-sra/mapped_files/ERR7423274/outputSolo.out/GeneFull/raw for ERR7423274. Skipping.\n",
      "Required files missing in /mnt/LaCIE/skolla/sc-heart-consortium/ncbi-sra/mapped_files/ERR7423275/outputSolo.out/GeneFull/raw for ERR7423275. Skipping.\n",
      "Required files missing in /mnt/LaCIE/skolla/sc-heart-consortium/ncbi-sra/mapped_files/ERR7423276/outputSolo.out/GeneFull/raw for ERR7423276. Skipping.\n",
      "Required files missing in /mnt/LaCIE/skolla/sc-heart-consortium/ncbi-sra/mapped_files/ERR7423278/outputSolo.out/GeneFull/raw for ERR7423278. Skipping.\n",
      "Required files missing in /mnt/LaCIE/skolla/sc-heart-consortium/ncbi-sra/mapped_files/ERR7423280/outputSolo.out/GeneFull/raw for ERR7423280. Skipping.\n",
      "Required files missing in /mnt/LaCIE/skolla/sc-heart-consortium/ncbi-sra/mapped_files/ERR7423282/outputSolo.out/GeneFull/raw for ERR7423282. Skipping.\n",
      "Required files missing in /mnt/LaCIE/skolla/sc-heart-consortium/ncbi-sra/mapped_files/ERR7423283/outputSolo.out/GeneFull/raw for ERR7423283. Skipping.\n",
      "Required files missing in /mnt/LaCIE/skolla/sc-heart-consortium/ncbi-sra/mapped_files/ERR7423309/outputSolo.out/GeneFull/raw for ERR7423309. Skipping.\n",
      "Required files missing in /mnt/LaCIE/skolla/sc-heart-consortium/ncbi-sra/mapped_files/ERR7423310/outputSolo.out/GeneFull/raw for ERR7423310. Skipping.\n",
      "Required files missing in /mnt/LaCIE/skolla/sc-heart-consortium/ncbi-sra/mapped_files/ERR7423314/outputSolo.out/GeneFull/raw for ERR7423314. Skipping.\n",
      "Required files missing in /mnt/LaCIE/skolla/sc-heart-consortium/ncbi-sra/mapped_files/ERR7423315/outputSolo.out/GeneFull/raw for ERR7423315. Skipping.\n",
      "Required files missing in /mnt/LaCIE/skolla/sc-heart-consortium/ncbi-sra/mapped_files/ERR7423317/outputSolo.out/GeneFull/raw for ERR7423317. Skipping.\n",
      "Required files missing in /mnt/LaCIE/skolla/sc-heart-consortium/ncbi-sra/mapped_files/ERR7423321/outputSolo.out/GeneFull/raw for ERR7423321. Skipping.\n",
      "Required files missing in /mnt/LaCIE/skolla/sc-heart-consortium/ncbi-sra/mapped_files/ERR7423323/outputSolo.out/GeneFull/raw for ERR7423323. Skipping.\n",
      "Required files missing in /mnt/LaCIE/skolla/sc-heart-consortium/ncbi-sra/mapped_files/ERR7423352/outputSolo.out/GeneFull/raw for ERR7423352. Skipping.\n",
      "Required files missing in /mnt/LaCIE/skolla/sc-heart-consortium/ncbi-sra/mapped_files/ERR7423353/outputSolo.out/GeneFull/raw for ERR7423353. Skipping.\n",
      "Required files missing in /mnt/LaCIE/skolla/sc-heart-consortium/ncbi-sra/mapped_files/ERR7423354/outputSolo.out/GeneFull/raw for ERR7423354. Skipping.\n",
      "Required files missing in /mnt/LaCIE/skolla/sc-heart-consortium/ncbi-sra/mapped_files/ERR7423358/outputSolo.out/GeneFull/raw for ERR7423358. Skipping.\n",
      "Required files missing in /mnt/LaCIE/skolla/sc-heart-consortium/ncbi-sra/mapped_files/ERR7423359/outputSolo.out/GeneFull/raw for ERR7423359. Skipping.\n",
      "Required files missing in /mnt/LaCIE/skolla/sc-heart-consortium/ncbi-sra/mapped_files/ERR7423360/outputSolo.out/GeneFull/raw for ERR7423360. Skipping.\n",
      "Required files missing in /mnt/LaCIE/skolla/sc-heart-consortium/ncbi-sra/mapped_files/ERR7423363/outputSolo.out/GeneFull/raw for ERR7423363. Skipping.\n",
      "Required files missing in /mnt/LaCIE/skolla/sc-heart-consortium/ncbi-sra/mapped_files/ERR7423364/outputSolo.out/GeneFull/raw for ERR7423364. Skipping.\n",
      "Required files missing in /mnt/LaCIE/skolla/sc-heart-consortium/ncbi-sra/mapped_files/ERR7423365/outputSolo.out/GeneFull/raw for ERR7423365. Skipping.\n",
      "Required files missing in /mnt/LaCIE/skolla/sc-heart-consortium/ncbi-sra/mapped_files/ERR7423379/outputSolo.out/GeneFull/raw for ERR7423379. Skipping.\n",
      "Required files missing in /mnt/LaCIE/skolla/sc-heart-consortium/ncbi-sra/mapped_files/ERR7423380/outputSolo.out/GeneFull/raw for ERR7423380. Skipping.\n",
      "Required files missing in /mnt/LaCIE/skolla/sc-heart-consortium/ncbi-sra/mapped_files/ERR7423382/outputSolo.out/GeneFull/raw for ERR7423382. Skipping.\n",
      "Required files missing in /mnt/LaCIE/skolla/sc-heart-consortium/ncbi-sra/mapped_files/ERR7423385/outputSolo.out/GeneFull/raw for ERR7423385. Skipping.\n",
      "Required files missing in /mnt/LaCIE/skolla/sc-heart-consortium/ncbi-sra/mapped_files/ERR7423387/outputSolo.out/GeneFull/raw for ERR7423387. Skipping.\n",
      "Required files missing in /mnt/LaCIE/skolla/sc-heart-consortium/ncbi-sra/mapped_files/ERR7423390/outputSolo.out/GeneFull/raw for ERR7423390. Skipping.\n",
      "Required files missing in /mnt/LaCIE/skolla/sc-heart-consortium/ncbi-sra/mapped_files/ERR7423392/outputSolo.out/GeneFull/raw for ERR7423392. Skipping.\n",
      "Required files missing in /mnt/LaCIE/skolla/sc-heart-consortium/ncbi-sra/mapped_files/ERR7423395/outputSolo.out/GeneFull/raw for ERR7423395. Skipping.\n",
      "Required files missing in /mnt/LaCIE/skolla/sc-heart-consortium/ncbi-sra/mapped_files/ERR7423396/outputSolo.out/GeneFull/raw for ERR7423396. Skipping.\n",
      "Required files missing in /mnt/LaCIE/skolla/sc-heart-consortium/ncbi-sra/mapped_files/ERR7423406/outputSolo.out/GeneFull/raw for ERR7423406. Skipping.\n",
      "Required files missing in /mnt/LaCIE/skolla/sc-heart-consortium/ncbi-sra/mapped_files/ERR7423407/outputSolo.out/GeneFull/raw for ERR7423407. Skipping.\n",
      "Required files missing in /mnt/LaCIE/skolla/sc-heart-consortium/ncbi-sra/mapped_files/ERR7423416/outputSolo.out/GeneFull/raw for ERR7423416. Skipping.\n",
      "Required files missing in /mnt/LaCIE/skolla/sc-heart-consortium/ncbi-sra/mapped_files/ERR7423417/outputSolo.out/GeneFull/raw for ERR7423417. Skipping.\n",
      "Required files missing in /mnt/LaCIE/skolla/sc-heart-consortium/ncbi-sra/mapped_files/ERR7423422/outputSolo.out/GeneFull/raw for ERR7423422. Skipping.\n",
      "Required files missing in /mnt/LaCIE/skolla/sc-heart-consortium/ncbi-sra/mapped_files/ERR7423424/outputSolo.out/GeneFull/raw for ERR7423424. Skipping.\n",
      "Required files missing in /mnt/LaCIE/skolla/sc-heart-consortium/ncbi-sra/mapped_files/ERR7423425/outputSolo.out/GeneFull/raw for ERR7423425. Skipping.\n",
      "Required files missing in /mnt/LaCIE/skolla/sc-heart-consortium/ncbi-sra/mapped_files/ERR7423426/outputSolo.out/GeneFull/raw for ERR7423426. Skipping.\n",
      "Required files missing in /mnt/LaCIE/skolla/sc-heart-consortium/ncbi-sra/mapped_files/ERR7423443/outputSolo.out/GeneFull/raw for ERR7423443. Skipping.\n",
      "Required files missing in /mnt/LaCIE/skolla/sc-heart-consortium/ncbi-sra/mapped_files/ERR7423444/outputSolo.out/GeneFull/raw for ERR7423444. Skipping.\n",
      "Required files missing in /mnt/LaCIE/skolla/sc-heart-consortium/ncbi-sra/mapped_files/ERR7423448/outputSolo.out/GeneFull/raw for ERR7423448. Skipping.\n",
      "Required files missing in /mnt/LaCIE/skolla/sc-heart-consortium/ncbi-sra/mapped_files/ERR7423449/outputSolo.out/GeneFull/raw for ERR7423449. Skipping.\n",
      "Required files missing in /mnt/LaCIE/skolla/sc-heart-consortium/ncbi-sra/mapped_files/ERR7423450/outputSolo.out/GeneFull/raw for ERR7423450. Skipping.\n",
      "Required files missing in /mnt/LaCIE/skolla/sc-heart-consortium/ncbi-sra/mapped_files/ERR7423451/outputSolo.out/GeneFull/raw for ERR7423451. Skipping.\n",
      "Required files missing in /mnt/LaCIE/skolla/sc-heart-consortium/ncbi-sra/mapped_files/ERR7423452/outputSolo.out/GeneFull/raw for ERR7423452. Skipping.\n",
      "Required files missing in /mnt/LaCIE/skolla/sc-heart-consortium/ncbi-sra/mapped_files/ERR7423458/outputSolo.out/GeneFull/raw for ERR7423458. Skipping.\n",
      "Required files missing in /mnt/LaCIE/skolla/sc-heart-consortium/ncbi-sra/mapped_files/ERR7423459/outputSolo.out/GeneFull/raw for ERR7423459. Skipping.\n",
      "Required files missing in /mnt/LaCIE/skolla/sc-heart-consortium/ncbi-sra/mapped_files/ERR7423460/outputSolo.out/GeneFull/raw for ERR7423460. Skipping.\n",
      "Required files missing in /mnt/LaCIE/skolla/sc-heart-consortium/ncbi-sra/mapped_files/ERR7423461/outputSolo.out/GeneFull/raw for ERR7423461. Skipping.\n",
      "Required files missing in /mnt/LaCIE/skolla/sc-heart-consortium/ncbi-sra/mapped_files/ERR7423462/outputSolo.out/GeneFull/raw for ERR7423462. Skipping.\n",
      "Required files missing in /mnt/LaCIE/skolla/sc-heart-consortium/ncbi-sra/mapped_files/ERR7423463/outputSolo.out/GeneFull/raw for ERR7423463. Skipping.\n",
      "Required files missing in /mnt/LaCIE/skolla/sc-heart-consortium/ncbi-sra/mapped_files/ERR7423464/outputSolo.out/GeneFull/raw for ERR7423464. Skipping.\n",
      "Required files missing in /mnt/LaCIE/skolla/sc-heart-consortium/ncbi-sra/mapped_files/ERR7423474/outputSolo.out/GeneFull/raw for ERR7423474. Skipping.\n",
      "Required files missing in /mnt/LaCIE/skolla/sc-heart-consortium/ncbi-sra/mapped_files/ERR7423475/outputSolo.out/GeneFull/raw for ERR7423475. Skipping.\n",
      "Required files missing in /mnt/LaCIE/skolla/sc-heart-consortium/ncbi-sra/mapped_files/ERR7423476/outputSolo.out/GeneFull/raw for ERR7423476. Skipping.\n",
      "Required files missing in /mnt/LaCIE/skolla/sc-heart-consortium/ncbi-sra/mapped_files/ERR7423479/outputSolo.out/GeneFull/raw for ERR7423479. Skipping.\n",
      "Required files missing in /mnt/LaCIE/skolla/sc-heart-consortium/ncbi-sra/mapped_files/ERR7423480/outputSolo.out/GeneFull/raw for ERR7423480. Skipping.\n",
      "Required files missing in /mnt/LaCIE/skolla/sc-heart-consortium/ncbi-sra/mapped_files/ERR7423481/outputSolo.out/GeneFull/raw for ERR7423481. Skipping.\n",
      "Required files missing in /mnt/LaCIE/skolla/sc-heart-consortium/ncbi-sra/mapped_files/ERR7423484/outputSolo.out/GeneFull/raw for ERR7423484. Skipping.\n",
      "Required files missing in /mnt/LaCIE/skolla/sc-heart-consortium/ncbi-sra/mapped_files/ERR7423486/outputSolo.out/GeneFull/raw for ERR7423486. Skipping.\n",
      "Conversion complete for specified folders.\n"
     ]
    }
   ],
   "source": [
    "def convert_selected_to_h5ad_from_genefull(parent_folder, output_folder, folders):\n",
    "    \"\"\"Convert GeneFull/raw data to H5AD format for specified folders in the parent directory.\"\"\"\n",
    "\n",
    "    for sample_folder in folders:\n",
    "        sample_path = os.path.join(parent_folder, sample_folder)\n",
    "        \n",
    "       \n",
    "        gene_dir = os.path.join(sample_path, 'outputSolo.out', 'GeneFull', 'raw')\n",
    "        \n",
    "\n",
    "        obs_file = os.path.join(gene_dir, 'barcodes.tsv')\n",
    "        var_file = os.path.join(gene_dir, 'features.tsv')\n",
    "        spliced_file = os.path.join(gene_dir, 'matrix.mtx')  \n",
    "        if not (os.path.isdir(gene_dir) and os.path.isfile(obs_file) and os.path.isfile(var_file) and os.path.isfile(spliced_file)):\n",
    "            print(f\"Required files missing in {gene_dir} for {sample_folder}. Skipping.\")\n",
    "            continue\n",
    "\n",
    "\n",
    "        obs = pd.read_csv(obs_file, header=None, index_col=0)\n",
    "        obs.index.name = None  \n",
    "        \n",
    "        var = pd.read_csv(var_file, sep='\\t', names=['gene_ids', 'gene_names', 'gene_types'], index_col=1)\n",
    "        var.index.name = None  \n",
    "\n",
    "        \n",
    "        spliced = scipy.sparse.csr_matrix(scipy.io.mmread(spliced_file).T)\n",
    "\n",
    "        adata = anndata.AnnData(X=spliced, obs=obs, var=var)\n",
    "        adata.layers['spliced'] = spliced\n",
    "        adata.var_names_make_unique()\n",
    "\n",
    "\n",
    "        os.makedirs(output_folder, exist_ok=True)\n",
    "        output_file_path = os.path.join(output_folder, f\"{sample_folder}_GeneFull_raw.h5ad\")\n",
    "        adata.write_h5ad(output_file_path)\n",
    "        print(f\"Converted {sample_folder} to {output_file_path}\")\n",
    "\n",
    "    print(\"Conversion complete for specified folders.\")\n",
    "\n",
    "\n",
    "output_folder = '/mnt/LaCIE/skolla/sc-heart-consortium/ncbi-sra/h5ad_files'\n",
    "\n",
    "convert_selected_to_h5ad_from_genefull(parent_folder, output_folder, folders)"
   ]
  }
 ],
 "metadata": {
  "kernelspec": {
   "display_name": "scanpy",
   "language": "python",
   "name": "python3"
  },
  "language_info": {
   "codemirror_mode": {
    "name": "ipython",
    "version": 3
   },
   "file_extension": ".py",
   "mimetype": "text/x-python",
   "name": "python",
   "nbconvert_exporter": "python",
   "pygments_lexer": "ipython3",
   "version": "3.12.4"
  }
 },
 "nbformat": 4,
 "nbformat_minor": 2
}
