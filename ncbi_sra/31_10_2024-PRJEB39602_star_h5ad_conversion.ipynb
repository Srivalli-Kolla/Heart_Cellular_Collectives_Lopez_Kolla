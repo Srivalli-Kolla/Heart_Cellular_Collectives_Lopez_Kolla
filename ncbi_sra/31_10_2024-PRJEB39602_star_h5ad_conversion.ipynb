{
 "cells": [
  {
   "cell_type": "markdown",
   "metadata": {},
   "source": [
    "# Notebook to convert STAR output files to h5ad files for SRA Project - PRJEB39602 - D3\n",
    "\n",
    "- **Developed by**: Srivalli Kolla\n",
    "\n",
    "- **Created date** : 31 October, 2024\n",
    "\n",
    "- **Modification date** : 05 November, 2024\n",
    "\n",
    "- **Würzburg Institute for Systems Immunology & Julius-Maximilian-Universität Würzburg**"
   ]
  },
  {
   "cell_type": "markdown",
   "metadata": {},
   "source": [
    "Env : Scanpy(Python 3.12.4)"
   ]
  },
  {
   "cell_type": "markdown",
   "metadata": {},
   "source": [
    "# Import Packages"
   ]
  },
  {
   "cell_type": "code",
   "execution_count": 1,
   "metadata": {},
   "outputs": [],
   "source": [
    "import os\n",
    "import pandas as pd\n",
    "import scipy.io\n",
    "import anndata\n",
    "import scanpy as sc\n",
    "import os\n",
    "import time\n"
   ]
  },
  {
   "cell_type": "code",
   "execution_count": 2,
   "metadata": {},
   "outputs": [
    {
     "name": "stdout",
     "output_type": "stream",
     "text": [
      "-----\n",
      "anndata     0.10.8\n",
      "scanpy      1.10.2\n",
      "-----\n",
      "PIL                 10.3.0\n",
      "asttokens           NA\n",
      "attr                23.2.0\n",
      "cffi                1.16.0\n",
      "colorama            0.4.6\n",
      "comm                0.2.2\n",
      "cycler              0.12.1\n",
      "cython_runtime      NA\n",
      "dateutil            2.9.0.post0\n",
      "debugpy             1.8.2\n",
      "decorator           5.1.1\n",
      "defusedxml          0.7.1\n",
      "distutils           3.12.4\n",
      "django              5.0.6\n",
      "executing           2.0.1\n",
      "h5py                3.11.0\n",
      "igraph              0.11.5\n",
      "ipykernel           6.29.5\n",
      "ipython_genutils    0.2.0\n",
      "ipywidgets          8.1.3\n",
      "jedi                0.19.1\n",
      "joblib              1.4.2\n",
      "kiwisolver          1.4.5\n",
      "legacy_api_wrap     NA\n",
      "leidenalg           0.10.2\n",
      "llvmlite            0.43.0\n",
      "louvain             0.8.2\n",
      "matplotlib          3.8.4\n",
      "mpl_toolkits        NA\n",
      "natsort             8.4.0\n",
      "numba               0.60.0\n",
      "numexpr             2.10.1\n",
      "numpy               1.26.4\n",
      "packaging           24.1\n",
      "pandas              2.2.2\n",
      "parso               0.8.4\n",
      "pkg_resources       NA\n",
      "platformdirs        4.2.2\n",
      "plotly              5.22.0\n",
      "prompt_toolkit      3.0.47\n",
      "psutil              6.0.0\n",
      "pure_eval           0.2.2\n",
      "pydev_ipython       NA\n",
      "pydevconsole        NA\n",
      "pydevd              2.9.5\n",
      "pydevd_file_utils   NA\n",
      "pydevd_plugins      NA\n",
      "pydevd_tracing      NA\n",
      "pydot               2.0.0\n",
      "pygments            2.18.0\n",
      "pyparsing           3.1.2\n",
      "pytz                2024.1\n",
      "rich                NA\n",
      "scipy               1.13.1\n",
      "session_info        1.0.0\n",
      "setuptools          70.1.0\n",
      "setuptools_scm      NA\n",
      "six                 1.16.0\n",
      "sklearn             1.5.0\n",
      "stack_data          0.6.3\n",
      "texttable           1.7.0\n",
      "threadpoolctl       3.5.0\n",
      "torch               2.4.0\n",
      "torchgen            NA\n",
      "tornado             6.4.1\n",
      "tqdm                4.66.4\n",
      "traitlets           5.14.3\n",
      "typing_extensions   NA\n",
      "vscode              NA\n",
      "wcwidth             0.2.13\n",
      "yaml                6.0.2\n",
      "zmq                 26.0.3\n",
      "-----\n",
      "IPython             8.26.0\n",
      "jupyter_client      8.6.2\n",
      "jupyter_core        5.7.2\n",
      "notebook            6.5.7\n",
      "-----\n",
      "Python 3.12.4 | packaged by conda-forge | (main, Jun 17 2024, 10:23:07) [GCC 12.3.0]\n",
      "Linux-6.11.4-101.fc39.x86_64-x86_64-with-glibc2.38\n",
      "-----\n",
      "Session information updated at 2024-11-05 17:01\n"
     ]
    }
   ],
   "source": [
    "sc.settings.verbosity = 3\n",
    "sc.logging.print_versions()\n",
    "sc.settings.set_figure_params(dpi = 160, color_map = 'RdPu', dpi_save = 180, vector_friendly = True, format = 'svg')\n",
    "timestamp = time.strftime(\"%d_%m_%Y,%H:%M\")"
   ]
  },
  {
   "cell_type": "markdown",
   "metadata": {},
   "source": [
    "# Import sample_names"
   ]
  },
  {
   "cell_type": "code",
   "execution_count": 3,
   "metadata": {},
   "outputs": [],
   "source": [
    "parent_folder = '/mnt/LaCIE/skolla/sc-heart-consortium/ncbi-sra/mapped_files'\n",
    "folders = ['ERR6449986',\n",
    "'ERR7423245',\n",
    "'ERR7423246',\n",
    "'ERR7423472',\n",
    "'ERR6449756',\n",
    "'ERR6449758',\n",
    "'ERR6449761',\n",
    "'ERR6449775',\n",
    "'ERR6449954',\n",
    "'ERR6449985',\n",
    "'ERR7423243',\n",
    "'ERR7423262',\n",
    "'ERR7423473',\n",
    "'ERR6449755',\n",
    "'ERR6449757',\n",
    "'ERR6449759',\n",
    "'ERR6449760',\n",
    "'ERR6449762',\n",
    "'ERR6449764',\n",
    "'ERR6449770',\n",
    "'ERR6449984',\n",
    "'ERR6450000',\n",
    "'ERR7423251',\n",
    "'ERR7423441',\n",
    "'ERR7423471',\n",
    "'ERR7423487',\n",
    "'ERR7423242',\n",
    "'ERR7423244',\n",
    "'ERR7423247',\n",
    "'ERR7423248',\n",
    "'ERR7423249',\n",
    "'ERR7423257',]"
   ]
  },
  {
   "cell_type": "code",
   "execution_count": 4,
   "metadata": {},
   "outputs": [],
   "source": [
    "def check_fastqs_in_folders(parent_folder, folders):\n",
    "    \"\"\"\n",
    "    Check for the presence of FASTQ files in specified subfolders of a parent folder.\n",
    "\n",
    "    Parameters:\n",
    "    parent_folder (str): The path to the parent folder.\n",
    "    folders (list): A list of subfolder names to check for FASTQ files.\n",
    "\n",
    "    Returns:\n",
    "    dict: A dictionary where keys are folder names and values are lists of found FASTQ files.\n",
    "    \"\"\"\n",
    "    results = {}\n",
    "\n",
    "    for folder in folders:\n",
    "        folder_path = os.path.join(parent_folder, folder)\n",
    "        fastq_files = []\n",
    "\n",
    "        try:\n",
    "            # List files in the current subfolder\n",
    "            for file in os.listdir(folder_path):\n",
    "                if file.endswith('.fastq') or file.endswith('.fastq.gz'):\n",
    "                    fastq_files.append(file)\n",
    "\n",
    "            # Store results\n",
    "            results[folder] = fastq_files\n",
    "\n",
    "        except FileNotFoundError:\n",
    "            print(f\"Folder not found: {folder_path}\")\n",
    "            results[folder] = []\n",
    "        except Exception as e:\n",
    "            print(f\"Error checking for FASTQ files in {folder_path}: {e}\")\n",
    "            results[folder] = []\n",
    "\n",
    "    return results"
   ]
  },
  {
   "cell_type": "code",
   "execution_count": 5,
   "metadata": {},
   "outputs": [
    {
     "name": "stdout",
     "output_type": "stream",
     "text": [
      "FASTQ files found in ERR6449986: ['HCAHeart7985088_S1_L001_R1_001.fastq.gz', 'HCAHeart7985088_S1_L001_I1_001.fastq.gz', 'HCAHeart7985088_S1_L001_R2_001.fastq.gz']\n",
      "FASTQ files found in ERR7423245: ['HCAHeart7656536_S1_L001_I1_001.fastq.gz', 'HCAHeart7656536_S1_L001_R1_001.fastq.gz', 'HCAHeart7656536_S1_L001_R2_001.fastq.gz']\n",
      "FASTQ files found in ERR7423246: ['HCAHeart7656535_S1_L001_I1_001.fastq.gz', 'HCAHeart7656535_S1_L001_R2_001.fastq.gz', 'HCAHeart7656535_S1_L001_R1_001.fastq.gz']\n",
      "FASTQ files found in ERR7423472: ['HCAHeart7985086_S1_L001_I1_001.fastq.gz', 'HCAHeart7985086_S1_L001_R1_001.fastq.gz', 'HCAHeart7985086_S1_L001_R2_001.fastq.gz']\n",
      "FASTQ files found in ERR6449756: ['HCAHeart7757638_S1_L001_R2_001.fastq.gz', 'HCAHeart7757638_S1_L001_I1_001.fastq.gz', 'HCAHeart7757638_S1_L001_R1_001.fastq.gz']\n",
      "FASTQ files found in ERR6449758: ['HCAHeart7656536_S1_L001_I1_001.fastq.gz', 'HCAHeart7656536_S1_L001_R1_001.fastq.gz', 'HCAHeart7656536_S1_L001_R2_001.fastq.gz']\n",
      "FASTQ files found in ERR6449761: ['HCAHeart7829976_S1_L001_R1_001.fastq.gz', 'HCAHeart7829976_S1_L001_R2_001.fastq.gz', 'HCAHeart7829976_S1_L001_I1_001.fastq.gz']\n",
      "FASTQ files found in ERR6449775: ['HCAHeart7656537_S1_L001_I1_001.fastq.gz', 'HCAHeart7656537_S1_L001_R1_001.fastq.gz', 'HCAHeart7656537_S1_L001_R2_001.fastq.gz']\n",
      "FASTQ files found in ERR6449954: ['HCAHeart7985089_S1_L001_I1_001.fastq.gz', 'HCAHeart7985089_S1_L001_R1_001.fastq.gz', 'HCAHeart7985089_S1_L001_R2_001.fastq.gz']\n",
      "FASTQ files found in ERR6449985: ['HCAHeart7985086_S1_L001_I1_001.fastq.gz', 'HCAHeart7985086_S1_L001_R1_001.fastq.gz', 'HCAHeart7985086_S1_L001_R2_001.fastq.gz']\n",
      "FASTQ files found in ERR7423243: ['HCAHeart7757638_S1_L001_R2_001.fastq.gz', 'HCAHeart7757638_S1_L001_I1_001.fastq.gz', 'HCAHeart7757638_S1_L001_R1_001.fastq.gz']\n",
      "FASTQ files found in ERR7423262: ['HCAHeart7656537_S1_L001_I1_001.fastq.gz', 'HCAHeart7656537_S1_L001_R1_001.fastq.gz', 'HCAHeart7656537_S1_L001_R2_001.fastq.gz']\n",
      "FASTQ files found in ERR7423473: ['HCAHeart7985088_S1_L001_R1_001.fastq.gz', 'HCAHeart7985088_S1_L001_I1_001.fastq.gz', 'HCAHeart7985088_S1_L001_R2_001.fastq.gz']\n",
      "FASTQ files found in ERR6449755: ['HCAHeart7656534_S1_L001_R1_001.fastq.gz', 'HCAHeart7656534_S1_L001_I1_001.fastq.gz', 'HCAHeart7656534_S1_L001_R2_001.fastq.gz']\n",
      "FASTQ files found in ERR6449757: ['HCAHeart7829977_S1_L001_R2_001.fastq.gz', 'HCAHeart7829977_S1_L001_I1_001.fastq.gz', 'HCAHeart7829977_S1_L001_R1_001.fastq.gz']\n",
      "FASTQ files found in ERR6449759: ['HCAHeart7656535_S1_L001_I1_001.fastq.gz', 'HCAHeart7656535_S1_L001_R2_001.fastq.gz', 'HCAHeart7656535_S1_L001_R1_001.fastq.gz']\n",
      "FASTQ files found in ERR6449760: ['HCAHeart7664654_S1_L001_R1_001.fastq.gz', 'HCAHeart7664654_S1_L001_I1_001.fastq.gz', 'HCAHeart7664654_S1_L001_R2_001.fastq.gz']\n",
      "FASTQ files found in ERR6449762: ['HCAHeart7757637_S1_L001_R2_001.fastq.gz', 'HCAHeart7757637_S1_L001_I1_001.fastq.gz', 'HCAHeart7757637_S1_L001_R1_001.fastq.gz']\n",
      "FASTQ files found in ERR6449764: ['HCAHeart7656538_S1_L001_R1_001.fastq.gz', 'HCAHeart7656538_S1_L001_I1_001.fastq.gz', 'HCAHeart7656538_S1_L001_R2_001.fastq.gz']\n",
      "FASTQ files found in ERR6449770: ['HCAHeart7757639_S1_L001_R1_001.fastq.gz', 'HCAHeart7757639_S1_L001_R2_001.fastq.gz', 'HCAHeart7757639_S1_L001_I1_001.fastq.gz']\n",
      "FASTQ files found in ERR6449984: ['HCAHeart7985087_S1_L001_R1_001.fastq.gz', 'HCAHeart7985087_S1_L001_R2_001.fastq.gz', 'HCAHeart7985087_S1_L001_I1_001.fastq.gz']\n",
      "FASTQ files found in ERR6450000: ['HCAHeart7757636_S1_L001_I1_001.fastq.gz', 'HCAHeart7757636_S1_L001_R2_001.fastq.gz', 'HCAHeart7757636_S1_L001_R1_001.fastq.gz']\n",
      "FASTQ files found in ERR7423251: ['HCAHeart7656538_S1_L001_R1_001.fastq.gz', 'HCAHeart7656538_S1_L001_I1_001.fastq.gz', 'HCAHeart7656538_S1_L001_R2_001.fastq.gz']\n",
      "FASTQ files found in ERR7423441: ['HCAHeart7985089_S1_L001_I1_001.fastq.gz', 'HCAHeart7985089_S1_L001_R1_001.fastq.gz', 'HCAHeart7985089_S1_L001_R2_001.fastq.gz']\n",
      "FASTQ files found in ERR7423471: ['HCAHeart7985087_S1_L001_R1_001.fastq.gz', 'HCAHeart7985087_S1_L001_R2_001.fastq.gz', 'HCAHeart7985087_S1_L001_I1_001.fastq.gz']\n",
      "FASTQ files found in ERR7423487: ['HCAHeart7757636_S1_L001_I1_001.fastq.gz', 'HCAHeart7757636_S1_L001_R2_001.fastq.gz', 'HCAHeart7757636_S1_L001_R1_001.fastq.gz']\n",
      "FASTQ files found in ERR7423242: ['HCAHeart7656534_S1_L001_R1_001.fastq.gz', 'HCAHeart7656534_S1_L001_I1_001.fastq.gz', 'HCAHeart7656534_S1_L001_R2_001.fastq.gz']\n",
      "FASTQ files found in ERR7423244: ['HCAHeart7829977_S1_L001_R2_001.fastq.gz', 'HCAHeart7829977_S1_L001_I1_001.fastq.gz', 'HCAHeart7829977_S1_L001_R1_001.fastq.gz']\n",
      "FASTQ files found in ERR7423247: ['HCAHeart7664654_S1_L001_R1_001.fastq.gz', 'HCAHeart7664654_S1_L001_I1_001.fastq.gz', 'HCAHeart7664654_S1_L001_R2_001.fastq.gz']\n",
      "FASTQ files found in ERR7423248: ['HCAHeart7829976_S1_L001_R1_001.fastq.gz', 'HCAHeart7829976_S1_L001_R2_001.fastq.gz', 'HCAHeart7829976_S1_L001_I1_001.fastq.gz']\n",
      "FASTQ files found in ERR7423249: ['HCAHeart7757637_S1_L001_R2_001.fastq.gz', 'HCAHeart7757637_S1_L001_I1_001.fastq.gz', 'HCAHeart7757637_S1_L001_R1_001.fastq.gz']\n",
      "FASTQ files found in ERR7423257: ['HCAHeart7757639_S1_L001_R1_001.fastq.gz', 'HCAHeart7757639_S1_L001_R2_001.fastq.gz', 'HCAHeart7757639_S1_L001_I1_001.fastq.gz']\n"
     ]
    }
   ],
   "source": [
    "fastq_results = check_fastqs_in_folders('/mnt/LaCIE/skolla/sc-heart-consortium/ncbi-sra/fastq_files', folders)\n",
    "for folder, files in fastq_results.items():\n",
    "    if files:\n",
    "        print(f\"FASTQ files found in {folder}: {files}\")\n",
    "    else:\n",
    "        print(f\"No FASTQ files found in {folder}.\")"
   ]
  },
  {
   "cell_type": "code",
   "execution_count": 6,
   "metadata": {},
   "outputs": [
    {
     "name": "stderr",
     "output_type": "stream",
     "text": [
      "/home/skolla/miniforge3/envs/scanpy/lib/python3.12/site-packages/anndata/_core/anndata.py:1820: UserWarning: Variable names are not unique. To make them unique, call `.var_names_make_unique`.\n",
      "  utils.warn_names_duplicates(\"var\")\n",
      "/home/skolla/miniforge3/envs/scanpy/lib/python3.12/site-packages/anndata/utils.py:260: UserWarning: Suffix used (-[0-9]+) to deduplicate index values may make index values difficult to interpret. There values with a similar suffixes in the index. Consider using a different delimiter by passing `join={delimiter}`Example key collisions generated by the make_index_unique algorithm: ['SNORD116-1', 'SNORD116-2', 'SNORD116-3', 'SNORD116-4', 'SNORD116-5']\n",
      "  warnings.warn(\n"
     ]
    },
    {
     "name": "stdout",
     "output_type": "stream",
     "text": [
      "Converted ERR6449986 to /mnt/LaCIE/skolla/sc-heart-consortium/ncbi-sra/h5ad_files/ERR6449986_GeneFull_raw.h5ad\n"
     ]
    },
    {
     "name": "stderr",
     "output_type": "stream",
     "text": [
      "/home/skolla/miniforge3/envs/scanpy/lib/python3.12/site-packages/anndata/_core/anndata.py:1820: UserWarning: Variable names are not unique. To make them unique, call `.var_names_make_unique`.\n",
      "  utils.warn_names_duplicates(\"var\")\n",
      "/home/skolla/miniforge3/envs/scanpy/lib/python3.12/site-packages/anndata/utils.py:260: UserWarning: Suffix used (-[0-9]+) to deduplicate index values may make index values difficult to interpret. There values with a similar suffixes in the index. Consider using a different delimiter by passing `join={delimiter}`Example key collisions generated by the make_index_unique algorithm: ['SNORD116-1', 'SNORD116-2', 'SNORD116-3', 'SNORD116-4', 'SNORD116-5']\n",
      "  warnings.warn(\n"
     ]
    },
    {
     "name": "stdout",
     "output_type": "stream",
     "text": [
      "Converted ERR7423245 to /mnt/LaCIE/skolla/sc-heart-consortium/ncbi-sra/h5ad_files/ERR7423245_GeneFull_raw.h5ad\n"
     ]
    },
    {
     "name": "stderr",
     "output_type": "stream",
     "text": [
      "/home/skolla/miniforge3/envs/scanpy/lib/python3.12/site-packages/anndata/_core/anndata.py:1820: UserWarning: Variable names are not unique. To make them unique, call `.var_names_make_unique`.\n",
      "  utils.warn_names_duplicates(\"var\")\n",
      "/home/skolla/miniforge3/envs/scanpy/lib/python3.12/site-packages/anndata/utils.py:260: UserWarning: Suffix used (-[0-9]+) to deduplicate index values may make index values difficult to interpret. There values with a similar suffixes in the index. Consider using a different delimiter by passing `join={delimiter}`Example key collisions generated by the make_index_unique algorithm: ['SNORD116-1', 'SNORD116-2', 'SNORD116-3', 'SNORD116-4', 'SNORD116-5']\n",
      "  warnings.warn(\n"
     ]
    },
    {
     "name": "stdout",
     "output_type": "stream",
     "text": [
      "Converted ERR7423246 to /mnt/LaCIE/skolla/sc-heart-consortium/ncbi-sra/h5ad_files/ERR7423246_GeneFull_raw.h5ad\n"
     ]
    },
    {
     "name": "stderr",
     "output_type": "stream",
     "text": [
      "/home/skolla/miniforge3/envs/scanpy/lib/python3.12/site-packages/anndata/_core/anndata.py:1820: UserWarning: Variable names are not unique. To make them unique, call `.var_names_make_unique`.\n",
      "  utils.warn_names_duplicates(\"var\")\n",
      "/home/skolla/miniforge3/envs/scanpy/lib/python3.12/site-packages/anndata/utils.py:260: UserWarning: Suffix used (-[0-9]+) to deduplicate index values may make index values difficult to interpret. There values with a similar suffixes in the index. Consider using a different delimiter by passing `join={delimiter}`Example key collisions generated by the make_index_unique algorithm: ['SNORD116-1', 'SNORD116-2', 'SNORD116-3', 'SNORD116-4', 'SNORD116-5']\n",
      "  warnings.warn(\n"
     ]
    },
    {
     "name": "stdout",
     "output_type": "stream",
     "text": [
      "Converted ERR7423472 to /mnt/LaCIE/skolla/sc-heart-consortium/ncbi-sra/h5ad_files/ERR7423472_GeneFull_raw.h5ad\n"
     ]
    },
    {
     "name": "stderr",
     "output_type": "stream",
     "text": [
      "/home/skolla/miniforge3/envs/scanpy/lib/python3.12/site-packages/anndata/_core/anndata.py:1820: UserWarning: Variable names are not unique. To make them unique, call `.var_names_make_unique`.\n",
      "  utils.warn_names_duplicates(\"var\")\n",
      "/home/skolla/miniforge3/envs/scanpy/lib/python3.12/site-packages/anndata/utils.py:260: UserWarning: Suffix used (-[0-9]+) to deduplicate index values may make index values difficult to interpret. There values with a similar suffixes in the index. Consider using a different delimiter by passing `join={delimiter}`Example key collisions generated by the make_index_unique algorithm: ['SNORD116-1', 'SNORD116-2', 'SNORD116-3', 'SNORD116-4', 'SNORD116-5']\n",
      "  warnings.warn(\n"
     ]
    },
    {
     "name": "stdout",
     "output_type": "stream",
     "text": [
      "Converted ERR6449756 to /mnt/LaCIE/skolla/sc-heart-consortium/ncbi-sra/h5ad_files/ERR6449756_GeneFull_raw.h5ad\n"
     ]
    },
    {
     "name": "stderr",
     "output_type": "stream",
     "text": [
      "/home/skolla/miniforge3/envs/scanpy/lib/python3.12/site-packages/anndata/_core/anndata.py:1820: UserWarning: Variable names are not unique. To make them unique, call `.var_names_make_unique`.\n",
      "  utils.warn_names_duplicates(\"var\")\n",
      "/home/skolla/miniforge3/envs/scanpy/lib/python3.12/site-packages/anndata/utils.py:260: UserWarning: Suffix used (-[0-9]+) to deduplicate index values may make index values difficult to interpret. There values with a similar suffixes in the index. Consider using a different delimiter by passing `join={delimiter}`Example key collisions generated by the make_index_unique algorithm: ['SNORD116-1', 'SNORD116-2', 'SNORD116-3', 'SNORD116-4', 'SNORD116-5']\n",
      "  warnings.warn(\n"
     ]
    },
    {
     "name": "stdout",
     "output_type": "stream",
     "text": [
      "Converted ERR6449758 to /mnt/LaCIE/skolla/sc-heart-consortium/ncbi-sra/h5ad_files/ERR6449758_GeneFull_raw.h5ad\n"
     ]
    },
    {
     "name": "stderr",
     "output_type": "stream",
     "text": [
      "/home/skolla/miniforge3/envs/scanpy/lib/python3.12/site-packages/anndata/_core/anndata.py:1820: UserWarning: Variable names are not unique. To make them unique, call `.var_names_make_unique`.\n",
      "  utils.warn_names_duplicates(\"var\")\n",
      "/home/skolla/miniforge3/envs/scanpy/lib/python3.12/site-packages/anndata/utils.py:260: UserWarning: Suffix used (-[0-9]+) to deduplicate index values may make index values difficult to interpret. There values with a similar suffixes in the index. Consider using a different delimiter by passing `join={delimiter}`Example key collisions generated by the make_index_unique algorithm: ['SNORD116-1', 'SNORD116-2', 'SNORD116-3', 'SNORD116-4', 'SNORD116-5']\n",
      "  warnings.warn(\n"
     ]
    },
    {
     "name": "stdout",
     "output_type": "stream",
     "text": [
      "Converted ERR6449761 to /mnt/LaCIE/skolla/sc-heart-consortium/ncbi-sra/h5ad_files/ERR6449761_GeneFull_raw.h5ad\n"
     ]
    },
    {
     "name": "stderr",
     "output_type": "stream",
     "text": [
      "/home/skolla/miniforge3/envs/scanpy/lib/python3.12/site-packages/anndata/_core/anndata.py:1820: UserWarning: Variable names are not unique. To make them unique, call `.var_names_make_unique`.\n",
      "  utils.warn_names_duplicates(\"var\")\n",
      "/home/skolla/miniforge3/envs/scanpy/lib/python3.12/site-packages/anndata/utils.py:260: UserWarning: Suffix used (-[0-9]+) to deduplicate index values may make index values difficult to interpret. There values with a similar suffixes in the index. Consider using a different delimiter by passing `join={delimiter}`Example key collisions generated by the make_index_unique algorithm: ['SNORD116-1', 'SNORD116-2', 'SNORD116-3', 'SNORD116-4', 'SNORD116-5']\n",
      "  warnings.warn(\n"
     ]
    },
    {
     "name": "stdout",
     "output_type": "stream",
     "text": [
      "Converted ERR6449775 to /mnt/LaCIE/skolla/sc-heart-consortium/ncbi-sra/h5ad_files/ERR6449775_GeneFull_raw.h5ad\n"
     ]
    },
    {
     "name": "stderr",
     "output_type": "stream",
     "text": [
      "/home/skolla/miniforge3/envs/scanpy/lib/python3.12/site-packages/anndata/_core/anndata.py:1820: UserWarning: Variable names are not unique. To make them unique, call `.var_names_make_unique`.\n",
      "  utils.warn_names_duplicates(\"var\")\n",
      "/home/skolla/miniforge3/envs/scanpy/lib/python3.12/site-packages/anndata/utils.py:260: UserWarning: Suffix used (-[0-9]+) to deduplicate index values may make index values difficult to interpret. There values with a similar suffixes in the index. Consider using a different delimiter by passing `join={delimiter}`Example key collisions generated by the make_index_unique algorithm: ['SNORD116-1', 'SNORD116-2', 'SNORD116-3', 'SNORD116-4', 'SNORD116-5']\n",
      "  warnings.warn(\n"
     ]
    },
    {
     "name": "stdout",
     "output_type": "stream",
     "text": [
      "Converted ERR6449954 to /mnt/LaCIE/skolla/sc-heart-consortium/ncbi-sra/h5ad_files/ERR6449954_GeneFull_raw.h5ad\n"
     ]
    },
    {
     "name": "stderr",
     "output_type": "stream",
     "text": [
      "/home/skolla/miniforge3/envs/scanpy/lib/python3.12/site-packages/anndata/_core/anndata.py:1820: UserWarning: Variable names are not unique. To make them unique, call `.var_names_make_unique`.\n",
      "  utils.warn_names_duplicates(\"var\")\n",
      "/home/skolla/miniforge3/envs/scanpy/lib/python3.12/site-packages/anndata/utils.py:260: UserWarning: Suffix used (-[0-9]+) to deduplicate index values may make index values difficult to interpret. There values with a similar suffixes in the index. Consider using a different delimiter by passing `join={delimiter}`Example key collisions generated by the make_index_unique algorithm: ['SNORD116-1', 'SNORD116-2', 'SNORD116-3', 'SNORD116-4', 'SNORD116-5']\n",
      "  warnings.warn(\n"
     ]
    },
    {
     "name": "stdout",
     "output_type": "stream",
     "text": [
      "Converted ERR6449985 to /mnt/LaCIE/skolla/sc-heart-consortium/ncbi-sra/h5ad_files/ERR6449985_GeneFull_raw.h5ad\n"
     ]
    },
    {
     "name": "stderr",
     "output_type": "stream",
     "text": [
      "/home/skolla/miniforge3/envs/scanpy/lib/python3.12/site-packages/anndata/_core/anndata.py:1820: UserWarning: Variable names are not unique. To make them unique, call `.var_names_make_unique`.\n",
      "  utils.warn_names_duplicates(\"var\")\n",
      "/home/skolla/miniforge3/envs/scanpy/lib/python3.12/site-packages/anndata/utils.py:260: UserWarning: Suffix used (-[0-9]+) to deduplicate index values may make index values difficult to interpret. There values with a similar suffixes in the index. Consider using a different delimiter by passing `join={delimiter}`Example key collisions generated by the make_index_unique algorithm: ['SNORD116-1', 'SNORD116-2', 'SNORD116-3', 'SNORD116-4', 'SNORD116-5']\n",
      "  warnings.warn(\n"
     ]
    },
    {
     "name": "stdout",
     "output_type": "stream",
     "text": [
      "Converted ERR7423243 to /mnt/LaCIE/skolla/sc-heart-consortium/ncbi-sra/h5ad_files/ERR7423243_GeneFull_raw.h5ad\n",
      "Required files missing in /mnt/LaCIE/skolla/sc-heart-consortium/ncbi-sra/mapped_files/ERR7423262/outputSolo.out/GeneFull/raw for ERR7423262. Skipping.\n"
     ]
    },
    {
     "name": "stderr",
     "output_type": "stream",
     "text": [
      "/home/skolla/miniforge3/envs/scanpy/lib/python3.12/site-packages/anndata/_core/anndata.py:1820: UserWarning: Variable names are not unique. To make them unique, call `.var_names_make_unique`.\n",
      "  utils.warn_names_duplicates(\"var\")\n",
      "/home/skolla/miniforge3/envs/scanpy/lib/python3.12/site-packages/anndata/utils.py:260: UserWarning: Suffix used (-[0-9]+) to deduplicate index values may make index values difficult to interpret. There values with a similar suffixes in the index. Consider using a different delimiter by passing `join={delimiter}`Example key collisions generated by the make_index_unique algorithm: ['SNORD116-1', 'SNORD116-2', 'SNORD116-3', 'SNORD116-4', 'SNORD116-5']\n",
      "  warnings.warn(\n"
     ]
    },
    {
     "name": "stdout",
     "output_type": "stream",
     "text": [
      "Converted ERR7423473 to /mnt/LaCIE/skolla/sc-heart-consortium/ncbi-sra/h5ad_files/ERR7423473_GeneFull_raw.h5ad\n"
     ]
    },
    {
     "name": "stderr",
     "output_type": "stream",
     "text": [
      "/home/skolla/miniforge3/envs/scanpy/lib/python3.12/site-packages/anndata/_core/anndata.py:1820: UserWarning: Variable names are not unique. To make them unique, call `.var_names_make_unique`.\n",
      "  utils.warn_names_duplicates(\"var\")\n",
      "/home/skolla/miniforge3/envs/scanpy/lib/python3.12/site-packages/anndata/utils.py:260: UserWarning: Suffix used (-[0-9]+) to deduplicate index values may make index values difficult to interpret. There values with a similar suffixes in the index. Consider using a different delimiter by passing `join={delimiter}`Example key collisions generated by the make_index_unique algorithm: ['SNORD116-1', 'SNORD116-2', 'SNORD116-3', 'SNORD116-4', 'SNORD116-5']\n",
      "  warnings.warn(\n"
     ]
    },
    {
     "name": "stdout",
     "output_type": "stream",
     "text": [
      "Converted ERR6449755 to /mnt/LaCIE/skolla/sc-heart-consortium/ncbi-sra/h5ad_files/ERR6449755_GeneFull_raw.h5ad\n"
     ]
    },
    {
     "name": "stderr",
     "output_type": "stream",
     "text": [
      "/home/skolla/miniforge3/envs/scanpy/lib/python3.12/site-packages/anndata/_core/anndata.py:1820: UserWarning: Variable names are not unique. To make them unique, call `.var_names_make_unique`.\n",
      "  utils.warn_names_duplicates(\"var\")\n",
      "/home/skolla/miniforge3/envs/scanpy/lib/python3.12/site-packages/anndata/utils.py:260: UserWarning: Suffix used (-[0-9]+) to deduplicate index values may make index values difficult to interpret. There values with a similar suffixes in the index. Consider using a different delimiter by passing `join={delimiter}`Example key collisions generated by the make_index_unique algorithm: ['SNORD116-1', 'SNORD116-2', 'SNORD116-3', 'SNORD116-4', 'SNORD116-5']\n",
      "  warnings.warn(\n"
     ]
    },
    {
     "name": "stdout",
     "output_type": "stream",
     "text": [
      "Converted ERR6449757 to /mnt/LaCIE/skolla/sc-heart-consortium/ncbi-sra/h5ad_files/ERR6449757_GeneFull_raw.h5ad\n"
     ]
    },
    {
     "name": "stderr",
     "output_type": "stream",
     "text": [
      "/home/skolla/miniforge3/envs/scanpy/lib/python3.12/site-packages/anndata/_core/anndata.py:1820: UserWarning: Variable names are not unique. To make them unique, call `.var_names_make_unique`.\n",
      "  utils.warn_names_duplicates(\"var\")\n",
      "/home/skolla/miniforge3/envs/scanpy/lib/python3.12/site-packages/anndata/utils.py:260: UserWarning: Suffix used (-[0-9]+) to deduplicate index values may make index values difficult to interpret. There values with a similar suffixes in the index. Consider using a different delimiter by passing `join={delimiter}`Example key collisions generated by the make_index_unique algorithm: ['SNORD116-1', 'SNORD116-2', 'SNORD116-3', 'SNORD116-4', 'SNORD116-5']\n",
      "  warnings.warn(\n"
     ]
    },
    {
     "name": "stdout",
     "output_type": "stream",
     "text": [
      "Converted ERR6449759 to /mnt/LaCIE/skolla/sc-heart-consortium/ncbi-sra/h5ad_files/ERR6449759_GeneFull_raw.h5ad\n"
     ]
    },
    {
     "name": "stderr",
     "output_type": "stream",
     "text": [
      "/home/skolla/miniforge3/envs/scanpy/lib/python3.12/site-packages/anndata/_core/anndata.py:1820: UserWarning: Variable names are not unique. To make them unique, call `.var_names_make_unique`.\n",
      "  utils.warn_names_duplicates(\"var\")\n",
      "/home/skolla/miniforge3/envs/scanpy/lib/python3.12/site-packages/anndata/utils.py:260: UserWarning: Suffix used (-[0-9]+) to deduplicate index values may make index values difficult to interpret. There values with a similar suffixes in the index. Consider using a different delimiter by passing `join={delimiter}`Example key collisions generated by the make_index_unique algorithm: ['SNORD116-1', 'SNORD116-2', 'SNORD116-3', 'SNORD116-4', 'SNORD116-5']\n",
      "  warnings.warn(\n"
     ]
    },
    {
     "name": "stdout",
     "output_type": "stream",
     "text": [
      "Converted ERR6449760 to /mnt/LaCIE/skolla/sc-heart-consortium/ncbi-sra/h5ad_files/ERR6449760_GeneFull_raw.h5ad\n"
     ]
    },
    {
     "name": "stderr",
     "output_type": "stream",
     "text": [
      "/home/skolla/miniforge3/envs/scanpy/lib/python3.12/site-packages/anndata/_core/anndata.py:1820: UserWarning: Variable names are not unique. To make them unique, call `.var_names_make_unique`.\n",
      "  utils.warn_names_duplicates(\"var\")\n",
      "/home/skolla/miniforge3/envs/scanpy/lib/python3.12/site-packages/anndata/utils.py:260: UserWarning: Suffix used (-[0-9]+) to deduplicate index values may make index values difficult to interpret. There values with a similar suffixes in the index. Consider using a different delimiter by passing `join={delimiter}`Example key collisions generated by the make_index_unique algorithm: ['SNORD116-1', 'SNORD116-2', 'SNORD116-3', 'SNORD116-4', 'SNORD116-5']\n",
      "  warnings.warn(\n"
     ]
    },
    {
     "name": "stdout",
     "output_type": "stream",
     "text": [
      "Converted ERR6449762 to /mnt/LaCIE/skolla/sc-heart-consortium/ncbi-sra/h5ad_files/ERR6449762_GeneFull_raw.h5ad\n"
     ]
    },
    {
     "name": "stderr",
     "output_type": "stream",
     "text": [
      "/home/skolla/miniforge3/envs/scanpy/lib/python3.12/site-packages/anndata/_core/anndata.py:1820: UserWarning: Variable names are not unique. To make them unique, call `.var_names_make_unique`.\n",
      "  utils.warn_names_duplicates(\"var\")\n",
      "/home/skolla/miniforge3/envs/scanpy/lib/python3.12/site-packages/anndata/utils.py:260: UserWarning: Suffix used (-[0-9]+) to deduplicate index values may make index values difficult to interpret. There values with a similar suffixes in the index. Consider using a different delimiter by passing `join={delimiter}`Example key collisions generated by the make_index_unique algorithm: ['SNORD116-1', 'SNORD116-2', 'SNORD116-3', 'SNORD116-4', 'SNORD116-5']\n",
      "  warnings.warn(\n"
     ]
    },
    {
     "name": "stdout",
     "output_type": "stream",
     "text": [
      "Converted ERR6449764 to /mnt/LaCIE/skolla/sc-heart-consortium/ncbi-sra/h5ad_files/ERR6449764_GeneFull_raw.h5ad\n"
     ]
    },
    {
     "name": "stderr",
     "output_type": "stream",
     "text": [
      "/home/skolla/miniforge3/envs/scanpy/lib/python3.12/site-packages/anndata/_core/anndata.py:1820: UserWarning: Variable names are not unique. To make them unique, call `.var_names_make_unique`.\n",
      "  utils.warn_names_duplicates(\"var\")\n",
      "/home/skolla/miniforge3/envs/scanpy/lib/python3.12/site-packages/anndata/utils.py:260: UserWarning: Suffix used (-[0-9]+) to deduplicate index values may make index values difficult to interpret. There values with a similar suffixes in the index. Consider using a different delimiter by passing `join={delimiter}`Example key collisions generated by the make_index_unique algorithm: ['SNORD116-1', 'SNORD116-2', 'SNORD116-3', 'SNORD116-4', 'SNORD116-5']\n",
      "  warnings.warn(\n"
     ]
    },
    {
     "name": "stdout",
     "output_type": "stream",
     "text": [
      "Converted ERR6449770 to /mnt/LaCIE/skolla/sc-heart-consortium/ncbi-sra/h5ad_files/ERR6449770_GeneFull_raw.h5ad\n",
      "Required files missing in /mnt/LaCIE/skolla/sc-heart-consortium/ncbi-sra/mapped_files/ERR6449984/outputSolo.out/GeneFull/raw for ERR6449984. Skipping.\n"
     ]
    },
    {
     "name": "stderr",
     "output_type": "stream",
     "text": [
      "/home/skolla/miniforge3/envs/scanpy/lib/python3.12/site-packages/anndata/_core/anndata.py:1820: UserWarning: Variable names are not unique. To make them unique, call `.var_names_make_unique`.\n",
      "  utils.warn_names_duplicates(\"var\")\n",
      "/home/skolla/miniforge3/envs/scanpy/lib/python3.12/site-packages/anndata/utils.py:260: UserWarning: Suffix used (-[0-9]+) to deduplicate index values may make index values difficult to interpret. There values with a similar suffixes in the index. Consider using a different delimiter by passing `join={delimiter}`Example key collisions generated by the make_index_unique algorithm: ['SNORD116-1', 'SNORD116-2', 'SNORD116-3', 'SNORD116-4', 'SNORD116-5']\n",
      "  warnings.warn(\n"
     ]
    },
    {
     "name": "stdout",
     "output_type": "stream",
     "text": [
      "Converted ERR6450000 to /mnt/LaCIE/skolla/sc-heart-consortium/ncbi-sra/h5ad_files/ERR6450000_GeneFull_raw.h5ad\n"
     ]
    },
    {
     "name": "stderr",
     "output_type": "stream",
     "text": [
      "/home/skolla/miniforge3/envs/scanpy/lib/python3.12/site-packages/anndata/_core/anndata.py:1820: UserWarning: Variable names are not unique. To make them unique, call `.var_names_make_unique`.\n",
      "  utils.warn_names_duplicates(\"var\")\n",
      "/home/skolla/miniforge3/envs/scanpy/lib/python3.12/site-packages/anndata/utils.py:260: UserWarning: Suffix used (-[0-9]+) to deduplicate index values may make index values difficult to interpret. There values with a similar suffixes in the index. Consider using a different delimiter by passing `join={delimiter}`Example key collisions generated by the make_index_unique algorithm: ['SNORD116-1', 'SNORD116-2', 'SNORD116-3', 'SNORD116-4', 'SNORD116-5']\n",
      "  warnings.warn(\n"
     ]
    },
    {
     "name": "stdout",
     "output_type": "stream",
     "text": [
      "Converted ERR7423251 to /mnt/LaCIE/skolla/sc-heart-consortium/ncbi-sra/h5ad_files/ERR7423251_GeneFull_raw.h5ad\n"
     ]
    },
    {
     "name": "stderr",
     "output_type": "stream",
     "text": [
      "/home/skolla/miniforge3/envs/scanpy/lib/python3.12/site-packages/anndata/_core/anndata.py:1820: UserWarning: Variable names are not unique. To make them unique, call `.var_names_make_unique`.\n",
      "  utils.warn_names_duplicates(\"var\")\n",
      "/home/skolla/miniforge3/envs/scanpy/lib/python3.12/site-packages/anndata/utils.py:260: UserWarning: Suffix used (-[0-9]+) to deduplicate index values may make index values difficult to interpret. There values with a similar suffixes in the index. Consider using a different delimiter by passing `join={delimiter}`Example key collisions generated by the make_index_unique algorithm: ['SNORD116-1', 'SNORD116-2', 'SNORD116-3', 'SNORD116-4', 'SNORD116-5']\n",
      "  warnings.warn(\n"
     ]
    },
    {
     "name": "stdout",
     "output_type": "stream",
     "text": [
      "Converted ERR7423441 to /mnt/LaCIE/skolla/sc-heart-consortium/ncbi-sra/h5ad_files/ERR7423441_GeneFull_raw.h5ad\n"
     ]
    },
    {
     "name": "stderr",
     "output_type": "stream",
     "text": [
      "/home/skolla/miniforge3/envs/scanpy/lib/python3.12/site-packages/anndata/_core/anndata.py:1820: UserWarning: Variable names are not unique. To make them unique, call `.var_names_make_unique`.\n",
      "  utils.warn_names_duplicates(\"var\")\n",
      "/home/skolla/miniforge3/envs/scanpy/lib/python3.12/site-packages/anndata/utils.py:260: UserWarning: Suffix used (-[0-9]+) to deduplicate index values may make index values difficult to interpret. There values with a similar suffixes in the index. Consider using a different delimiter by passing `join={delimiter}`Example key collisions generated by the make_index_unique algorithm: ['SNORD116-1', 'SNORD116-2', 'SNORD116-3', 'SNORD116-4', 'SNORD116-5']\n",
      "  warnings.warn(\n"
     ]
    },
    {
     "name": "stdout",
     "output_type": "stream",
     "text": [
      "Converted ERR7423471 to /mnt/LaCIE/skolla/sc-heart-consortium/ncbi-sra/h5ad_files/ERR7423471_GeneFull_raw.h5ad\n"
     ]
    },
    {
     "name": "stderr",
     "output_type": "stream",
     "text": [
      "/home/skolla/miniforge3/envs/scanpy/lib/python3.12/site-packages/anndata/_core/anndata.py:1820: UserWarning: Variable names are not unique. To make them unique, call `.var_names_make_unique`.\n",
      "  utils.warn_names_duplicates(\"var\")\n",
      "/home/skolla/miniforge3/envs/scanpy/lib/python3.12/site-packages/anndata/utils.py:260: UserWarning: Suffix used (-[0-9]+) to deduplicate index values may make index values difficult to interpret. There values with a similar suffixes in the index. Consider using a different delimiter by passing `join={delimiter}`Example key collisions generated by the make_index_unique algorithm: ['SNORD116-1', 'SNORD116-2', 'SNORD116-3', 'SNORD116-4', 'SNORD116-5']\n",
      "  warnings.warn(\n"
     ]
    },
    {
     "name": "stdout",
     "output_type": "stream",
     "text": [
      "Converted ERR7423487 to /mnt/LaCIE/skolla/sc-heart-consortium/ncbi-sra/h5ad_files/ERR7423487_GeneFull_raw.h5ad\n"
     ]
    },
    {
     "name": "stderr",
     "output_type": "stream",
     "text": [
      "/home/skolla/miniforge3/envs/scanpy/lib/python3.12/site-packages/anndata/_core/anndata.py:1820: UserWarning: Variable names are not unique. To make them unique, call `.var_names_make_unique`.\n",
      "  utils.warn_names_duplicates(\"var\")\n",
      "/home/skolla/miniforge3/envs/scanpy/lib/python3.12/site-packages/anndata/utils.py:260: UserWarning: Suffix used (-[0-9]+) to deduplicate index values may make index values difficult to interpret. There values with a similar suffixes in the index. Consider using a different delimiter by passing `join={delimiter}`Example key collisions generated by the make_index_unique algorithm: ['SNORD116-1', 'SNORD116-2', 'SNORD116-3', 'SNORD116-4', 'SNORD116-5']\n",
      "  warnings.warn(\n"
     ]
    },
    {
     "name": "stdout",
     "output_type": "stream",
     "text": [
      "Converted ERR7423242 to /mnt/LaCIE/skolla/sc-heart-consortium/ncbi-sra/h5ad_files/ERR7423242_GeneFull_raw.h5ad\n"
     ]
    },
    {
     "name": "stderr",
     "output_type": "stream",
     "text": [
      "/home/skolla/miniforge3/envs/scanpy/lib/python3.12/site-packages/anndata/_core/anndata.py:1820: UserWarning: Variable names are not unique. To make them unique, call `.var_names_make_unique`.\n",
      "  utils.warn_names_duplicates(\"var\")\n",
      "/home/skolla/miniforge3/envs/scanpy/lib/python3.12/site-packages/anndata/utils.py:260: UserWarning: Suffix used (-[0-9]+) to deduplicate index values may make index values difficult to interpret. There values with a similar suffixes in the index. Consider using a different delimiter by passing `join={delimiter}`Example key collisions generated by the make_index_unique algorithm: ['SNORD116-1', 'SNORD116-2', 'SNORD116-3', 'SNORD116-4', 'SNORD116-5']\n",
      "  warnings.warn(\n"
     ]
    },
    {
     "name": "stdout",
     "output_type": "stream",
     "text": [
      "Converted ERR7423244 to /mnt/LaCIE/skolla/sc-heart-consortium/ncbi-sra/h5ad_files/ERR7423244_GeneFull_raw.h5ad\n"
     ]
    },
    {
     "name": "stderr",
     "output_type": "stream",
     "text": [
      "/home/skolla/miniforge3/envs/scanpy/lib/python3.12/site-packages/anndata/_core/anndata.py:1820: UserWarning: Variable names are not unique. To make them unique, call `.var_names_make_unique`.\n",
      "  utils.warn_names_duplicates(\"var\")\n",
      "/home/skolla/miniforge3/envs/scanpy/lib/python3.12/site-packages/anndata/utils.py:260: UserWarning: Suffix used (-[0-9]+) to deduplicate index values may make index values difficult to interpret. There values with a similar suffixes in the index. Consider using a different delimiter by passing `join={delimiter}`Example key collisions generated by the make_index_unique algorithm: ['SNORD116-1', 'SNORD116-2', 'SNORD116-3', 'SNORD116-4', 'SNORD116-5']\n",
      "  warnings.warn(\n"
     ]
    },
    {
     "name": "stdout",
     "output_type": "stream",
     "text": [
      "Converted ERR7423247 to /mnt/LaCIE/skolla/sc-heart-consortium/ncbi-sra/h5ad_files/ERR7423247_GeneFull_raw.h5ad\n"
     ]
    },
    {
     "name": "stderr",
     "output_type": "stream",
     "text": [
      "/home/skolla/miniforge3/envs/scanpy/lib/python3.12/site-packages/anndata/_core/anndata.py:1820: UserWarning: Variable names are not unique. To make them unique, call `.var_names_make_unique`.\n",
      "  utils.warn_names_duplicates(\"var\")\n",
      "/home/skolla/miniforge3/envs/scanpy/lib/python3.12/site-packages/anndata/utils.py:260: UserWarning: Suffix used (-[0-9]+) to deduplicate index values may make index values difficult to interpret. There values with a similar suffixes in the index. Consider using a different delimiter by passing `join={delimiter}`Example key collisions generated by the make_index_unique algorithm: ['SNORD116-1', 'SNORD116-2', 'SNORD116-3', 'SNORD116-4', 'SNORD116-5']\n",
      "  warnings.warn(\n"
     ]
    },
    {
     "name": "stdout",
     "output_type": "stream",
     "text": [
      "Converted ERR7423248 to /mnt/LaCIE/skolla/sc-heart-consortium/ncbi-sra/h5ad_files/ERR7423248_GeneFull_raw.h5ad\n"
     ]
    },
    {
     "name": "stderr",
     "output_type": "stream",
     "text": [
      "/home/skolla/miniforge3/envs/scanpy/lib/python3.12/site-packages/anndata/_core/anndata.py:1820: UserWarning: Variable names are not unique. To make them unique, call `.var_names_make_unique`.\n",
      "  utils.warn_names_duplicates(\"var\")\n",
      "/home/skolla/miniforge3/envs/scanpy/lib/python3.12/site-packages/anndata/utils.py:260: UserWarning: Suffix used (-[0-9]+) to deduplicate index values may make index values difficult to interpret. There values with a similar suffixes in the index. Consider using a different delimiter by passing `join={delimiter}`Example key collisions generated by the make_index_unique algorithm: ['SNORD116-1', 'SNORD116-2', 'SNORD116-3', 'SNORD116-4', 'SNORD116-5']\n",
      "  warnings.warn(\n"
     ]
    },
    {
     "name": "stdout",
     "output_type": "stream",
     "text": [
      "Converted ERR7423249 to /mnt/LaCIE/skolla/sc-heart-consortium/ncbi-sra/h5ad_files/ERR7423249_GeneFull_raw.h5ad\n"
     ]
    },
    {
     "name": "stderr",
     "output_type": "stream",
     "text": [
      "/home/skolla/miniforge3/envs/scanpy/lib/python3.12/site-packages/anndata/_core/anndata.py:1820: UserWarning: Variable names are not unique. To make them unique, call `.var_names_make_unique`.\n",
      "  utils.warn_names_duplicates(\"var\")\n",
      "/home/skolla/miniforge3/envs/scanpy/lib/python3.12/site-packages/anndata/utils.py:260: UserWarning: Suffix used (-[0-9]+) to deduplicate index values may make index values difficult to interpret. There values with a similar suffixes in the index. Consider using a different delimiter by passing `join={delimiter}`Example key collisions generated by the make_index_unique algorithm: ['SNORD116-1', 'SNORD116-2', 'SNORD116-3', 'SNORD116-4', 'SNORD116-5']\n",
      "  warnings.warn(\n"
     ]
    },
    {
     "name": "stdout",
     "output_type": "stream",
     "text": [
      "Converted ERR7423257 to /mnt/LaCIE/skolla/sc-heart-consortium/ncbi-sra/h5ad_files/ERR7423257_GeneFull_raw.h5ad\n",
      "Conversion complete for specified folders.\n"
     ]
    }
   ],
   "source": [
    "def convert_selected_to_h5ad_from_genefull(parent_folder, output_folder, folders):\n",
    "    \"\"\"Convert GeneFull/raw data to H5AD format for specified folders in the parent directory.\"\"\"\n",
    "\n",
    "    for sample_folder in folders:\n",
    "        sample_path = os.path.join(parent_folder, sample_folder)\n",
    "        \n",
    "       \n",
    "        gene_dir = os.path.join(sample_path, 'outputSolo.out', 'GeneFull', 'raw')\n",
    "        \n",
    "\n",
    "        obs_file = os.path.join(gene_dir, 'barcodes.tsv')\n",
    "        var_file = os.path.join(gene_dir, 'features.tsv')\n",
    "        spliced_file = os.path.join(gene_dir, 'matrix.mtx')  \n",
    "        if not (os.path.isdir(gene_dir) and os.path.isfile(obs_file) and os.path.isfile(var_file) and os.path.isfile(spliced_file)):\n",
    "            print(f\"Required files missing in {gene_dir} for {sample_folder}. Skipping.\")\n",
    "            continue\n",
    "\n",
    "\n",
    "        obs = pd.read_csv(obs_file, header=None, index_col=0)\n",
    "        obs.index.name = None  \n",
    "        \n",
    "        var = pd.read_csv(var_file, sep='\\t', names=['gene_ids', 'gene_names', 'gene_types'], index_col=1)\n",
    "        var.index.name = None  \n",
    "\n",
    "        \n",
    "        spliced = scipy.sparse.csr_matrix(scipy.io.mmread(spliced_file).T)\n",
    "\n",
    "        adata = anndata.AnnData(X=spliced, obs=obs, var=var)\n",
    "        adata.layers['spliced'] = spliced\n",
    "        adata.var_names_make_unique()\n",
    "\n",
    "\n",
    "        os.makedirs(output_folder, exist_ok=True)\n",
    "        output_file_path = os.path.join(output_folder, f\"{sample_folder}_GeneFull_raw.h5ad\")\n",
    "        adata.write_h5ad(output_file_path)\n",
    "        print(f\"Converted {sample_folder} to {output_file_path}\")\n",
    "\n",
    "    print(\"Conversion complete for specified folders.\")\n",
    "\n",
    "\n",
    "output_folder = '/mnt/LaCIE/skolla/sc-heart-consortium/ncbi-sra/h5ad_files'\n",
    "\n",
    "convert_selected_to_h5ad_from_genefull(parent_folder, output_folder, folders)"
   ]
  }
 ],
 "metadata": {
  "kernelspec": {
   "display_name": "scanpy",
   "language": "python",
   "name": "python3"
  },
  "language_info": {
   "codemirror_mode": {
    "name": "ipython",
    "version": 3
   },
   "file_extension": ".py",
   "mimetype": "text/x-python",
   "name": "python",
   "nbconvert_exporter": "python",
   "pygments_lexer": "ipython3",
   "version": "3.12.4"
  }
 },
 "nbformat": 4,
 "nbformat_minor": 2
}
