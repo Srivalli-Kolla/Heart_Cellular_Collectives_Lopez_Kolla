{
 "cells": [
  {
   "cell_type": "markdown",
   "metadata": {},
   "source": [
    "# Notebook to run basic `scanpy` QC and doublet detection with `scrublet` for SRA Project - PRJEB39602 -D3\n",
    "\n",
    "- **Developed by**: Srivalli Kolla\n",
    "\n",
    "- **Created date** : 14 October, 2024\n",
    "\n",
    "- **Modification date** : 05 November, 2024\n",
    "\n",
    "- **Würzburg Institute for Systems Immunology & Julius-Maximilian-Universität Würzburg**"
   ]
  },
  {
   "cell_type": "markdown",
   "metadata": {},
   "source": [
    "Env : Scanpy(Python 3.12.4)"
   ]
  },
  {
   "cell_type": "markdown",
   "metadata": {},
   "source": [
    "# Import Packages"
   ]
  },
  {
   "cell_type": "code",
   "execution_count": 14,
   "metadata": {},
   "outputs": [],
   "source": [
    "import anndata\n",
    "import logging\n",
    "import anndata as ad\n",
    "import numpy as np\n",
    "import pandas as pd\n",
    "import scanpy as sc\n",
    "import seaborn as sb\n",
    "import scrublet as scr\n",
    "import os\n",
    "import time\n",
    "import matplotlib.pyplot as plt\n",
    "from statsmodels.robust.scale import mad as median_abs_deviation\n",
    "from matplotlib import colors\n",
    "from matplotlib import rcParams"
   ]
  },
  {
   "cell_type": "code",
   "execution_count": 15,
   "metadata": {},
   "outputs": [
    {
     "name": "stdout",
     "output_type": "stream",
     "text": [
      "-----\n",
      "anndata     0.10.8\n",
      "scanpy      1.10.2\n",
      "-----\n",
      "PIL                 10.3.0\n",
      "array_api_compat    1.7.1\n",
      "asttokens           NA\n",
      "attr                23.2.0\n",
      "cffi                1.16.0\n",
      "colorama            0.4.6\n",
      "comm                0.2.2\n",
      "cycler              0.12.1\n",
      "cython_runtime      NA\n",
      "dateutil            2.9.0.post0\n",
      "debugpy             1.8.2\n",
      "decorator           5.1.1\n",
      "defusedxml          0.7.1\n",
      "distutils           3.12.4\n",
      "django              5.0.6\n",
      "executing           2.0.1\n",
      "h5py                3.11.0\n",
      "igraph              0.11.5\n",
      "ipykernel           6.29.5\n",
      "ipython_genutils    0.2.0\n",
      "ipywidgets          8.1.3\n",
      "jedi                0.19.1\n",
      "joblib              1.4.2\n",
      "kiwisolver          1.4.5\n",
      "legacy_api_wrap     NA\n",
      "leidenalg           0.10.2\n",
      "llvmlite            0.43.0\n",
      "louvain             0.8.2\n",
      "matplotlib          3.8.4\n",
      "matplotlib_inline   0.1.7\n",
      "mpl_toolkits        NA\n",
      "natsort             8.4.0\n",
      "numba               0.60.0\n",
      "numexpr             2.10.1\n",
      "numpy               1.26.4\n",
      "packaging           24.1\n",
      "pandas              2.2.2\n",
      "parso               0.8.4\n",
      "patsy               0.5.6\n",
      "pkg_resources       NA\n",
      "platformdirs        4.2.2\n",
      "plotly              5.22.0\n",
      "prompt_toolkit      3.0.47\n",
      "psutil              6.0.0\n",
      "pure_eval           0.2.2\n",
      "pydev_ipython       NA\n",
      "pydevconsole        NA\n",
      "pydevd              2.9.5\n",
      "pydevd_file_utils   NA\n",
      "pydevd_plugins      NA\n",
      "pydevd_tracing      NA\n",
      "pydot               2.0.0\n",
      "pygments            2.18.0\n",
      "pyparsing           3.1.2\n",
      "pytz                2024.1\n",
      "rich                NA\n",
      "scipy               1.13.1\n",
      "scrublet            NA\n",
      "seaborn             0.13.2\n",
      "session_info        1.0.0\n",
      "setuptools          70.1.0\n",
      "setuptools_scm      NA\n",
      "six                 1.16.0\n",
      "sklearn             1.5.0\n",
      "stack_data          0.6.3\n",
      "statsmodels         0.14.2\n",
      "texttable           1.7.0\n",
      "threadpoolctl       3.5.0\n",
      "torch               2.4.0\n",
      "torchgen            NA\n",
      "tornado             6.4.1\n",
      "tqdm                4.66.4\n",
      "traitlets           5.14.3\n",
      "typing_extensions   NA\n",
      "vscode              NA\n",
      "wcwidth             0.2.13\n",
      "yaml                6.0.2\n",
      "zmq                 26.0.3\n",
      "-----\n",
      "IPython             8.26.0\n",
      "jupyter_client      8.6.2\n",
      "jupyter_core        5.7.2\n",
      "notebook            6.5.7\n",
      "-----\n",
      "Python 3.12.4 | packaged by conda-forge | (main, Jun 17 2024, 10:23:07) [GCC 12.3.0]\n",
      "Linux-6.11.4-101.fc39.x86_64-x86_64-with-glibc2.38\n",
      "-----\n",
      "Session information updated at 2024-11-05 17:03\n"
     ]
    }
   ],
   "source": [
    "sc.settings.verbosity = 3\n",
    "sc.logging.print_versions()\n",
    "sc.settings.set_figure_params(dpi = 160, color_map = 'RdPu', dpi_save = 180, vector_friendly = True, format = 'svg')\n",
    "timestamp = time.strftime(\"%d_%m_%Y\")"
   ]
  },
  {
   "cell_type": "markdown",
   "metadata": {},
   "source": [
    "# Import sample_names"
   ]
  },
  {
   "cell_type": "code",
   "execution_count": 16,
   "metadata": {},
   "outputs": [],
   "source": [
    "path = '/mnt/LaCIE/skolla/sc-heart-consortium/ncbi-sra/h5ad_files/'\n",
    "files = ['ERR6449986_GeneFull_raw.h5ad',\n",
    "'ERR7423245_GeneFull_raw.h5ad',\n",
    "'ERR7423246_GeneFull_raw.h5ad',\n",
    "'ERR7423472_GeneFull_raw.h5ad',\n",
    "'ERR6449756_GeneFull_raw.h5ad',\n",
    "'ERR6449758_GeneFull_raw.h5ad',\n",
    "'ERR6449761_GeneFull_raw.h5ad',\n",
    "'ERR6449775_GeneFull_raw.h5ad',\n",
    "'ERR6449954_GeneFull_raw.h5ad',\n",
    "'ERR6449985_GeneFull_raw.h5ad',\n",
    "'ERR7423243_GeneFull_raw.h5ad',\n",
    "'ERR7423262_GeneFull_raw.h5ad',\n",
    "'ERR7423473_GeneFull_raw.h5ad',\n",
    "'ERR6449755_GeneFull_raw.h5ad',\n",
    "'ERR6449757_GeneFull_raw.h5ad',\n",
    "'ERR6449759_GeneFull_raw.h5ad',\n",
    "'ERR6449760_GeneFull_raw.h5ad',\n",
    "'ERR6449762_GeneFull_raw.h5ad',\n",
    "'ERR6449764_GeneFull_raw.h5ad',\n",
    "'ERR6449770_GeneFull_raw.h5ad',\n",
    "'ERR6449984_GeneFull_raw.h5ad',\n",
    "'ERR6450000_GeneFull_raw.h5ad',\n",
    "'ERR7423251_GeneFull_raw.h5ad',\n",
    "'ERR7423441_GeneFull_raw.h5ad',\n",
    "'ERR7423471_GeneFull_raw.h5ad',\n",
    "'ERR7423487_GeneFull_raw.h5ad',\n",
    "'ERR7423242_GeneFull_raw.h5ad',\n",
    "'ERR7423244_GeneFull_raw.h5ad',\n",
    "'ERR7423247_GeneFull_raw.h5ad',\n",
    "'ERR7423248_GeneFull_raw.h5ad',\n",
    "'ERR7423249_GeneFull_raw.h5ad',\n",
    "'ERR7423257_GeneFull_raw.h5ad',]"
   ]
  },
  {
   "cell_type": "code",
   "execution_count": 17,
   "metadata": {},
   "outputs": [
    {
     "name": "stdout",
     "output_type": "stream",
     "text": [
      "filtered out 654888 cells that have less than 10 counts\n",
      "filtered out 43557 genes that are detected in less than 10 counts\n",
      "Successfully read and concatenated: ERR6449986_GeneFull_raw.h5ad\n",
      "filtered out 658904 cells that have less than 10 counts\n",
      "filtered out 42572 genes that are detected in less than 10 counts\n",
      "Successfully read and concatenated: ERR7423245_GeneFull_raw.h5ad\n",
      "filtered out 660593 cells that have less than 10 counts\n",
      "filtered out 49184 genes that are detected in less than 10 counts\n",
      "Successfully read and concatenated: ERR7423246_GeneFull_raw.h5ad\n",
      "filtered out 658400 cells that have less than 10 counts\n",
      "filtered out 41647 genes that are detected in less than 10 counts\n",
      "Successfully read and concatenated: ERR7423472_GeneFull_raw.h5ad\n",
      "filtered out 675379 cells that have less than 10 counts\n",
      "filtered out 48396 genes that are detected in less than 10 counts\n",
      "Successfully read and concatenated: ERR6449756_GeneFull_raw.h5ad\n",
      "filtered out 658904 cells that have less than 10 counts\n",
      "filtered out 42572 genes that are detected in less than 10 counts\n",
      "Successfully read and concatenated: ERR6449758_GeneFull_raw.h5ad\n",
      "filtered out 643630 cells that have less than 10 counts\n",
      "filtered out 38489 genes that are detected in less than 10 counts\n",
      "Successfully read and concatenated: ERR6449761_GeneFull_raw.h5ad\n",
      "filtered out 665292 cells that have less than 10 counts\n",
      "filtered out 48018 genes that are detected in less than 10 counts\n",
      "Successfully read and concatenated: ERR6449775_GeneFull_raw.h5ad\n",
      "filtered out 659065 cells that have less than 10 counts\n",
      "filtered out 43555 genes that are detected in less than 10 counts\n",
      "Successfully read and concatenated: ERR6449954_GeneFull_raw.h5ad\n",
      "filtered out 658400 cells that have less than 10 counts\n",
      "filtered out 41647 genes that are detected in less than 10 counts\n",
      "Successfully read and concatenated: ERR6449985_GeneFull_raw.h5ad\n",
      "filtered out 675379 cells that have less than 10 counts\n",
      "filtered out 48396 genes that are detected in less than 10 counts\n",
      "Successfully read and concatenated: ERR7423243_GeneFull_raw.h5ad\n",
      "Error reading ERR7423262_GeneFull_raw.h5ad: [Errno 2] Unable to synchronously open file (unable to open file: name = '/mnt/LaCIE/skolla/sc-heart-consortium/ncbi-sra/h5ad_files/ERR7423262_GeneFull_raw.h5ad', errno = 2, error message = 'No such file or directory', flags = 0, o_flags = 0)\n",
      "filtered out 654888 cells that have less than 10 counts\n",
      "filtered out 43557 genes that are detected in less than 10 counts\n",
      "Successfully read and concatenated: ERR7423473_GeneFull_raw.h5ad\n",
      "filtered out 737280 cells that have less than 10 counts\n",
      "filtered out 63086 genes that are detected in less than 10 counts\n",
      "Successfully read and concatenated: ERR6449755_GeneFull_raw.h5ad\n",
      "filtered out 644113 cells that have less than 10 counts\n",
      "filtered out 39254 genes that are detected in less than 10 counts\n",
      "Successfully read and concatenated: ERR6449757_GeneFull_raw.h5ad\n",
      "filtered out 660593 cells that have less than 10 counts\n",
      "filtered out 49184 genes that are detected in less than 10 counts\n",
      "Successfully read and concatenated: ERR6449759_GeneFull_raw.h5ad\n",
      "filtered out 659023 cells that have less than 10 counts\n",
      "filtered out 39794 genes that are detected in less than 10 counts\n",
      "Successfully read and concatenated: ERR6449760_GeneFull_raw.h5ad\n",
      "filtered out 709324 cells that have less than 10 counts\n",
      "filtered out 49892 genes that are detected in less than 10 counts\n",
      "Successfully read and concatenated: ERR6449762_GeneFull_raw.h5ad\n",
      "filtered out 662901 cells that have less than 10 counts\n",
      "filtered out 43265 genes that are detected in less than 10 counts\n",
      "Successfully read and concatenated: ERR6449764_GeneFull_raw.h5ad\n",
      "filtered out 658908 cells that have less than 10 counts\n",
      "filtered out 43921 genes that are detected in less than 10 counts\n",
      "Successfully read and concatenated: ERR6449770_GeneFull_raw.h5ad\n",
      "filtered out 653267 cells that have less than 10 counts\n",
      "filtered out 42948 genes that are detected in less than 10 counts\n",
      "Successfully read and concatenated: ERR6449984_GeneFull_raw.h5ad\n",
      "filtered out 657621 cells that have less than 10 counts\n",
      "filtered out 47092 genes that are detected in less than 10 counts\n",
      "Successfully read and concatenated: ERR6450000_GeneFull_raw.h5ad\n",
      "filtered out 662901 cells that have less than 10 counts\n",
      "filtered out 43265 genes that are detected in less than 10 counts\n",
      "Successfully read and concatenated: ERR7423251_GeneFull_raw.h5ad\n",
      "filtered out 659065 cells that have less than 10 counts\n",
      "filtered out 43555 genes that are detected in less than 10 counts\n",
      "Successfully read and concatenated: ERR7423441_GeneFull_raw.h5ad\n",
      "filtered out 653267 cells that have less than 10 counts\n",
      "filtered out 42948 genes that are detected in less than 10 counts\n",
      "Successfully read and concatenated: ERR7423471_GeneFull_raw.h5ad\n",
      "filtered out 657621 cells that have less than 10 counts\n",
      "filtered out 47092 genes that are detected in less than 10 counts\n",
      "Successfully read and concatenated: ERR7423487_GeneFull_raw.h5ad\n",
      "filtered out 655624 cells that have less than 10 counts\n",
      "filtered out 46813 genes that are detected in less than 10 counts\n",
      "Successfully read and concatenated: ERR7423242_GeneFull_raw.h5ad\n",
      "filtered out 644113 cells that have less than 10 counts\n",
      "filtered out 39254 genes that are detected in less than 10 counts\n",
      "Successfully read and concatenated: ERR7423244_GeneFull_raw.h5ad\n",
      "filtered out 659023 cells that have less than 10 counts\n",
      "filtered out 39794 genes that are detected in less than 10 counts\n",
      "Successfully read and concatenated: ERR7423247_GeneFull_raw.h5ad\n",
      "filtered out 643630 cells that have less than 10 counts\n",
      "filtered out 38489 genes that are detected in less than 10 counts\n",
      "Successfully read and concatenated: ERR7423248_GeneFull_raw.h5ad\n",
      "filtered out 709324 cells that have less than 10 counts\n",
      "filtered out 49892 genes that are detected in less than 10 counts\n",
      "Successfully read and concatenated: ERR7423249_GeneFull_raw.h5ad\n",
      "filtered out 658908 cells that have less than 10 counts\n",
      "filtered out 43921 genes that are detected in less than 10 counts\n",
      "Successfully read and concatenated: ERR7423257_GeneFull_raw.h5ad\n"
     ]
    },
    {
     "data": {
      "text/plain": [
       "AnnData object with n_obs × n_vars = 2285452 × 0\n",
       "    obs: 'sample_name', 'n_counts'\n",
       "    layers: 'spliced'"
      ]
     },
     "execution_count": 17,
     "metadata": {},
     "output_type": "execute_result"
    }
   ],
   "source": [
    "adata_combined = None\n",
    "vars_combined = []\n",
    "\n",
    "for file in files:\n",
    "    file_path = os.path.join(path, file)\n",
    "    \n",
    "    try:\n",
    "\n",
    "        adata = sc.read_h5ad(file_path)\n",
    "\n",
    "        sample_name = os.path.basename(file_path).split('.')[0]\n",
    "        adata.obs['sample_name'] = sample_name\n",
    "\n",
    "\n",
    "        sc.pp.filter_cells(adata, min_counts=10)\n",
    "        sc.pp.filter_genes(adata, min_counts=10)\n",
    "\n",
    "\n",
    "        adata.var_names = adata.var_names.str.split('.').str[0]\n",
    "        adata.var_names = [f\"{name}_{sample_name}\" for name in adata.var_names]\n",
    "\n",
    "        vars_combined.extend(adata.var_names)\n",
    "\n",
    "\n",
    "        if adata_combined is None:\n",
    "            adata_combined = adata\n",
    "        else:\n",
    "            adata_combined = sc.concat([adata_combined, adata], join='inner', index_unique='-')\n",
    "\n",
    "        print(f\"Successfully read and concatenated: {file}\")\n",
    "\n",
    "    except Exception as e:\n",
    "        print(f\"Error reading {file}: {e}\")\n",
    "\n",
    "unique_var_names = pd.Series(vars_combined).unique()\n",
    "adata_combined.var_names = unique_var_names[:adata_combined.n_vars] \n",
    "adata_combined"
   ]
  },
  {
   "cell_type": "code",
   "execution_count": 18,
   "metadata": {},
   "outputs": [
    {
     "data": {
      "text/plain": [
       "AnnData object with n_obs × n_vars = 2285452 × 0\n",
       "    obs: 'sample_name', 'n_counts'\n",
       "    layers: 'spliced'"
      ]
     },
     "execution_count": 18,
     "metadata": {},
     "output_type": "execute_result"
    }
   ],
   "source": [
    "adata_combined"
   ]
  },
  {
   "cell_type": "code",
   "execution_count": 19,
   "metadata": {},
   "outputs": [
    {
     "data": {
      "text/html": [
       "<div>\n",
       "<style scoped>\n",
       "    .dataframe tbody tr th:only-of-type {\n",
       "        vertical-align: middle;\n",
       "    }\n",
       "\n",
       "    .dataframe tbody tr th {\n",
       "        vertical-align: top;\n",
       "    }\n",
       "\n",
       "    .dataframe thead th {\n",
       "        text-align: right;\n",
       "    }\n",
       "</style>\n",
       "<table border=\"1\" class=\"dataframe\">\n",
       "  <thead>\n",
       "    <tr style=\"text-align: right;\">\n",
       "      <th></th>\n",
       "      <th>sample_name</th>\n",
       "      <th>n_counts</th>\n",
       "    </tr>\n",
       "  </thead>\n",
       "  <tbody>\n",
       "    <tr>\n",
       "      <th>AAACCTGAGAAAGTGG-0-0-0-0-0-0-0-0-0-0-0-0-0-0-0-0-0-0-0-0-0-0-0-0-0-0-0-0-0-0</th>\n",
       "      <td>ERR6449986_GeneFull_raw</td>\n",
       "      <td>23</td>\n",
       "    </tr>\n",
       "    <tr>\n",
       "      <th>AAACCTGAGAACAATC-0-0-0-0-0-0-0-0-0-0-0-0-0-0-0-0-0-0-0-0-0-0-0-0-0-0-0-0-0-0</th>\n",
       "      <td>ERR6449986_GeneFull_raw</td>\n",
       "      <td>42</td>\n",
       "    </tr>\n",
       "    <tr>\n",
       "      <th>AAACCTGAGAACTGTA-0-0-0-0-0-0-0-0-0-0-0-0-0-0-0-0-0-0-0-0-0-0-0-0-0-0-0-0-0-0</th>\n",
       "      <td>ERR6449986_GeneFull_raw</td>\n",
       "      <td>38</td>\n",
       "    </tr>\n",
       "    <tr>\n",
       "      <th>AAACCTGAGACAGAGA-0-0-0-0-0-0-0-0-0-0-0-0-0-0-0-0-0-0-0-0-0-0-0-0-0-0-0-0-0-0</th>\n",
       "      <td>ERR6449986_GeneFull_raw</td>\n",
       "      <td>45</td>\n",
       "    </tr>\n",
       "    <tr>\n",
       "      <th>AAACCTGAGACTTGAA-0-0-0-0-0-0-0-0-0-0-0-0-0-0-0-0-0-0-0-0-0-0-0-0-0-0-0-0-0-0</th>\n",
       "      <td>ERR6449986_GeneFull_raw</td>\n",
       "      <td>57</td>\n",
       "    </tr>\n",
       "    <tr>\n",
       "      <th>...</th>\n",
       "      <td>...</td>\n",
       "      <td>...</td>\n",
       "    </tr>\n",
       "    <tr>\n",
       "      <th>TTTGTCATCTTAGAGC-1</th>\n",
       "      <td>ERR7423257_GeneFull_raw</td>\n",
       "      <td>19</td>\n",
       "    </tr>\n",
       "    <tr>\n",
       "      <th>TTTGTCATCTTGAGGT-1</th>\n",
       "      <td>ERR7423257_GeneFull_raw</td>\n",
       "      <td>36</td>\n",
       "    </tr>\n",
       "    <tr>\n",
       "      <th>TTTGTCATCTTGGGTA-1</th>\n",
       "      <td>ERR7423257_GeneFull_raw</td>\n",
       "      <td>30</td>\n",
       "    </tr>\n",
       "    <tr>\n",
       "      <th>TTTGTCATCTTGTACT-1</th>\n",
       "      <td>ERR7423257_GeneFull_raw</td>\n",
       "      <td>35</td>\n",
       "    </tr>\n",
       "    <tr>\n",
       "      <th>TTTGTCATCTTTCCTC-1</th>\n",
       "      <td>ERR7423257_GeneFull_raw</td>\n",
       "      <td>54</td>\n",
       "    </tr>\n",
       "  </tbody>\n",
       "</table>\n",
       "<p>2285452 rows × 2 columns</p>\n",
       "</div>"
      ],
      "text/plain": [
       "                                                                sample_name  \\\n",
       "AAACCTGAGAAAGTGG-0-0-0-0-0-0-0-0-0-0-0-0-0-0-0-...  ERR6449986_GeneFull_raw   \n",
       "AAACCTGAGAACAATC-0-0-0-0-0-0-0-0-0-0-0-0-0-0-0-...  ERR6449986_GeneFull_raw   \n",
       "AAACCTGAGAACTGTA-0-0-0-0-0-0-0-0-0-0-0-0-0-0-0-...  ERR6449986_GeneFull_raw   \n",
       "AAACCTGAGACAGAGA-0-0-0-0-0-0-0-0-0-0-0-0-0-0-0-...  ERR6449986_GeneFull_raw   \n",
       "AAACCTGAGACTTGAA-0-0-0-0-0-0-0-0-0-0-0-0-0-0-0-...  ERR6449986_GeneFull_raw   \n",
       "...                                                                     ...   \n",
       "TTTGTCATCTTAGAGC-1                                  ERR7423257_GeneFull_raw   \n",
       "TTTGTCATCTTGAGGT-1                                  ERR7423257_GeneFull_raw   \n",
       "TTTGTCATCTTGGGTA-1                                  ERR7423257_GeneFull_raw   \n",
       "TTTGTCATCTTGTACT-1                                  ERR7423257_GeneFull_raw   \n",
       "TTTGTCATCTTTCCTC-1                                  ERR7423257_GeneFull_raw   \n",
       "\n",
       "                                                    n_counts  \n",
       "AAACCTGAGAAAGTGG-0-0-0-0-0-0-0-0-0-0-0-0-0-0-0-...        23  \n",
       "AAACCTGAGAACAATC-0-0-0-0-0-0-0-0-0-0-0-0-0-0-0-...        42  \n",
       "AAACCTGAGAACTGTA-0-0-0-0-0-0-0-0-0-0-0-0-0-0-0-...        38  \n",
       "AAACCTGAGACAGAGA-0-0-0-0-0-0-0-0-0-0-0-0-0-0-0-...        45  \n",
       "AAACCTGAGACTTGAA-0-0-0-0-0-0-0-0-0-0-0-0-0-0-0-...        57  \n",
       "...                                                      ...  \n",
       "TTTGTCATCTTAGAGC-1                                        19  \n",
       "TTTGTCATCTTGAGGT-1                                        36  \n",
       "TTTGTCATCTTGGGTA-1                                        30  \n",
       "TTTGTCATCTTGTACT-1                                        35  \n",
       "TTTGTCATCTTTCCTC-1                                        54  \n",
       "\n",
       "[2285452 rows x 2 columns]"
      ]
     },
     "execution_count": 19,
     "metadata": {},
     "output_type": "execute_result"
    }
   ],
   "source": [
    "adata_combined.obs"
   ]
  },
  {
   "cell_type": "code",
   "execution_count": 20,
   "metadata": {},
   "outputs": [
    {
     "data": {
      "text/html": [
       "<div>\n",
       "<style scoped>\n",
       "    .dataframe tbody tr th:only-of-type {\n",
       "        vertical-align: middle;\n",
       "    }\n",
       "\n",
       "    .dataframe tbody tr th {\n",
       "        vertical-align: top;\n",
       "    }\n",
       "\n",
       "    .dataframe thead th {\n",
       "        text-align: right;\n",
       "    }\n",
       "</style>\n",
       "<table border=\"1\" class=\"dataframe\">\n",
       "  <thead>\n",
       "    <tr style=\"text-align: right;\">\n",
       "      <th></th>\n",
       "    </tr>\n",
       "  </thead>\n",
       "  <tbody>\n",
       "  </tbody>\n",
       "</table>\n",
       "</div>"
      ],
      "text/plain": [
       "Empty DataFrame\n",
       "Columns: []\n",
       "Index: []"
      ]
     },
     "execution_count": 20,
     "metadata": {},
     "output_type": "execute_result"
    }
   ],
   "source": [
    "adata_combined.var"
   ]
  },
  {
   "cell_type": "code",
   "execution_count": 21,
   "metadata": {},
   "outputs": [
    {
     "data": {
      "text/plain": [
       "sample_name\n",
       "ERR6449761_GeneFull_raw    93650\n",
       "ERR7423248_GeneFull_raw    93650\n",
       "ERR7423244_GeneFull_raw    93167\n",
       "ERR6449757_GeneFull_raw    93167\n",
       "ERR7423471_GeneFull_raw    84013\n",
       "ERR6449984_GeneFull_raw    84013\n",
       "ERR6449986_GeneFull_raw    82392\n",
       "ERR7423473_GeneFull_raw    82392\n",
       "ERR7423242_GeneFull_raw    81656\n",
       "ERR6450000_GeneFull_raw    79659\n",
       "ERR7423487_GeneFull_raw    79659\n",
       "ERR6449985_GeneFull_raw    78880\n",
       "ERR7423472_GeneFull_raw    78880\n",
       "ERR6449758_GeneFull_raw    78376\n",
       "ERR7423245_GeneFull_raw    78376\n",
       "ERR6449770_GeneFull_raw    78372\n",
       "ERR7423257_GeneFull_raw    78372\n",
       "ERR6449760_GeneFull_raw    78257\n",
       "ERR7423247_GeneFull_raw    78257\n",
       "ERR6449954_GeneFull_raw    78215\n",
       "ERR7423441_GeneFull_raw    78215\n",
       "ERR7423246_GeneFull_raw    76687\n",
       "ERR6449759_GeneFull_raw    76687\n",
       "ERR6449764_GeneFull_raw    74379\n",
       "ERR7423251_GeneFull_raw    74379\n",
       "ERR6449775_GeneFull_raw    71988\n",
       "ERR7423243_GeneFull_raw    61901\n",
       "ERR6449756_GeneFull_raw    61901\n",
       "ERR6449762_GeneFull_raw    27956\n",
       "ERR7423249_GeneFull_raw    27956\n",
       "Name: count, dtype: int64"
      ]
     },
     "execution_count": 21,
     "metadata": {},
     "output_type": "execute_result"
    }
   ],
   "source": [
    "adata_combined.obs['sample_name'].value_counts()"
   ]
  },
  {
   "cell_type": "markdown",
   "metadata": {},
   "source": [
    "## Doublet score prediction"
   ]
  },
  {
   "cell_type": "code",
   "execution_count": 22,
   "metadata": {},
   "outputs": [
    {
     "name": "stdout",
     "output_type": "stream",
     "text": [
      "Preprocessing...\n"
     ]
    },
    {
     "name": "stderr",
     "output_type": "stream",
     "text": [
      "/home/skolla/miniforge3/envs/scanpy/lib/python3.12/site-packages/scrublet/helper_functions.py:321: RuntimeWarning: invalid value encountered in divide\n",
      "  w.setdiag(float(target_total) / tots_use)\n"
     ]
    },
    {
     "ename": "IndexError",
     "evalue": "index -1 is out of bounds for axis 0 with size 0",
     "output_type": "error",
     "traceback": [
      "\u001b[0;31m---------------------------------------------------------------------------\u001b[0m",
      "\u001b[0;31mIndexError\u001b[0m                                Traceback (most recent call last)",
      "Cell \u001b[0;32mIn[22], line 3\u001b[0m\n\u001b[1;32m      1\u001b[0m scrub \u001b[38;5;241m=\u001b[39m scr\u001b[38;5;241m.\u001b[39mScrublet(adata_combined\u001b[38;5;241m.\u001b[39mX)\n\u001b[0;32m----> 3\u001b[0m doublet_scores, predicted_doublets \u001b[38;5;241m=\u001b[39m \u001b[43mscrub\u001b[49m\u001b[38;5;241;43m.\u001b[39;49m\u001b[43mscrub_doublets\u001b[49m\u001b[43m(\u001b[49m\u001b[43m)\u001b[49m\n\u001b[1;32m      5\u001b[0m adata_combined\u001b[38;5;241m.\u001b[39mobs[\u001b[38;5;124m'\u001b[39m\u001b[38;5;124mdoublet_scores\u001b[39m\u001b[38;5;124m'\u001b[39m] \u001b[38;5;241m=\u001b[39m doublet_scores\n\u001b[1;32m      6\u001b[0m adata_combined\u001b[38;5;241m.\u001b[39mobs[\u001b[38;5;124m'\u001b[39m\u001b[38;5;124mpredicted_doublets\u001b[39m\u001b[38;5;124m'\u001b[39m] \u001b[38;5;241m=\u001b[39m predicted_doublets\n",
      "File \u001b[0;32m~/miniforge3/envs/scanpy/lib/python3.12/site-packages/scrublet/scrublet.py:220\u001b[0m, in \u001b[0;36mScrublet.scrub_doublets\u001b[0;34m(self, synthetic_doublet_umi_subsampling, use_approx_neighbors, distance_metric, get_doublet_neighbor_parents, min_counts, min_cells, min_gene_variability_pctl, log_transform, mean_center, normalize_variance, n_prin_comps, svd_solver, verbose)\u001b[0m\n\u001b[1;32m    218\u001b[0m print_optional(\u001b[38;5;124m'\u001b[39m\u001b[38;5;124mPreprocessing...\u001b[39m\u001b[38;5;124m'\u001b[39m, verbose)\n\u001b[1;32m    219\u001b[0m pipeline_normalize(\u001b[38;5;28mself\u001b[39m)\n\u001b[0;32m--> 220\u001b[0m \u001b[43mpipeline_get_gene_filter\u001b[49m\u001b[43m(\u001b[49m\u001b[38;5;28;43mself\u001b[39;49m\u001b[43m,\u001b[49m\u001b[43m \u001b[49m\u001b[43mmin_counts\u001b[49m\u001b[38;5;241;43m=\u001b[39;49m\u001b[43mmin_counts\u001b[49m\u001b[43m,\u001b[49m\u001b[43m \u001b[49m\u001b[43mmin_cells\u001b[49m\u001b[38;5;241;43m=\u001b[39;49m\u001b[43mmin_cells\u001b[49m\u001b[43m,\u001b[49m\u001b[43m \u001b[49m\u001b[43mmin_gene_variability_pctl\u001b[49m\u001b[38;5;241;43m=\u001b[39;49m\u001b[43mmin_gene_variability_pctl\u001b[49m\u001b[43m)\u001b[49m\n\u001b[1;32m    221\u001b[0m pipeline_apply_gene_filter(\u001b[38;5;28mself\u001b[39m)\n\u001b[1;32m    223\u001b[0m print_optional(\u001b[38;5;124m'\u001b[39m\u001b[38;5;124mSimulating doublets...\u001b[39m\u001b[38;5;124m'\u001b[39m, verbose)\n",
      "File \u001b[0;32m~/miniforge3/envs/scanpy/lib/python3.12/site-packages/scrublet/helper_functions.py:29\u001b[0m, in \u001b[0;36mpipeline_get_gene_filter\u001b[0;34m(self, min_counts, min_cells, min_gene_variability_pctl)\u001b[0m\n\u001b[1;32m     27\u001b[0m \u001b[38;5;28;01mdef\u001b[39;00m \u001b[38;5;21mpipeline_get_gene_filter\u001b[39m(\u001b[38;5;28mself\u001b[39m, min_counts\u001b[38;5;241m=\u001b[39m\u001b[38;5;241m3\u001b[39m, min_cells\u001b[38;5;241m=\u001b[39m\u001b[38;5;241m3\u001b[39m, min_gene_variability_pctl\u001b[38;5;241m=\u001b[39m\u001b[38;5;241m85\u001b[39m):\n\u001b[1;32m     28\u001b[0m \u001b[38;5;250m    \u001b[39m\u001b[38;5;124;03m''' Identify highly variable genes expressed above a minimum level '''\u001b[39;00m\n\u001b[0;32m---> 29\u001b[0m     \u001b[38;5;28mself\u001b[39m\u001b[38;5;241m.\u001b[39m_gene_filter \u001b[38;5;241m=\u001b[39m \u001b[43mfilter_genes\u001b[49m\u001b[43m(\u001b[49m\u001b[38;5;28;43mself\u001b[39;49m\u001b[38;5;241;43m.\u001b[39;49m\u001b[43m_E_obs_norm\u001b[49m\u001b[43m,\u001b[49m\n\u001b[1;32m     30\u001b[0m \u001b[43m                                        \u001b[49m\u001b[43mmin_counts\u001b[49m\u001b[38;5;241;43m=\u001b[39;49m\u001b[43mmin_counts\u001b[49m\u001b[43m,\u001b[49m\n\u001b[1;32m     31\u001b[0m \u001b[43m                                        \u001b[49m\u001b[43mmin_cells\u001b[49m\u001b[38;5;241;43m=\u001b[39;49m\u001b[43mmin_cells\u001b[49m\u001b[43m,\u001b[49m\n\u001b[1;32m     32\u001b[0m \u001b[43m                                        \u001b[49m\u001b[43mmin_vscore_pctl\u001b[49m\u001b[38;5;241;43m=\u001b[39;49m\u001b[43mmin_gene_variability_pctl\u001b[49m\u001b[43m)\u001b[49m\n\u001b[1;32m     33\u001b[0m     \u001b[38;5;28;01mreturn\u001b[39;00m\n",
      "File \u001b[0;32m~/miniforge3/envs/scanpy/lib/python3.12/site-packages/scrublet/helper_functions.py:265\u001b[0m, in \u001b[0;36mfilter_genes\u001b[0;34m(E, base_ix, min_vscore_pctl, min_counts, min_cells, show_vscore_plot, sample_name)\u001b[0m\n\u001b[1;32m    262\u001b[0m \u001b[38;5;28;01mif\u001b[39;00m \u001b[38;5;28mlen\u001b[39m(base_ix) \u001b[38;5;241m==\u001b[39m \u001b[38;5;241m0\u001b[39m:\n\u001b[1;32m    263\u001b[0m     base_ix \u001b[38;5;241m=\u001b[39m np\u001b[38;5;241m.\u001b[39marange(E\u001b[38;5;241m.\u001b[39mshape[\u001b[38;5;241m0\u001b[39m])\n\u001b[0;32m--> 265\u001b[0m Vscores, CV_eff, CV_input, gene_ix, mu_gene, FF_gene, a, b \u001b[38;5;241m=\u001b[39m \u001b[43mget_vscores\u001b[49m\u001b[43m(\u001b[49m\u001b[43mE\u001b[49m\u001b[43m[\u001b[49m\u001b[43mbase_ix\u001b[49m\u001b[43m,\u001b[49m\u001b[43m \u001b[49m\u001b[43m:\u001b[49m\u001b[43m]\u001b[49m\u001b[43m)\u001b[49m\n\u001b[1;32m    266\u001b[0m ix2 \u001b[38;5;241m=\u001b[39m Vscores\u001b[38;5;241m>\u001b[39m\u001b[38;5;241m0\u001b[39m\n\u001b[1;32m    267\u001b[0m Vscores \u001b[38;5;241m=\u001b[39m Vscores[ix2]\n",
      "File \u001b[0;32m~/miniforge3/envs/scanpy/lib/python3.12/site-packages/scrublet/helper_functions.py:235\u001b[0m, in \u001b[0;36mget_vscores\u001b[0;34m(E, min_mean, nBins, fit_percentile, error_wt)\u001b[0m\n\u001b[1;32m    232\u001b[0m data_x \u001b[38;5;241m=\u001b[39m np\u001b[38;5;241m.\u001b[39mlog(mu_gene)\n\u001b[1;32m    233\u001b[0m data_y \u001b[38;5;241m=\u001b[39m np\u001b[38;5;241m.\u001b[39mlog(FF_gene \u001b[38;5;241m/\u001b[39m mu_gene)\n\u001b[0;32m--> 235\u001b[0m x, y \u001b[38;5;241m=\u001b[39m \u001b[43mrunningquantile\u001b[49m\u001b[43m(\u001b[49m\u001b[43mdata_x\u001b[49m\u001b[43m,\u001b[49m\u001b[43m \u001b[49m\u001b[43mdata_y\u001b[49m\u001b[43m,\u001b[49m\u001b[43m \u001b[49m\u001b[43mfit_percentile\u001b[49m\u001b[43m,\u001b[49m\u001b[43m \u001b[49m\u001b[43mnBins\u001b[49m\u001b[43m)\u001b[49m\n\u001b[1;32m    236\u001b[0m x \u001b[38;5;241m=\u001b[39m x[\u001b[38;5;241m~\u001b[39mnp\u001b[38;5;241m.\u001b[39misnan(y)]\n\u001b[1;32m    237\u001b[0m y \u001b[38;5;241m=\u001b[39m y[\u001b[38;5;241m~\u001b[39mnp\u001b[38;5;241m.\u001b[39misnan(y)]\n",
      "File \u001b[0;32m~/miniforge3/envs/scanpy/lib/python3.12/site-packages/scrublet/helper_functions.py:196\u001b[0m, in \u001b[0;36mrunningquantile\u001b[0;34m(x, y, p, nBins)\u001b[0m\n\u001b[1;32m    193\u001b[0m x \u001b[38;5;241m=\u001b[39m x[ind]\n\u001b[1;32m    194\u001b[0m y \u001b[38;5;241m=\u001b[39m y[ind]\n\u001b[0;32m--> 196\u001b[0m dx \u001b[38;5;241m=\u001b[39m (\u001b[43mx\u001b[49m\u001b[43m[\u001b[49m\u001b[38;5;241;43m-\u001b[39;49m\u001b[38;5;241;43m1\u001b[39;49m\u001b[43m]\u001b[49m \u001b[38;5;241m-\u001b[39m x[\u001b[38;5;241m0\u001b[39m]) \u001b[38;5;241m/\u001b[39m nBins\n\u001b[1;32m    197\u001b[0m xOut \u001b[38;5;241m=\u001b[39m np\u001b[38;5;241m.\u001b[39mlinspace(x[\u001b[38;5;241m0\u001b[39m]\u001b[38;5;241m+\u001b[39mdx\u001b[38;5;241m/\u001b[39m\u001b[38;5;241m2\u001b[39m, x[\u001b[38;5;241m-\u001b[39m\u001b[38;5;241m1\u001b[39m]\u001b[38;5;241m-\u001b[39mdx\u001b[38;5;241m/\u001b[39m\u001b[38;5;241m2\u001b[39m, nBins)\n\u001b[1;32m    199\u001b[0m yOut \u001b[38;5;241m=\u001b[39m np\u001b[38;5;241m.\u001b[39mzeros(xOut\u001b[38;5;241m.\u001b[39mshape)\n",
      "\u001b[0;31mIndexError\u001b[0m: index -1 is out of bounds for axis 0 with size 0"
     ]
    }
   ],
   "source": [
    "scrub = scr.Scrublet(adata_combined.X)\n",
    "\n",
    "doublet_scores, predicted_doublets = scrub.scrub_doublets()\n",
    "            \n",
    "adata_combined.obs['doublet_scores'] = doublet_scores\n",
    "adata_combined.obs['predicted_doublets'] = predicted_doublets"
   ]
  },
  {
   "cell_type": "code",
   "execution_count": null,
   "metadata": {},
   "outputs": [],
   "source": [
    "adata_combined.obs"
   ]
  },
  {
   "cell_type": "markdown",
   "metadata": {},
   "source": [
    "### Checking the count and percentage of Doublets - sample_name level"
   ]
  },
  {
   "cell_type": "code",
   "execution_count": null,
   "metadata": {},
   "outputs": [],
   "source": [
    "doub_tab = pd.crosstab(adata_combined.obs['sample_name'],adata_combined.obs['predicted_doublets'])\n",
    "doub_tab.sum()"
   ]
  },
  {
   "cell_type": "code",
   "execution_count": null,
   "metadata": {},
   "outputs": [],
   "source": [
    "true_doublets = adata_combined.obs['predicted_doublets'] == True\n",
    "true_doublets_count = true_doublets.sum()\n",
    "\n",
    "true_doublets_percentage = (true_doublets_count / len(adata_combined.obs)) * 100\n",
    "\n",
    "true_doublets_count ,true_doublets_percentage"
   ]
  },
  {
   "cell_type": "markdown",
   "metadata": {},
   "source": [
    "### Saving raw data"
   ]
  },
  {
   "cell_type": "code",
   "execution_count": null,
   "metadata": {},
   "outputs": [],
   "source": [
    "sample_name_object = adata_combined.copy()\n",
    "sample_name_object"
   ]
  },
  {
   "cell_type": "markdown",
   "metadata": {},
   "source": [
    "## Compute QC stats"
   ]
  },
  {
   "cell_type": "code",
   "execution_count": null,
   "metadata": {},
   "outputs": [],
   "source": [
    "sample_name_object.shape"
   ]
  },
  {
   "cell_type": "markdown",
   "metadata": {},
   "source": [
    "### Labelling Mt and Ribo genes"
   ]
  },
  {
   "cell_type": "code",
   "execution_count": null,
   "metadata": {},
   "outputs": [],
   "source": [
    "sample_name_object.var"
   ]
  },
  {
   "cell_type": "code",
   "execution_count": null,
   "metadata": {},
   "outputs": [],
   "source": [
    "sample_name_object.var.index = sample_name_object.var.index.str.split('_').str[0]\n",
    "sample_name_object.var"
   ]
  },
  {
   "cell_type": "code",
   "execution_count": null,
   "metadata": {},
   "outputs": [],
   "source": [
    "sample_name_object.var['ensembl'] = sample_name_object.var.index\n",
    "sample_name_object.var "
   ]
  },
  {
   "cell_type": "markdown",
   "metadata": {},
   "source": [
    "### Ensembl annotations"
   ]
  },
  {
   "cell_type": "code",
   "execution_count": 18,
   "metadata": {},
   "outputs": [],
   "source": [
    "annot = sc.queries.biomart_annotations(\n",
    "        \"hsapiens\",\n",
    "        [\"ensembl_gene_id\", \"external_gene_name\", \"start_position\", \"end_position\", \"chromosome_name\"],\n",
    "    ).set_index(\"ensembl_gene_id\")"
   ]
  },
  {
   "cell_type": "code",
   "execution_count": null,
   "metadata": {},
   "outputs": [],
   "source": [
    "annot.head()"
   ]
  },
  {
   "cell_type": "code",
   "execution_count": null,
   "metadata": {},
   "outputs": [],
   "source": [
    "sample_name_object.var"
   ]
  },
  {
   "cell_type": "code",
   "execution_count": null,
   "metadata": {},
   "outputs": [],
   "source": [
    "sample_name_object.var['gene_name'] = sample_name_object.var.index.map(annot['external_gene_name'])\n",
    "sample_name_object.var.index =sample_name_object.var['gene_name'] \n",
    "sample_name_object.var"
   ]
  },
  {
   "cell_type": "code",
   "execution_count": null,
   "metadata": {},
   "outputs": [],
   "source": [
    "sample_name_object.var['mt'] = sample_name_object.var_names.str.startswith('MT-') \n",
    "sample_name_object.var['ribo'] = sample_name_object.var_names.str.startswith((\"RPS\",\"RPL\"))\n",
    "sample_name_object.var"
   ]
  },
  {
   "cell_type": "code",
   "execution_count": null,
   "metadata": {},
   "outputs": [],
   "source": [
    "ribo_counts = sample_name_object.var['ribo'].value_counts()\n",
    "\n",
    "mt_counts = sample_name_object.var['mt'].value_counts()\n",
    "\n",
    "print(\"Counts of Ribosomal (ribo) Genes:\")\n",
    "print(\"False:\", ribo_counts.get(False, 0))\n",
    "print(\"True:\", ribo_counts.get(True, 0))\n",
    "print(\"\\nCounts of Mitochondrial (mt) Genes:\")\n",
    "print(\"False:\", mt_counts.get(False, 0))\n",
    "print(\"True:\", mt_counts.get(True, 0))"
   ]
  },
  {
   "cell_type": "code",
   "execution_count": null,
   "metadata": {},
   "outputs": [],
   "source": [
    "sample_name_object.var['mt'] = sample_name_object.var['mt'].fillna(False)\n",
    "sample_name_object.var['ribo'] = sample_name_object.var['ribo'].fillna(False)"
   ]
  },
  {
   "cell_type": "markdown",
   "metadata": {},
   "source": [
    "### Calculating QC metrics per cell"
   ]
  },
  {
   "cell_type": "code",
   "execution_count": 25,
   "metadata": {},
   "outputs": [],
   "source": [
    "sc.pp.calculate_qc_metrics(sample_name_object,qc_vars = ['mt','ribo'],inplace = True)"
   ]
  },
  {
   "cell_type": "code",
   "execution_count": null,
   "metadata": {},
   "outputs": [],
   "source": [
    "sample_name_object"
   ]
  },
  {
   "cell_type": "markdown",
   "metadata": {},
   "source": [
    "## Sex covariate analysis"
   ]
  },
  {
   "cell_type": "markdown",
   "metadata": {},
   "source": [
    "### Chr Y genes calculation"
   ]
  },
  {
   "cell_type": "code",
   "execution_count": 27,
   "metadata": {},
   "outputs": [],
   "source": [
    "sample_name_object.var['gene_name'] = sample_name_object.var['ensembl'].map(annot['external_gene_name'])\n",
    "sample_name_object.var['chromosome'] = sample_name_object.var['ensembl'].map(annot['chromosome_name'])"
   ]
  },
  {
   "cell_type": "code",
   "execution_count": null,
   "metadata": {},
   "outputs": [],
   "source": [
    "sample_name_object.var"
   ]
  },
  {
   "cell_type": "code",
   "execution_count": null,
   "metadata": {},
   "outputs": [],
   "source": [
    "chrY_genes = sample_name_object.var['chromosome'] == \"Y\"\n",
    "chrY_genes"
   ]
  },
  {
   "cell_type": "code",
   "execution_count": null,
   "metadata": {},
   "outputs": [],
   "source": [
    "sample_name_object.obs['percent_chrY'] = np.sum(\n",
    "    sample_name_object[:, chrY_genes].X, axis = 1) / np.sum(sample_name_object.X, axis = 1) * 100"
   ]
  },
  {
   "cell_type": "code",
   "execution_count": null,
   "metadata": {},
   "outputs": [],
   "source": [
    "sample_name_object"
   ]
  },
  {
   "cell_type": "markdown",
   "metadata": {},
   "source": [
    "### XIST counts"
   ]
  },
  {
   "cell_type": "code",
   "execution_count": null,
   "metadata": {},
   "outputs": [],
   "source": [
    "sample_name_object.var_names"
   ]
  },
  {
   "cell_type": "markdown",
   "metadata": {},
   "source": [
    "## Calculate cell cycle scores"
   ]
  },
  {
   "cell_type": "markdown",
   "metadata": {},
   "source": [
    "### Downloading the list of cell cycle genes"
   ]
  },
  {
   "cell_type": "code",
   "execution_count": 33,
   "metadata": {},
   "outputs": [],
   "source": [
    "!if [ ! -f ../ncbi_sra/data/regev_lab_cell_cycle_genes.txt ]; then curl -o ../ncbi_sra/data/regev_lab_cell_cycle_genes.txt https://raw.githubusercontent.com/theislab/scanpy_usage/master/180209_cell_cycle/data/regev_lab_cell_cycle_genes.txt; fi"
   ]
  },
  {
   "cell_type": "markdown",
   "metadata": {},
   "source": [
    "### Marking cell cycle genes"
   ]
  },
  {
   "cell_type": "markdown",
   "metadata": {},
   "source": [
    "#### Steps followed\n",
    "\n",
    "1. Loading genes and captilizing \n",
    "2. Printing the length of cell cycle genes list\n",
    "3. Split genes into 2 lists (#First 43 genes,#Gene 43 to end)\n",
    "4. Filtering cell cycle genes only if present in processed_gene_names\n",
    "5. Print the list of cell cycle genes observed in our data"
   ]
  },
  {
   "cell_type": "code",
   "execution_count": null,
   "metadata": {},
   "outputs": [],
   "source": [
    "cell_cycle_genes = [x.strip() for x in open('../ncbi_sra/data/regev_lab_cell_cycle_genes.txt')]\n",
    "#cell_cycle_genes = [gene.capitalize() for gene in cell_cycle_genes]\n",
    "print(len(cell_cycle_genes))\n",
    "\n",
    "s_genes = cell_cycle_genes[:43]\n",
    "g2m_genes = cell_cycle_genes[43:]\n",
    "\n",
    "cell_cycle_genes = [x for x in cell_cycle_genes if x in sample_name_object.var_names]\n",
    "print(len(cell_cycle_genes))"
   ]
  },
  {
   "cell_type": "code",
   "execution_count": null,
   "metadata": {},
   "outputs": [],
   "source": [
    "cell_cycle_genes"
   ]
  },
  {
   "cell_type": "markdown",
   "metadata": {},
   "source": [
    "### Creating basic anndata and normalization for cell cycle score calculation"
   ]
  },
  {
   "cell_type": "code",
   "execution_count": null,
   "metadata": {},
   "outputs": [],
   "source": [
    "adata_combined_log = anndata.AnnData(X = sample_name_object.X,  var = sample_name_object.var, obs = sample_name_object.obs)\n",
    "sc.pp.normalize_total(adata_combined_log, target_sum = 1e6, exclude_highly_expressed = True)\n",
    "sc.pp.log1p(adata_combined_log)"
   ]
  },
  {
   "cell_type": "markdown",
   "metadata": {},
   "source": [
    "### Cell cycle score calculation"
   ]
  },
  {
   "cell_type": "code",
   "execution_count": 37,
   "metadata": {},
   "outputs": [],
   "source": [
    "adata_combined_log.var_names = adata_combined_log.var_names.astype(str)\n",
    "adata_combined_log.var_names_make_unique()"
   ]
  },
  {
   "cell_type": "code",
   "execution_count": null,
   "metadata": {},
   "outputs": [],
   "source": [
    "sc.tl.score_genes_cell_cycle(adata_combined_log, s_genes = s_genes, g2m_genes = g2m_genes)\n",
    "\n",
    "sample_name_object.obs['S_score'] = adata_combined_log.obs['S_score']\n",
    "sample_name_object.obs['G2M_score'] = adata_combined_log.obs['G2M_score']\n",
    "sample_name_object.obs['phase'] = adata_combined_log.obs['phase']\n",
    "\n",
    "sample_name_object"
   ]
  },
  {
   "cell_type": "code",
   "execution_count": null,
   "metadata": {},
   "outputs": [],
   "source": [
    "cell_cycle_counts = sample_name_object.obs['phase'].value_counts()\n",
    "\n",
    "cell_cycle_counts"
   ]
  },
  {
   "cell_type": "code",
   "execution_count": null,
   "metadata": {},
   "outputs": [],
   "source": [
    "sb.countplot(data=sample_name_object.obs, x='phase')"
   ]
  },
  {
   "cell_type": "markdown",
   "metadata": {},
   "source": [
    "## Data visualization"
   ]
  },
  {
   "cell_type": "code",
   "execution_count": null,
   "metadata": {},
   "outputs": [],
   "source": [
    "variables = 'n_genes_by_counts', 'total_counts', 'doublet_scores', 'G2M_score', 'S_score'\n",
    "\n",
    "for var in variables:\n",
    "\n",
    "    fig, ax = plt.subplots(figsize=(12, 6), ncols=2, gridspec_kw={'width_ratios': [4, 1]})\n",
    "\n",
    "    sb.violinplot(data=sample_name_object.obs,x = 'sample_name' , y=var, ax=ax[0])\n",
    "   \n",
    "    medians = sample_name_object.obs.groupby('sample_name')[var].median()\n",
    "\n",
    "    for sample_name, median in medians.items():\n",
    "        ax[0].text(sample_name, median, f'{median:.2f}', ha='center', va='bottom', color='black', fontsize=10)\n",
    "    \n",
    "    ax[0].set_title(f'Violin Plot of {var} by sample_name - Before filtering')\n",
    "    ax[0].set_xlabel('sample_name')\n",
    "    ax[0].set_ylabel(var)\n",
    "    ax[0].tick_params(axis='x', rotation=45)\n",
    "\n",
    "    median_df = pd.DataFrame({'sample_name': medians.index, 'Median': medians.values})\n",
    "\n",
    "    ax[1].axis('off')\n",
    "    ax[1].table(cellText=median_df.values, colLabels=median_df.columns, loc='center')\n",
    "    ax[1].set_title('Median Values')\n",
    "    \n",
    "    plt.tight_layout()\n",
    "    plt.show()\n"
   ]
  },
  {
   "cell_type": "markdown",
   "metadata": {},
   "source": [
    "### Visualization of qc metrics"
   ]
  },
  {
   "cell_type": "code",
   "execution_count": null,
   "metadata": {},
   "outputs": [],
   "source": [
    "variables = ['pct_counts_mt', 'pct_counts_ribo']\n",
    "\n",
    "sb.violinplot(data=sample_name_object.obs[variables])\n",
    "plt.xticks(rotation=45)\n",
    "plt.title(f'Mt and Ribo percentages - Before filtering')"
   ]
  },
  {
   "cell_type": "code",
   "execution_count": null,
   "metadata": {},
   "outputs": [],
   "source": [
    "plt.figure(figsize=(10, 6))\n",
    "sb.scatterplot(data=sample_name_object.obs, x='total_counts', y='n_genes_by_counts' , alpha = 0.4, s=4)\n",
    "#plt.xticks(range(0, int(max(sample_name_object.obs['total_counts'])) + 1, 3000),rotation=45, fontsize = 10)\n",
    "#plt.yticks(range(0, int(max(sample_name_object.obs['n_genes_by_counts'])) + 1, 1000),fontsize = 10)\n",
    "plt.title(f'Counts vs Genes - Before filtering')\n",
    "plt.show()"
   ]
  },
  {
   "cell_type": "markdown",
   "metadata": {},
   "source": [
    "### Filtering based on QC metrics"
   ]
  },
  {
   "cell_type": "code",
   "execution_count": null,
   "metadata": {},
   "outputs": [],
   "source": [
    "filtered_object = sample_name_object[sample_name_object.obs['n_genes_by_counts'] > 10]\n",
    "filtered_object = filtered_object[filtered_object.obs['n_genes_by_counts'] < 400]\n",
    "\n",
    "filtered_object = filtered_object[filtered_object.obs['total_counts'] > 10]\n",
    "filtered_object = filtered_object[filtered_object.obs['total_counts'] < 400]\n",
    "\n",
    "filtered_object = filtered_object[filtered_object.obs['pct_counts_mt'] < 60]\n",
    "filtered_object = filtered_object[filtered_object.obs['pct_counts_ribo'] < 20]\n",
    "\n",
    "filtered_object = filtered_object[filtered_object.obs['doublet_scores'] < 0.35]\n",
    "\n",
    "filtered_object"
   ]
  },
  {
   "cell_type": "code",
   "execution_count": null,
   "metadata": {},
   "outputs": [],
   "source": [
    "variables = ['pct_counts_mt', 'pct_counts_ribo']\n",
    "\n",
    "sb.violinplot(data=filtered_object.obs[variables])\n",
    "plt.xticks(rotation=45)\n",
    "plt.title(f'Mt and Ribo percentages - After filtering')"
   ]
  },
  {
   "cell_type": "code",
   "execution_count": null,
   "metadata": {},
   "outputs": [],
   "source": [
    "sb.set(style = \"whitegrid\")\n",
    "covariate_to_visualize = 'total_counts'\n",
    "\n",
    "plt.figure(figsize = (10, 6))\n",
    "sb.histplot(data = filtered_object.obs, x = covariate_to_visualize, stat = 'count', common_norm = False)\n",
    "plt.xlabel(covariate_to_visualize)\n",
    "plt.ylabel('Abundance')\n",
    "plt.title(f'Abundance Plot of {covariate_to_visualize} by sample_name - After filtering')\n",
    "plt.show()"
   ]
  },
  {
   "cell_type": "code",
   "execution_count": null,
   "metadata": {},
   "outputs": [],
   "source": [
    "sb.set(style = \"whitegrid\")\n",
    "covariate_to_visualize = 'n_genes_by_counts'\n",
    "\n",
    "plt.figure(figsize = (10, 6))\n",
    "sb.histplot(data = filtered_object.obs, x = covariate_to_visualize, stat = 'count', common_norm = False)\n",
    "plt.xlabel(covariate_to_visualize)\n",
    "plt.ylabel('Abundance')\n",
    "plt.title(f'Abundance Plot of {covariate_to_visualize} by sample_name - After filtering')\n",
    "plt.show()"
   ]
  },
  {
   "cell_type": "code",
   "execution_count": null,
   "metadata": {},
   "outputs": [],
   "source": [
    "variables = 'n_genes_by_counts', 'total_counts', 'pct_counts_mt', 'pct_counts_ribo', 'doublet_scores', 'G2M_score', 'S_score' \n",
    "\n",
    "for var in variables:\n",
    "\n",
    "    fig, ax = plt.subplots(figsize=(12, 6), ncols=2, gridspec_kw={'width_ratios': [4, 1]})\n",
    "\n",
    "    sb.violinplot(data=filtered_object.obs, x='sample_name', y=var, ax=ax[0])\n",
    "   \n",
    "    medians = filtered_object.obs.groupby('sample_name')[var].median()\n",
    "\n",
    "    for sample_name, median in medians.items():\n",
    "        ax[0].text(sample_name, median, f'{median:.2f}', ha='center', va='bottom', color='black', fontsize=10)\n",
    "    \n",
    "    ax[0].set_title(f'Violin Plot of {var} by sample_name - After filtering')\n",
    "    ax[0].set_xlabel('sample_name')\n",
    "    ax[0].set_ylabel(var)\n",
    "    ax[0].tick_params(axis='x', rotation=45)\n",
    "\n",
    "    median_df = pd.DataFrame({'sample_name': medians.index, 'Median': medians.values})\n",
    "\n",
    "    ax[1].axis('off')\n",
    "    ax[1].table(cellText=median_df.values, colLabels=median_df.columns, loc='center')\n",
    "    ax[1].set_title('Median Values')\n",
    "    \n",
    "    plt.tight_layout()\n",
    "    plt.show()"
   ]
  },
  {
   "cell_type": "markdown",
   "metadata": {},
   "source": [
    "## Data Export"
   ]
  },
  {
   "cell_type": "code",
   "execution_count": null,
   "metadata": {},
   "outputs": [],
   "source": [
    "filtered_object.raw = filtered_object.copy()\n",
    "\n",
    "filtered_object.layers['raw_counts'] = filtered_object.X.copy()\n",
    "\n",
    "filtered_object.layers[\"sqrt_norm\"] = np.sqrt(\n",
    "    sc.pp.normalize_total(filtered_object, inplace = False)[\"X\"]\n",
    ")\n",
    "\n",
    "filtered_object"
   ]
  },
  {
   "cell_type": "code",
   "execution_count": null,
   "metadata": {},
   "outputs": [],
   "source": [
    "filtered_object.obs['sample_name'].value_counts()"
   ]
  },
  {
   "cell_type": "code",
   "execution_count": null,
   "metadata": {},
   "outputs": [],
   "source": [
    "filtered_object.var.dtypes"
   ]
  },
  {
   "cell_type": "code",
   "execution_count": null,
   "metadata": {},
   "outputs": [],
   "source": [
    "filtered_object.var['mt'].value_counts()"
   ]
  },
  {
   "cell_type": "code",
   "execution_count": 53,
   "metadata": {},
   "outputs": [],
   "source": [
    "filtered_object.var['mt'] = filtered_object.var['mt'].astype(str)"
   ]
  },
  {
   "cell_type": "code",
   "execution_count": null,
   "metadata": {},
   "outputs": [],
   "source": [
    "print(filtered_object.var.dtypes)"
   ]
  },
  {
   "cell_type": "code",
   "execution_count": null,
   "metadata": {},
   "outputs": [],
   "source": [
    "filtered_object.var"
   ]
  },
  {
   "cell_type": "code",
   "execution_count": null,
   "metadata": {},
   "outputs": [],
   "source": [
    "filtered_object.var = filtered_object.var.rename(columns={'gene_name': 'gene_symbol'})\n",
    "filtered_object.var = filtered_object.var.reset_index()\n",
    "filtered_object.var"
   ]
  },
  {
   "cell_type": "code",
   "execution_count": 57,
   "metadata": {},
   "outputs": [],
   "source": [
    "filtered_object.raw.var.index.name = 'gene_id'  "
   ]
  },
  {
   "cell_type": "code",
   "execution_count": 58,
   "metadata": {},
   "outputs": [],
   "source": [
    "filtered_object.write_h5ad(f'../ncbi_sra/data/PRJEB59734_sra_filtered_sk_{timestamp}.h5ad')"
   ]
  }
 ],
 "metadata": {
  "kernelspec": {
   "display_name": "scanpy",
   "language": "python",
   "name": "python3"
  },
  "language_info": {
   "codemirror_mode": {
    "name": "ipython",
    "version": 3
   },
   "file_extension": ".py",
   "mimetype": "text/x-python",
   "name": "python",
   "nbconvert_exporter": "python",
   "pygments_lexer": "ipython3",
   "version": "3.12.4"
  }
 },
 "nbformat": 4,
 "nbformat_minor": 2
}
